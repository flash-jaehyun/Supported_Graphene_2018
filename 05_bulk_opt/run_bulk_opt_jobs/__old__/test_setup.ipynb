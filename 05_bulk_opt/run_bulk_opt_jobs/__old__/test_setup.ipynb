{
 "cells": [
  {
   "cell_type": "code",
   "execution_count": null,
   "metadata": {},
   "outputs": [],
   "source": [
    "%load_ext autoreload\n",
    "%autoreload 1"
   ]
  },
  {
   "cell_type": "code",
   "execution_count": 1,
   "metadata": {},
   "outputs": [],
   "source": [
    "import os\n",
    "import sys\n",
    "\n",
    "sys.path.insert(\n",
    "    0,\n",
    "    os.path.join(\n",
    "        os.environ[\"PROJ_fe_graph\"],\n",
    "        \"data\",\n",
    "        ),\n",
    "    )\n",
    "\n",
    "import numpy as np\n",
    "from ase.visualize import view\n",
    "\n",
    "from ase import io\n",
    "import json\n",
    "\n",
    "import itertools\n",
    "\n",
    "from proj_data_fe_graph import (\n",
    "    most_stable_crystal_structure_dict,\n",
    "    exp_latt_const_dict,\n",
    "    )"
   ]
  },
  {
   "cell_type": "markdown",
   "metadata": {},
   "source": [
    "# Script Inputs"
   ]
  },
  {
   "cell_type": "code",
   "execution_count": 2,
   "metadata": {},
   "outputs": [],
   "source": [
    "latt_const_array_len = 5\n",
    "\n",
    "element_list = [\n",
    "    \"Ni\",\n",
    "#     \"Co\",\n",
    "#     \"Ru\",\n",
    "#     \"Rh\",\n",
    "#     \"Mo\",\n",
    "#     \"W\",\n",
    "    ]"
   ]
  },
  {
   "cell_type": "markdown",
   "metadata": {},
   "source": [
    "# Methods"
   ]
  },
  {
   "cell_type": "code",
   "execution_count": 3,
   "metadata": {},
   "outputs": [],
   "source": [
    "def create_latt_const_range(latt_const_0, latt_const_range_perc=0.05, num=100):\n",
    "    d_lc = latt_const_range_perc * latt_const_0\n",
    "    latt_const_range = np.linspace(\n",
    "        latt_const_0 - d_lc,\n",
    "        latt_const_0 + d_lc,\n",
    "        num=num,\n",
    "        endpoint=True,\n",
    "        )\n",
    "\n",
    "    return(latt_const_range)"
   ]
  },
  {
   "cell_type": "code",
   "execution_count": 4,
   "metadata": {},
   "outputs": [],
   "source": [
    "master_job_list = []\n",
    "for elem_i in element_list:\n",
    "    latt_const_dict_i = exp_latt_const_dict[elem_i]\n",
    "    crys_struct_i = most_stable_crystal_structure_dict[elem_i]\n",
    "    exp_lattices_i = latt_const_dict_i[crys_struct_i]\n",
    "\n",
    "    #| - Creating permutations of all lattice constants\n",
    "    lattice_constant_array_dict = {}\n",
    "    for key, value in exp_lattices_i.items():\n",
    "        latt_const_range_j = create_latt_const_range(\n",
    "            value,\n",
    "            num=latt_const_array_len,\n",
    "            )\n",
    "        latt_const_range_j = np.round(\n",
    "            latt_const_range_j,\n",
    "            decimals=5\n",
    "            )\n",
    "        lattice_constant_array_dict[key] = latt_const_range_j\n",
    "\n",
    "    latt_const_permut_i = list(\n",
    "        itertools.product(\n",
    "            *list(\n",
    "                lattice_constant_array_dict.values()\n",
    "                )\n",
    "            )\n",
    "        )\n",
    "    #__|\n",
    "\n",
    "\n",
    "    for lattice_constants_k in latt_const_permut_i:\n",
    "        \n",
    "        for spinpol in [True, False]:\n",
    "            job_dict_i = dict(\n",
    "                zip(\n",
    "                    list(exp_lattices_i.keys()),\n",
    "                    list(lattice_constants_k),\n",
    "                    )\n",
    "                )\n",
    "\n",
    "            job_dict_i[\"support_metal\"] = elem_i\n",
    "            job_dict_i[\"crystal_structure\"] = crys_struct_i\n",
    "            job_dict_i[\"spinpol\"] = spinpol\n",
    "\n",
    "            path_1_i = os.path.join(\n",
    "                job_dict_i.get(\"support_metal\", \"nan\"),\n",
    "                job_dict_i.get(\"crystal_structure\", \"nan\"),\n",
    "                str(job_dict_i.get(\"spinpol\", \"nan\")),\n",
    "                )\n",
    "\n",
    "            path_i = os.path.join(\n",
    "                \"data\",\n",
    "                path_1_i,\n",
    "                str(job_dict_i.get(\"a\", \"nan\")) + \"-\" + str(job_dict_i.get(\"c\", \"nan\")),\n",
    "                )\n",
    "            \n",
    "            master_job_list.append(\n",
    "                {\n",
    "                    \"properties\": job_dict_i,\n",
    "                    \"path\": path_i,\n",
    "                    }\n",
    "                )"
   ]
  },
  {
   "cell_type": "markdown",
   "metadata": {},
   "source": [
    "# Instantiate the Jobs class instance"
   ]
  },
  {
   "cell_type": "code",
   "execution_count": 6,
   "metadata": {},
   "outputs": [],
   "source": [
    "from dft_job_automat.job_setup import DFT_Jobs_Setup\n",
    "\n",
    "Jobs_S = DFT_Jobs_Setup(\n",
    "    tree_level=None,\n",
    "    level_entries=None,\n",
    "    indiv_dir_lst=None,\n",
    "    indiv_job_lst=None,\n",
    "\n",
    "    skip_dirs_lst=None,\n",
    "    root_dir=\".\",\n",
    "    working_dir=\".\",\n",
    "    folders_exist=None,\n",
    "    parse_all_revisions=True,\n",
    "    )\n",
    "\n",
    "Jobs_S.create_Jobs_from_dicts_and_paths(master_job_list)\n",
    "Jobs_S.create_dir_struct()\n",
    "Jobs_S.write_job_params_json_file()\n",
    "\n",
    "# Running Job Setup\n",
    "\n",
    "from methods import dir_setup\n",
    "print(25 * \"*\")\n",
    "atoms_list = []\n",
    "for Job_i in Jobs_S.Job_list:\n",
    "    path_i = Job_i.full_path\n",
    "    job_i_params = Job_i.job_params_dict\n",
    "\n",
    "    atoms_i = dir_setup(\n",
    "        path_i,\n",
    "        job_i_params,\n",
    "        )\n",
    "\n",
    "    atoms_list.append(atoms_i)"
   ]
  },
  {
   "cell_type": "markdown",
   "metadata": {},
   "source": [
    "# Job Manager Instance"
   ]
  },
  {
   "cell_type": "code",
   "execution_count": 8,
   "metadata": {},
   "outputs": [],
   "source": [
    "from dft_job_automat.job_manager import DFT_Jobs_Manager\n",
    "\n",
    "Jobs_M = DFT_Jobs_Manager(\n",
    "#     tree_level=None,\n",
    "#     level_entries=None,\n",
    "#     skip_dirs_lst=None,\n",
    "#     indiv_dir_lst=None,  # <-----------------------------------------------\n",
    "#     indiv_job_lst=None,\n",
    "#     root_dir=\".\",\n",
    "#     working_dir=\".\",\n",
    "#     update_job_state=False,\n",
    "    load_dataframe=False,\n",
    "#     dataframe_dir=None,\n",
    "#     job_type_class=None,\n",
    "#     methods_to_run=None,\n",
    "#     folders_exist=None,\n",
    "#     parse_all_revisions=True,\n",
    "    )\n",
    "\n",
    "Jobs_M.create_Jobs_from_dicts_and_paths(master_job_list)\n",
    "\n",
    "for Job_i in Jobs_M.Job_list:\n",
    "    Jobs_M.submit_job(**{\n",
    "        \"nodes\": \"1\",  # --nodes\n",
    "        \"cpus\": \"4\",  # --ntasks-per-node\n",
    "        \"memory\": \"2000\",  # --mem-per-cpu\n",
    "        \"wall_time\": \"30\",  # --time (720min -> 12hrs)\n",
    "\n",
    "#         \"queue\": \"owners,iric,normal\",  # -p flag\n",
    "#         \"job_name\": \"Default\",  # --job-name\n",
    "#         \"priority\": \"normal\",  # --qos\n",
    "        # \"email\": \"flores12@stanford.edu\",  # --mail-user\n",
    "#         \"email\": self.username + \"@stanford.edu\",  # --mail-user\n",
    "#         \"email_mess\": \"FAIL\",  # --mail-type    \n",
    "        })\n"
   ]
  }
 ],
 "metadata": {
  "kernelspec": {
   "display_name": "Python 3",
   "language": "python",
   "name": "python3"
  },
  "language_info": {
   "codemirror_mode": {
    "name": "ipython",
    "version": 3
   },
   "file_extension": ".py",
   "mimetype": "text/x-python",
   "name": "python",
   "nbconvert_exporter": "python",
   "pygments_lexer": "ipython3",
   "version": "3.6.5"
  }
 },
 "nbformat": 4,
 "nbformat_minor": 2
}
