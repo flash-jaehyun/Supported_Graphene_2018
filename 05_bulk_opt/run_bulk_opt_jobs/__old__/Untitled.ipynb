{
 "cells": [
  {
   "cell_type": "code",
   "execution_count": null,
   "metadata": {},
   "outputs": [],
   "source": []
  },
  {
   "cell_type": "raw",
   "metadata": {},
   "source": [
    "\n",
    "\n",
    "\n",
    "\n",
    "\n",
    "\n",
    "\n",
    "\n",
    "\n",
    "\n"
   ]
  },
  {
   "cell_type": "code",
   "execution_count": 9,
   "metadata": {},
   "outputs": [],
   "source": [
    "# from dft_job_automat.job_analysis import DFT_Jobs_Analysis\n",
    "\n",
    "# Jobs_A = DFT_Jobs_Analysis(\n",
    "#     tree_level=None,\n",
    "#     level_entries=None,\n",
    "#     skip_dirs_lst=None,\n",
    "#     indiv_dir_lst=None,  # <-----------------------------------------------\n",
    "#     indiv_job_lst=None,\n",
    "#     root_dir=\".\",\n",
    "#     working_dir=\".\",\n",
    "#     update_job_state=False,\n",
    "\n",
    "#     load_dataframe=False,\n",
    "\n",
    "#     dataframe_dir=None,\n",
    "#     job_type_class=None,\n",
    "#     methods_to_run=None,\n",
    "#     folders_exist=None,\n",
    "#     parse_all_revisions=True,\n",
    "#     )"
   ]
  },
  {
   "cell_type": "code",
   "execution_count": 10,
   "metadata": {},
   "outputs": [],
   "source": [
    "# dft_params_dir = os.path.join(\n",
    "#     os.environ[\"git_fe_graph_proj\"],\n",
    "#     \"03_dft_calcs\",\n",
    "#     \"dft-params_bulk.json\",\n",
    "#     )\n",
    "# print(dft_params_dir)\n",
    "\n",
    "# dft_params_dict = json.load(open(dft_params_dir, \"r\"))\n",
    "# dft_params_dict[\"spinpol\"] = job_params_i.get(\"spinpol\", True)\n",
    "\n",
    "\n",
    "# dft_params_path_i = os.path.join(\n",
    "#     path_i,\n",
    "#     \"dft-params.json\",\n",
    "#     )\n",
    "\n",
    "# with open(dft_params_path_i, 'w') as outfile: \n",
    "#     json.dump(dft_params_dict, outfile, indent=2)"
   ]
  },
  {
   "cell_type": "code",
   "execution_count": 11,
   "metadata": {},
   "outputs": [],
   "source": [
    "# # from ase import lattice\n",
    "# from ase import build\n",
    "\n",
    "# from ase.visualize import view\n",
    "\n",
    "# job_params_i\n",
    "\n",
    "# job_params_i.get(\"a\", None)\n",
    "\n",
    "# atoms_i = build.bulk(\n",
    "#     job_params_i.get(\"support_metal\"),\n",
    "#     crystalstructure=job_params_i.get(\"crystal_structure\"),\n",
    "#     a=job_params_i.get(\"a\", None),\n",
    "#     c=job_params_i.get(\"c\", None),\n",
    "#     covera=None,\n",
    "#     u=None,\n",
    "#     orthorhombic=False,\n",
    "#     cubic=False,\n",
    "#     )"
   ]
  },
  {
   "cell_type": "code",
   "execution_count": 12,
   "metadata": {},
   "outputs": [],
   "source": [
    "# full_path = \"Ni/fcc/True/3.3478-nan\"\n",
    "\n",
    "# full_path = \"Ni/fcc/True/3.3478-nan/_2\"\n",
    "\n",
    "# leaf_dir = full_path.split(\"/\")[-1]\n",
    "\n",
    "# ind_i = full_path.rfind(leaf_dir)\n",
    "\n",
    "# full_path[:ind_i - 1]"
   ]
  },
  {
   "cell_type": "code",
   "execution_count": 13,
   "metadata": {},
   "outputs": [],
   "source": [
    "# for job_dict_i in master_job_list:\n",
    "#     print(job_dict_i)\n",
    "    \n",
    "# #     path_1_i = os.path.join(\n",
    "# #         job_dict_i.get(\"support_metal\", \"nan\"),\n",
    "# #         job_dict_i.get(\"crystal_structure\", \"nan\"),\n",
    "# #         str(job_dict_i.get(\"spinpol\", \"nan\")),\n",
    "# #         )\n",
    "\n",
    "# #     path_i = os.path.join(\n",
    "# #         path_1_i,\n",
    "# #         str(job_dict_i.get(\"a\", \"nan\")) + \"-\" + str(job_dict_i.get(\"c\", \"nan\")),\n",
    "# #         )\n",
    "\n",
    "# #     print(path_i)"
   ]
  }
 ],
 "metadata": {
  "kernelspec": {
   "display_name": "Python 3",
   "language": "python",
   "name": "python3"
  },
  "language_info": {
   "codemirror_mode": {
    "name": "ipython",
    "version": 3
   },
   "file_extension": ".py",
   "mimetype": "text/x-python",
   "name": "python",
   "nbconvert_exporter": "python",
   "pygments_lexer": "ipython3",
   "version": "3.6.5"
  }
 },
 "nbformat": 4,
 "nbformat_minor": 2
}
