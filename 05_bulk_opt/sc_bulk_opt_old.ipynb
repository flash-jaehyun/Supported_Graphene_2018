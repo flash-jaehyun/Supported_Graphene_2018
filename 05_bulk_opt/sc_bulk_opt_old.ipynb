{
 "cells": [
  {
   "cell_type": "markdown",
   "metadata": {},
   "source": [
    "# Import Modules"
   ]
  },
  {
   "cell_type": "code",
   "execution_count": 1,
   "metadata": {},
   "outputs": [],
   "source": [
    "import pickle\n",
    "from ase.visualize import view\n",
    "from ase import io\n",
    "import os\n",
    "import sys\n",
    "import pandas as pd\n",
    "\n",
    "\n",
    "from scipy.interpolate import griddata\n",
    "\n",
    "import plotly.plotly as py\n",
    "import plotly.graph_objs as go\n",
    "import numpy as np\n",
    "\n",
    "import warnings\n",
    "warnings.filterwarnings(\"ignore\", message=\"numpy.dtype size changed\")\n",
    "warnings.filterwarnings(\"ignore\", message=\"numpy.ufunc size changed\")\n",
    "\n",
    "\n",
    "pd.options.mode.chained_assignment = None  # default='warn'"
   ]
  },
  {
   "cell_type": "markdown",
   "metadata": {},
   "source": [
    "# Script Inputs"
   ]
  },
  {
   "cell_type": "code",
   "execution_count": 2,
   "metadata": {},
   "outputs": [],
   "source": [
    "pl_dir = \"07_jens_bohr_award_hs\""
   ]
  },
  {
   "cell_type": "markdown",
   "metadata": {},
   "source": [
    "# Read/Process Data"
   ]
  },
  {
   "cell_type": "code",
   "execution_count": 3,
   "metadata": {},
   "outputs": [
    {
     "ename": "FileNotFoundError",
     "evalue": "[Errno 2] No such file or directory: 'data/job_dataframe_01.pickle'",
     "output_type": "error",
     "traceback": [
      "\u001b[0;31m---------------------------------------------------------------------------\u001b[0m",
      "\u001b[0;31mFileNotFoundError\u001b[0m                         Traceback (most recent call last)",
      "\u001b[0;32m<ipython-input-3-26563f520079>\u001b[0m in \u001b[0;36m<module>\u001b[0;34m()\u001b[0m\n\u001b[0;32m----> 1\u001b[0;31m \u001b[0;32mwith\u001b[0m \u001b[0mopen\u001b[0m\u001b[0;34m(\u001b[0m\u001b[0;34m\"data/job_dataframe_01.pickle\"\u001b[0m\u001b[0;34m,\u001b[0m \u001b[0;34m\"rb\"\u001b[0m\u001b[0;34m)\u001b[0m \u001b[0;32mas\u001b[0m \u001b[0mfle\u001b[0m\u001b[0;34m:\u001b[0m\u001b[0;34m\u001b[0m\u001b[0m\n\u001b[0m\u001b[1;32m      2\u001b[0m     \u001b[0mdf_m_1\u001b[0m \u001b[0;34m=\u001b[0m \u001b[0mpickle\u001b[0m\u001b[0;34m.\u001b[0m\u001b[0mload\u001b[0m\u001b[0;34m(\u001b[0m\u001b[0mfle\u001b[0m\u001b[0;34m,\u001b[0m \u001b[0mencoding\u001b[0m\u001b[0;34m=\u001b[0m\u001b[0;34m\"latin1\"\u001b[0m\u001b[0;34m)\u001b[0m\u001b[0;34m\u001b[0m\u001b[0m\n\u001b[1;32m      3\u001b[0m \u001b[0;34m\u001b[0m\u001b[0m\n\u001b[1;32m      4\u001b[0m \u001b[0;32mwith\u001b[0m \u001b[0mopen\u001b[0m\u001b[0;34m(\u001b[0m\u001b[0;34m\"data/job_dataframe_02.pickle\"\u001b[0m\u001b[0;34m,\u001b[0m \u001b[0;34m\"rb\"\u001b[0m\u001b[0;34m)\u001b[0m \u001b[0;32mas\u001b[0m \u001b[0mfle\u001b[0m\u001b[0;34m:\u001b[0m\u001b[0;34m\u001b[0m\u001b[0m\n\u001b[1;32m      5\u001b[0m     \u001b[0mdf_m_2\u001b[0m \u001b[0;34m=\u001b[0m \u001b[0mpickle\u001b[0m\u001b[0;34m.\u001b[0m\u001b[0mload\u001b[0m\u001b[0;34m(\u001b[0m\u001b[0mfle\u001b[0m\u001b[0;34m,\u001b[0m \u001b[0mencoding\u001b[0m\u001b[0;34m=\u001b[0m\u001b[0;34m\"latin1\"\u001b[0m\u001b[0;34m)\u001b[0m\u001b[0;34m\u001b[0m\u001b[0m\n",
      "\u001b[0;31mFileNotFoundError\u001b[0m: [Errno 2] No such file or directory: 'data/job_dataframe_01.pickle'"
     ]
    }
   ],
   "source": [
    "with open(\"data/job_dataframe_01.pickle\", \"rb\") as fle:\n",
    "    df_m_1 = pickle.load(fle, encoding=\"latin1\")\n",
    "\n",
    "with open(\"data/job_dataframe_02.pickle\", \"rb\") as fle:\n",
    "    df_m_2 = pickle.load(fle, encoding=\"latin1\")\n",
    "\n",
    "with open(\"data/job_dataframe_03.pickle\", \"rb\") as fle:\n",
    "    df_m_3 = pickle.load(fle, encoding=\"latin1\")\n",
    "\n",
    "frames = [df_m_1, df_m_2, df_m_3]\n",
    "df_m = pd.concat(frames)\n",
    "    \n",
    "min_E_norm = df_i.elec_energy.min()\n",
    "\n",
    "df_i = df_m[df_m[\"elec_energy\"].notnull()]\n",
    "df_i[\"elec_e_norm\"] = df_i.elec_energy - min_E_norm"
   ]
  },
  {
   "cell_type": "code",
   "execution_count": null,
   "metadata": {},
   "outputs": [],
   "source": [
    "a_lst = np.array(df_i[\"a\"].tolist())\n",
    "b_a_lst = np.array(df_i[\"b/a\"].tolist())\n",
    "elec_energy_lst = np.array(df_i[\"elec_e_norm\"].tolist())"
   ]
  },
  {
   "cell_type": "markdown",
   "metadata": {},
   "source": [
    "# Plot Layout"
   ]
  },
  {
   "cell_type": "code",
   "execution_count": null,
   "metadata": {},
   "outputs": [],
   "source": [
    "layout = go.Layout(\n",
    "    scene = dict(\n",
    "        xaxis = dict(\n",
    "            title='a [A]',\n",
    "            range=[4.5, 5.],\n",
    "            ),\n",
    "        yaxis = dict(\n",
    "            title='b/a',\n",
    "            range=[0.53, 0.7],\n",
    "            ),\n",
    "        zaxis = dict(\n",
    "            title='Elec. E (norm.) [eV]',\n",
    "            range=[-2, 8],\n",
    "            ),\n",
    "        ),\n",
    "\n",
    "#     width=700,\n",
    "\n",
    "    margin=dict(\n",
    "        r=20, b=10,\n",
    "        l=10, t=10,\n",
    "        )\n",
    "    )"
   ]
  },
  {
   "cell_type": "code",
   "execution_count": null,
   "metadata": {},
   "outputs": [],
   "source": [
    "layout2 = go.Layout(\n",
    "    scene = dict(\n",
    "        xaxis = dict(\n",
    "            title='a [A]',\n",
    "#             range=[4.5, 5.],\n",
    "            ),\n",
    "        yaxis = dict(\n",
    "            title='b/a',\n",
    "#             range=[0.53, 0.7],\n",
    "            ),\n",
    "        zaxis = dict(\n",
    "            title='Elec. E (norm.) [eV]',\n",
    "#             range=[-2, 8],\n",
    "            ),\n",
    "        ),\n",
    "\n",
    "#     width=700,\n",
    "\n",
    "    margin=dict(\n",
    "        r=20, b=10,\n",
    "        l=10, t=10,\n",
    "        )\n",
    "    )"
   ]
  },
  {
   "cell_type": "markdown",
   "metadata": {},
   "source": [
    "# * Interpolated Surface Plot"
   ]
  },
  {
   "cell_type": "code",
   "execution_count": null,
   "metadata": {},
   "outputs": [],
   "source": [
    "x = np.linspace(a_lst.min(), a_lst.max(), 100)\n",
    "y =  np.linspace(b_a_lst.min(), b_a_lst.max(), 100)\n",
    "X, Y = np.meshgrid(x,y)\n",
    "grid_z2 = griddata((a_lst, b_a_lst), elec_energy_lst, (X, Y), method='cubic')"
   ]
  },
  {
   "cell_type": "code",
   "execution_count": null,
   "metadata": {},
   "outputs": [],
   "source": [
    "data_surf = go.Surface(\n",
    "    x=X,\n",
    "    y=Y,\n",
    "    z=grid_z2,\n",
    "\n",
    "    \n",
    "    cmin=-2.,\n",
    "    cmax=8,\n",
    "    )\n",
    "\n",
    "fig = go.Figure(data=[data_surf], layout=layout)\n",
    "py.iplot(fig, filename=pl_dir + '/pl_latt_opt_inter_surf')"
   ]
  },
  {
   "cell_type": "markdown",
   "metadata": {},
   "source": [
    "# * Data Points"
   ]
  },
  {
   "cell_type": "code",
   "execution_count": null,
   "metadata": {},
   "outputs": [],
   "source": [
    "data_points = go.Scatter3d(\n",
    "    x=a_lst,\n",
    "    y=b_a_lst,\n",
    "    z=elec_energy_lst,\n",
    "    mode='markers',\n",
    "  \n",
    "    marker=dict(\n",
    "        size=6,\n",
    "#         color=elec_energy_lst,                # set color to an array/list of desired values\n",
    "        color=\"grey\",                # set color to an array/list of desired values\n",
    "        colorscale='magma',   # choose a colorscale\n",
    "        opacity=1.\n",
    "        )    \n",
    "    )\n",
    "\n",
    "fig = go.Figure(data=[data_points], layout=layout2)\n",
    "py.iplot(fig, filename=pl_dir + '/pl_latt_opt_data_points')"
   ]
  },
  {
   "cell_type": "markdown",
   "metadata": {},
   "source": [
    "# * Surface & Data Points"
   ]
  },
  {
   "cell_type": "code",
   "execution_count": null,
   "metadata": {},
   "outputs": [],
   "source": [
    "data = [data_surf, data_points]\n",
    "fig = go.Figure(data=data, layout=layout2)\n",
    "py.iplot(fig, filename=pl_dir + '/pl_latt_opt_surf_and_points')"
   ]
  },
  {
   "cell_type": "markdown",
   "metadata": {},
   "source": [
    "# * Energy Minima"
   ]
  },
  {
   "cell_type": "code",
   "execution_count": null,
   "metadata": {},
   "outputs": [],
   "source": [
    "a_opt = X[0][min_indices[1]]\n",
    "b_a_opt = Y[min_indices[0]][0]\n",
    "\n",
    "print(\"Optimal a value:\", str(a_opt))\n",
    "print(\"Optimal b/a value:\", str(b_a_opt))\n",
    "\n",
    "\n",
    "\n",
    "opt_E_elec = min_E_norm + grid_z2[min_indices[0]][min_indices[1]]\n",
    "\n",
    "print(\"Optimal structure E_elec:\", str(opt_E_elec))"
   ]
  },
  {
   "cell_type": "code",
   "execution_count": null,
   "metadata": {},
   "outputs": [],
   "source": [
    "min_indices = np.unravel_index(np.nanargmin(grid_z2), grid_z2.shape)\n",
    "\n",
    "data_point_1 = go.Scatter3d(\n",
    "    x=[X[0][min_indices[1]]],\n",
    "    y=[Y[min_indices[0]][0]],\n",
    "    z=[grid_z2[min_indices[0]][min_indices[1]]],\n",
    "    mode='markers',\n",
    "  \n",
    "    marker=dict(\n",
    "        size=6,\n",
    "#         color=elec_energy_lst,\n",
    "        color=\"red\",\n",
    "        colorscale='magma',\n",
    "        opacity=1.\n",
    "        )    \n",
    "    )\n",
    "\n",
    "# Line denoted the initial guess for lattice parameters\n",
    "data_line = go.Scatter3d(\n",
    "    x=[4.593, 4.593], y=[0.644, 0.644], z=[0, 100],\n",
    "    marker=dict(size=0),\n",
    "    line=dict(\n",
    "        color=\"black\",\n",
    "        width=15,\n",
    "        )\n",
    "    )\n",
    "\n",
    "data = [data_surf, data_points,\n",
    "    data_point_1,\n",
    "    data_line,      \n",
    "    ]\n",
    "\n",
    "fig = go.Figure(data=data, layout=layout)\n",
    "py.iplot(fig, filename=pl_dir + '/pl_latt_opt_data_points')"
   ]
  }
 ],
 "metadata": {
  "kernelspec": {
   "display_name": "Python 3",
   "language": "python",
   "name": "python3"
  },
  "language_info": {
   "codemirror_mode": {
    "name": "ipython",
    "version": 3
   },
   "file_extension": ".py",
   "mimetype": "text/x-python",
   "name": "python",
   "nbconvert_exporter": "python",
   "pygments_lexer": "ipython3",
   "version": "3.6.6"
  }
 },
 "nbformat": 4,
 "nbformat_minor": 2
}
