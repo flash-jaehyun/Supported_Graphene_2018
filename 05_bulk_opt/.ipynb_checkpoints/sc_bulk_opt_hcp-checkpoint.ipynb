{
 "cells": [
  {
   "cell_type": "markdown",
   "metadata": {},
   "source": [
    "# Finding the Optmimal Lattice Constants for Bulk Support Materials\n",
    "***\n",
    "Notes:\n",
    "\n",
    "  This will break when I put in the data that also has a c lattice constant.\n",
    "\n",
    "  Probably just make two plots (one for only a and one for both a and c lattice constants).\n",
    "\n",
    "***"
   ]
  },
  {
   "cell_type": "markdown",
   "metadata": {
    "toc-hr-collapsed": false
   },
   "source": [
    "# Notebook Setup"
   ]
  },
  {
   "cell_type": "markdown",
   "metadata": {},
   "source": [
    "## Import Modules"
   ]
  },
  {
   "cell_type": "code",
   "execution_count": 1,
   "metadata": {},
   "outputs": [],
   "source": [
    "import os\n",
    "import sys\n",
    "\n",
    "import numpy as np\n",
    "import pandas as pd\n",
    "\n",
    "from scipy.interpolate import interp1d\n",
    "from scipy.interpolate import griddata\n",
    "\n",
    "import plotly.plotly as py\n",
    "import plotly.graph_objs as go\n",
    "\n",
    "import pickle"
   ]
  },
  {
   "cell_type": "markdown",
   "metadata": {},
   "source": [
    "## Script Inputs"
   ]
  },
  {
   "cell_type": "code",
   "execution_count": 2,
   "metadata": {},
   "outputs": [],
   "source": [
    "groupby_cols = [\n",
    "    \"support_metal\",\n",
    "    \"crystal_structure\",\n",
    "    \"spinpol\",\n",
    "    ]\n",
    "\n",
    "prop_name_list = [\n",
    "    \"support_metal\",\n",
    "    \"crystal_structure\",\n",
    "    \"spinpol\",\n",
    "    ]\n",
    "# support_metal\n",
    "\n",
    "system_color_dict = {\n",
    "    \"Ni\": \"red\",\n",
    "    \"Rh\": \"blue\",\n",
    "    \"Co\": \"black\",\n",
    "    \"Ru\": \"green\",\n",
    "    \"Mo\": \"orange\",\n",
    "    \"W\": \"grey\",\n",
    "    }"
   ]
  },
  {
   "cell_type": "markdown",
   "metadata": {},
   "source": [
    "## Load Data"
   ]
  },
  {
   "cell_type": "code",
   "execution_count": 3,
   "metadata": {},
   "outputs": [],
   "source": [
    "df_dir = os.path.join(\n",
    "    \".\",\n",
    "    \"job_dataframe_bulk_opt_ni_co_mo_01.pickle\")\n",
    "with open(df_dir, \"rb\") as fle:\n",
    "    df_m_ni_co_mo_1 = pickle.load(fle, encoding=\"latin1\")\n",
    "\n",
    "df_dir = os.path.join(\n",
    "    \".\",\n",
    "    \"job_dataframe_bulk_opt_ni_co_mo_02.pickle\")\n",
    "with open(df_dir, \"rb\") as fle:\n",
    "    df_m_ni_co_mo_2 = pickle.load(fle, encoding=\"latin1\")\n",
    "\n",
    "df_dir = os.path.join(\n",
    "    \".\",\n",
    "    \"job_dataframe_bulk_opt_ru_rh_w_01.pickle\")\n",
    "with open(df_dir, \"rb\") as fle:\n",
    "    df_m_ru_rh_w_1 = pickle.load(fle, encoding=\"latin1\")\n",
    "\n",
    "frames = [\n",
    "    df_m_ni_co_mo_1,\n",
    "    df_m_ni_co_mo_2,\n",
    "    df_m_ru_rh_w_1,\n",
    "    ]\n",
    "\n",
    "df_m = pd.concat(frames)\n",
    "\n",
    "# Getting rid of duplicate columns\n",
    "df_m = df_m.loc[:,~df_m.columns.duplicated()]\n",
    "df_m = df_m.replace(np.nan, 'nan', regex=True)\n",
    "df_m = df_m[df_m[\"elec_energy\"] != \"nan\"]\n",
    "\n",
    "\n",
    "# df_m = df_m[df_m[\"c\"] == \"nan\"]\n",
    "df_m = df_m[df_m[\"c\"] != \"nan\"]\n",
    "\n",
    "# df_m = df_m[df_m[\"support_metal\"] == \"Mo\"]\n",
    "# df_m = df_m[df_m[\"spinpol\"] == False]"
   ]
  },
  {
   "cell_type": "code",
   "execution_count": 4,
   "metadata": {},
   "outputs": [
    {
     "name": "stdout",
     "output_type": "stream",
     "text": [
      "Co_hcp_False\n",
      "optmimal parameters: \n",
      "2.4729109090909094\n",
      "3.9646769696969693\n",
      "\n",
      "\n",
      "Co_hcp_True\n",
      "optmimal parameters: \n",
      "2.4881060606060608\n",
      "4.120883838383838\n",
      "\n",
      "\n",
      "Ru_hcp_False\n",
      "optmimal parameters: \n",
      "2.73706\n",
      "4.28236494949495\n",
      "\n",
      "\n",
      "Ru_hcp_True\n",
      "optmimal parameters: \n",
      "2.7381533333333334\n",
      "4.280635050505051\n",
      "\n",
      "\n"
     ]
    }
   ],
   "source": [
    "data = []\n",
    "groupby = df_m.groupby(groupby_cols)\n",
    "for name_i, group_i in groupby:\n",
    "    group_i = group_i.sort_values(by=[\"a\"])\n",
    "\n",
    "\n",
    "    group_i[\"elec_energy_norm\"] = 0. + \\\n",
    "        group_i[\"elec_energy\"] - \\\n",
    "        group_i[\"elec_energy\"].min()\n",
    "\n",
    "    a_list = group_i[\"a\"].tolist()\n",
    "    energy_list = group_i[\"elec_energy_norm\"].tolist()\n",
    "\n",
    "    name_i = \"\"\n",
    "    for prop_i in prop_name_list:   \n",
    "        name_i += str(group_i[prop_i].tolist()[0]) + \"_\"\n",
    "\n",
    "    name_i = name_i[0:-1]\n",
    "\n",
    "    color_i = None\n",
    "    if len(list(set(group_i[\"support_metal\"].tolist()))) == 1:\n",
    "        support_metal = list(set(group_i[\"support_metal\"].tolist()))[0]\n",
    "        color_i = system_color_dict[support_metal]\n",
    "\n",
    "    if len(list(set(group_i[\"spinpol\"].tolist()))) == 1:\n",
    "        spinpol = list(set(group_i[\"spinpol\"].tolist()))[0]\n",
    "        \n",
    "        if spinpol is True:\n",
    "            shape_i = \"circle\"\n",
    "        elif spinpol is False:\n",
    "            shape_i = \"triangle-up\"\n",
    "\n",
    "    # ###################################################\n",
    "    # ###################################################\n",
    "    # ###################################################\n",
    "\n",
    "    no_c_latt_const = False\n",
    "    c_col = list(set(group_i[\"c\"].tolist()))\n",
    "    if len(c_col) == 1 and \"nan\" in c_col:\n",
    "        no_c_latt_const = True\n",
    "\n",
    "    a_list = group_i[\"a\"].tolist()\n",
    "    energy_list = group_i[\"elec_energy_norm\"].tolist()\n",
    "\n",
    "    name_i = \"\"\n",
    "    for prop_i in prop_name_list:   \n",
    "        name_i += str(group_i[prop_i].tolist()[0]) + \"_\"\n",
    "\n",
    "    name_i = name_i[0:-1]\n",
    "    \n",
    "    \n",
    "    #################################################################################\n",
    "    #################################################################################\n",
    "    #################################################################################\n",
    "    #################################################################################\n",
    "    #################################################################################\n",
    "\n",
    "    data_points = go.Scatter3d(\n",
    "        x=group_i[\"a\"],\n",
    "        y=group_i[\"c\"],\n",
    "        z=group_i[\"elec_energy_norm\"],\n",
    "        mode='markers',\n",
    "\n",
    "        marker=dict(\n",
    "            size=4,\n",
    "    #         color=elec_energy_lst,                # set color to an array/list of desired values\n",
    "            color=\"grey\",                # set color to an array/list of desired values\n",
    "    #         colorscale='magma',   # choose a colorscale\n",
    "            colorscale='Blackbody',   # choose a colorscale\n",
    "            opacity=1.\n",
    "            )    \n",
    "        )\n",
    "\n",
    "\n",
    "    x = np.linspace(group_i[\"a\"].min(), group_i[\"a\"].max(), 100)\n",
    "    y =  np.linspace(group_i[\"c\"].min(), group_i[\"c\"].max(), 100)\n",
    "    X, Y = np.meshgrid(x,y)\n",
    "    grid_z2 = griddata(\n",
    "        (group_i[\"a\"], group_i[\"c\"]),\n",
    "        group_i[\"elec_energy_norm\"],\n",
    "        (X, Y),\n",
    "        method='cubic',\n",
    "        )\n",
    "\n",
    "    data_surf = go.Surface(\n",
    "        x=X,\n",
    "        y=Y,\n",
    "        z=grid_z2,\n",
    "        cmin=0.,\n",
    "        cmax=0.01,\n",
    "        )\n",
    "\n",
    "    min_indices = np.unravel_index(np.nanargmin(grid_z2), grid_z2.shape)\n",
    "\n",
    "    min_x = X[0][min_indices[1]]\n",
    "    min_y = Y[min_indices[0]][0]\n",
    "\n",
    "    print(name_i)\n",
    "    print(\"optmimal parameters: \")\n",
    "    print(min_x)\n",
    "    print(min_y)\n",
    "    print(\"\")\n",
    "    print(\"\")\n",
    "\n",
    "\n",
    "    data_point_1 = go.Scatter3d(\n",
    "        x=[min_x],\n",
    "        y=[min_y],\n",
    "    #     x=[X[0][min_indices[1]]],\n",
    "    #     y=[Y[min_indices[0]][0]],\n",
    "        z=[grid_z2[min_indices[0]][min_indices[1]]],\n",
    "        mode='markers',\n",
    "\n",
    "        marker=dict(\n",
    "            size=6,\n",
    "    #         color=elec_energy_lst,\n",
    "            color=\"red\",\n",
    "            colorscale='Blackbody',\n",
    "            opacity=1.\n",
    "            )    \n",
    "        )"
   ]
  },
  {
   "cell_type": "code",
   "execution_count": 5,
   "metadata": {},
   "outputs": [],
   "source": [
    "layout2 = go.Layout(\n",
    "    scene = dict(\n",
    "        xaxis = dict(\n",
    "            title='a [A]',\n",
    "#             range=[4.5, 5.],\n",
    "            ),\n",
    "        yaxis = dict(\n",
    "            title='b/a',\n",
    "#             range=[0.53, 0.7],\n",
    "            ),\n",
    "        zaxis = dict(\n",
    "            title='Elec. E (norm.) [eV]',\n",
    "#             range=[-2, 8],\n",
    "            ),\n",
    "        ),\n",
    "    height=600,\n",
    "    width=1000,\n",
    "\n",
    "    margin=dict(\n",
    "        r=20, b=10,\n",
    "        l=10, t=10,\n",
    "        )\n",
    "    )"
   ]
  },
  {
   "cell_type": "code",
   "execution_count": 14,
   "metadata": {},
   "outputs": [
    {
     "name": "stderr",
     "output_type": "stream",
     "text": [
      "/home/raul_surface/anaconda2/envs/py36/lib/python3.6/site-packages/ipykernel_launcher.py:6: SettingWithCopyWarning:\n",
      "\n",
      "\n",
      "A value is trying to be set on a copy of a slice from a DataFrame.\n",
      "Try using .loc[row_indexer,col_indexer] = value instead\n",
      "\n",
      "See the caveats in the documentation: http://pandas.pydata.org/pandas-docs/stable/indexing.html#indexing-view-versus-copy\n",
      "\n"
     ]
    }
   ],
   "source": [
    "group_i = df_m[\n",
    "    (df_m[\"support_metal\"] == \"Co\") & \\\n",
    "    (df_m[\"spinpol\"] == True)\n",
    "    ]\n",
    "\n",
    "group_i[\"elec_energy_norm\"] = 0. + \\\n",
    "    group_i[\"elec_energy\"] - \\\n",
    "    group_i[\"elec_energy\"].min()"
   ]
  },
  {
   "cell_type": "code",
   "execution_count": 15,
   "metadata": {},
   "outputs": [
    {
     "name": "stdout",
     "output_type": "stream",
     "text": [
      "Ru_hcp_True\n",
      "optmimal parameters: \n",
      "2.4881060606060608\n",
      "4.120883838383838\n",
      "\n",
      "\n"
     ]
    }
   ],
   "source": [
    "data_points = go.Scatter3d(\n",
    "    x=group_i[\"a\"],\n",
    "    y=group_i[\"c\"],\n",
    "    z=group_i[\"elec_energy_norm\"],\n",
    "    mode='markers',\n",
    "  \n",
    "    marker=dict(\n",
    "        size=4,\n",
    "#         color=elec_energy_lst,                # set color to an array/list of desired values\n",
    "        color=\"grey\",                # set color to an array/list of desired values\n",
    "#         colorscale='magma',   # choose a colorscale\n",
    "        colorscale='Blackbody',   # choose a colorscale\n",
    "        opacity=1.\n",
    "        )    \n",
    "    )\n",
    "\n",
    "\n",
    "x = np.linspace(group_i[\"a\"].min(), group_i[\"a\"].max(), 100)\n",
    "y =  np.linspace(group_i[\"c\"].min(), group_i[\"c\"].max(), 100)\n",
    "X, Y = np.meshgrid(x,y)\n",
    "grid_z2 = griddata(\n",
    "    (group_i[\"a\"], group_i[\"c\"]),\n",
    "    group_i[\"elec_energy_norm\"],\n",
    "    (X, Y),\n",
    "    method='cubic',\n",
    "    )\n",
    "\n",
    "data_surf = go.Surface(\n",
    "    x=X,\n",
    "    y=Y,\n",
    "    z=grid_z2,\n",
    "    cmin=0.,\n",
    "    cmax=0.01,\n",
    "    )\n",
    "\n",
    "min_indices = np.unravel_index(np.nanargmin(grid_z2), grid_z2.shape)\n",
    "\n",
    "min_x = X[0][min_indices[1]]\n",
    "min_y = Y[min_indices[0]][0]\n",
    "\n",
    "print(name_i)\n",
    "print(\"optmimal parameters: \")\n",
    "print(min_x)\n",
    "print(min_y)\n",
    "print(\"\")\n",
    "print(\"\")\n",
    "\n",
    "\n",
    "data_point_1 = go.Scatter3d(\n",
    "    x=[min_x],\n",
    "    y=[min_y],\n",
    "#     x=[X[0][min_indices[1]]],\n",
    "#     y=[Y[min_indices[0]][0]],\n",
    "    z=[grid_z2[min_indices[0]][min_indices[1]]],\n",
    "    mode='markers',\n",
    "  \n",
    "    marker=dict(\n",
    "        size=6,\n",
    "#         color=elec_energy_lst,\n",
    "        color=\"red\",\n",
    "        colorscale='Blackbody',\n",
    "        opacity=1.\n",
    "        )    \n",
    "    )"
   ]
  },
  {
   "cell_type": "code",
   "execution_count": 16,
   "metadata": {},
   "outputs": [
    {
     "data": {
      "text/html": [
       "<iframe id=\"igraph\" scrolling=\"no\" style=\"border:none;\" seamless=\"seamless\" src=\"https://plot.ly/~flores12/499.embed\" height=\"800px\" width=\"1200px\"></iframe>"
      ],
      "text/plain": [
       "<plotly.tools.PlotlyDisplay object>"
      ]
     },
     "execution_count": 16,
     "metadata": {},
     "output_type": "execute_result"
    }
   ],
   "source": [
    "pl_dir = \"__temp__\"\n",
    "fig = go.Figure(data=[data_points, data_surf, data_point_1], layout=layout2)\n",
    "py.iplot(fig, filename=pl_dir + '/pl_latt_opt_data_points')\n",
    "# py.iplot([data_points], filename=pl_dir + '/pl_latt_opt_data_points')"
   ]
  },
  {
   "cell_type": "code",
   "execution_count": 8,
   "metadata": {},
   "outputs": [
    {
     "ename": "AssertionError",
     "evalue": "",
     "output_type": "error",
     "traceback": [
      "\u001b[0;31m---------------------------------------------------------------------------\u001b[0m",
      "\u001b[0;31mAssertionError\u001b[0m                            Traceback (most recent call last)",
      "\u001b[0;32m<ipython-input-8-a871fdc9ebee>\u001b[0m in \u001b[0;36m<module>\u001b[0;34m()\u001b[0m\n\u001b[0;32m----> 1\u001b[0;31m \u001b[0;32massert\u001b[0m \u001b[0;32mFalse\u001b[0m\u001b[0;34m\u001b[0m\u001b[0m\n\u001b[0m",
      "\u001b[0;31mAssertionError\u001b[0m: "
     ]
    }
   ],
   "source": [
    "assert False"
   ]
  }
 ],
 "metadata": {
  "kernelspec": {
   "display_name": "Python 3",
   "language": "python",
   "name": "python3"
  },
  "language_info": {
   "codemirror_mode": {
    "name": "ipython",
    "version": 3
   },
   "file_extension": ".py",
   "mimetype": "text/x-python",
   "name": "python",
   "nbconvert_exporter": "python",
   "pygments_lexer": "ipython3",
   "version": "3.6.5"
  },
  "toc-autonumbering": true
 },
 "nbformat": 4,
 "nbformat_minor": 2
}
