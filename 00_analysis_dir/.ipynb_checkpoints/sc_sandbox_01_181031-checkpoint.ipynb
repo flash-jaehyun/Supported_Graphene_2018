{
 "cells": [
  {
   "cell_type": "markdown",
   "metadata": {},
   "source": [
    "# ORR Thermokinetic Analysis\n",
    "\n",
    "_______"
   ]
  },
  {
   "cell_type": "code",
   "execution_count": 1,
   "metadata": {},
   "outputs": [],
   "source": [
    "import os\n",
    "import sys"
   ]
  },
  {
   "cell_type": "code",
   "execution_count": 1,
   "metadata": {},
   "outputs": [],
   "source": [
    "# from os.path import join as join\n",
    "# import sys\n",
    "# sys.path.append(\".\")\n",
    "\n",
    "# import pandas as pd\n",
    "# from methods import job_maint\n",
    "from dft_job_automat.job_analysis import DFT_Jobs_Analysis\n",
    "# from dft_job_automat.job_types_classes.dft_methods import DFT_Methods"
   ]
  },
  {
   "cell_type": "code",
   "execution_count": null,
   "metadata": {},
   "outputs": [],
   "source": [
    "# Jobs = DFT_Jobs_Analysis(\n",
    "    \n",
    "#     tree_level=None,\n",
    "#     level_entries=None,\n",
    "#     skip_dirs_lst=None,\n",
    "#     indiv_dir_lst=None,  # <-----------------------------------------------\n",
    "#     indiv_job_lst=None,\n",
    "#     root_dir=\".\",\n",
    "#     working_dir=\".\",\n",
    "#     update_job_state=False,\n",
    "#     load_dataframe=True,\n",
    "#     dataframe_dir=None,\n",
    "#     job_type_class=None,\n",
    "#     methods_to_run=None,\n",
    "#     folders_exist=None,\n",
    "\n",
    "# #     indiv_dir_lst=dir_list,\n",
    "# #     working_dir=\".\",\n",
    "# #     folders_exist=True,\n",
    "# #     load_dataframe=False,\n",
    "# #     job_type_class=dft_inst,\n",
    "#     )\n"
   ]
  },
  {
   "cell_type": "code",
   "execution_count": null,
   "metadata": {},
   "outputs": [],
   "source": [
    "root_dir = \"/mnt/c/Users/raulf/github/Supported_Graphene_2018/02_data\"\n",
    "\n",
    "\n",
    "Jobs = DFT_Jobs_Analysis(\n",
    "    update_job_state=False,\n",
    "    job_type_class=None,\n",
    "    load_dataframe=True,\n",
    "    root_dir=root_dir,\n",
    "    working_dir=root_dir,\n",
    "    dataframe_dir=root_dir,\n",
    "    )\n"
   ]
  }
 ],
 "metadata": {
  "kernelspec": {
   "display_name": "Python 3",
   "language": "python",
   "name": "python3"
  },
  "language_info": {
   "codemirror_mode": {
    "name": "ipython",
    "version": 3
   },
   "file_extension": ".py",
   "mimetype": "text/x-python",
   "name": "python",
   "nbconvert_exporter": "python",
   "pygments_lexer": "ipython3",
   "version": "3.6.5"
  }
 },
 "nbformat": 4,
 "nbformat_minor": 2
}
