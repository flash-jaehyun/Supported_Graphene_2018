{
 "cells": [
  {
   "cell_type": "markdown",
   "metadata": {},
   "source": [
    "# ORR Thermokinetic Analysis\n",
    "\n",
    "_______"
   ]
  },
  {
   "cell_type": "raw",
   "metadata": {},
   "source": [
    "I'm importing the elemental reference data from the IrOx project data.py script\n",
    "Need to double check the elemental reference data"
   ]
  },
  {
   "cell_type": "code",
   "execution_count": 1,
   "metadata": {},
   "outputs": [],
   "source": [
    "%%capture\n",
    "%load_ext autoreload\n",
    "%autoreload 2"
   ]
  },
  {
   "cell_type": "markdown",
   "metadata": {},
   "source": [
    "# Import from Data Scripts"
   ]
  },
  {
   "cell_type": "code",
   "execution_count": 2,
   "metadata": {},
   "outputs": [],
   "source": [
    "import os\n",
    "import sys\n",
    "\n",
    "sys.path.insert(\n",
    "    0,\n",
    "    os.path.join(\n",
    "        os.environ[\"PROJ_irox\"],\n",
    "        \"workflow/data\",\n",
    "        ),\n",
    "    )\n",
    "\n",
    "from data import h2_ref\n",
    "from data import h2o_ref\n",
    "from data import corrections_dict\n",
    "\n",
    "sys.path.insert(\n",
    "    0,\n",
    "    os.path.join(\n",
    "        os.environ[\"PROJ_fe_graph\"],\n",
    "        \"data\",\n",
    "        ),\n",
    "    )\n",
    "\n",
    "from proj_data_fe_graph import gas_molec_dict, scaling_dict_ideal\n",
    "scaling_dict = scaling_dict_ideal"
   ]
  },
  {
   "cell_type": "markdown",
   "metadata": {},
   "source": [
    "# Import Modules"
   ]
  },
  {
   "cell_type": "code",
   "execution_count": 3,
   "metadata": {},
   "outputs": [],
   "source": [
    "from dft_job_automat.job_analysis import DFT_Jobs_Analysis\n",
    "\n",
    "import pandas as pd\n",
    "pd.set_option(\"display.max_columns\", None)\n",
    "pd.set_option('display.max_rows', None)\n",
    "\n",
    "import plotly.graph_objs as go\n",
    "import plotly.plotly as py\n",
    "\n",
    "# My Modules\n",
    "from orr_reaction.orr_methods import df_calc_adsorption_e\n",
    "from energetics.dft_energy import Element_Refs\n",
    "from orr_reaction.orr_fed_plot import ORR_Free_E_Plot"
   ]
  },
  {
   "cell_type": "markdown",
   "metadata": {},
   "source": [
    "# Elemental Reference Data"
   ]
  },
  {
   "cell_type": "code",
   "execution_count": 4,
   "metadata": {},
   "outputs": [
    {
     "name": "stdout",
     "output_type": "stream",
     "text": [
      "Divisor is Energy class instance!!!\n"
     ]
    }
   ],
   "source": [
    "Refs = Element_Refs()\n",
    "oxy_ref = Refs.E_O_ref.gibbs_e\n",
    "hyd_ref = Refs.E_H_ref.gibbs_e"
   ]
  },
  {
   "cell_type": "markdown",
   "metadata": {},
   "source": [
    "# Load DFT Data"
   ]
  },
  {
   "cell_type": "code",
   "execution_count": 5,
   "metadata": {},
   "outputs": [],
   "source": [
    "root_dir = \"/mnt/c/Users/raulf/github/Supported_Graphene_2018/02_data\"\n",
    "\n",
    "\n",
    "Jobs = DFT_Jobs_Analysis(\n",
    "    update_job_state=False,\n",
    "    job_type_class=None,\n",
    "    load_dataframe=True,\n",
    "    root_dir=root_dir,\n",
    "    working_dir=root_dir,\n",
    "    dataframe_dir=root_dir,\n",
    "    )\n",
    "\n",
    "df_m = Jobs.data_frame  # df_m -> dataframe_master -> Master Dataframe"
   ]
  },
  {
   "cell_type": "markdown",
   "metadata": {},
   "source": [
    "# Calculating the Adsorption Free Energies\n",
    "\n",
    "TEMP | For now we're just taking the spinpol=False jobs, which gives 4 jobs (bare, *ooh, *o, *oh) with energies"
   ]
  },
  {
   "cell_type": "code",
   "execution_count": 6,
   "metadata": {},
   "outputs": [],
   "source": [
    "group = df_m[df_m[\"spinpol\"] == False]\n",
    "\n",
    "df_calc_adsorption_e(\n",
    "    group,\n",
    "    oxy_ref,\n",
    "    hyd_ref,\n",
    "    group[group[\"adsorbate\"] == \"bare\"][\"elec_energy\"].iloc[0],\n",
    "    corrections_mode=\"corr_dict\",\n",
    "#     corrections_mode=None,\n",
    "#         corrections_column=\"gibbs_correction\",\n",
    "    corrections_dict=corrections_dict,\n",
    "    )\n"
   ]
  },
  {
   "cell_type": "markdown",
   "metadata": {},
   "source": [
    "# Instantiating the ORR Class"
   ]
  },
  {
   "cell_type": "code",
   "execution_count": 8,
   "metadata": {},
   "outputs": [],
   "source": [
    "ORR_PLT = ORR_Free_E_Plot(\n",
    "    free_energy_df=None,\n",
    "    state_title=\"adsorbate\",\n",
    "    free_e_title=\"ads_e\",  \n",
    "    bias=0.,\n",
    "    color_list=None,   \n",
    "    show_H_e_pairs_annotations=True,\n",
    "    show_legend=True,\n",
    "    rxn_type=\"ORR\",\n",
    "    )\n",
    "\n",
    "# Adding the ORR data series to the ORR instance\n",
    "ORR_PLT.add_series(\n",
    "    group,\n",
    "    plot_mode=\"all\",\n",
    "    overpotential_type=\"ORR\",\n",
    "    )"
   ]
  },
  {
   "cell_type": "markdown",
   "metadata": {},
   "source": [
    "# ** 1D ORR Limiting Potential Plot"
   ]
  },
  {
   "cell_type": "code",
   "execution_count": 10,
   "metadata": {},
   "outputs": [
    {
     "name": "stdout",
     "output_type": "stream",
     "text": [
      "No smart format given!\n"
     ]
    }
   ],
   "source": [
    "from orr_reaction.orr_fed_plot import Volcano_Plot\n",
    "\n",
    "VP = Volcano_Plot(\n",
    "    ORR_PLT,\n",
    "    x_ax_species=\"oh\",\n",
    "    )\n",
    "\n",
    "VP.create_volcano_relations_plot()\n",
    "\n",
    "volcano_legs_data = VP.create_volcano_lines(\n",
    "    gas_molec_dict=gas_molec_dict,\n",
    "    scaling_dict=scaling_dict,\n",
    "\n",
    "    plot_all_legs=False,\n",
    "    plot_min_max_legs=True,\n",
    "    )"
   ]
  },
  {
   "cell_type": "code",
   "execution_count": 11,
   "metadata": {},
   "outputs": [
    {
     "data": {
      "text/html": [
       "<iframe id=\"igraph\" scrolling=\"no\" style=\"border:none;\" seamless=\"seamless\" src=\"https://plot.ly/~flores12/446.embed\" height=\"476.22047244659996px\" width=\"612.2834645741999px\"></iframe>"
      ],
      "text/plain": [
       "<plotly.tools.PlotlyDisplay object>"
      ]
     },
     "execution_count": 11,
     "metadata": {},
     "output_type": "execute_result"
    }
   ],
   "source": [
    "layout = VP.get_plotly_layout(\n",
    "    showlegend=False,\n",
    "    width=1.8 * 9. * 37.795275591,\n",
    "    height=1.4 * 9. * 37.795275591,\n",
    "    )\n",
    "\n",
    "save_dir = \"__temp__\"\n",
    "py.iplot(\n",
    "    {\n",
    "        \"data\": VP.data_points + volcano_legs_data,\n",
    "        \"layout\": layout,\n",
    "        },\n",
    "    filename=os.path.join(save_dir, \"181101_kevin_volcano),\n",
    "    )"
   ]
  },
  {
   "cell_type": "markdown",
   "metadata": {},
   "source": [
    "# ** Adsorbates Scaling Relationships"
   ]
  },
  {
   "cell_type": "code",
   "execution_count": 15,
   "metadata": {},
   "outputs": [
    {
     "name": "stdout",
     "output_type": "stream",
     "text": [
      "No smart format given!\n"
     ]
    },
    {
     "data": {
      "text/html": [
       "<iframe id=\"igraph\" scrolling=\"no\" style=\"border:none;\" seamless=\"seamless\" src=\"https://plot.ly/~flores12/432.embed\" height=\"565.41732284136px\" width=\"565.41732284136px\"></iframe>"
      ],
      "text/plain": [
       "<plotly.tools.PlotlyDisplay object>"
      ]
     },
     "execution_count": 15,
     "metadata": {},
     "output_type": "execute_result"
    }
   ],
   "source": [
    "from orr_reaction.orr_fed_plot import Scaling_Relations_Plot\n",
    "\n",
    "SC_PLT = Scaling_Relations_Plot(\n",
    "    ORR_PLT,\n",
    "    plot_range={\n",
    "        \"y\": [-2., 7.],\n",
    "        \"x\": [-2., 3.5],\n",
    "        },\n",
    "\n",
    "    )\n",
    "\n",
    "exclude_dict = {\n",
    "    'bulk_system': 'IrO2',\n",
    "    'coverage_type': 'o_covered',\n",
    "#     'dopant': 'Ni',\n",
    "#     'facet': '110',\n",
    "#     'site': 'ir_site',\n",
    "    'site': 'ir_site',\n",
    "    }\n",
    "\n",
    "# There is only a single data point, so not enough\n",
    "# to do linear fits\n",
    "\n",
    "# slope_intercept_dict = SC_PLT.fit_scaling_lines(\n",
    "#     \"ooh\",\n",
    "#     exclude_dict=exclude_dict,\n",
    "#     )\n",
    "# SC_PLT.add_line(slope_intercept_dict,\n",
    "#     name=\"*OOH vs *OH Scaling\",\n",
    "#     color=\"red\",\n",
    "#     width=1,\n",
    "#     dash=\"solid\",\n",
    "#     )\n",
    "\n",
    "\n",
    "# slope_intercept_dict = SC_PLT.fit_scaling_lines(\n",
    "#     \"o\",\n",
    "#     exclude_dict=exclude_dict,\n",
    "#     )\n",
    "# SC_PLT.add_line(slope_intercept_dict,\n",
    "#     name=\"*O vs *OH Scaling\",\n",
    "#     color=\"red\",\n",
    "#     width=1,\n",
    "#     dash=\"solid\",\n",
    "#     )\n",
    "\n",
    "\n",
    "SC_PLT.add_ideal_lines()\n",
    "\n",
    "\n",
    "SC_PLT.create_scaling_relations_plot(\n",
    "#     smart_format_dict=smart_format_dict,\n",
    "    )\n",
    "\n",
    "data_m = SC_PLT.data_points[\"ooh_vs_oh\"] + \\\n",
    "    SC_PLT.data_points[\"o_vs_oh\"] + \\\n",
    "    SC_PLT.data_points[\"oh_vs_oh\"] + \\\n",
    "    SC_PLT.data_lines\n",
    "\n",
    "# layout = SC_PLT.layout\n",
    "\n",
    "layout = SC_PLT.__create_layout__(\n",
    "    x_ax_spec=\"oh\",\n",
    "    title=\"Scaling Relations\",\n",
    "    showlegend=False,\n",
    "    )\n",
    "layout[\"width\"] = 0.8 * 18.7 * 37.795275591\n",
    "layout[\"height\"] = 0.8 * 18.7 * 37.795275591\n",
    "\n",
    "fig = dict(data=data_m, layout=layout)\n",
    "# fig = dict(data=data_ooh_oh, layout=layout_ooh_oh)\n",
    "py.iplot(fig, filename=os.path.join(save_dir, \"181101_kevin_scaling\"))\n",
    "\n"
   ]
  },
  {
   "cell_type": "markdown",
   "metadata": {},
   "source": [
    "# **ORR Free Energy Diagrams"
   ]
  },
  {
   "cell_type": "code",
   "execution_count": 17,
   "metadata": {},
   "outputs": [
    {
     "data": {
      "text/html": [
       "<iframe id=\"igraph\" scrolling=\"no\" style=\"border:none;\" seamless=\"seamless\" src=\"https://plot.ly/~flores12/448.embed\" height=\"1275.0px\" width=\"1020.0px\"></iframe>"
      ],
      "text/plain": [
       "<plotly.tools.PlotlyDisplay object>"
      ]
     },
     "execution_count": 17,
     "metadata": {},
     "output_type": "execute_result"
    }
   ],
   "source": [
    "layout = ORR_PLT.plotly_fed_layout(\n",
    "    plot_title=\"\",\n",
    "    plot_width=1.5 * 680,\n",
    "    plot_height=2.5 * 510,\n",
    "    )\n",
    "\n",
    "py.plotly.iplot(\n",
    "    {\n",
    "        \"data\": ORR_PLT.plotly_data(),\n",
    "        \"layout\": layout,\n",
    "        },\n",
    "        filename=os.path.join(save_dir, \"181101_kevin_fed\"),\n",
    "    )\n"
   ]
  },
  {
   "cell_type": "raw",
   "metadata": {},
   "source": [
    "\n",
    "\n",
    "\n",
    "\n",
    "\n",
    "\n",
    "\n",
    "\n",
    "\n",
    "\n",
    "\n",
    "\n",
    "\n"
   ]
  },
  {
   "cell_type": "raw",
   "metadata": {},
   "source": [
    "List of columns from data frame"
   ]
  },
  {
   "cell_type": "code",
   "execution_count": 12,
   "metadata": {},
   "outputs": [],
   "source": [
    "col_list = ['Job',\n",
    " 'adsorbate',\n",
    " 'graphene_layers',\n",
    " 'max_revision',\n",
    " 'path',\n",
    " 'revision_number',\n",
    " 'stacking',\n",
    " 'support_bulk_str',\n",
    " 'support_elem',\n",
    " 'support_facet',\n",
    " 'elec_energy',\n",
    " 'init_atoms',\n",
    " 'atoms_object',\n",
    " 'beefensemble',\n",
    " 'convergence',\n",
    " 'dipole',\n",
    " 'dw',\n",
    " 'kpts',\n",
    " 'nbands',\n",
    " 'noncollinear',\n",
    " 'outdir',\n",
    " 'output',\n",
    " 'parflags',\n",
    " 'printensemble',\n",
    " 'pw',\n",
    " 'sigma',\n",
    " 'spinpol',\n",
    " 'xc']"
   ]
  },
  {
   "cell_type": "code",
   "execution_count": 13,
   "metadata": {},
   "outputs": [],
   "source": [
    "# Jobs = DFT_Jobs_Analysis(\n",
    "    \n",
    "#     tree_level=None,\n",
    "#     level_entries=None,\n",
    "#     skip_dirs_lst=None,\n",
    "#     indiv_dir_lst=None,  # <-----------------------------------------------\n",
    "#     indiv_job_lst=None,\n",
    "#     root_dir=\".\",\n",
    "#     working_dir=\".\",\n",
    "#     update_job_state=False,\n",
    "#     load_dataframe=True,\n",
    "#     dataframe_dir=None,\n",
    "#     job_type_class=None,\n",
    "#     methods_to_run=None,\n",
    "#     folders_exist=None,\n",
    "\n",
    "# #     indiv_dir_lst=dir_list,\n",
    "# #     working_dir=\".\",\n",
    "# #     folders_exist=True,\n",
    "# #     load_dataframe=False,\n",
    "# #     job_type_class=dft_inst,\n",
    "#     )\n",
    "\n",
    "\n",
    "# from os.path import join as join\n",
    "# import sys\n",
    "# sys.path.append(\".\")\n",
    "\n",
    "# import pandas as pd\n",
    "# from methods import job_maint\n",
    "\n",
    "# from dft_job_automat.job_types_classes.dft_methods import DFT_Methods"
   ]
  }
 ],
 "metadata": {
  "kernelspec": {
   "display_name": "Python 3",
   "language": "python",
   "name": "python3"
  },
  "language_info": {
   "codemirror_mode": {
    "name": "ipython",
    "version": 3
   },
   "file_extension": ".py",
   "mimetype": "text/x-python",
   "name": "python",
   "nbconvert_exporter": "python",
   "pygments_lexer": "ipython3",
   "version": "3.6.5"
  },
  "toc-autonumbering": true
 },
 "nbformat": 4,
 "nbformat_minor": 2
}
