{
 "cells": [
  {
   "cell_type": "markdown",
   "metadata": {},
   "source": [
    "# Import Modules"
   ]
  },
  {
   "cell_type": "code",
   "execution_count": 2,
   "metadata": {},
   "outputs": [
    {
     "name": "stdout",
     "output_type": "stream",
     "text": [
      "The autoreload extension is already loaded. To reload it, use:\n",
      "  %reload_ext autoreload\n",
      "Divisor is Energy class instance!!!\n"
     ]
    }
   ],
   "source": [
    "# iPython Settings\n",
    "%load_ext autoreload\n",
    "%autoreload 2\n",
    "\n",
    "# Python Modules\n",
    "import sys\n",
    "sys.path.insert(0, \"..\")\n",
    "\n",
    "import copy\n",
    "\n",
    "import numpy as np\n",
    "import pandas as pd\n",
    "pd.options.mode.chained_assignment = None\n",
    "\n",
    "from ase.visualize import view\n",
    "\n",
    "import plotly.plotly as py\n",
    "import plotly.graph_objs as go\n",
    "\n",
    "# My Modules ******************************************************************\n",
    "from dft_job_automat.job_analysis import DFT_Jobs_Analysis\n",
    "from dft_job_automat.job_types_classes.dft_methods import DFT_Methods\n",
    "from orr_reaction.orr_methods import ORR_Free_E_Plot, calc_ads_e\n",
    "from orr_reaction.orr_methods import lowest_e_path, df_calc_adsorption_e, plot_all_states\n",
    "from energetics.dft_energy import Element_Refs\n",
    "\n",
    "from colors.colors import color_list\n",
    "\n",
    "# Local Imports\n",
    "from an_data_processing import load_df"
   ]
  },
  {
   "cell_type": "markdown",
   "metadata": {},
   "source": [
    "# Script Methods"
   ]
  },
  {
   "cell_type": "code",
   "execution_count": 3,
   "metadata": {},
   "outputs": [],
   "source": [
    "h2o_fe_corr = 0.013\n",
    "h2_fe_corr = -0.035\n",
    "\n",
    "def calculate_gibbs_correction(row, h2o_corr, h2_corr):\n",
    "    adsorbate = row[\"adsorbate\"]\n",
    "    ads_corr = row[\"gibbs_correction\"]\n",
    "\n",
    "    corr_tot = \"NaN\"\n",
    "    if adsorbate == \"ooh\":\n",
    "        corr_tot = ads_corr - 2 * h2o_corr + (3. / 2.) * h2_corr \n",
    "    elif adsorbate == \"o\":\n",
    "        corr_tot = ads_corr - 1 * h2o_corr + (2. / 2.) * h2_corr\n",
    "    elif adsorbate == \"oh\":\n",
    "        corr_tot = ads_corr - 1 * h2o_corr + (1. / 2.) * h2_corr\n",
    "    elif adsorbate == \"h2o\":\n",
    "        corr_tot = ads_corr - 1 * h2o_corr + (0. / 2.) * h2_corr\n",
    "\n",
    "    return(corr_tot)"
   ]
  },
  {
   "cell_type": "markdown",
   "metadata": {},
   "source": [
    "# Dataframe Processing"
   ]
  },
  {
   "cell_type": "code",
   "execution_count": 4,
   "metadata": {},
   "outputs": [
    {
     "name": "stdout",
     "output_type": "stream",
     "text": [
      "Attempting to load df from pickle\n"
     ]
    }
   ],
   "source": [
    "df = load_df(from_file=True)\n",
    "df[\"new__\"] = df.apply(calculate_gibbs_correction, args=(h2o_fe_corr, h2_fe_corr), axis=1)\n",
    "\n",
    "col_list = [\n",
    "    'new__',\n",
    "    'ads_e',\n",
    "    'adsorbate',\n",
    "\n",
    "#     'atom_type_num_dict',\n",
    "#     'atoms_object',\n",
    "#     'charge_history',\n",
    "\n",
    "#     'elec_energy',  # <-------------------\n",
    "    \n",
    "    'final_site',\n",
    "\n",
    "#     'full_path',\n",
    "\n",
    "    'gibbs_correction',\n",
    "\n",
    "#     'graph_site',  # <-------------------\n",
    "\n",
    "#     'init_atoms',\n",
    "#     'magmom_history',\n",
    "#     'max_revision',\n",
    "    \n",
    "    'notes',  # <-------------------\n",
    "\n",
    "#     'path',\n",
    "#     'pdos_data',\n",
    "#     'revision_number',\n",
    "    'site',\n",
    "    'spinpol',\n",
    "    'system',\n",
    "#     'tree_level_labels',\n",
    "#     'variable_list',\n",
    "    ]\n",
    "\n",
    "df = df[col_list]\n",
    "\n",
    "df[\"spinpol\"] = df.apply(\n",
    "    lambda row: False if row[\"system\"] == \"N_graph_Fe\" and np.isnan(row[\"spinpol\"]) else row[\"spinpol\"],\n",
    "    axis=1\n",
    "    )\n",
    "\n",
    "df_master = df.copy()\n",
    "\n",
    "df_2 = df_master.copy()\n",
    "df_2 = df_2[np.isfinite(df_2['new__'])]\n",
    "df_2 = df_2[df_2[\"gibbs_correction\"] != 0.]"
   ]
  },
  {
   "cell_type": "markdown",
   "metadata": {},
   "source": [
    "# Free Energy Correction Bar Chart"
   ]
  },
  {
   "cell_type": "code",
   "execution_count": 5,
   "metadata": {},
   "outputs": [],
   "source": [
    "master_data_list = []\n",
    "\n",
    "grouped = df_2.groupby([\"system\", \"site\", \"spinpol\"])\n",
    "for group_i in grouped:\n",
    "    group_name = group_i[0]\n",
    "    df_i = group_i[1]\n",
    "    \n",
    "    # Setting Variable Color List\n",
    "    color_list = 5 * [\"#006600\"]\n",
    "    notes_i = df_i[\"notes\"].tolist()\n",
    "    \n",
    "   \n",
    "    for i_ind, note_j in enumerate(notes_i):\n",
    "        if note_j == \"Desorbed\":\n",
    "#             color_list[i_ind] = \"rgb(204, 0, 102, 0.3)\"\n",
    "            color_list[i_ind] = \"rgb(255,204,204)\"\n",
    "        elif note_j == \"Dissociated\":\n",
    "            color_list[i_ind] = \"rgb(255,255,204)\"\n",
    "\n",
    "    # Setting Variable Border Color\n",
    "    b_color_list = 5 * [\"black\"]\n",
    "    notes_i = df_i[\"notes\"].tolist()\n",
    "\n",
    "    sys_i = df_i[\"system\"].iloc[0]\n",
    "    if sys_i == \"Fe_slab\":\n",
    "#         b_color = \"rgb(0,255,0)\"\n",
    "        b_color = \"#6600CC\"\n",
    "    elif sys_i == \"graphene\":\n",
    "        b_color =  \"black\"\n",
    "    elif sys_i == \"graph_Fe\":\n",
    "        b_color =  \"brown\"\n",
    "    elif sys_i == \"N_graph_Fe\":\n",
    "        b_color =  \"red\"\n",
    "            \n",
    "    data = go.Bar(\n",
    "        x=df_i[\"adsorbate\"],\n",
    "        y=df_i[\"new__\"],\n",
    "        name=str(group_name),\n",
    "#         opacity=[0.3, 0.2, 0.1, 0.6, 1.],\n",
    "        marker=dict(\n",
    "            color=color_list,\n",
    "            line=dict(\n",
    "                color=b_color,\n",
    "                width=3,\n",
    "                )\n",
    "            ),\n",
    "        )\n",
    "\n",
    "    master_data_list = master_data_list + [data]"
   ]
  },
  {
   "cell_type": "code",
   "execution_count": 6,
   "metadata": {},
   "outputs": [
    {
     "name": "stdout",
     "output_type": "stream",
     "text": [
      "Aw, snap! We didn't get a username with your request.\n",
      "\n",
      "Don't have an account? https://plot.ly/api_signup\n",
      "\n",
      "Questions? accounts@plot.ly\n"
     ]
    },
    {
     "ename": "PlotlyError",
     "evalue": "Because you didn't supply a 'file_id' in the call, we're assuming you're trying to snag a figure from a url. You supplied the url, '', we expected it to start with 'https://plot.ly'.\nRun help on this function for more information.",
     "output_type": "error",
     "traceback": [
      "\u001b[0;31m---------------------------------------------------------------------------\u001b[0m",
      "\u001b[0;31mPlotlyError\u001b[0m                               Traceback (most recent call last)",
      "\u001b[0;32m<ipython-input-6-00f97c04e1e6>\u001b[0m in \u001b[0;36m<module>\u001b[0;34m()\u001b[0m\n\u001b[1;32m     31\u001b[0m \u001b[0;34m\u001b[0m\u001b[0m\n\u001b[1;32m     32\u001b[0m \u001b[0mfig\u001b[0m \u001b[0;34m=\u001b[0m \u001b[0mdict\u001b[0m\u001b[0;34m(\u001b[0m\u001b[0mdata\u001b[0m\u001b[0;34m=\u001b[0m\u001b[0mmaster_data_list\u001b[0m\u001b[0;34m,\u001b[0m \u001b[0mlayout\u001b[0m\u001b[0;34m=\u001b[0m\u001b[0mlayout\u001b[0m\u001b[0;34m)\u001b[0m\u001b[0;34m\u001b[0m\u001b[0m\n\u001b[0;32m---> 33\u001b[0;31m \u001b[0mpy\u001b[0m\u001b[0;34m.\u001b[0m\u001b[0miplot\u001b[0m\u001b[0;34m(\u001b[0m\u001b[0mfig\u001b[0m\u001b[0;34m,\u001b[0m \u001b[0mfilename\u001b[0m\u001b[0;34m=\u001b[0m\u001b[0;34m'01_fe_graph/pl_fe_corr_orr'\u001b[0m\u001b[0;34m)\u001b[0m\u001b[0;34m\u001b[0m\u001b[0m\n\u001b[0m",
      "\u001b[0;32m~/anaconda2/envs/py36/lib/python3.6/site-packages/plotly/plotly/plotly.py\u001b[0m in \u001b[0;36miplot\u001b[0;34m(figure_or_data, **plot_options)\u001b[0m\n\u001b[1;32m    162\u001b[0m         \u001b[0membed_options\u001b[0m\u001b[0;34m[\u001b[0m\u001b[0;34m'height'\u001b[0m\u001b[0;34m]\u001b[0m \u001b[0;34m=\u001b[0m \u001b[0mstr\u001b[0m\u001b[0;34m(\u001b[0m\u001b[0membed_options\u001b[0m\u001b[0;34m[\u001b[0m\u001b[0;34m'height'\u001b[0m\u001b[0;34m]\u001b[0m\u001b[0;34m)\u001b[0m \u001b[0;34m+\u001b[0m \u001b[0;34m'px'\u001b[0m\u001b[0;34m\u001b[0m\u001b[0m\n\u001b[1;32m    163\u001b[0m \u001b[0;34m\u001b[0m\u001b[0m\n\u001b[0;32m--> 164\u001b[0;31m     \u001b[0;32mreturn\u001b[0m \u001b[0mtools\u001b[0m\u001b[0;34m.\u001b[0m\u001b[0membed\u001b[0m\u001b[0;34m(\u001b[0m\u001b[0murl\u001b[0m\u001b[0;34m,\u001b[0m \u001b[0;34m**\u001b[0m\u001b[0membed_options\u001b[0m\u001b[0;34m)\u001b[0m\u001b[0;34m\u001b[0m\u001b[0m\n\u001b[0m\u001b[1;32m    165\u001b[0m \u001b[0;34m\u001b[0m\u001b[0m\n\u001b[1;32m    166\u001b[0m \u001b[0;34m\u001b[0m\u001b[0m\n",
      "\u001b[0;32m~/anaconda2/envs/py36/lib/python3.6/site-packages/plotly/tools.py\u001b[0m in \u001b[0;36membed\u001b[0;34m(file_owner_or_url, file_id, width, height)\u001b[0m\n\u001b[1;32m    394\u001b[0m         \u001b[0;32melse\u001b[0m\u001b[0;34m:\u001b[0m\u001b[0;34m\u001b[0m\u001b[0m\n\u001b[1;32m    395\u001b[0m             \u001b[0murl\u001b[0m \u001b[0;34m=\u001b[0m \u001b[0mfile_owner_or_url\u001b[0m\u001b[0;34m\u001b[0m\u001b[0m\n\u001b[0;32m--> 396\u001b[0;31m         \u001b[0;32mreturn\u001b[0m \u001b[0mPlotlyDisplay\u001b[0m\u001b[0;34m(\u001b[0m\u001b[0murl\u001b[0m\u001b[0;34m,\u001b[0m \u001b[0mwidth\u001b[0m\u001b[0;34m,\u001b[0m \u001b[0mheight\u001b[0m\u001b[0;34m)\u001b[0m\u001b[0;34m\u001b[0m\u001b[0m\n\u001b[0m\u001b[1;32m    397\u001b[0m     \u001b[0;32melse\u001b[0m\u001b[0;34m:\u001b[0m\u001b[0;34m\u001b[0m\u001b[0m\n\u001b[1;32m    398\u001b[0m         if (get_config_defaults()['plotly_domain']\n",
      "\u001b[0;32m~/anaconda2/envs/py36/lib/python3.6/site-packages/plotly/tools.py\u001b[0m in \u001b[0;36m__init__\u001b[0;34m(self, url, width, height)\u001b[0m\n\u001b[1;32m   1438\u001b[0m         \u001b[0;32mdef\u001b[0m \u001b[0m__init__\u001b[0m\u001b[0;34m(\u001b[0m\u001b[0mself\u001b[0m\u001b[0;34m,\u001b[0m \u001b[0murl\u001b[0m\u001b[0;34m,\u001b[0m \u001b[0mwidth\u001b[0m\u001b[0;34m,\u001b[0m \u001b[0mheight\u001b[0m\u001b[0;34m)\u001b[0m\u001b[0;34m:\u001b[0m\u001b[0;34m\u001b[0m\u001b[0m\n\u001b[1;32m   1439\u001b[0m             \u001b[0mself\u001b[0m\u001b[0;34m.\u001b[0m\u001b[0mresource\u001b[0m \u001b[0;34m=\u001b[0m \u001b[0murl\u001b[0m\u001b[0;34m\u001b[0m\u001b[0m\n\u001b[0;32m-> 1440\u001b[0;31m             \u001b[0mself\u001b[0m\u001b[0;34m.\u001b[0m\u001b[0membed_code\u001b[0m \u001b[0;34m=\u001b[0m \u001b[0mget_embed\u001b[0m\u001b[0;34m(\u001b[0m\u001b[0murl\u001b[0m\u001b[0;34m,\u001b[0m \u001b[0mwidth\u001b[0m\u001b[0;34m=\u001b[0m\u001b[0mwidth\u001b[0m\u001b[0;34m,\u001b[0m \u001b[0mheight\u001b[0m\u001b[0;34m=\u001b[0m\u001b[0mheight\u001b[0m\u001b[0;34m)\u001b[0m\u001b[0;34m\u001b[0m\u001b[0m\n\u001b[0m\u001b[1;32m   1441\u001b[0m             \u001b[0msuper\u001b[0m\u001b[0;34m(\u001b[0m\u001b[0mPlotlyDisplay\u001b[0m\u001b[0;34m,\u001b[0m \u001b[0mself\u001b[0m\u001b[0;34m)\u001b[0m\u001b[0;34m.\u001b[0m\u001b[0m__init__\u001b[0m\u001b[0;34m(\u001b[0m\u001b[0mdata\u001b[0m\u001b[0;34m=\u001b[0m\u001b[0mself\u001b[0m\u001b[0;34m.\u001b[0m\u001b[0membed_code\u001b[0m\u001b[0;34m)\u001b[0m\u001b[0;34m\u001b[0m\u001b[0m\n\u001b[1;32m   1442\u001b[0m \u001b[0;34m\u001b[0m\u001b[0m\n",
      "\u001b[0;32m~/anaconda2/envs/py36/lib/python3.6/site-packages/plotly/tools.py\u001b[0m in \u001b[0;36mget_embed\u001b[0;34m(file_owner_or_url, file_id, width, height)\u001b[0m\n\u001b[1;32m    299\u001b[0m                 \u001b[0;34m\"'{1}'.\"\u001b[0m\u001b[0;34m\u001b[0m\u001b[0m\n\u001b[1;32m    300\u001b[0m                 \u001b[0;34m\"\\nRun help on this function for more information.\"\u001b[0m\u001b[0;34m\u001b[0m\u001b[0m\n\u001b[0;32m--> 301\u001b[0;31m                 \"\".format(url, plotly_rest_url))\n\u001b[0m\u001b[1;32m    302\u001b[0m         \u001b[0murlsplit\u001b[0m \u001b[0;34m=\u001b[0m \u001b[0msix\u001b[0m\u001b[0;34m.\u001b[0m\u001b[0mmoves\u001b[0m\u001b[0;34m.\u001b[0m\u001b[0murllib\u001b[0m\u001b[0;34m.\u001b[0m\u001b[0mparse\u001b[0m\u001b[0;34m.\u001b[0m\u001b[0murlparse\u001b[0m\u001b[0;34m(\u001b[0m\u001b[0murl\u001b[0m\u001b[0;34m)\u001b[0m\u001b[0;34m\u001b[0m\u001b[0m\n\u001b[1;32m    303\u001b[0m         \u001b[0mfile_owner\u001b[0m \u001b[0;34m=\u001b[0m \u001b[0murlsplit\u001b[0m\u001b[0;34m.\u001b[0m\u001b[0mpath\u001b[0m\u001b[0;34m.\u001b[0m\u001b[0msplit\u001b[0m\u001b[0;34m(\u001b[0m\u001b[0;34m'/'\u001b[0m\u001b[0;34m)\u001b[0m\u001b[0;34m[\u001b[0m\u001b[0;36m1\u001b[0m\u001b[0;34m]\u001b[0m\u001b[0;34m.\u001b[0m\u001b[0msplit\u001b[0m\u001b[0;34m(\u001b[0m\u001b[0;34m'~'\u001b[0m\u001b[0;34m)\u001b[0m\u001b[0;34m[\u001b[0m\u001b[0;36m1\u001b[0m\u001b[0;34m]\u001b[0m\u001b[0;34m\u001b[0m\u001b[0m\n",
      "\u001b[0;31mPlotlyError\u001b[0m: Because you didn't supply a 'file_id' in the call, we're assuming you're trying to snag a figure from a url. You supplied the url, '', we expected it to start with 'https://plot.ly'.\nRun help on this function for more information."
     ]
    }
   ],
   "source": [
    "# Plotting\n",
    "layout = dict(\n",
    "    title = 'Free-energy Corrections',\n",
    "#     xaxis=dict(\n",
    "#         title=\"ORR Species\",\n",
    "#         ),\n",
    "    yaxis=dict(\n",
    "        title=\"Free-energy Correction [eV]\",\n",
    "        ),\n",
    "\n",
    "    barmode=\"group\",\n",
    "#     bargap=0.25,\n",
    "    bargap=0.2,\n",
    "    bargroupgap=0.4,\n",
    "\n",
    "    legend=dict(\n",
    "#         x=0.3,\n",
    "#         y=0.,\n",
    "        traceorder='normal',\n",
    "        orientation=\"h\",\n",
    "        font=dict(\n",
    "#             family='sans-serif',\n",
    "            size=8,\n",
    "#             color='#000'\n",
    "        ),\n",
    "#         bgcolor='#E2E2E2',\n",
    "#         bordercolor='#FFFFFF',\n",
    "        borderwidth=1\n",
    "        ),\n",
    "    )   \n",
    "\n",
    "fig = dict(data=master_data_list, layout=layout)\n",
    "py.iplot(fig, filename='01_fe_graph/pl_fe_corr_orr')"
   ]
  },
  {
   "cell_type": "code",
   "execution_count": null,
   "metadata": {},
   "outputs": [],
   "source": [
    "grouped = df_master.groupby([\"adsorbate\"])\n",
    "for group_i in grouped:\n",
    "    group_name = group_i[0]\n",
    "    df_i = group_i[1]\n",
    "    \n",
    "    df_i = df_i[df_i[\"notes\"] != \"Dissociated\"]\n",
    "    df_i = df_i[df_i[\"notes\"] != \"Desorbed\"]\n",
    "    df_i = df_i[np.isfinite(df_i['new__'])]\n",
    "    df_i = df_i[df_i[\"gibbs_correction\"] != 0.]\n",
    "\n",
    "    mean_fe_corr_i = df_i[\"new__\"].mean()\n",
    "    \n",
    "    print(group_name, \":\", str(mean_fe_corr_i))"
   ]
  },
  {
   "cell_type": "markdown",
   "metadata": {},
   "source": [
    "The equation used depends on whether the the value of  \n",
    "$V_{max}$ is R, G, or B.  \n",
    "\n",
    "$$H←  ​​​​​0 ​+​ \\frac{​​30(G−B)​​}{Vmax−Vmin}  ​​, if V​max​​ = R$$\n",
    "\n",
    "$$c = \\sqrt{a^2 + b^2}$$"
   ]
  },
  {
   "cell_type": "code",
   "execution_count": null,
   "metadata": {},
   "outputs": [],
   "source": [
    "%%latex\n",
    "\n",
    "\\section{First section}\n",
    "\\textbf{Hello}\n",
    "\n",
    "\n",
    "\\begin{equation} \n",
    "c = \\sqrt{a^2 + b^2}\n",
    "\\end{equation}\n",
    "\n",
    "\n",
    "\\begin{itemize}\n",
    "\\item First item\n",
    "\\item Second item\n",
    "\\end{itemize}\n",
    "\\textbf{World}"
   ]
  }
 ],
 "metadata": {
  "kernelspec": {
   "display_name": "Python 3",
   "language": "python",
   "name": "python3"
  },
  "language_info": {
   "codemirror_mode": {
    "name": "ipython",
    "version": 3
   },
   "file_extension": ".py",
   "mimetype": "text/x-python",
   "name": "python",
   "nbconvert_exporter": "python",
   "pygments_lexer": "ipython3",
   "version": "3.6.5"
  }
 },
 "nbformat": 4,
 "nbformat_minor": 2
}
