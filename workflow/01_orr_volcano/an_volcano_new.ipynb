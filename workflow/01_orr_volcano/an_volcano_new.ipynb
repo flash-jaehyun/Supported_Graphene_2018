{
 "cells": [
  {
   "cell_type": "markdown",
   "metadata": {},
   "source": [
    "# Iron Supported, Nitrogen-doped, Graphene (And Related Systems) <a name=\"head\"></a>\n",
    "***"
   ]
  },
  {
   "cell_type": "markdown",
   "metadata": {},
   "source": [
    "# Import Modules <a name=\"import-modules\"></a>"
   ]
  },
  {
   "cell_type": "code",
   "execution_count": 1,
   "metadata": {},
   "outputs": [],
   "source": [
    "%%capture\n",
    "%load_ext autoreload\n",
    "%autoreload 2"
   ]
  },
  {
   "cell_type": "code",
   "execution_count": 2,
   "metadata": {},
   "outputs": [
    {
     "name": "stdout",
     "output_type": "stream",
     "text": [
      "Divisor is Energy class instance!!!\n"
     ]
    }
   ],
   "source": [
    "# Setting Custom Paths ********************************************************\n",
    "# *****************************************************************************\n",
    "import os\n",
    "import sys\n",
    "\n",
    "sys.path.insert(\n",
    "    0, os.path.join(\n",
    "        os.environ[\"PROJ_fe_graph\"],\n",
    "        \"data\"))\n",
    "\n",
    "sys.path.insert(\n",
    "    0, os.path.join(\n",
    "        os.environ[\"PROJ_fe_graph\"],\n",
    "        \"workflow\"))\n",
    "\n",
    "\n",
    "# Python Modules***************************************************************\n",
    "# *****************************************************************************\n",
    "import pandas as pd\n",
    "import numpy as np\n",
    "\n",
    "import plotly.graph_objs as go\n",
    "import plotly.plotly as py\n",
    "\n",
    "# My Modules ******************************************************************\n",
    "# *****************************************************************************\n",
    "from orr_reaction.orr_fed_plot import ORR_Free_E_Plot\n",
    "\n",
    "# Local Imports ***************************************************************\n",
    "# *****************************************************************************\n",
    "from an_data_processing import load_df, load_vegge_data\n",
    "\n",
    "from proj_data_fe_graph import (\n",
    "    proj_dir_name,\n",
    "    system_color_map,\n",
    "    scaling_dict,\n",
    "    scaling_dict_ideal,\n",
    "    gas_molec_dict,\n",
    "    smart_format_dict,   \n",
    "    smart_format_dict_volcano_scaling,\n",
    "    system_color_map_vegge,\n",
    "    )"
   ]
  },
  {
   "cell_type": "markdown",
   "metadata": {
    "toc-hr-collapsed": false
   },
   "source": [
    "# Script Inputs"
   ]
  },
  {
   "cell_type": "code",
   "execution_count": 3,
   "metadata": {},
   "outputs": [],
   "source": [
    "save_plot = True\n",
    "\n",
    "bias = 0.\n",
    "scaling_dict = scaling_dict_ideal\n",
    "\n",
    "smart_format_dict = smart_format_dict_volcano_scaling"
   ]
  },
  {
   "cell_type": "markdown",
   "metadata": {},
   "source": [
    "# Load Data"
   ]
  },
  {
   "cell_type": "code",
   "execution_count": 4,
   "metadata": {},
   "outputs": [],
   "source": [
    "%%capture\n",
    "\n",
    "# My DFT data\n",
    "df_m = load_df(\n",
    "    from_file=False,\n",
    "    root_dir=os.path.join(\n",
    "        os.environ[\"PROJ_fe_graph\"],\n",
    "        \"workflow/adsorption_study\"),\n",
    "    filter_columns=[\n",
    "        \"pdos_data\",\n",
    "        \"charge_history\",\n",
    "        \"magmom_history\",\n",
    "        ],\n",
    "    )\n",
    "\n",
    "# Vegge ACS paper data\n",
    "df_vegge = load_vegge_data(\n",
    "    ads_e_mode=\"w_solvent_correction\",\n",
    "    )"
   ]
  },
  {
   "cell_type": "markdown",
   "metadata": {},
   "source": [
    "# Instantiate the ORR_Free_E_Plot Instance"
   ]
  },
  {
   "cell_type": "code",
   "execution_count": 5,
   "metadata": {},
   "outputs": [],
   "source": [
    "ORR_PLT = ORR_Free_E_Plot(\n",
    "    free_energy_df=None,\n",
    "    state_title=\"adsorbate\",\n",
    "    free_e_title=\"ads_e\", \n",
    "    smart_format=None,\n",
    "    bias=bias,\n",
    "    color_list=None,   \n",
    "    show_H_e_pairs_annotations=True,\n",
    "    show_legend=True,\n",
    "    rxn_type=\"ORR\",\n",
    "    )"
   ]
  },
  {
   "cell_type": "markdown",
   "metadata": {},
   "source": [
    "# Picking the Lowest Energy States"
   ]
  },
  {
   "cell_type": "code",
   "execution_count": 6,
   "metadata": {},
   "outputs": [],
   "source": [
    "group_params = [\"system\", \"spinpol\", \"graph_site\"]\n",
    "grouped = df_m.groupby(group_params)\n",
    "\n",
    "lowest_energy_list = []\n",
    "for i_ind, (name, group) in enumerate(grouped):\n",
    "    df_i = group\n",
    "\n",
    "    for j_cnt, df_j in df_i.groupby(\"adsorbate\"):\n",
    "        series_j = df_j.loc[df_j[\"ads_e\"].idxmin()]\n",
    "        lowest_energy_list.append(series_j)\n",
    "\n",
    "df_2 = pd.concat(lowest_energy_list, axis=1, keys=[s.name for s in lowest_energy_list]).T"
   ]
  },
  {
   "cell_type": "markdown",
   "metadata": {},
   "source": [
    "# Adding ORR data series"
   ]
  },
  {
   "cell_type": "code",
   "execution_count": 7,
   "metadata": {},
   "outputs": [],
   "source": [
    "prop_name_list = [\n",
    "    \"author_short\",\n",
    "    \"system\",\n",
    "    \"spinpol\",\n",
    "    \"site\",\n",
    "    \"graph_site\",\n",
    "     ]\n",
    "\n",
    "grouped = df_2.groupby(group_params)\n",
    "for i_ind, (name, df_i) in enumerate(grouped):\n",
    "#     system_i = \"_\".join([\n",
    "#         str(df_i.iloc[0][\"system\"]),\n",
    "#         str(df_i.iloc[0][\"spinpol\"]),\n",
    "#         str(df_i.iloc[0][\"graph_site\"]),\n",
    "#         ])\n",
    "\n",
    "#     color_i = system_color_map.get(system_i, \"pink\")\n",
    "\n",
    "    ORR_PLT.add_series(\n",
    "        df_i,\n",
    "        plot_mode=\"all\",\n",
    "        group=\"norskov\",\n",
    "        overpotential_type=\"ORR\",\n",
    "        property_key_list=prop_name_list,\n",
    "#         color=color_i,\n",
    "        )"
   ]
  },
  {
   "cell_type": "markdown",
   "metadata": {},
   "source": [
    "# Processing Vegge Data"
   ]
  },
  {
   "cell_type": "code",
   "execution_count": 8,
   "metadata": {},
   "outputs": [],
   "source": [
    "prop_name_list = [\n",
    "    \"author_short\",\n",
    "    \"system\",\n",
    "    \"n_per_ads\",\n",
    "    \"graphene_layers\",\n",
    "     ]\n",
    "\n",
    "group_params = [\n",
    "    \"system\",\n",
    "    \"n_per_ads\",\n",
    "    \"graphene_layers\",\n",
    "    ]\n",
    "\n",
    "grouped = df_vegge.groupby(group_params)\n",
    "for i_ind, (name, df_i) in enumerate(grouped):\n",
    "\n",
    "#     system_i = \"_\".join([\n",
    "#         str(df_i.iloc[0][\"system\"]),\n",
    "#         str(df_i.iloc[0][\"n_per_ads\"]),\n",
    "#         str(df_i.iloc[0][\"graphene_layers\"])])\n",
    "\n",
    "    ORR_PLT.add_series(\n",
    "        df_i, plot_mode=\"all\", group=\"vegge\",\n",
    "        overpotential_type=\"ORR\",\n",
    "        property_key_list=prop_name_list,\n",
    "#         color=system_color_map_vegge[system_i],\n",
    "        )"
   ]
  },
  {
   "cell_type": "markdown",
   "metadata": {},
   "source": [
    "# Plotting"
   ]
  },
  {
   "cell_type": "code",
   "execution_count": 9,
   "metadata": {},
   "outputs": [],
   "source": [
    "from orr_reaction.orr_fed_plot import Volcano_Plot\n",
    "\n",
    "VP = Volcano_Plot(\n",
    "    ORR_PLT,\n",
    "    x_ax_species=\"oh\",\n",
    "    smart_format_dict=smart_format_dict,\n",
    "    )\n",
    "\n",
    "VP.create_volcano_relations_plot()\n",
    "\n",
    "volcano_legs_data = VP.create_volcano_lines(\n",
    "    gas_molec_dict=gas_molec_dict,\n",
    "    scaling_dict=scaling_dict,\n",
    "\n",
    "    plot_all_legs=False,\n",
    "    plot_min_max_legs=True,\n",
    "    )"
   ]
  },
  {
   "cell_type": "code",
   "execution_count": 10,
   "metadata": {},
   "outputs": [],
   "source": [
    "if save_plot:\n",
    "    save_dir = proj_dir_name\n",
    "else:\n",
    "    save_dir = \"__temp__\""
   ]
  },
  {
   "cell_type": "markdown",
   "metadata": {},
   "source": [
    "## Figure with Legend"
   ]
  },
  {
   "cell_type": "code",
   "execution_count": 11,
   "metadata": {},
   "outputs": [
    {
     "data": {
      "text/html": [
       "<iframe id=\"igraph\" scrolling=\"no\" style=\"border:none;\" seamless=\"seamless\" src=\"https://plot.ly/~flores12/597.embed\" height=\"1734.8031496269px\" width=\"1122.5196850527px\"></iframe>"
      ],
      "text/plain": [
       "<plotly.tools.PlotlyDisplay object>"
      ]
     },
     "execution_count": 11,
     "metadata": {},
     "output_type": "execute_result"
    }
   ],
   "source": [
    "layout = VP.get_plotly_layout(\n",
    "    showlegend=True,\n",
    "    width=3.3 * 9. * 37.795275591,\n",
    "    height=5.1 * 9. * 37.795275591,\n",
    "    )\n",
    "\n",
    "py.iplot(\n",
    "    {\n",
    "        \"data\": VP.data_points + volcano_legs_data,\n",
    "        \"layout\": layout,\n",
    "        },\n",
    "    filename=os.path.join(\n",
    "        save_dir,\n",
    "        \"orr_volcano\",\n",
    "        \"orr_volcano_yes_legend_large\",\n",
    "        ),\n",
    "\n",
    "    )"
   ]
  },
  {
   "cell_type": "markdown",
   "metadata": {},
   "source": [
    "## Figure without Legend"
   ]
  },
  {
   "cell_type": "code",
   "execution_count": 12,
   "metadata": {},
   "outputs": [
    {
     "data": {
      "text/html": [
       "<iframe id=\"igraph\" scrolling=\"no\" style=\"border:none;\" seamless=\"seamless\" src=\"https://plot.ly/~flores12/599.embed\" height=\"317.4916535470773px\" width=\"451.50236221008606px\"></iframe>"
      ],
      "text/plain": [
       "<plotly.tools.PlotlyDisplay object>"
      ]
     },
     "execution_count": 12,
     "metadata": {},
     "output_type": "execute_result"
    }
   ],
   "source": [
    "layout_override_dict = {\n",
    "    \"yaxis\": {\n",
    "        \"dtick\": 0.4,\n",
    "        },\n",
    "    \n",
    "    \"xaxis\": {\n",
    "        \"dtick\": 0.4,\n",
    "        },\n",
    "    }\n",
    "\n",
    "layout = VP.get_plotly_layout(\n",
    "    showlegend=False,\n",
    "    width=1.5 * 7.964 * 37.795275591,\n",
    "    height=1.5 * 5.6002 * 37.795275591,    \n",
    "    layout_dict=layout_override_dict,\n",
    "    )\n",
    "\n",
    "py.iplot(\n",
    "    {\n",
    "        \"data\": VP.data_points + volcano_legs_data,\n",
    "        \"layout\": layout,\n",
    "        },\n",
    "    filename=os.path.join(\n",
    "        save_dir,\n",
    "        \"orr_volcano\",\n",
    "        \"orr_volcano_no_legend__main\",\n",
    "        ),\n",
    "    )"
   ]
  },
  {
   "cell_type": "raw",
   "metadata": {},
   "source": [
    "\n",
    "\n",
    "\n",
    "\n",
    "\n"
   ]
  },
  {
   "cell_type": "code",
   "execution_count": 13,
   "metadata": {},
   "outputs": [],
   "source": [
    "# import os\n",
    "# import sys\n",
    "\n",
    "# sys.path.insert(\n",
    "#     0,\n",
    "#     os.path.join(\n",
    "#         os.environ[\"PROJ_fe_graph\"],\n",
    "#         \"data\",\n",
    "#         ),\n",
    "#     )"
   ]
  }
 ],
 "metadata": {
  "kernelspec": {
   "display_name": "Python 3",
   "language": "python",
   "name": "python3"
  },
  "language_info": {
   "codemirror_mode": {
    "name": "ipython",
    "version": 3
   },
   "file_extension": ".py",
   "mimetype": "text/x-python",
   "name": "python",
   "nbconvert_exporter": "python",
   "pygments_lexer": "ipython3",
   "version": "3.6.7"
  }
 },
 "nbformat": 4,
 "nbformat_minor": 2
}
