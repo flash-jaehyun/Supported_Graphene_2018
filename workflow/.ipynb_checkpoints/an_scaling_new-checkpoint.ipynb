{
 "cells": [
  {
   "cell_type": "markdown",
   "metadata": {},
   "source": [
    "# Scaling Relations for Supported Graphene Project\n",
    "***"
   ]
  },
  {
   "cell_type": "markdown",
   "metadata": {
    "toc-hr-collapsed": true
   },
   "source": [
    "# Notebook Setup"
   ]
  },
  {
   "cell_type": "markdown",
   "metadata": {},
   "source": [
    "## Import Modules"
   ]
  },
  {
   "cell_type": "code",
   "execution_count": 1,
   "metadata": {},
   "outputs": [],
   "source": [
    "%%capture\n",
    "%load_ext autoreload\n",
    "%autoreload 2\n",
    "\n",
    "# Setting Custom Paths ********************************************************\n",
    "# *****************************************************************************\n",
    "import os\n",
    "import sys\n",
    "\n",
    "sys.path.insert(0, os.path.join(\n",
    "        os.environ[\"PROJ_fe_graph\"],\n",
    "        \"data\"))\n",
    "\n",
    "# Python Modules **************************************************************\n",
    "# *****************************************************************************\n",
    "import numpy as np\n",
    "\n",
    "import plotly.graph_objs as go\n",
    "import plotly.plotly as py\n",
    "\n",
    "\n",
    "# My Modules ******************************************************************\n",
    "# *****************************************************************************\n",
    "from orr_reaction.orr_fed_plot import ORR_Free_E_Plot, Scaling_Relations_Plot\n",
    "\n",
    "# Local Imports ***************************************************************\n",
    "# *****************************************************************************\n",
    "from an_data_processing import load_df, load_vegge_data\n",
    "\n",
    "from proj_data_fe_graph import (\n",
    "    system_color_map,\n",
    "    smart_format_dict,    \n",
    "    system_color_map_vegge,\n",
    "    smart_format_dict_volcano_scaling,\n",
    "    )"
   ]
  },
  {
   "cell_type": "markdown",
   "metadata": {
    "toc-hr-collapsed": false
   },
   "source": [
    "## Script Inputs"
   ]
  },
  {
   "cell_type": "code",
   "execution_count": 2,
   "metadata": {},
   "outputs": [],
   "source": [
    "save_plot = False\n",
    "\n",
    "smart_format_dict = smart_format_dict_volcano_scaling"
   ]
  },
  {
   "cell_type": "code",
   "execution_count": 3,
   "metadata": {},
   "outputs": [
    {
     "data": {
      "text/plain": [
       "[[{'system': 'Fe_slab'}, {'color2': '#b94663'}],\n",
       " [{'system': 'N_graph_Fe'}, {'color2': '#6fac5d'}],\n",
       " [{'system': 'graph_Fe'}, {'color2': '#bc7d39'}],\n",
       " [{'system': 'graphene'}, {'color2': '#697ed5'}],\n",
       " [{'system': 'N_graph'}, {'color2': '#000000'}],\n",
       " [{'author_short': 'vegge'}, {'symbol': 'circle'}],\n",
       " [{'author_short': 'norskov'}, {'symbol': 'triangle-up'}]]"
      ]
     },
     "execution_count": 3,
     "metadata": {},
     "output_type": "execute_result"
    }
   ],
   "source": [
    "smart_format_dict"
   ]
  },
  {
   "cell_type": "markdown",
   "metadata": {
    "toc-hr-collapsed": true
   },
   "source": [
    "# Load Data"
   ]
  },
  {
   "cell_type": "markdown",
   "metadata": {},
   "source": [
    "## Norskov DFT Data"
   ]
  },
  {
   "cell_type": "code",
   "execution_count": 4,
   "metadata": {},
   "outputs": [],
   "source": [
    "%%capture\n",
    "df_m = load_df(\n",
    "    from_file=False,\n",
    "    root_dir=os.path.join(\n",
    "        os.environ[\"PROJ_fe_graph\"],\n",
    "        \"workflow/adsorption_study\"),\n",
    "    filter_columns=[\n",
    "        \"pdos_data\",\n",
    "        \"charge_history\",\n",
    "        \"magmom_history\",\n",
    "        ],\n",
    "    )"
   ]
  },
  {
   "cell_type": "markdown",
   "metadata": {},
   "source": [
    "## Vegge DFT Data"
   ]
  },
  {
   "cell_type": "code",
   "execution_count": 5,
   "metadata": {},
   "outputs": [],
   "source": [
    "from an_data_processing import load_vegge_data\n",
    "\n",
    "df_vegge = load_vegge_data()"
   ]
  },
  {
   "cell_type": "markdown",
   "metadata": {},
   "source": [
    "# Instantiate the ORR_Free_E_Plot Instance"
   ]
  },
  {
   "cell_type": "code",
   "execution_count": 6,
   "metadata": {},
   "outputs": [],
   "source": [
    "ORR_PLT = ORR_Free_E_Plot(\n",
    "    free_energy_df=None,\n",
    "    smart_format=smart_format_dict,\n",
    "    bias=0.,\n",
    "    color_list=None,   \n",
    "    show_H_e_pairs_annotations=True,\n",
    "    show_legend=True,\n",
    "    rxn_type=\"ORR\",\n",
    "    )"
   ]
  },
  {
   "cell_type": "markdown",
   "metadata": {
    "toc-hr-collapsed": true
   },
   "source": [
    "# Process ORR Adsorbate Data"
   ]
  },
  {
   "cell_type": "markdown",
   "metadata": {},
   "source": [
    "## Norskov Data (Mine)"
   ]
  },
  {
   "cell_type": "code",
   "execution_count": 7,
   "metadata": {},
   "outputs": [
    {
     "name": "stdout",
     "output_type": "stream",
     "text": [
      "There is a nan in the energy dict!!!\n",
      "*OOH energy set by *OH and standard scaling\n",
      "There is a nan in the energy dict!!!\n",
      "*OH energy set by *OOH and standard scaling\n"
     ]
    }
   ],
   "source": [
    "prop_name_list = [\n",
    "    \"author_short\",\n",
    "    \"system\",\n",
    "    \"site\",\n",
    "    \"spinpol\",\n",
    "    ]\n",
    "\n",
    "grouped = df_m.groupby([    \n",
    "    \"system\",\n",
    "    \"site\",\n",
    "    \"spinpol\",\n",
    "    ])\n",
    "\n",
    "for i_ind, (name, df_i) in enumerate(grouped):\n",
    "\n",
    "    ORR_PLT.add_series(\n",
    "        df_i,\n",
    "        plot_mode=\"all\",\n",
    "        overpotential_type=\"OER\",\n",
    "        property_key_list=prop_name_list,\n",
    "        add_overpot=False,\n",
    "        )"
   ]
  },
  {
   "cell_type": "markdown",
   "metadata": {},
   "source": [
    "## Vegge ACS Data"
   ]
  },
  {
   "cell_type": "code",
   "execution_count": 8,
   "metadata": {},
   "outputs": [],
   "source": [
    "prop_name_list = [\n",
    "    \"author_short\",\n",
    "    \"system\",\n",
    "    \"n_per_ads\",\n",
    "    \"graphene_layers\",\n",
    "     ]\n",
    "\n",
    "group_params = [\n",
    "    \"system\",\n",
    "    \"n_per_ads\",\n",
    "    \"graphene_layers\",\n",
    "    ]\n",
    "\n",
    "grouped = df_vegge.groupby(group_params)\n",
    "for i_ind, (name, df_i) in enumerate(grouped):\n",
    "    system_i = \"_\".join([\n",
    "        str(df_i.iloc[0][\"system\"]),\n",
    "        str(df_i.iloc[0][\"n_per_ads\"]),\n",
    "        str(df_i.iloc[0][\"graphene_layers\"])])\n",
    "\n",
    "    ORR_PLT.add_series(\n",
    "        df_i, plot_mode=\"all\", group=\"vegge\",\n",
    "        overpotential_type=\"ORR\",\n",
    "        property_key_list=prop_name_list,\n",
    "        color=system_color_map_vegge[system_i])"
   ]
  },
  {
   "cell_type": "markdown",
   "metadata": {
    "toc-hr-collapsed": true
   },
   "source": [
    "# Scaling Relations Class"
   ]
  },
  {
   "cell_type": "markdown",
   "metadata": {},
   "source": [
    "## Instantiate Scaling Relations Instance"
   ]
  },
  {
   "cell_type": "code",
   "execution_count": 9,
   "metadata": {},
   "outputs": [
    {
     "name": "stdout",
     "output_type": "stream",
     "text": [
      "Scaling fit for  ooh\n",
      "intercept_i:  2.9656556003184003\n",
      "slope_i:  0.9472885639544626\n",
      "\n",
      "Scaling fit for  o\n",
      "intercept_i:  0.9847129730494084\n",
      "slope_i:  1.163037989852519\n",
      "\n"
     ]
    }
   ],
   "source": [
    "SC_PLT = Scaling_Relations_Plot(\n",
    "    ORR_PLT,\n",
    "    plot_range={\n",
    "        \"y\": [0., 6.],\n",
    "        \"x\": [-0.3, 3.5]})\n",
    "    \n",
    "slope_intercept_dict_ooh = SC_PLT.fit_scaling_lines(\"ooh\")\n",
    "slope_intercept_dict_o = SC_PLT.fit_scaling_lines(\"o\")"
   ]
  },
  {
   "cell_type": "markdown",
   "metadata": {},
   "source": [
    "## Add Fit Scaling Lines"
   ]
  },
  {
   "cell_type": "code",
   "execution_count": 10,
   "metadata": {},
   "outputs": [],
   "source": [
    "SC_PLT.add_line(slope_intercept_dict_ooh,\n",
    "    name=\"*OOH vs *OH Scaling\",\n",
    "    color=\"orange\",\n",
    "    width=1,\n",
    "    dash=\"solid\",\n",
    "    )\n",
    "\n",
    "SC_PLT.add_line(slope_intercept_dict_o,\n",
    "    name=\"*O vs *OH Scaling\",\n",
    "    color=\"red\",\n",
    "    width=1,\n",
    "    dash=\"solid\",\n",
    "    )"
   ]
  },
  {
   "cell_type": "markdown",
   "metadata": {},
   "source": [
    "## Add ideal scaling, create plot traces, and collect data"
   ]
  },
  {
   "cell_type": "code",
   "execution_count": 11,
   "metadata": {},
   "outputs": [],
   "source": [
    "SC_PLT.add_ideal_lines()\n",
    "\n",
    "SC_PLT.create_scaling_relations_plot(\n",
    "    smart_format_dict=smart_format_dict,\n",
    "    )\n",
    "\n",
    "data_m = SC_PLT.data_points[\"ooh_vs_oh\"] + \\\n",
    "    SC_PLT.data_points[\"o_vs_oh\"] + \\\n",
    "    SC_PLT.data_points[\"oh_vs_oh\"] + \\\n",
    "    SC_PLT.data_lines"
   ]
  },
  {
   "cell_type": "markdown",
   "metadata": {
    "toc-hr-collapsed": true
   },
   "source": [
    "# Plotting"
   ]
  },
  {
   "cell_type": "markdown",
   "metadata": {},
   "source": [
    "## Plot Layout Settings"
   ]
  },
  {
   "cell_type": "code",
   "execution_count": 12,
   "metadata": {},
   "outputs": [],
   "source": [
    "tick_lab_size = 8 * (4. / 3.)\n",
    "axes_lab_size = 9 * (4. / 3.)\n",
    "\n",
    "layout_override = {\n",
    "\n",
    "    \"width\": 1.5 * 7.964 * 37.795275591,\n",
    "    \"height\": 1.5 * 5.6002 * 37.795275591,\n",
    "\n",
    "    \"yaxis\": {\n",
    "        \"titlefont\": {\n",
    "            \"size\": axes_lab_size,\n",
    "            },\n",
    "        \"tickfont\": {\n",
    "            \"size\": tick_lab_size,\n",
    "            },\n",
    "        },\n",
    "\n",
    "\n",
    "    \"xaxis\": {\n",
    "        \"titlefont\": {\n",
    "            \"size\": axes_lab_size,\n",
    "            },\n",
    "        \"tickfont\": {\n",
    "            \"size\": tick_lab_size,\n",
    "            },\n",
    "        },\n",
    "    \n",
    "    \"margin\": go.layout.Margin(\n",
    "        b=50.,\n",
    "        l=50.,\n",
    "        r=50.,\n",
    "        t=50.,        \n",
    "        ), \n",
    "    }\n",
    "\n",
    "layout = SC_PLT.__create_layout__(\n",
    "    title=None,\n",
    "    showlegend=False,\n",
    "    layout_dict=layout_override,\n",
    "    )\n",
    "layout[\"annotations\"] = SC_PLT.annotations_list"
   ]
  },
  {
   "cell_type": "markdown",
   "metadata": {},
   "source": [
    "## Make Plot | No Legend/Small"
   ]
  },
  {
   "cell_type": "code",
   "execution_count": 13,
   "metadata": {},
   "outputs": [
    {
     "data": {
      "text/html": [
       "<iframe id=\"igraph\" scrolling=\"no\" style=\"border:none;\" seamless=\"seamless\" src=\"https://plot.ly/~flores12/489.embed\" height=\"317.4916535470773px\" width=\"451.50236221008606px\"></iframe>"
      ],
      "text/plain": [
       "<plotly.tools.PlotlyDisplay object>"
      ]
     },
     "execution_count": 13,
     "metadata": {},
     "output_type": "execute_result"
    }
   ],
   "source": [
    "save_plot = False\n",
    "if save_plot:\n",
    "    save_dir = proj_dir_name\n",
    "else:\n",
    "    save_dir = \"__temp__\"\n",
    "\n",
    "fig = dict(data=data_m, layout=layout)\n",
    "py.iplot(fig, filename=os.path.join(save_dir, \"pl_supp_graph_scaling_relations\"))"
   ]
  },
  {
   "cell_type": "markdown",
   "metadata": {},
   "source": [
    "## Make Plot | w/ Legend/Big"
   ]
  },
  {
   "cell_type": "code",
   "execution_count": 14,
   "metadata": {},
   "outputs": [
    {
     "data": {
      "text/html": [
       "<iframe id=\"igraph\" scrolling=\"no\" style=\"border:none;\" seamless=\"seamless\" src=\"https://plot.ly/~flores12/493.embed\" height=\"846.6444094588728px\" width=\"1354.507086630258px\"></iframe>"
      ],
      "text/plain": [
       "<plotly.tools.PlotlyDisplay object>"
      ]
     },
     "execution_count": 14,
     "metadata": {},
     "output_type": "execute_result"
    }
   ],
   "source": [
    "layout = SC_PLT.__create_layout__(\n",
    "#     x_ax_spec=\"oh\",\n",
    "    title=\"Scaling Relations\",\n",
    "    showlegend=True,\n",
    "    )\n",
    "\n",
    "layout[\"margin\"] = go.layout.Margin(\n",
    "    b=50.,\n",
    "    l=50.,\n",
    "    r=50.,\n",
    "    t=50.,\n",
    "#     pad=20.,\n",
    "    )\n",
    "\n",
    "layout[\"width\"] = 4.5 * 7.964 * 37.795275591\n",
    "# layout[\"height\"] = 5.5 * 5.6002 * 37.795275591\n",
    "layout[\"height\"] = 4. * 5.6002 * 37.795275591\n",
    "\n",
    "layout[\"annotations\"] = SC_PLT.annotations_list\n",
    "\n",
    "\n",
    "save_plot = False\n",
    "if save_plot:\n",
    "    save_dir = proj_dir_name\n",
    "else:\n",
    "    save_dir = \"__temp__\"\n",
    "\n",
    "fig = dict(data=data_m, layout=layout)\n",
    "py.iplot(fig, filename=os.path.join(save_dir, \"pl_supp_graph_scaling_relations_big\"))"
   ]
  },
  {
   "cell_type": "raw",
   "metadata": {},
   "source": [
    "\n",
    "\n",
    "\n",
    "\n",
    "\n",
    "\n",
    "\n",
    "\n",
    "\n",
    "\n",
    "\n",
    "\n"
   ]
  },
  {
   "cell_type": "markdown",
   "metadata": {},
   "source": [
    "# __temp__ ^^^^^^^^^^^^^^^^^^^^"
   ]
  },
  {
   "cell_type": "code",
   "execution_count": 16,
   "metadata": {},
   "outputs": [],
   "source": [
    "# df_m.loc[4].notes\n",
    "\n",
    "# # df1.loc[df1['stream'] == 2, 'feat'] = 10\n",
    "# # df_m.loc[df_m[\"notes\"] == \"\", \"notes_processed\"] = np.nan\n",
    "# # df_m.loc[df_m[\"notes\"] == , \"notes_processed\"] = np.nan\n",
    "\n",
    "# df_m[\"notes_processed\"] = df_m[\"notes\"]\n",
    "# df_m.loc[df_m[\"notes\"] == \"\", \"notes_processed\"] = np.nan\n",
    "\n",
    "\n",
    "# for i_ind, row_i in df_m.iterrows():\n",
    "#     tmp = 42\n",
    "    \n",
    "    "
   ]
  },
  {
   "cell_type": "code",
   "execution_count": 17,
   "metadata": {},
   "outputs": [],
   "source": [
    "# # if row_i[\"notes\"] is not np.nan:\n",
    "# # if \"Reconfig\" in row_i[\"notes\"]:\n",
    "# #     out = \"reconfigured\"\n",
    "# # else:\n",
    "# #     out = row_i[\"notes\"]\n",
    "\n",
    "# def parse_notes(row_i):\n",
    "#     \"\"\"\n",
    "#     \"\"\"\n",
    "#     #| - get_sum_force\n",
    "#     assert \"notes\" in list(row_i.keys()), \"skjfksddf\"\n",
    "#     assert \"notes_processed\" in list(row_i.keys()), \"skjfksddf_2\"\n",
    "    \n",
    "#     if row_i[\"notes_processed\"] is not np.nan:\n",
    "#         if \"Reconfig\" in row_i[\"notes_processed\"]:\n",
    "#             out = \"reconfigured\"\n",
    "#         else:\n",
    "#             out = row_i[\"notes_processed\"]\n",
    "#     else:\n",
    "#         out = row_i[\"notes_processed\"]\n",
    "            \n",
    "#     return(out)\n",
    "#     #__|\n",
    "\n",
    "# df_m[\"notes_processed_tmp\"] = df_m.apply(\n",
    "#     parse_notes,\n",
    "#     axis=1,\n",
    "#     )\n",
    "\n",
    "# df_m[\"notes_processed\"] = df_m[\"notes_processed_tmp\"]\n",
    "\n",
    "\n",
    "# if \"notes_processed_tmp\" in list(df_m.columns):\n",
    "#     df_m.drop(labels=[\"notes_processed_tmp\"], axis=1)"
   ]
  }
 ],
 "metadata": {
  "kernelspec": {
   "display_name": "Python 3",
   "language": "python",
   "name": "python3"
  },
  "language_info": {
   "codemirror_mode": {
    "name": "ipython",
    "version": 3
   },
   "file_extension": ".py",
   "mimetype": "text/x-python",
   "name": "python",
   "nbconvert_exporter": "python",
   "pygments_lexer": "ipython3",
   "version": "3.6.6"
  },
  "toc-autonumbering": true,
  "toc-showcode": false,
  "toc-showmarkdowntxt": false
 },
 "nbformat": 4,
 "nbformat_minor": 2
}
