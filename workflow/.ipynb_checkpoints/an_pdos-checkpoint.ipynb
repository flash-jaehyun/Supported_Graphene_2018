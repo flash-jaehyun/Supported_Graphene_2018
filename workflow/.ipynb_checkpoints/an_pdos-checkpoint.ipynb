{
 "cells": [
  {
   "cell_type": "markdown",
   "metadata": {},
   "source": [
    "# Projected DOS Analysis of Iron-Supported, N-doped Graphene & Related Systems\n",
    "***"
   ]
  },
  {
   "cell_type": "markdown",
   "metadata": {},
   "source": [
    "## Import Modules <a name=\"import-modules\"></a>"
   ]
  },
  {
   "cell_type": "code",
   "execution_count": 1,
   "metadata": {},
   "outputs": [
    {
     "name": "stdout",
     "output_type": "stream",
     "text": [
      "Divisor is Energy class instance!!!\n"
     ]
    }
   ],
   "source": [
    "# iPython Settings\n",
    "%load_ext autoreload\n",
    "%autoreload 2\n",
    "\n",
    "\n",
    "# Python Modules\n",
    "import os\n",
    "import sys\n",
    "sys.path.insert(0, \"..\")\n",
    "\n",
    "import pandas as pd\n",
    "pd.options.mode.chained_assignment = None\n",
    "\n",
    "import plotly.graph_objs as go\n",
    "import plotly as py\n",
    "\n",
    "# py.offline.init_notebook_mode(connected=True)\n",
    "\n",
    "# My Modules ******************************************************************\n",
    "from colors.colors import color_list\n",
    "\n",
    "# Local Imports\n",
    "from an_data_processing import load_df"
   ]
  },
  {
   "cell_type": "code",
   "execution_count": 2,
   "metadata": {},
   "outputs": [],
   "source": [
    "# df_master = load_df(from_file=True, root_dir=\"..\")\n",
    "# df = df_master.copy()\n",
    "# df = df[df[\"system\"] == \"N_graph_Fe\"]\n",
    "# pdos_data = df.iloc[0][\"pdos_data\"]\n",
    "# atoms = df.iloc[0][\"init_atoms\"]"
   ]
  },
  {
   "cell_type": "code",
   "execution_count": 3,
   "metadata": {},
   "outputs": [],
   "source": [
    "# Kevins data | TEMP\n",
    "\n",
    "import pickle\n",
    "from ase import io\n",
    "\n",
    "pdos_data = pickle.load(open(\"dos.pickle\", \"rb\"), encoding=\"latin1\")\n",
    "atoms = io.read(\"init.traj\")\n",
    "\n",
    "\n",
    "\n",
    "from dft_post_analysis.dos import plot_pdos_dos\n",
    "\n",
    "filter_dict = {\n",
    "#     \"type\": [\"sum-up\", \"sum-down\"],\n",
    "#     \"atom_ind\": [6, 7, 8, 9, 10, 11, 12, 13, 14],\n",
    "\n",
    "    \"band\": [\"p\", \"d\"],\n",
    "    \"element\": [\"C\", \"Co\"],\n",
    "#     \"type\": [\"sum\"],\n",
    "    }\n",
    "\n",
    "dos_data, pdos_data, layout = plot_pdos_dos(pdos_data, atoms, filter_dict)\n",
    "# df = plot_pdos_dos(pdos_data, atoms, filter_dict)"
   ]
  },
  {
   "cell_type": "code",
   "execution_count": 4,
   "metadata": {},
   "outputs": [
    {
     "name": "stdout",
     "output_type": "stream",
     "text": [
      "The draw time for this plot will be slow for all clients.\n"
     ]
    },
    {
     "name": "stderr",
     "output_type": "stream",
     "text": [
      "/home/raul_surface/anaconda2/envs/py36/lib/python3.6/site-packages/plotly/api/v1/clientresp.py:40: UserWarning:\n",
      "\n",
      "Estimated Draw Time Too Long\n",
      "\n"
     ]
    },
    {
     "data": {
      "text/html": [
       "<iframe id=\"igraph\" scrolling=\"no\" style=\"border:none;\" seamless=\"seamless\" src=\"https://plot.ly/~flores12/529.embed\" height=\"525px\" width=\"100%\"></iframe>"
      ],
      "text/plain": [
       "<plotly.tools.PlotlyDisplay object>"
      ]
     },
     "execution_count": 4,
     "metadata": {},
     "output_type": "execute_result"
    }
   ],
   "source": [
    "py.plotly.iplot(\n",
    "    {\n",
    "#         \"data\": dos_data,\n",
    "        \"data\": pdos_data,\n",
    "        \"layout\": layout,\n",
    "        },\n",
    "    filename=\"__temp__/pl_graph_co_kevin_pdos\"\n",
    "    )"
   ]
  },
  {
   "cell_type": "raw",
   "metadata": {},
   "source": [
    "\n",
    "\n",
    "\n",
    "\n"
   ]
  },
  {
   "cell_type": "code",
   "execution_count": 5,
   "metadata": {},
   "outputs": [],
   "source": [
    "# from density_of_states.dos import plot_pdos_dos\n",
    "#     pdos_data,\n",
    "#     atoms,\n",
    "#     filter_dict=None,\n",
    "#     group=None,\n",
    "#     e_range=[-6, 3],  # COMBAK\n",
    "#     plot_title=\"Projected Density of States\",\n",
    "# data, layout = plot_pdos_dos(pdos_data, atoms, filter_dict)"
   ]
  }
 ],
 "metadata": {
  "kernelspec": {
   "display_name": "Python 3",
   "language": "python",
   "name": "python3"
  },
  "language_info": {
   "codemirror_mode": {
    "name": "ipython",
    "version": 3
   },
   "file_extension": ".py",
   "mimetype": "text/x-python",
   "name": "python",
   "nbconvert_exporter": "python",
   "pygments_lexer": "ipython3",
   "version": "3.6.5"
  }
 },
 "nbformat": 4,
 "nbformat_minor": 2
}
