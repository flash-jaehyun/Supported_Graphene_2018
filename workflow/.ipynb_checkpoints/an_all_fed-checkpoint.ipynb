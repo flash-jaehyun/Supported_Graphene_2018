{
 "cells": [
  {
   "cell_type": "markdown",
   "metadata": {},
   "source": [
    "# Iron Supported, Nitrogen-doped, Graphene (And Related Systems) <a name=\"head\"></a>\n",
    "***"
   ]
  },
  {
   "cell_type": "markdown",
   "metadata": {},
   "source": [
    "# Import Modules <a name=\"import-modules\"></a>"
   ]
  },
  {
   "cell_type": "code",
   "execution_count": 1,
   "metadata": {},
   "outputs": [],
   "source": [
    "%%capture\n",
    "%load_ext autoreload\n",
    "%autoreload 2\n",
    "\n",
    "# Python Modules\n",
    "import os\n",
    "import sys\n",
    "\n",
    "sys.path.insert(\n",
    "    0,\n",
    "    os.path.join(\n",
    "        os.environ[\"PROJ_fe_graph\"],\n",
    "        \"data\",\n",
    "        ),\n",
    "    )\n",
    "\n",
    "import pandas as pd\n",
    "# pd.options.mode.chained_assignment = None\n",
    "pd.set_option(\"display.max_columns\", None)\n",
    "pd.set_option('display.max_rows', None)\n",
    "\n",
    "import plotly.graph_objs as go\n",
    "import plotly.plotly as py\n",
    "import numpy as np\n",
    "\n",
    "# My Modules ******************************************************************\n",
    "from orr_reaction.orr_fed_plot import ORR_Free_E_Plot, Scaling_Relations_Plot\n",
    "\n",
    "# Local Imports\n",
    "from an_data_processing import load_df\n",
    "from proj_data_fe_graph import proj_dir_name, system_color_map"
   ]
  },
  {
   "cell_type": "markdown",
   "metadata": {},
   "source": [
    "# Script Inputs"
   ]
  },
  {
   "cell_type": "code",
   "execution_count": 2,
   "metadata": {},
   "outputs": [],
   "source": [
    "save_plot = True\n",
    "save_plot = False\n",
    "\n",
    "bias = 0.\n",
    "\n",
    "\n",
    "# Smart Formatting\n",
    "smart_format = [\n",
    "\n",
    "    # [\n",
    "    #     {\"spinpol\": True},\n",
    "    #     {\"dash\": \"dot\"},\n",
    "    #     ],\n",
    "\n",
    "    [\n",
    "        {\"system\": \"Fe_slab\"},\n",
    "        {\"dash\": \"dashdot\"},\n",
    "        ],\n",
    "\n",
    "    [\n",
    "        {\"system\": \"N_graph_Fe\"},\n",
    "        {\"dash\": \"dot\"},\n",
    "        ],\n",
    "\n",
    "    [\n",
    "        {\"system\": \"graph_Fe\"},\n",
    "        {\"dash\": \"dash\"},\n",
    "        ],\n",
    "\n",
    "    [\n",
    "        {\"system\": \"graphene\"},\n",
    "        {\"dash\": None},\n",
    "        ],\n",
    "\n",
    "    ]\n"
   ]
  },
  {
   "cell_type": "code",
   "execution_count": 3,
   "metadata": {},
   "outputs": [],
   "source": [
    "%%capture\n",
    "df_m = load_df(\n",
    "    from_file=False,\n",
    "    root_dir=os.path.join(\n",
    "        os.environ[\"PROJ_fe_graph\"],\n",
    "        \"workflow/adsorption_study\"),\n",
    "    )"
   ]
  },
  {
   "cell_type": "code",
   "execution_count": 4,
   "metadata": {},
   "outputs": [],
   "source": [
    "# df_m[df_m[\"system\"] == \"N_graph\"]"
   ]
  },
  {
   "cell_type": "markdown",
   "metadata": {},
   "source": [
    "# Exlcuding pdos and charge history columns from df"
   ]
  },
  {
   "cell_type": "code",
   "execution_count": 5,
   "metadata": {},
   "outputs": [],
   "source": [
    "all_columns = set(list(df_m))\n",
    "\n",
    "exclude_columns = set([\n",
    "    \"pdos_data\",\n",
    "    \"charge_history\",\n",
    "    ])\n",
    "\n",
    "columns_to_keep = list(all_columns - exclude_columns)\n",
    "\n",
    "df_m = df_m[columns_to_keep]"
   ]
  },
  {
   "cell_type": "markdown",
   "metadata": {},
   "source": [
    "# Instantiate the ORR_Free_E_Plot Instance"
   ]
  },
  {
   "cell_type": "code",
   "execution_count": 6,
   "metadata": {},
   "outputs": [],
   "source": [
    "prop_name_list = [\n",
    "    \"system\",\n",
    "    \"spinpol\",\n",
    "    \"site\",\n",
    "    \"graph_site\",\n",
    "     ]\n",
    "\n",
    "ORR_PLT = ORR_Free_E_Plot(\n",
    "    free_energy_df=None,\n",
    "    state_title=\"adsorbate\",\n",
    "    free_e_title=\"ads_e\",  \n",
    "    bias=bias,\n",
    "    color_list=None,   \n",
    "    show_H_e_pairs_annotations=True,\n",
    "    show_legend=True,\n",
    "    rxn_type=\"ORR\",\n",
    "    )"
   ]
  },
  {
   "cell_type": "markdown",
   "metadata": {},
   "source": [
    "# Picking the Lowest Energy States"
   ]
  },
  {
   "cell_type": "code",
   "execution_count": 7,
   "metadata": {},
   "outputs": [],
   "source": [
    "group_params = [\"system\", \"spinpol\", \"graph_site\"]\n",
    "grouped = df_m.groupby(group_params)\n",
    "\n",
    "lowest_energy_list = []\n",
    "for i_ind, (name, group) in enumerate(grouped):\n",
    "    df_i = group\n",
    "\n",
    "    for j_cnt, df_j in df_i.groupby(\"adsorbate\"):\n",
    "        series_j = df_j.loc[df_j[\"ads_e\"].idxmin()]\n",
    "        lowest_energy_list.append(series_j)\n",
    "\n",
    "df_2 = pd.concat(lowest_energy_list, axis=1, keys=[s.name for s in lowest_energy_list]).T"
   ]
  },
  {
   "cell_type": "code",
   "execution_count": 8,
   "metadata": {},
   "outputs": [
    {
     "data": {
      "text/plain": [
       "numpy.float64"
      ]
     },
     "execution_count": 8,
     "metadata": {},
     "output_type": "execute_result"
    }
   ],
   "source": [
    "# df_jdf_j.loc[]\n",
    "type(df_j[\"ads_e\"].iloc[0])"
   ]
  },
  {
   "cell_type": "markdown",
   "metadata": {},
   "source": [
    "# Adding ORR data series"
   ]
  },
  {
   "cell_type": "code",
   "execution_count": 9,
   "metadata": {},
   "outputs": [
    {
     "name": "stdout",
     "output_type": "stream",
     "text": [
      "Fe_slab_False_None_nan\n",
      "Fe_slab_True_bridge_nan\n",
      "N_graph_False_ring-center_nan\n",
      "N_graph_True_None_nan\n",
      "N_graph_Fe_False_None_C-trifold\n",
      "N_graph_Fe_False_None_N-trifold\n",
      "graph_Fe_False_None_nan\n",
      "graph_Fe_True_None_nan\n",
      "graphene_False_None_nan\n",
      "graphene_True_None_nan\n"
     ]
    }
   ],
   "source": [
    "grouped = df_2.groupby(group_params)\n",
    "for i_ind, (name, group) in enumerate(grouped):\n",
    "    df_i = group\n",
    "\n",
    "    prop_list_i = {}\n",
    "    for prop_i in prop_name_list:    \n",
    "        first_value = df_i[prop_i].tolist()[0]\n",
    "        all_same_value = all([True if i == first_value else False for i in df_i[prop_i].tolist()])\n",
    "\n",
    "        if all_same_value:\n",
    "            prop_list_i[prop_i] = str(first_value)\n",
    "        else:\n",
    "            prop_list_i[prop_i] = str(None)\n",
    "\n",
    "    name_i = \"_\".join(list(prop_list_i.values()))\n",
    "    print(name_i)\n",
    "    \n",
    "    color_i = system_color_map[name_i]\n",
    "\n",
    "    if not any([np.isnan(i) for i in df_i.elec_energy.tolist()]):        \n",
    "        ORR_PLT.add_series(\n",
    "            df_i,\n",
    "            plot_mode=\"all\",\n",
    "            opt_name=name_i,\n",
    "            overpotential_type=\"ORR\",\n",
    "            color=color_i,\n",
    "            )"
   ]
  },
  {
   "cell_type": "markdown",
   "metadata": {},
   "source": [
    "# Plotting <a name=\"fed_all\"></a>"
   ]
  },
  {
   "cell_type": "code",
   "execution_count": 10,
   "metadata": {},
   "outputs": [
    {
     "data": {
      "text/html": [
       "<iframe id=\"igraph\" scrolling=\"no\" style=\"border:none;\" seamless=\"seamless\" src=\"https://plot.ly/~flores12/434.embed\" height=\"765.0px\" width=\"1020.0px\"></iframe>"
      ],
      "text/plain": [
       "<plotly.tools.PlotlyDisplay object>"
      ]
     },
     "execution_count": 10,
     "metadata": {},
     "output_type": "execute_result"
    }
   ],
   "source": [
    "if save_plot:\n",
    "    save_dir = proj_dir_name\n",
    "else:\n",
    "    save_dir = \"__temp__\"\n",
    "\n",
    "layout = ORR_PLT.plotly_fed_layout(\n",
    "    plot_title=\"\",\n",
    "    plot_width=1.5 * 680,\n",
    "    plot_height=1.5 * 510,\n",
    "    )\n",
    "\n",
    "py.plotly.iplot(\n",
    "    {\n",
    "        \"data\": ORR_PLT.plotly_data(),\n",
    "        \"layout\": layout,\n",
    "        },\n",
    "        filename=os.path.join(save_dir, \"pl_fed_all_systems\"),\n",
    "    )"
   ]
  },
  {
   "cell_type": "raw",
   "metadata": {},
   "source": [
    "\n",
    "\n",
    "\n",
    "\n",
    "\n",
    "\n",
    "\n",
    "\n",
    "\n",
    "\n"
   ]
  },
  {
   "cell_type": "code",
   "execution_count": 11,
   "metadata": {},
   "outputs": [],
   "source": [
    "# dat_lst_master = []\n",
    "\n",
    "# for i_ind, group_i in enumerate(df.groupby(\"system\")):\n",
    "#     df_i = group_i[1]\n",
    "    \n",
    "#     # Tree Level Labels for group_i\n",
    "#     tree_labels = df_i[\"tree_level_labels\"].tolist()\n",
    "#     tree_labels_2 = []\n",
    "#     for item in tree_labels:\n",
    "#         if sorted(item) not in tree_labels_2:\n",
    "#             tree_labels_2.append(sorted(item))\n",
    "#     assert len(tree_labels_2) == 1\n",
    "#     tree_labels_2 = tree_labels_2[0]\n",
    "\n",
    "#     # i_ind = i_ind * 2\n",
    "#     color_list_i = color_list[i_ind:i_ind + 2]\n",
    "\n",
    "# #     print(group_i[0])\n",
    "    \n",
    "#     dat_lst, layout = lowest_e_path(\n",
    "#         df_i,\n",
    "#         tree_labels_2,\n",
    "#         color_list_i,\n",
    "#         create_ideal_series=False,\n",
    "#         opt_name=df_i[\"system\"].iloc[0],\n",
    "#         bias=bias,\n",
    "#         manual_props=\"False\",\n",
    "# #         smart_format=smart_format,\n",
    "#         smart_format=None,\n",
    "#         )\n",
    "#     dat_lst_master += dat_lst  \n",
    "\n",
    "# # Adding Ideal ORR line\n",
    "# ORR = ORR_Free_E_Plot()\n",
    "# e_list_ideal = ORR.apply_bias(bias, ORR.ideal_energy)\n",
    "# dat_ideal = ORR.create_plotly_series(\n",
    "#     e_list_ideal,\n",
    "#     group=\"Ideal\",\n",
    "#     name=\"Ideal\",\n",
    "#     color=\"red\",\n",
    "#     plot_mode=\"full_lines\",\n",
    "#     )\n",
    "\n",
    "# dat_lst_master += dat_ideal\n",
    "\n",
    "# dat_lst_master = reapply_colors(dat_lst_master)\n",
    "\n",
    "# if save_plot:\n",
    "#     save_dir = \"01_fe_graph\"\n",
    "# else:\n",
    "#     save_dir = \"__temp__\"\n",
    "\n",
    "# py.iplot(\n",
    "#     {\n",
    "#         \"data\": dat_lst_master,\n",
    "#         \"layout\": layout,\n",
    "#         },\n",
    "# #     filename=\"01_fe_graph/pl_fed_all_systems.html\",\n",
    "#     filename=os.path.join(save_dir, \"pl_fed_all_systems\"),\n",
    "#     )\n",
    "\n",
    "# from ase.visualize import view\n",
    "# from ase.io.trajectory import Trajectory\n",
    "# from ase import io\n",
    "# # io.write(\"out.traj\", df.loc[2].atoms_object)\n",
    "# df_tmp = df[df[\"system\"] == \"N_graph_Fe\"]\n",
    "\n",
    "# images = df_tmp.iloc[0].atoms_object\n",
    "# atoms = images[0]\n",
    "\n",
    "# # io.write(\"out.traj\", atoms)\n",
    "# # view(images)\n",
    "\n",
    "# atoms_i = df.iloc[0].atoms_object[-1]\n",
    "# # view(atoms_i)\n",
    "\n",
    "\n",
    "#     prop_list_i = {}\n",
    "#     for prop_i in prop_name_list:    \n",
    "#         first_value = df_i[prop_i].tolist()[0]\n",
    "#         all_same_value = all([True if i == first_value else False for i in df_i[prop_i].tolist()])\n",
    "\n",
    "#         if all_same_value:\n",
    "#             prop_list_i[prop_i] = first_value\n",
    "#         else:\n",
    "#             prop_list_i[prop_i] = None\n",
    "\n",
    "#     sys_i = prop_list_i[\"bulk_system\"] + \"_\" + prop_list_i[\"facet\"]\n",
    "#     color_i = system_color_map_1.get(sys_i, \"pink\")    \n",
    "            \n",
    "#     if not any([np.isnan(i) for i in df_i.elec_energy.tolist()]):        \n",
    "#         ORR_PLT.add_series(\n",
    "#             df_i,\n",
    "#             plot_mode=\"all\",\n",
    "#             opt_name=df_i[\"name_i\"].tolist()[0],\n",
    "#             overpotential_type=\"OER\",\n",
    "#             system_properties=prop_list_i,\n",
    "# #             color=color_i,\n",
    "#             )\n",
    "\n",
    "# set(df[\"system\"].tolist())\n",
    "\n",
    "# df.loc[df[\"system\"] == \"N_graph_Fe\", \"spinpol\"] = False\n",
    "\n",
    "# prop_name_list = [\n",
    "#     \"system\",\n",
    "#     \"spinpol\",\n",
    "#     \"site\",\n",
    "#     \"graph_site\",\n",
    "#     ]\n",
    "\n",
    "# grouped = df_tmp.T.groupby(group_params)\n",
    "# # lowest_energy_list = []\n",
    "# for i_ind, (name, group) in enumerate(grouped):\n",
    "#     print(name)\n",
    "#     df_i = group\n",
    "#     print(len(df_i))\n",
    "#     prop_list_i = {}\n",
    "#     for prop_i in prop_name_list:    \n",
    "#         first_value = df_i[prop_i].tolist()[0]\n",
    "#         all_same_value = all([True if i == first_value else False for i in df_i[prop_i].tolist()])\n",
    "\n",
    "#         if all_same_value:\n",
    "#             prop_list_i[prop_i] = str(first_value)\n",
    "#         else:\n",
    "#             prop_list_i[prop_i] = str(None)\n",
    "\n",
    "\n",
    "# #     print(prop_list_i)\n",
    "# #     sys_i = prop_list_i[\"bulk_system\"] + \"_\" + prop_list_i[\"facet\"]\n",
    "# #     print(sys_i)\n",
    "# #     color_i = system_color_map_1.get(sys_i, \"pink\")    \n",
    "\n",
    "# \"_\".join(prop_list_i)\n",
    "\n",
    "# prop_list_i\n",
    "\n",
    "# \"_\".join(\n",
    "#     list(prop_list_i.values())\n",
    "#     )\n",
    "\n",
    "# str(None)\n",
    "\n",
    "# # df_2 = df_tmp.T\n",
    "# # df_2[\n",
    "# #     (df_2[\"system\"] == \"graph_Fe\") & \\\n",
    "# #     (df_2[\"spinpol\"] == True)\n",
    "# #     ]"
   ]
  }
 ],
 "metadata": {
  "kernelspec": {
   "display_name": "Python 3",
   "language": "python",
   "name": "python3"
  },
  "language_info": {
   "codemirror_mode": {
    "name": "ipython",
    "version": 3
   },
   "file_extension": ".py",
   "mimetype": "text/x-python",
   "name": "python",
   "nbconvert_exporter": "python",
   "pygments_lexer": "ipython3",
   "version": "3.6.6"
  }
 },
 "nbformat": 4,
 "nbformat_minor": 2
}
