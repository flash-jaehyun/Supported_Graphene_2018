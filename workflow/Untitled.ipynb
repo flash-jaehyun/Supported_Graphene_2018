{
 "cells": [
  {
   "cell_type": "code",
   "execution_count": 1,
   "metadata": {},
   "outputs": [
    {
     "name": "stdout",
     "output_type": "stream",
     "text": [
      "Divisor is Energy class instance!!!\n"
     ]
    }
   ],
   "source": [
    "# iPython Settings\n",
    "%load_ext autoreload\n",
    "%autoreload 2\n",
    "\n",
    "# Python Modules\n",
    "import os\n",
    "import sys\n",
    "\n",
    "sys.path.insert(0, \"..\")\n",
    "\n",
    "sys.path.insert(\n",
    "    0,\n",
    "    os.path.join(\n",
    "        os.environ[\"PROJ_fe_graph\"],\n",
    "        \"data\",\n",
    "        ),\n",
    "    )\n",
    "\n",
    "import pandas as pd\n",
    "# pd.options.mode.chained_assignment = None\n",
    "pd.set_option(\"display.max_columns\", None)\n",
    "pd.set_option('display.max_rows', None)\n",
    "\n",
    "from ase.visualize import view\n",
    "import plotly.graph_objs as go\n",
    "import plotly.plotly as py\n",
    "\n",
    "import numpy as np\n",
    "\n",
    "# My Modules ******************************************************************\n",
    "from plotting.my_plotly import reapply_colors\n",
    "from colors.colors import color_list\n",
    "\n",
    "from orr_reaction.orr_fed_plot import ORR_Free_E_Plot, Scaling_Relations_Plot\n",
    "# Local Imports\n",
    "\n",
    "\n",
    "from an_data_processing import load_df\n",
    "from proj_data_fe_graph import proj_dir_name\n",
    "from proj_data_fe_graph import df_vegge\n"
   ]
  },
  {
   "cell_type": "code",
   "execution_count": 3,
   "metadata": {},
   "outputs": [],
   "source": [
    "for i_cnt, row_i in df_vegge.iterrows():\n",
    "    tmp = 42"
   ]
  },
  {
   "cell_type": "code",
   "execution_count": 8,
   "metadata": {},
   "outputs": [
    {
     "data": {
      "text/plain": [
       "cell                         r2xr3\n",
       "dg_ads_o                      2.28\n",
       "dg_ads_oh                     1.19\n",
       "dg_ads_ooh                    4.62\n",
       "facet                          NaN\n",
       "graphene_layers                  3\n",
       "n_per_ads                      NaN\n",
       "overpotential                 0.93\n",
       "system             Fe3C/N-graphene\n",
       "Name: 12, dtype: object"
      ]
     },
     "execution_count": 8,
     "metadata": {},
     "output_type": "execute_result"
    }
   ],
   "source": [
    "row_i"
   ]
  },
  {
   "cell_type": "code",
   "execution_count": 15,
   "metadata": {},
   "outputs": [
    {
     "data": {
      "text/plain": [
       "['cell',\n",
       " 'dg_ads_o',\n",
       " 'dg_ads_oh',\n",
       " 'dg_ads_ooh',\n",
       " 'facet',\n",
       " 'graphene_layers',\n",
       " 'n_per_ads',\n",
       " 'overpotential',\n",
       " 'system']"
      ]
     },
     "execution_count": 15,
     "metadata": {},
     "output_type": "execute_result"
    }
   ],
   "source": [
    "list(row_i.index)"
   ]
  }
 ],
 "metadata": {
  "kernelspec": {
   "display_name": "Python 3",
   "language": "python",
   "name": "python3"
  },
  "language_info": {
   "codemirror_mode": {
    "name": "ipython",
    "version": 3
   },
   "file_extension": ".py",
   "mimetype": "text/x-python",
   "name": "python",
   "nbconvert_exporter": "python",
   "pygments_lexer": "ipython3",
   "version": "3.6.6"
  }
 },
 "nbformat": 4,
 "nbformat_minor": 2
}
