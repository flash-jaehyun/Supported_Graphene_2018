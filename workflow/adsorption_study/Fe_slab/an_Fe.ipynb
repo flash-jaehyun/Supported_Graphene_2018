{
 "cells": [
  {
   "cell_type": "markdown",
   "metadata": {},
   "source": [
    "# FCC Iron 111 ORR <a name=\"head\"></a>\n",
    "***"
   ]
  },
  {
   "cell_type": "markdown",
   "metadata": {},
   "source": [
    "#### Table of Contents\n",
    "\n",
    "-   [Import Python Modules](#import-modules)\n",
    "-   [Reference Energies & Misc Parameters](#ref_e_&_params)\n",
    "-   [Initialize Instances](#init_instances)\n",
    "-   [Lowest Energy Pathway](#lowest_e_pathway)\n",
    "-   [All Binding Site States](#all_states)"
   ]
  },
  {
   "cell_type": "markdown",
   "metadata": {},
   "source": [
    "## Import Modules <a name=\"import-modules\"></a>"
   ]
  },
  {
   "cell_type": "code",
   "execution_count": 33,
   "metadata": {},
   "outputs": [
    {
     "name": "stdout",
     "output_type": "stream",
     "text": [
      "The autoreload extension is already loaded. To reload it, use:\n",
      "  %reload_ext autoreload\n"
     ]
    }
   ],
   "source": [
    "import sys\n",
    "import copy\n",
    "\n",
    "import numpy as np\n",
    "import pandas as pd\n",
    "\n",
    "import plotly\n",
    "from plotly.graph_objs import Figure\n",
    "import plotly.plotly as py\n",
    "\n",
    "# My Modules ******************************************************************\n",
    "from dft_job_automat.job_analysis import DFT_Jobs_Analysis\n",
    "from dft_job_automat.job_types_classes.dft_methods import DFT_Methods\n",
    "from orr_reaction.orr_methods import ORR_Free_E_Plot, calc_ads_e\n",
    "\n",
    "from orr_reaction.orr_methods import lowest_e_path, df_calc_adsorption_e, plot_all_states\n",
    "\n",
    "pd.options.mode.chained_assignment = None\n",
    "\n",
    "# iPython Settings\n",
    "%load_ext autoreload\n",
    "%autoreload 2"
   ]
  },
  {
   "cell_type": "markdown",
   "metadata": {},
   "source": [
    "## Reference Energies & Misc Parameters <a name=\"ref_e_&_params\"></a>"
   ]
  },
  {
   "cell_type": "code",
   "execution_count": 34,
   "metadata": {},
   "outputs": [],
   "source": [
    "# bare_slab = -31722.43520417364\n",
    "\n",
    "bare_slab_False = -30772.862053560006\n",
    "bare_slab_True = -30774.394355700322\n",
    "\n",
    "bare_slab_dict = {True: bare_slab_True, False: bare_slab_False}\n",
    "\n",
    "# R21 From Pourbaix Papers\n",
    "dG_rxn_h2o = -2.4583\n",
    "\n",
    "# /scratch/users/flores12/gas_phase_molec/BEEF-vdW\n",
    "H2_dft = -32.9563981542851\n",
    "O2_dft = -883.190570481887\n",
    "H2O_dft = -476.544109028354\n",
    "\n",
    "hyd_ref = H2_dft / 2.\n",
    "\n",
    "ref_scheme = \"h2o\"\n",
    "if ref_scheme == \"h2o\":\n",
    "    oxy_ref = H2O_dft - H2_dft\n",
    "elif ref_scheme == \"o2\":\n",
    "    oxy_ref = dG_rxn_h2o + O2_dft / 2.\n",
    "    \n",
    "color_list = [\n",
    "    \"rgb(113,166,190)\",\n",
    "    \"rgb(145,209,79)\",\n",
    "    \"rgb(124,78,196)\",\n",
    "    \"rgb(203,169,87)\",\n",
    "    \"rgb(200,72,150)\",\n",
    "    \"rgb(130,204,159)\",\n",
    "    \"rgb(190,82,63)\",\n",
    "    \"rgb(80,51,82)\",\n",
    "    \"rgb(81,92,54)\",\n",
    "    \"rgb(192,151,188)\",\n",
    "    ]"
   ]
  },
  {
   "cell_type": "markdown",
   "metadata": {},
   "source": [
    "## Initialize Instances <a name=\"init_instances\"></a>"
   ]
  },
  {
   "cell_type": "code",
   "execution_count": 35,
   "metadata": {},
   "outputs": [
    {
     "name": "stdout",
     "output_type": "stream",
     "text": [
      "/mnt/c/Users/raul_desktop/Dropbox/01_acad_folder/01_grad_school/01_norskov/04_comp_clusters/02_DATA/01_fe_graph_proj/adsorption_study/Fe_slab/job_dataframe.pickle\n"
     ]
    }
   ],
   "source": [
    "\"/mnt/c/Users/raul_desktop/Dropbox/01_acad_folder/01_grad_school/01_norskov/04_comp_clusters/02_DATA/01_fe_graph_proj/adsorption_study/Fe_slab\"\n",
    "import os\n",
    "research_dir = os.environ[\"norskov_research\"]\n",
    "\n",
    "data_dir = research_dir + \"/04_comp_clusters/02_DATA/01_fe_graph_proj/adsorption_study/Fe_slab\"\n",
    "df_file = data_dir + \"/job_dataframe.pickle\"\n",
    "print(df_file)"
   ]
  },
  {
   "cell_type": "code",
   "execution_count": 36,
   "metadata": {},
   "outputs": [],
   "source": [
    "dft_inst = DFT_Methods(\n",
    "    methods_to_run=[\n",
    "        \"elec_energy\",\n",
    "        \"gibbs_correction\",\n",
    "        \"atom_type_num_dict\",\n",
    "        \"init_atoms\",\n",
    "        \"atoms_object\",\n",
    "        # \"magmom_charge_history\",\n",
    "        ],\n",
    "    )\n",
    "\n",
    "Jobs = DFT_Jobs_Analysis(\n",
    "    update_job_state=False,\n",
    "    job_type_class=dft_inst,\n",
    "    load_dataframe=True,\n",
    "    # load_dataframe=False,\n",
    "    dataframe_dir=data_dir,\n",
    "    working_dir=\"1STEP\",\n",
    "    )\n",
    "\n",
    "df = Jobs.filter_early_revisions(Jobs.data_frame)\n",
    "df_calc_adsorption_e(df, oxy_ref, hyd_ref, bare_slab_dict, bare_slab_var=\"spinpol\", )\n",
    "df_master = df.copy()"
   ]
  },
  {
   "cell_type": "code",
   "execution_count": 37,
   "metadata": {},
   "outputs": [
    {
     "data": {
      "text/plain": [
       "[{'property': 'adsorbate', 'value': 'ooh'},\n",
       " {'property': 'site', 'value': 'ontop'},\n",
       " {'property': 'spinpol', 'value': True}]"
      ]
     },
     "execution_count": 37,
     "metadata": {},
     "output_type": "execute_result"
    }
   ],
   "source": [
    "Jobs.tree_level_labels\n",
    "Jobs.level_entries\n",
    "\n",
    "Jobs.job_var_lst[0]"
   ]
  },
  {
   "cell_type": "markdown",
   "metadata": {},
   "source": [
    "## All Binding Site States <a name=\"all_states\"></a>"
   ]
  },
  {
   "cell_type": "code",
   "execution_count": 38,
   "metadata": {},
   "outputs": [
    {
     "data": {
      "text/html": [
       "<iframe id=\"igraph\" scrolling=\"no\" style=\"border:none;\" seamless=\"seamless\" src=\"https://plot.ly/~flores12/197.embed\" height=\"600.0px\" width=\"800.0px\"></iframe>"
      ],
      "text/plain": [
       "<plotly.tools.PlotlyDisplay object>"
      ]
     },
     "execution_count": 38,
     "metadata": {},
     "output_type": "execute_result"
    }
   ],
   "source": [
    "dat_lst1, layout1 = plot_all_states(\n",
    "    df_master,\n",
    "    Jobs.tree_level_labels,\n",
    "    color_list,\n",
    "    bias=0.,\n",
    "    plot_title=\"FED For ORR on FCC Fe(111)\"\n",
    "    )\n",
    "\n",
    "py.iplot(\n",
    "    {\n",
    "        \"data\": dat_lst1,\n",
    "        \"layout\": layout1,\n",
    "        },\n",
    "    filename=\"__temp__/pl_fed_supp_graph_01.html\"\n",
    "    )"
   ]
  },
  {
   "cell_type": "markdown",
   "metadata": {},
   "source": [
    "## Lowest Energy Pathway <a name=\"lowest_e_pathway\"></a>"
   ]
  },
  {
   "cell_type": "code",
   "execution_count": 39,
   "metadata": {},
   "outputs": [
    {
     "data": {
      "text/html": [
       "<iframe id=\"igraph\" scrolling=\"no\" style=\"border:none;\" seamless=\"seamless\" src=\"https://plot.ly/~flores12/199.embed\" height=\"525px\" width=\"100%\"></iframe>"
      ],
      "text/plain": [
       "<plotly.tools.PlotlyDisplay object>"
      ]
     },
     "execution_count": 39,
     "metadata": {},
     "output_type": "execute_result"
    }
   ],
   "source": [
    "dat_lst, layout = lowest_e_path(\n",
    "    df,\n",
    "    Jobs.tree_level_labels,\n",
    "    color_list,\n",
    "    bias=0.,\n",
    "    plot_title=\"FED For ORR on FCC Fe(111)\",\n",
    "    )\n",
    "\n",
    "py.iplot(\n",
    "    {\n",
    "        \"data\": dat_lst,\n",
    "        \"layout\": layout,\n",
    "        },\n",
    "    filename=\"__temp__/pl_fed_supp_graph_02.html\"\n",
    "    )"
   ]
  },
  {
   "cell_type": "markdown",
   "metadata": {},
   "source": [
    "[(Back to top)](#head)"
   ]
  },
  {
   "cell_type": "code",
   "execution_count": 40,
   "metadata": {},
   "outputs": [],
   "source": [
    "# from dft_job_automat.job_types_classes.data_frame_methods import DataFrame_Methods\n",
    "# DF = DataFrame_Methods(df_master)\n",
    "\n",
    "# DF.create_atoms_objects()\n",
    "\n",
    "# for index, row in df_master.iterrows():\n",
    "#     print(row[\"full_path\"])\n",
    "\n",
    "\n",
    "# df_master"
   ]
  }
 ],
 "metadata": {
  "kernelspec": {
   "display_name": "Python 3",
   "language": "python",
   "name": "python3"
  },
  "language_info": {
   "codemirror_mode": {
    "name": "ipython",
    "version": 3
   },
   "file_extension": ".py",
   "mimetype": "text/x-python",
   "name": "python",
   "nbconvert_exporter": "python",
   "pygments_lexer": "ipython3",
   "version": "3.6.4"
  }
 },
 "nbformat": 4,
 "nbformat_minor": 2
}
