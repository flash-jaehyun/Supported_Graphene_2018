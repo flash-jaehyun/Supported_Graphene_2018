{
 "cells": [
  {
   "cell_type": "code",
   "execution_count": 2,
   "metadata": {},
   "outputs": [
    {
     "name": "stdout",
     "output_type": "stream",
     "text": [
      "The autoreload extension is already loaded. To reload it, use:\n",
      "  %reload_ext autoreload\n",
      "Divisor is Energy class instance!!!\n"
     ]
    }
   ],
   "source": [
    "# iPython Settings\n",
    "%load_ext autoreload\n",
    "%autoreload 2\n",
    "\n",
    "import sys\n",
    "import pandas as pd\n",
    "pd.options.mode.chained_assignment = None\n",
    "\n",
    "import plotly.graph_objs as go\n",
    "import plotly as py\n",
    "\n",
    "# My Modules ******************************************************************\n",
    "from orr_reaction.orr_methods import lowest_e_path, plot_all_states\n",
    "from colors.colors import color_list\n",
    "\n",
    "sys.path.insert(0, \"..\")\n",
    "\n",
    "# Local Imports\n",
    "from an_data_processing import load_df"
   ]
  },
  {
   "cell_type": "code",
   "execution_count": 3,
   "metadata": {},
   "outputs": [
    {
     "name": "stdout",
     "output_type": "stream",
     "text": [
      "Attempting to load df from pickle\n"
     ]
    }
   ],
   "source": [
    "df = load_df(from_file=True)\n",
    "\n",
    "df_master = df[df[\"system\"] == \"Fe_slab\"]\n",
    "df_master[\"hover_text\"] = df_master[\"final_site\"] + \" | \" + df_master[\"notes\"]"
   ]
  },
  {
   "cell_type": "code",
   "execution_count": 4,
   "metadata": {},
   "outputs": [],
   "source": [
    "# Smart Formatting\n",
    "smart_format = [\n",
    "\n",
    "    [\n",
    "        {\"notes\": \"Desorbed\"},\n",
    "        {\"dash\": \"dash\"},\n",
    "        ],\n",
    "\n",
    "    ]"
   ]
  },
  {
   "cell_type": "code",
   "execution_count": 5,
   "metadata": {},
   "outputs": [
    {
     "data": {
      "text/html": [
       "<iframe id=\"igraph\" scrolling=\"no\" style=\"border:none;\" seamless=\"seamless\" src=\"https://plot.ly/~flores12/224.embed\" height=\"600.0px\" width=\"800.0px\"></iframe>"
      ],
      "text/plain": [
       "<plotly.tools.PlotlyDisplay object>"
      ]
     },
     "execution_count": 5,
     "metadata": {},
     "output_type": "execute_result"
    }
   ],
   "source": [
    "dat_lst1, layout1 = plot_all_states(\n",
    "    df_master,\n",
    "    df_master[\"tree_level_labels\"].iloc[0],\n",
    "    color_list,\n",
    "    bias=0.,\n",
    "    hover_text_col=\"hover_text\",\n",
    "    plot_title=\"ORR FED for FCC 111 Fe\",\n",
    "    smart_format=smart_format,\n",
    "    )\n",
    "\n",
    "py.plotly.iplot(\n",
    "    {\n",
    "        \"data\": dat_lst1,\n",
    "        \"layout\": layout1,\n",
    "        },\n",
    "    filename=\"__temp__/pl_fed_FCC_111_Fe.html\"\n",
    "    )"
   ]
  }
 ],
 "metadata": {
  "kernelspec": {
   "display_name": "Python 3",
   "language": "python",
   "name": "python3"
  },
  "language_info": {
   "codemirror_mode": {
    "name": "ipython",
    "version": 3
   },
   "file_extension": ".py",
   "mimetype": "text/x-python",
   "name": "python",
   "nbconvert_exporter": "python",
   "pygments_lexer": "ipython3",
   "version": "3.6.4"
  }
 },
 "nbformat": 4,
 "nbformat_minor": 2
}
