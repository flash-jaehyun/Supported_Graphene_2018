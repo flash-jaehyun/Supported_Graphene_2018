{
 "cells": [
  {
   "cell_type": "markdown",
   "metadata": {},
   "source": [
    "# Iron Supported, Nitrogen-doped, Graphene (And Related Systems) <a name=\"head\"></a>\n",
    "## Descriptor Scaling\n",
    "***"
   ]
  },
  {
   "cell_type": "markdown",
   "metadata": {},
   "source": [
    "## Import Modules <a name=\"import-modules\"></a>"
   ]
  },
  {
   "cell_type": "code",
   "execution_count": 1,
   "metadata": {},
   "outputs": [
    {
     "name": "stdout",
     "output_type": "stream",
     "text": [
      "Divisor is Energy class instance!!!\n"
     ]
    }
   ],
   "source": [
    "# iPython Settings\n",
    "# %load_ext autoreload\n",
    "# %autoreload 2\n",
    "\n",
    "# sys.path.insert(0, \"/home/raul_surface/nglview_temp/nglview\")\n",
    "\n",
    "# Python Modules\n",
    "import numpy as np\n",
    "import pandas as pd\n",
    "pd.options.mode.chained_assignment = None\n",
    "from ase.visualize import view\n",
    "import plotly.graph_objs as go\n",
    "import plotly.plotly as py\n",
    "import cufflinks as cf\n",
    "\n",
    "from sklearn.linear_model import LinearRegression\n",
    "\n",
    "# My Modules\n",
    "from colors.colors import color_list\n",
    "\n",
    "# Local Imports\n",
    "from an_data_processing import load_df"
   ]
  },
  {
   "cell_type": "markdown",
   "metadata": {},
   "source": [
    "### Script Inputs"
   ]
  },
  {
   "cell_type": "code",
   "execution_count": 2,
   "metadata": {},
   "outputs": [],
   "source": [
    "marker_size = 12\n",
    "\n",
    "line_x_array = [-0.5, 3.5]\n",
    "# color_list = [\"red\", \"blue\"]\n",
    "\n",
    "border_color_list = [\n",
    "    \"red\",\n",
    "    \"blue\",\n",
    "    \"green\",\n",
    "    \"magenta\",\n",
    "    ]"
   ]
  },
  {
   "cell_type": "markdown",
   "metadata": {},
   "source": [
    "### Construct Dataframe"
   ]
  },
  {
   "cell_type": "code",
   "execution_count": 3,
   "metadata": {},
   "outputs": [
    {
     "name": "stdout",
     "output_type": "stream",
     "text": [
      "Attempting to load df from pickle\n"
     ]
    }
   ],
   "source": [
    "df = load_df(from_file=True)\n",
    "\n",
    "df = df[df[\"adsorbate\"] != \"h2o\"]\n",
    "# df = df[df[\"adsorbate\"] != \"oh\"]\n",
    "# df = df[df[\"system\"] != \"Fe_slab\"]\n",
    "# df = df[df[\"system\"] != \"graphene\"]\n",
    "\n",
    "df = df[[\n",
    "    \"ads_e\",\n",
    "    \"adsorbate\",\n",
    "    \"site\",\n",
    "    \"spinpol\",\n",
    "    \"system\",\n",
    "    \"notes\"\n",
    "    ]]\n",
    "\n",
    "df.set_index([\"site\", \"system\", \"spinpol\"], inplace=True)\n",
    "\n",
    "df = df.pivot(index=None, columns=\"adsorbate\")\n",
    "\n",
    "df_1 = df.xs(\"ads_e\", axis=1, drop_level=True)\n",
    "df_2 = df.xs(\"notes\", axis=1, drop_level=True)\n",
    "\n",
    "# df_2 = df_2.rename(index=str, columns={\n",
    "df_2 = df_2.rename(columns={\n",
    "    \"o\": \"o-notes\",\n",
    "    \"oh\": \"oh-notes\",\n",
    "    \"ooh\": \"ooh-notes\",\n",
    "    })\n",
    "\n",
    "df[\"index\"] = df.index.values\n",
    "df[\"index\"] = df[\"index\"].astype(str)\n",
    "\n",
    "df = pd.concat([df_1, df_2], axis=1, join_axes=[df_1.index])\n",
    "\n",
    "df_master = df.copy()\n",
    "# text_i = df[\"oh-notes\"].tolist()\n",
    "\n",
    "df_master[\"notes\"] = df_master[\"o-notes\"] + \" | \" + df_master[\"oh-notes\"] + \" | \" + df_master[\"ooh-notes\"]"
   ]
  },
  {
   "cell_type": "code",
   "execution_count": 4,
   "metadata": {},
   "outputs": [],
   "source": [
    "def point_plot_settings(i_ind, index, row, hover_text_row=\"notes\"):\n",
    "    \"\"\"\n",
    "    \"\"\"\n",
    "    #| - point_plot_settings\n",
    "#     print(row)\n",
    "    \n",
    "    system = row.name[1]\n",
    "\n",
    "    if system == \"N_graph_Fe\":\n",
    "        marker_line = border_color_list[0]\n",
    "    if system == \"graph_Fe\":\n",
    "        marker_line = border_color_list[1]\n",
    "    if system == \"graphene\":\n",
    "        marker_line = border_color_list[2]\n",
    "    if system == \"Fe_slab\":\n",
    "        marker_line = border_color_list[3]\n",
    "\n",
    "    hover_text = row[hover_text_row]\n",
    "    \n",
    "    if i_ind == 0:\n",
    "        show_leg = True\n",
    "    else:\n",
    "        show_leg = False\n",
    "\n",
    "    if row[\"ooh-notes\"] == \"Desorbed\":\n",
    "        marker_sym = \"x\"\n",
    "    elif row[\"oh-notes\"] == \"Desorbed\":\n",
    "        marker_sym = \"x\"\n",
    "    elif row[\"o-notes\"] == \"Desorbed\":\n",
    "        marker_sym = \"x\"\n",
    "\n",
    "    elif row[\"ooh-notes\"] == \"Dissociated\":\n",
    "        marker_sym = \"diamond\"\n",
    "    elif row[\"oh-notes\"] == \"Dissociated\":\n",
    "        marker_sym = \"diamond\"\n",
    "    elif row[\"o-notes\"] == \"Dissociated\":\n",
    "        marker_sym = \"diamond\"\n",
    "       \n",
    "    else:\n",
    "        marker_sym = \"circle\"    \n",
    "    \n",
    "\n",
    "    out_dict = {\n",
    "        \"marker_symbol\": marker_sym,\n",
    "        \"show_legend\": show_leg,\n",
    "        \"hover_text\": hover_text,\n",
    "        \"marker_line\": marker_line,\n",
    "#         \"marker_sym\":,\n",
    "    }\n",
    "    \n",
    "    return(out_dict)\n",
    "    #__|"
   ]
  },
  {
   "cell_type": "markdown",
   "metadata": {},
   "source": [
    "# Linear Regression to Adsorbed Species"
   ]
  },
  {
   "cell_type": "markdown",
   "metadata": {},
   "source": [
    "### Method"
   ]
  },
  {
   "cell_type": "markdown",
   "metadata": {},
   "source": [
    "# Plotting Scaling Data Series"
   ]
  },
  {
   "cell_type": "code",
   "execution_count": 5,
   "metadata": {},
   "outputs": [],
   "source": [
    "trace_list = []"
   ]
  },
  {
   "cell_type": "markdown",
   "metadata": {},
   "source": [
    "### OOH vs OH"
   ]
  },
  {
   "cell_type": "code",
   "execution_count": 6,
   "metadata": {},
   "outputs": [],
   "source": [
    "tmp_bool = False\n",
    "for i_ind, (index, row) in enumerate(df_master.iterrows()):\n",
    "    plot_settings_dict = point_plot_settings(i_ind, index, row)\n",
    "    \n",
    "    show_leg = False\n",
    "    if tmp_bool is False:\n",
    "        if plot_settings_dict[\"marker_symbol\"] == \"circle\":\n",
    "            tmp_bool = True\n",
    "            show_leg = True\n",
    "\n",
    "            trace_i = go.Scatter(\n",
    "                y = row[\"ooh\"],\n",
    "                x = row[\"oh\"], \n",
    "                hoverinfo=\"text\",\n",
    "                text=plot_settings_dict[\"hover_text\"],\n",
    "                mode='markers',\n",
    "                name = \"*OOH scaling\",\n",
    "                legendgroup=\"*OOH scaling\",\n",
    "                showlegend=show_leg,\n",
    "                marker=dict(\n",
    "                    size=marker_size,\n",
    "                    symbol=plot_settings_dict[\"marker_symbol\"],\n",
    "                    color = color_list[0],\n",
    "                )\n",
    "            )\n",
    "            trace_list.append(trace_i)\n",
    "\n",
    "    trace_i = go.Scatter(\n",
    "        y = row[\"ooh\"],\n",
    "        x = row[\"oh\"], \n",
    "        hoverinfo=\"text\",\n",
    "        text=plot_settings_dict[\"hover_text\"],\n",
    "        mode='markers',\n",
    "        name = \"*OOH scaling\",\n",
    "        legendgroup=\"*OOH scaling\",\n",
    "#         showlegend=show_leg,\n",
    "        showlegend=False,\n",
    "        marker=dict(\n",
    "            size=marker_size,\n",
    "            symbol=plot_settings_dict[\"marker_symbol\"],\n",
    "            color = color_list[0],\n",
    "\n",
    "            line = dict(\n",
    "                color = plot_settings_dict[\"marker_line\"],\n",
    "                width = 2,\n",
    "            )\n",
    "        )\n",
    "    )\n",
    "    trace_list.append(trace_i)"
   ]
  },
  {
   "cell_type": "markdown",
   "metadata": {},
   "source": [
    "### O vs OH"
   ]
  },
  {
   "cell_type": "code",
   "execution_count": 7,
   "metadata": {},
   "outputs": [],
   "source": [
    "tmp_bool = False\n",
    "for i_ind, (index, row) in enumerate(df_master.iterrows()):\n",
    "    plot_settings_dict = point_plot_settings(i_ind, index, row)\n",
    " \n",
    "    show_leg = False\n",
    "    if tmp_bool is False:\n",
    "        if plot_settings_dict[\"marker_symbol\"] == \"circle\":\n",
    "            tmp_bool = True\n",
    "            show_leg = True\n",
    "\n",
    "            trace_i = go.Scatter(\n",
    "                y = row[\"o\"],\n",
    "                x = row[\"oh\"], \n",
    "                hoverinfo=\"text\",\n",
    "                text=plot_settings_dict[\"hover_text\"],\n",
    "                mode='markers',\n",
    "                name = \"*O scaling\",\n",
    "                legendgroup=\"*O scaling\",\n",
    "                showlegend=True,\n",
    "                marker=dict(\n",
    "                    size=marker_size,\n",
    "                    symbol=plot_settings_dict[\"marker_symbol\"],\n",
    "                    color = color_list[1],\n",
    "                )\n",
    "            )            \n",
    "            trace_list.append(trace_i)\n",
    "\n",
    "    trace_i = go.Scatter(\n",
    "        y = row[\"o\"],\n",
    "        x = row[\"oh\"], \n",
    "        hoverinfo=\"text\",\n",
    "        text=plot_settings_dict[\"hover_text\"],\n",
    "        mode='markers',\n",
    "        name = \"*O scaling\",\n",
    "        legendgroup=\"*O scaling\",\n",
    "        showlegend=False,\n",
    "        marker=dict(\n",
    "            size=marker_size,\n",
    "            symbol=plot_settings_dict[\"marker_symbol\"],\n",
    "            color = color_list[1],\n",
    "            line = dict(\n",
    "                color = plot_settings_dict[\"marker_line\"],\n",
    "                width = 2,\n",
    "            )\n",
    "        )\n",
    "    )\n",
    "    trace_list.append(trace_i)"
   ]
  },
  {
   "cell_type": "markdown",
   "metadata": {},
   "source": [
    "#### Ideal OOH and O vs OH Scaling"
   ]
  },
  {
   "cell_type": "code",
   "execution_count": 8,
   "metadata": {},
   "outputs": [],
   "source": [
    "# Ideal OOH vs OH Scaling Line\n",
    "x = line_x_array\n",
    "trace_ooh_scaling = go.Scatter(\n",
    "    x = x,\n",
    "    y = [x[0] + 3.2, x[1] + 3.2],\n",
    "    name = \"ooh v oh (ideal)\",\n",
    "    mode='lines',\n",
    "    opacity=0.6,\n",
    "    line = {\n",
    "        \"dash\": \"dot\",\n",
    "        \"color\": color_list[0],\n",
    "    },\n",
    ")\n",
    "trace_list.append(trace_ooh_scaling)\n",
    "\n",
    "# Ideal O vs OH Scaling Line\n",
    "x = line_x_array\n",
    "trace_o_scaling = go.Scatter(\n",
    "    x = x,\n",
    "    y = [2 * x[0], 2 * x[1]],\n",
    "    name = \"o v oh (ideal)\",\n",
    "    mode='lines',\n",
    "    opacity=0.6,\n",
    "    line = {\n",
    "        \"dash\": \"dot\",\n",
    "        \"color\": color_list[1],\n",
    "    },\n",
    ")\n",
    "trace_list.append(trace_o_scaling)"
   ]
  },
  {
   "cell_type": "markdown",
   "metadata": {},
   "source": [
    "### Fit Lines"
   ]
  },
  {
   "cell_type": "markdown",
   "metadata": {},
   "source": [
    "Before fitting the scaling relations, bad data should be diregarded.\n",
    "This includes the following situations:\n",
    "* Desorption: The adsorbate molecule does not bind with the surface\n",
    "* Dissociation: The adsorbate is \"broken up\" by the surface"
   ]
  },
  {
   "cell_type": "code",
   "execution_count": 9,
   "metadata": {},
   "outputs": [],
   "source": [
    "df_regr = df_master.copy()\n",
    "\n",
    "df_regr = df_regr[df_regr[\"o-notes\"] != \"Desorbed\"]\n",
    "df_regr = df_regr[df_regr[\"oh-notes\"] != \"Desorbed\"]\n",
    "df_regr = df_regr[df_regr[\"ooh-notes\"] != \"Desorbed\"]\n",
    "\n",
    "df_regr = df_regr[df_regr[\"o-notes\"] != \"Dissociated\"]\n",
    "df_regr = df_regr[df_regr[\"oh-notes\"] != \"Dissociated\"]\n",
    "df_regr = df_regr[df_regr[\"ooh-notes\"] != \"Dissociated\"]"
   ]
  },
  {
   "cell_type": "code",
   "execution_count": 10,
   "metadata": {},
   "outputs": [],
   "source": [
    "df_regr_ooh_v_oh = df_regr.copy()\n",
    "df = df_regr_ooh_v_oh\n",
    "# Removing row with NA values for OOH or OH\n",
    "df = df[np.isfinite(df[\"ooh\"])]\n",
    "df = df[np.isfinite(df[\"oh\"])]\n",
    "\n",
    "lr = LinearRegression()\n",
    "\n",
    "y_data = np.array(df[\"ooh\"].tolist())\n",
    "x_data = np.array(df[\"oh\"].tolist()).reshape(-1, 1)\n",
    "\n",
    "lr.fit(x_data, y_data)\n",
    "\n",
    "b = lr.intercept_\n",
    "m = lr.coef_[0]\n",
    "\n",
    "x_array = np.array(line_x_array)\n",
    "y_pred = lr.predict(x_array.reshape(-1, 1))\n",
    "\n",
    "trace_ooh_fit = go.Scatter(\n",
    "    x = x_array,\n",
    "    y = y_pred,\n",
    "    name = \"*OOH vs *OH (fitted)\",\n",
    "    mode='lines',\n",
    "    line = {\n",
    "        \"color\": color_list[0],\n",
    "    },\n",
    ")\n",
    "\n",
    "trace_list.append(trace_ooh_fit)\n",
    "\n",
    "# **************************************************\n",
    "\n",
    "df_regr_o_v_oh = df_regr.copy()\n",
    "df = df_regr_o_v_oh\n",
    "# Removing row with NA values for OOH or OH\n",
    "df = df[np.isfinite(df[\"o\"])]\n",
    "df = df[np.isfinite(df[\"oh\"])]\n",
    "\n",
    "lr = LinearRegression()\n",
    "\n",
    "y_data = np.array(df[\"o\"].tolist())\n",
    "x_data = np.array(df[\"oh\"].tolist()).reshape(-1, 1)\n",
    "\n",
    "lr.fit(x_data, y_data)\n",
    "\n",
    "b = lr.intercept_\n",
    "m = lr.coef_[0]\n",
    "\n",
    "x_array = np.array(line_x_array)\n",
    "y_pred = lr.predict(x_array.reshape(-1, 1))\n",
    "\n",
    "trace_ooh_fit = go.Scatter(\n",
    "    x = x_array,\n",
    "    y = y_pred,\n",
    "    name = \"*O vs *OH (fitted))\",\n",
    "    mode='lines',\n",
    "    line = {\n",
    "        \"color\": color_list[1],\n",
    "    },\n",
    ")\n",
    "\n",
    "trace_list.append(trace_ooh_fit)"
   ]
  },
  {
   "cell_type": "code",
   "execution_count": 11,
   "metadata": {},
   "outputs": [],
   "source": [
    "layout = dict(\n",
    "    title = 'OOH, OH, O Scaling Relations',\n",
    "   \n",
    "    xaxis=dict(\n",
    "        title=\"*OH Binding Energy [eV]\",\n",
    "        ),\n",
    "\n",
    "    yaxis=dict(\n",
    "        title=\"*OOH & *O Binding Energy [eV]\",\n",
    "        ),\n",
    "\n",
    "#     width=200 * 4.,\n",
    "#     height=200 * 3.,\n",
    ")"
   ]
  },
  {
   "cell_type": "code",
   "execution_count": 12,
   "metadata": {},
   "outputs": [],
   "source": [
    "border_coord = {\n",
    "    \"x0\": 0.01,\n",
    "    \"y0\": 0.8,\n",
    "    \"x1\": 0.35,\n",
    "    \"y1\": 1.,\n",
    "    }"
   ]
  },
  {
   "cell_type": "code",
   "execution_count": 13,
   "metadata": {},
   "outputs": [],
   "source": [
    "shapes=[\n",
    "    # Rectangle reference to the axes\n",
    "    \n",
    "    # Border Rectangle\n",
    "    {\n",
    "        'type': 'rect',\n",
    "        'xref': 'paper',\n",
    "        'yref': 'paper',\n",
    "        'x0': border_coord[\"x0\"],\n",
    "        'y0': border_coord[\"y0\"],\n",
    "        'x1': border_coord[\"x1\"],\n",
    "        'y1': border_coord[\"y1\"],\n",
    "        'line': {\n",
    "            'color': 'black',\n",
    "            'width': 3,\n",
    "        },\n",
    "#             'fillcolor': 'rgba(50, 171, 96, 0.6)',\n",
    "    },\n",
    "\n",
    "    \n",
    "    # Square 1\n",
    "    {\n",
    "        'type': 'rect',\n",
    "        'xref': 'paper',\n",
    "        'yref': 'paper',\n",
    "        'x0': border_coord[\"x0\"] + 0.01,\n",
    "        'y0': border_coord[\"y1\"] - 0.05,\n",
    "        'x1': border_coord[\"x0\"] + 0.01 + 0.03,\n",
    "        'y1': border_coord[\"y1\"] - 0.01,\n",
    "        'line': {\n",
    "            'color': 'black',\n",
    "            'width': 0.,\n",
    "        },\n",
    "        'fillcolor': border_color_list[0],\n",
    "    },\n",
    "\n",
    "    # Square 2\n",
    "    {\n",
    "        'type': 'rect',\n",
    "        'xref': 'paper',\n",
    "        'yref': 'paper',\n",
    "        'x0': border_coord[\"x0\"] + 0.01,\n",
    "        'y0': border_coord[\"y1\"] - 0.05 - 0.04,\n",
    "        'x1': border_coord[\"x0\"] + 0.01 + 0.03,\n",
    "        'y1': border_coord[\"y1\"] - 0.01 - 0.04,\n",
    "        'line': {\n",
    "            'color': 'black',\n",
    "            'width': 0.,\n",
    "        },\n",
    "        'fillcolor': border_color_list[1],\n",
    "    },\n",
    "\n",
    "    # Square 3\n",
    "    {\n",
    "        'type': 'rect',\n",
    "        'xref': 'paper',\n",
    "        'yref': 'paper',\n",
    "        'x0': border_coord[\"x0\"] + 0.01,\n",
    "        'y0': border_coord[\"y1\"] - 0.05 - 2. * 0.04,\n",
    "        'x1': border_coord[\"x0\"] + 0.01 + 0.03,\n",
    "        'y1': border_coord[\"y1\"] - 0.01 - 2. * 0.04,\n",
    "        'line': {\n",
    "            'color': 'black',\n",
    "            'width': 0.,\n",
    "        },\n",
    "        'fillcolor': border_color_list[2],\n",
    "    },\n",
    "\n",
    "    # Square 4\n",
    "    {\n",
    "        'type': 'rect',\n",
    "        'xref': 'paper',\n",
    "        'yref': 'paper',\n",
    "        'x0': border_coord[\"x0\"] + 0.01,\n",
    "        'y0': border_coord[\"y1\"] - 0.05 - 3. * 0.04,\n",
    "        'x1': border_coord[\"x0\"] + 0.01 + 0.03,\n",
    "        'y1': border_coord[\"y1\"] - 0.01 - 3. * 0.04,\n",
    "        'line': {\n",
    "            'color': 'black',\n",
    "            'width': 0.,\n",
    "        },\n",
    "        'fillcolor': border_color_list[3],\n",
    "    },\n",
    "\n",
    "]"
   ]
  },
  {
   "cell_type": "code",
   "execution_count": 14,
   "metadata": {},
   "outputs": [],
   "source": [
    "# Annotations     \n",
    "        \n",
    "annotations=[\n",
    "    dict(\n",
    "        x=border_coord[\"x0\"] + 0.01 + 0.03,\n",
    "        y=border_coord[\"y1\"] - 0.05 - 0.04 + 0.087,\n",
    "        showarrow=False,\n",
    "        text='N-doped Graphene on Fe',\n",
    "        xref='paper',\n",
    "        yref='paper'\n",
    "        ),\n",
    "\n",
    "    dict(\n",
    "        x=border_coord[\"x0\"] + 0.01 + 0.03,\n",
    "        y=border_coord[\"y1\"] - 0.05 - 0.04 + 0.087 - 0.04,\n",
    "        showarrow=False,\n",
    "        text='Graphene on Fe',\n",
    "        xref='paper',\n",
    "        yref='paper'\n",
    "        ),\n",
    "\n",
    "    dict(\n",
    "        x=border_coord[\"x0\"] + 0.01 + 0.03,\n",
    "        y=border_coord[\"y1\"] - 0.05 - 0.04 + 0.087 - 2. * 0.04,\n",
    "        showarrow=False,\n",
    "        text='Graphene',\n",
    "        xref='paper',\n",
    "        yref='paper'\n",
    "        ),\n",
    "\n",
    "    dict(\n",
    "        x=border_coord[\"x0\"] + 0.01 + 0.03,\n",
    "        y=border_coord[\"y1\"] - 0.05 - 0.04 + 0.087 - 3. * 0.04,\n",
    "        showarrow=False,\n",
    "        text='FCC Fe(111)',\n",
    "        xref='paper',\n",
    "        yref='paper'\n",
    "        ),\n",
    "    ]\n"
   ]
  },
  {
   "cell_type": "code",
   "execution_count": 15,
   "metadata": {},
   "outputs": [
    {
     "data": {
      "text/html": [
       "<iframe id=\"igraph\" scrolling=\"no\" style=\"border:none;\" seamless=\"seamless\" src=\"https://plot.ly/~flores12/166.embed\" height=\"525px\" width=\"100%\"></iframe>"
      ],
      "text/plain": [
       "<plotly.tools.PlotlyDisplay object>"
      ]
     },
     "execution_count": 15,
     "metadata": {},
     "output_type": "execute_result"
    }
   ],
   "source": [
    "# layout[\"shapes\"] = shapes\n",
    "# layout[\"annotations\"] = annotations\n",
    "\n",
    "fig = dict(data=trace_list, layout=layout)\n",
    "py.iplot(fig, filename='01_fe_graph/pl_ooh_oh_scaling')\n",
    "\n",
    "# plot_url = py.plot(fig, filename='01_fe_graph/my_plot')\n",
    "# print(plot_url)"
   ]
  },
  {
   "cell_type": "markdown",
   "metadata": {},
   "source": [
    "### Legend Color Map"
   ]
  },
  {
   "cell_type": "code",
   "execution_count": 16,
   "metadata": {},
   "outputs": [],
   "source": [
    "supp_atom_r = 1.56 / 2\n",
    "supp_bond_d = 2.019496967\n",
    "supp_dim = (7, 7)\n",
    "supp_latt_angle = 30.  # Angle between lattice vectors of surface\n",
    "\n",
    "graph_atom_r = 0.7 / 2\n",
    "# graph_bond_d = 1.42\n",
    "graph_bond_d = 1.35\n",
    "graph_dim = (8, 8)"
   ]
  },
  {
   "cell_type": "code",
   "execution_count": 30,
   "metadata": {},
   "outputs": [
    {
     "data": {
      "image/svg+xml": [
       "<svg baseProfile=\"tiny\" height=\"100%\" version=\"1.2\" viewBox=\"0,0,200,200\" width=\"100%\" xmlns=\"http://www.w3.org/2000/svg\" xmlns:ev=\"http://www.w3.org/2001/xml-events\" xmlns:xlink=\"http://www.w3.org/1999/xlink\"><defs/><rect fill=\"red\" height=\"10\" width=\"10\" x=\"0.0\" y=\"0.0\"/><rect fill=\"blue\" height=\"10\" width=\"10\" x=\"0.0\" y=\"10.0\"/><rect fill=\"green\" height=\"10\" width=\"10\" x=\"0.0\" y=\"20.0\"/><rect fill=\"magenta\" height=\"10\" width=\"10\" x=\"0.0\" y=\"30.0\"/><text fill=\"red\" font-size=\"0.6em\" x=\"10.0\" y=\"8.6\">N-doped Graphene on Fe</text><text fill=\"blue\" font-size=\"0.6em\" x=\"10.0\" y=\"18.6\">Graphene on Fe</text><text fill=\"green\" font-size=\"0.6em\" x=\"10.0\" y=\"28.6\">Graphene</text><text fill=\"magenta\" font-size=\"0.6em\" x=\"10.0\" y=\"38.6\">FCC Fe(111)</text></svg>"
      ],
      "text/plain": [
       "<IPython.core.display.SVG object>"
      ]
     },
     "execution_count": 30,
     "metadata": {},
     "output_type": "execute_result"
    }
   ],
   "source": [
    "import svgwrite\n",
    "from IPython.display import SVG\n",
    "\n",
    "file_name = \"an_scaling_out/color_legend.svg\"\n",
    "dwg = svgwrite.Drawing(file_name, profile='tiny')\n",
    "dwg.viewbox(width=200 , height=200)\n",
    "\n",
    "box_height = 10\n",
    "box_width = 10\n",
    "up_left_corner = (0., 0.)\n",
    "\n",
    "dwg.add(dwg.rect(insert=(up_left_corner[0], up_left_corner[1] + 0 * box_height), size=(box_width, box_height), fill=border_color_list[0]))\n",
    "dwg.add(dwg.rect(insert=(up_left_corner[0], up_left_corner[1] + 1 * box_height), size=(box_width, box_height), fill=border_color_list[1]))\n",
    "dwg.add(dwg.rect(insert=(up_left_corner[0], up_left_corner[1] + 2 * box_height), size=(box_width, box_height), fill=border_color_list[2]))\n",
    "dwg.add(dwg.rect(insert=(up_left_corner[0], up_left_corner[1] + 3 * box_height), size=(box_width, box_height), fill=border_color_list[3]))\n",
    "\n",
    "y_offset = -1.4\n",
    "\n",
    "dwg.add(dwg.text(\"N-doped Graphene on Fe\",\n",
    "    x=[up_left_corner[0] + box_width], y=[up_left_corner[1] + 1 * box_height + y_offset],\n",
    "    fill=border_color_list[0],\n",
    "    font_size='0.6em',\n",
    "#     font_family=\"Open Sans\",\n",
    "#     style=\"font-size:10px; font-family:Arial\",\n",
    "    ),\n",
    ")\n",
    "\n",
    "dwg.add(dwg.text(\"Graphene on Fe\",\n",
    "    x=[up_left_corner[0] + box_width], y=[up_left_corner[1] + 2 * box_height + y_offset],\n",
    "    fill=border_color_list[1],\n",
    "    font_size='0.6em'),\n",
    "    )\n",
    "dwg.add(dwg.text(\"Graphene\",\n",
    "    x=[up_left_corner[0] + box_width], y=[up_left_corner[1] + 3 * box_height + y_offset],\n",
    "    fill=border_color_list[2],\n",
    "    font_size='0.6em'),\n",
    "    )\n",
    "dwg.add(dwg.text(\"FCC Fe(111)\",\n",
    "    x=[up_left_corner[0] + box_width], y=[up_left_corner[1] + 4 * box_height + y_offset],\n",
    "    fill=border_color_list[3],\n",
    "    font_size='0.6em'),\n",
    "    \n",
    "    )\n",
    "\n",
    "dwg.save()\n",
    "\n",
    "\n",
    "SVG(filename=file_name)"
   ]
  },
  {
   "cell_type": "code",
   "execution_count": null,
   "metadata": {},
   "outputs": [],
   "source": []
  }
 ],
 "metadata": {
  "kernelspec": {
   "display_name": "Python 3",
   "language": "python",
   "name": "python3"
  },
  "language_info": {
   "codemirror_mode": {
    "name": "ipython",
    "version": 3
   },
   "file_extension": ".py",
   "mimetype": "text/x-python",
   "name": "python",
   "nbconvert_exporter": "python",
   "pygments_lexer": "ipython3",
   "version": "3.6.4"
  }
 },
 "nbformat": 4,
 "nbformat_minor": 2
}
