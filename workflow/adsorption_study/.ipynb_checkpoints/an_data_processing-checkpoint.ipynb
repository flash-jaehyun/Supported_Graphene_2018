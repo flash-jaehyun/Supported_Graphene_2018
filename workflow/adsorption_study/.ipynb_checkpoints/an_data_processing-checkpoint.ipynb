{
 "cells": [
  {
   "cell_type": "markdown",
   "metadata": {},
   "source": [
    "# Iron Supported, Nitrogen-doped, Graphene (And Related Systems) <a name=\"head\"></a>\n",
    "***"
   ]
  },
  {
   "cell_type": "markdown",
   "metadata": {},
   "source": [
    "## Import Modules <a name=\"import-modules\"></a>"
   ]
  },
  {
   "cell_type": "code",
   "execution_count": 1,
   "metadata": {},
   "outputs": [],
   "source": [
    "# iPython Settings\n",
    "%load_ext autoreload\n",
    "%autoreload 2\n",
    "\n",
    "import sys\n",
    "import copy\n",
    "\n",
    "import numpy as np\n",
    "import pandas as pd\n",
    "\n",
    "from ase.visualize import view\n",
    "\n",
    "import plotly.plotly as py\n",
    "import plotly.graph_objs as go\n",
    "\n",
    "# My Modules ******************************************************************\n",
    "from dft_job_automat.job_analysis import DFT_Jobs_Analysis\n",
    "from dft_job_automat.job_types_classes.dft_methods import DFT_Methods\n",
    "from orr_reaction.orr_methods import ORR_Free_E_Plot, calc_ads_e\n",
    "from orr_reaction.orr_methods import lowest_e_path, df_calc_adsorption_e, plot_all_states\n",
    "from energetics.dft_energy import Element_Refs\n",
    "from colors.colors import color_list\n",
    "\n",
    "pd.options.mode.chained_assignment = None"
   ]
  },
  {
   "cell_type": "code",
   "execution_count": 2,
   "metadata": {},
   "outputs": [
    {
     "name": "stdout",
     "output_type": "stream",
     "text": [
      "__truediv__\n",
      "Divisor is integer or float\n",
      "<class 'float'>\n",
      "KJFKDSJKFJDSLJFLISDJFIJSDKFJKDS -------------------------\n",
      "Divisor is Energy class instance!!!\n",
      "KJFKDSJKFJDSLJFLISDJFIJSDKFJKDS -------------------------\n"
     ]
    }
   ],
   "source": [
    "bias = 0.\n",
    "\n",
    "# Bare Fe\n",
    "bare_slab_False = -30772.862053560006\n",
    "bare_slab_True = -30774.394355700322\n",
    "bare_slab_dict_Fe = {True: bare_slab_True, False: bare_slab_False}\n",
    "\n",
    "# Bare Graphene\n",
    "bare_slab_False = -947.9120007283367\n",
    "bare_slab_True = -947.9121850854704\n",
    "bare_slab_dict_Graphene = {True: bare_slab_True, False: bare_slab_False}\n",
    "\n",
    "# Fe-supported Graphene\n",
    "bare_slab_True = -31722.43520417364\n",
    "bare_slab_False = -31721.412152900266\n",
    "bare_slab_dict_Fe_Graph = {True: bare_slab_True, False: bare_slab_False}\n",
    "\n",
    "# Fe-supported N-Graphene\n",
    "# /scratch/users/flores12/03_graph_N_Fe/01_opt_struct/N_doped_graph_Fe/no_spin/01_N_trifold/_4\n",
    "# N in trifold site\n",
    "bare_slab_NGraph_Fe = -31839.06523325643\n",
    "\n",
    "# C in trifold site\n",
    "tmp = -31838.6148526\n",
    "\n",
    "Refs = Element_Refs()\n",
    "oxy_ref = Refs.E_O_ref.gibbs_e\n",
    "hyd_ref = Refs.E_H_ref.gibbs_e\n",
    "\n",
    "fe_corr_dict = {\n",
    "    \"h2o\": 0.528688009,\n",
    "    \"o\": 0.068715186,\n",
    "    \"oh\": 0.265727434,\n",
    "    \"ooh\": 0.351189818,\n",
    "    }\n",
    "\n",
    "dir_list = [\"Fe_slab\", \"graphene\", \"graph_Fe\", \"N_graph_Fe\"]\n",
    "\n",
    "sys_dict = [\n",
    "    {\"folder\": \"Fe_slab\", \"bare_ref\": bare_slab_dict_Fe},\n",
    "    {\"folder\": \"graphene\", \"bare_ref\": bare_slab_dict_Graphene},\n",
    "    {\"folder\": \"graph_Fe\", \"bare_ref\": bare_slab_dict_Fe_Graph},\n",
    "    {\"folder\": \"N_graph_Fe\", \"bare_ref\": bare_slab_NGraph_Fe},\n",
    "    ]\n",
    "\n",
    "df_sys = pd.DataFrame(sys_dict)\n",
    "\n",
    "df_list = []\n",
    "Jobs_list = []\n",
    "for index, row in df_sys.iterrows():\n",
    "    folder_name = row[\"folder\"]\n",
    "\n",
    "    Jobs = DFT_Jobs_Analysis(\n",
    "        update_job_state=False,\n",
    "        job_type_class=None,\n",
    "        load_dataframe=True,\n",
    "        working_dir=folder_name + \"/1STEP\",\n",
    "        )\n",
    "\n",
    "    df = Jobs.filter_early_revisions(Jobs.data_frame)\n",
    "#     df[\"folder\"] = row[\"folder\"]\n",
    "    \n",
    "    if folder_name == \"N_graph_Fe\":\n",
    "        df_calc_adsorption_e(df, oxy_ref, hyd_ref, row[\"bare_ref\"], bare_slab_var=\"spinpol\")\n",
    "    else:\n",
    "        df_calc_adsorption_e(df, oxy_ref, hyd_ref, row[\"bare_ref\"], bare_slab_var=\"spinpol\", corrections_mode=\"corr_dict\", corrections_dict=fe_corr_dict)\n",
    "        \n",
    "    df[\"system\"] = folder_name\n",
    "\n",
    "    Jobs.df = df   \n",
    "    Jobs_list.append(Jobs)\n",
    "    df_list.append(df)"
   ]
  },
  {
   "cell_type": "code",
   "execution_count": 10,
   "metadata": {},
   "outputs": [],
   "source": [
    "df_master = pd.concat(df_list)\n",
    "df_master.reset_index(drop=True, inplace=True)\n",
    "\n",
    "if \"NA\" in list(df_master):\n",
    "    df_master.drop(\"NA\", axis=1, inplace=True)"
   ]
  },
  {
   "cell_type": "code",
   "execution_count": null,
   "metadata": {},
   "outputs": [],
   "source": [
    "if __name__ == '__main__':\n",
    "    # test1.py executed as script\n",
    "    # do something\n",
    "    print(\"HELLOOOOOOOOO\")"
   ]
  }
 ],
 "metadata": {
  "kernelspec": {
   "display_name": "Python 3",
   "language": "python",
   "name": "python3"
  },
  "language_info": {
   "codemirror_mode": {
    "name": "ipython",
    "version": 3
   },
   "file_extension": ".py",
   "mimetype": "text/x-python",
   "name": "python",
   "nbconvert_exporter": "python",
   "pygments_lexer": "ipython3",
   "version": "3.6.4"
  }
 },
 "nbformat": 4,
 "nbformat_minor": 2
}
