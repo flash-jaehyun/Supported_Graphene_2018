{
 "cells": [
  {
   "cell_type": "markdown",
   "metadata": {},
   "source": [
    "# Bare Graphene Sheet ORR Adsorption <a name=\"head\"></a>\n",
    "***"
   ]
  },
  {
   "cell_type": "markdown",
   "metadata": {},
   "source": [
    "#### Table of Contents\n",
    "\n",
    "-   [Import Python Modules](#import-modules)\n",
    "-   [Reference Energies & Misc Parameters](#ref_e_&_params)\n",
    "-   [Initialize Instances](#init_instances)\n",
    "-   [Lowest Energy Pathway](#lowest_e_pathway)\n",
    "-   [All Binding Site States](#all_states)"
   ]
  },
  {
   "cell_type": "markdown",
   "metadata": {},
   "source": [
    "## Import Modules <a name=\"import-modules\"></a>"
   ]
  },
  {
   "cell_type": "code",
   "execution_count": 37,
   "metadata": {},
   "outputs": [
    {
     "name": "stdout",
     "output_type": "stream",
     "text": [
      "The autoreload extension is already loaded. To reload it, use:\n",
      "  %reload_ext autoreload\n"
     ]
    }
   ],
   "source": [
    "import sys\n",
    "\n",
    "import pandas as pd\n",
    "\n",
    "import plotly.plotly as py\n",
    "\n",
    "# My Modules ******************************************************************\n",
    "from orr_reaction.orr_methods import lowest_e_path, plot_all_states\n",
    "from colors.colors import color_list\n",
    "\n",
    "pd.options.mode.chained_assignment = None\n",
    "\n",
    "# iPython Settings\n",
    "%load_ext autoreload\n",
    "%autoreload 2\n",
    "\n",
    "sys.path.insert(0, \"..\")\n",
    "\n",
    "# Local Imports\n",
    "from an_data_processing import load_df"
   ]
  },
  {
   "cell_type": "code",
   "execution_count": 38,
   "metadata": {},
   "outputs": [],
   "source": [
    "# Smart Formatting\n",
    "smart_format = [\n",
    "\n",
    "    [\n",
    "        {\"notes\": \"Desorbed\"},\n",
    "        {\"dash\": None},\n",
    "        ],\n",
    "\n",
    "    [\n",
    "        {\"notes\": \"\"},\n",
    "        {\"dash\": \"dashdot\"},\n",
    "        ],\n",
    "       \n",
    "#     [\n",
    "#         {\"system\": \"graphene\"},\n",
    "#         {\"dash\": \"dash\"},\n",
    "#         ],\n",
    "\n",
    "    ]\n"
   ]
  },
  {
   "cell_type": "code",
   "execution_count": 40,
   "metadata": {},
   "outputs": [
    {
     "name": "stdout",
     "output_type": "stream",
     "text": [
      "Attempting to load df from pickle\n"
     ]
    }
   ],
   "source": [
    "df = load_df(from_file=True, file_name=\"../df_master.pickle\")\n",
    "df_master = df[df[\"system\"] == \"graphene\"]\n",
    "df_master[\"hover_text\"] = df_master[\"final_site\"] + \" | \" + df_master[\"notes\"]"
   ]
  },
  {
   "cell_type": "markdown",
   "metadata": {},
   "source": [
    "## All Binding Site States <a name=\"all_states\"></a>"
   ]
  },
  {
   "cell_type": "code",
   "execution_count": 41,
   "metadata": {},
   "outputs": [
    {
     "data": {
      "text/html": [
       "<iframe id=\"igraph\" scrolling=\"no\" style=\"border:none;\" seamless=\"seamless\" src=\"https://plot.ly/~flores12/144.embed\" height=\"525px\" width=\"100%\"></iframe>"
      ],
      "text/plain": [
       "<plotly.tools.PlotlyDisplay object>"
      ]
     },
     "execution_count": 41,
     "metadata": {},
     "output_type": "execute_result"
    }
   ],
   "source": [
    "dat_lst1, layout1 = plot_all_states(\n",
    "    df_master,\n",
    "    df_master[\"tree_level_labels\"].iloc[0],\n",
    "    color_list,\n",
    "    bias=0.,\n",
    "    hover_text_col=\"hover_text\",\n",
    "    smart_format=smart_format,\n",
    "    )\n",
    "\n",
    "py.iplot(\n",
    "    {\n",
    "        \"data\": dat_lst1,\n",
    "        \"layout\": layout1,\n",
    "        },\n",
    "    filename=\"pl_fed_supp_graph_01.html\"\n",
    "    )"
   ]
  },
  {
   "cell_type": "code",
   "execution_count": 86,
   "metadata": {},
   "outputs": [
    {
     "data": {
      "text/html": [
       "<iframe id=\"igraph\" scrolling=\"no\" style=\"border:none;\" seamless=\"seamless\" src=\"https://plot.ly/~flores12/159.embed\" height=\"525px\" width=\"100%\"></iframe>"
      ],
      "text/plain": [
       "<plotly.tools.PlotlyDisplay object>"
      ]
     },
     "execution_count": 86,
     "metadata": {},
     "output_type": "execute_result"
    }
   ],
   "source": [
    "trace_list = []\n",
    "\n",
    "for i_ind, (index, row) in enumerate(df.iterrows()):\n",
    "#     print(row[\"ooh\"])\n",
    "\n",
    "    if i_ind == 0:\n",
    "        show_leg = True\n",
    "    else:\n",
    "        show_leg = False\n",
    "    \n",
    "    if row[\"ooh-notes\"] == \"Desorbed\":\n",
    "        marker_sym = \"x\"\n",
    "    elif row[\"oh-notes\"] == \"Desorbed\":\n",
    "        marker_sym = \"x\"\n",
    "    elif row[\"o-notes\"] == \"Desorbed\":\n",
    "        marker_sym = \"x\"\n",
    "    else:\n",
    "        marker_sym = \"circle\"\n",
    "    \n",
    "    trace_i = go.Scatter(\n",
    "        y = row[\"ooh\"],\n",
    "        x = row[\"oh\"], \n",
    "        hoverinfo=\"text\",\n",
    "        text=text_i,\n",
    "        mode='markers',\n",
    "        name = \"ooh scaling\",\n",
    "        legendgroup=\"ooh scaling\",\n",
    "        showlegend=show_leg,\n",
    "        marker=dict(\n",
    "            size='16',\n",
    "            symbol=marker_sym,\n",
    "            color = 'rgb(113,166,190)', #set color equal to a variable\n",
    "            #         color = np.random.randn(500), #set color equal to a variable\n",
    "            colorscale='Viridis',\n",
    "    #         showscale=True\n",
    "        )\n",
    "    )\n",
    "\n",
    "    trace_list.append(trace_i)\n",
    "\n",
    "for i_ind, (index, row) in enumerate(df.iterrows()):\n",
    "#     print(row[\"ooh\"])\n",
    "\n",
    "    if i_ind == 0:\n",
    "        show_leg = True\n",
    "    else:\n",
    "        show_leg = False\n",
    "\n",
    "    if row[\"ooh-notes\"] == \"Desorbed\":\n",
    "        marker_sym = \"x\"\n",
    "    elif row[\"oh-notes\"] == \"Desorbed\":\n",
    "        marker_sym = \"x\"\n",
    "    elif row[\"o-notes\"] == \"Desorbed\":\n",
    "        marker_sym = \"x\"\n",
    "    else:\n",
    "        marker_sym = \"circle\"\n",
    " \n",
    "    trace_i = go.Scatter(\n",
    "        y = row[\"o\"],\n",
    "        x = row[\"oh\"], \n",
    "        hoverinfo=\"text\",\n",
    "        text=text_i,\n",
    "        mode='markers',\n",
    "        name = \"o scaling\",\n",
    "        legendgroup=\"o scaling\",\n",
    "        showlegend=show_leg,\n",
    "        marker=dict(\n",
    "            size='16',\n",
    "            symbol=marker_sym,\n",
    "            color = 'rgb(200,72,150)', #set color equal to a variable\n",
    "            #         color = np.random.randn(500), #set color equal to a variable\n",
    "            colorscale='Viridis',\n",
    "    #         showscale=True\n",
    "        )\n",
    "    )\n",
    "\n",
    "    trace_list.append(trace_i)\n",
    "\n",
    "\n",
    "trace_ooh_scaling = go.Scatter(\n",
    "    y = [3.2, 6.2],\n",
    "    x = [0, 3],\n",
    "    name = \"ooh v oh (ideal)\",\n",
    "#     hoverinfo=\"text\",\n",
    "#     text=text_i,\n",
    "    mode='line',\n",
    "#     marker=dict(\n",
    "#         size='16',\n",
    "#         symbol=\"square\",\n",
    "#         color = color_list, #set color equal to a variable\n",
    "#         #         color = np.random.randn(500), #set color equal to a variable\n",
    "#         colorscale='Viridis',\n",
    "# #         showscale=True\n",
    "#     )\n",
    ")\n",
    "trace_list.append(trace_ooh_scaling)\n",
    "\n",
    "trace_o_scaling = go.Scatter(\n",
    "    y = [0, 6],\n",
    "    x = [0, 3],\n",
    "    name = \"o v oh (ideal)\",\n",
    "#     hoverinfo=\"text\",\n",
    "#     text=text_i,\n",
    "    mode='line',\n",
    "#     marker=dict(\n",
    "#         size='16',\n",
    "#         symbol=\"square\",\n",
    "#         color = color_list, #set color equal to a variable\n",
    "#         #         color = np.random.randn(500), #set color equal to a variable\n",
    "#         colorscale='Viridis',\n",
    "# #         showscale=True\n",
    "#     )\n",
    ")\n",
    "\n",
    "trace_list.append(trace_o_scaling)\n",
    "\n",
    "# data = [trace1]\n",
    "# data = [trace1, trace2, trace3]\n",
    "# fig = dict(data=data, layout=layout)\n",
    "\n",
    "py.iplot(trace_list, filename='scatter-plot-with-colorscale')"
   ]
  },
  {
   "cell_type": "markdown",
   "metadata": {},
   "source": [
    "## Lowest Energy Pathway <a name=\"lowest_e_pathway\"></a>"
   ]
  },
  {
   "cell_type": "code",
   "execution_count": 42,
   "metadata": {},
   "outputs": [
    {
     "data": {
      "text/html": [
       "<iframe id=\"igraph\" scrolling=\"no\" style=\"border:none;\" seamless=\"seamless\" src=\"https://plot.ly/~flores12/142.embed\" height=\"525px\" width=\"100%\"></iframe>"
      ],
      "text/plain": [
       "<plotly.tools.PlotlyDisplay object>"
      ]
     },
     "execution_count": 42,
     "metadata": {},
     "output_type": "execute_result"
    }
   ],
   "source": [
    "dat_lst, layout = lowest_e_path(df_master, df_master[\"tree_level_labels\"].iloc[0], color_list, bias=0.)\n",
    "\n",
    "py.iplot(\n",
    "    {\n",
    "        \"data\": dat_lst,\n",
    "        \"layout\": layout,\n",
    "        },\n",
    "    filename=\"pl_fed_supp_graph_02.html\"\n",
    "    )"
   ]
  },
  {
   "cell_type": "markdown",
   "metadata": {},
   "source": [
    "[(Back to top)](#head)"
   ]
  },
  {
   "cell_type": "markdown",
   "metadata": {},
   "source": [
    "### Writing Atoms Objects"
   ]
  },
  {
   "cell_type": "code",
   "execution_count": 43,
   "metadata": {},
   "outputs": [],
   "source": [
    "# # from dft_job_automat.job_types_classes.data_frame_methods import DataFrame_Methods\n",
    "# # DF = DataFrame_Methods(df_master)\n",
    "# # DF.create_atoms_objects(\n",
    "# #     outdir=\"atoms_objects\",\n",
    "# #     # atoms_row=\"init_atoms\",\n",
    "# #     atoms_row=\"atoms_object\",\n",
    "# #     image=-1,\n",
    "# #     )\n",
    "\n",
    "# # for index, row in df_master.iterrows():\n",
    "# #     print(str(row[\"revision_number\"]))\n",
    "\n",
    "# tmp = df_master[df_master[\"path\"] == \"data/02-o/03-ring-center/02-False/\"]\n",
    "\n",
    "# atoms = tmp[\"atoms_object\"]\n",
    "\n",
    "# from ase.visualize import view\n",
    "\n",
    "# # atoms.tolist()\n",
    "\n",
    "# view(atoms.iloc[0])"
   ]
  }
 ],
 "metadata": {
  "kernelspec": {
   "display_name": "Python 3",
   "language": "python",
   "name": "python3"
  },
  "language_info": {
   "codemirror_mode": {
    "name": "ipython",
    "version": 3
   },
   "file_extension": ".py",
   "mimetype": "text/x-python",
   "name": "python",
   "nbconvert_exporter": "python",
   "pygments_lexer": "ipython3",
   "version": "3.6.4"
  }
 },
 "nbformat": 4,
 "nbformat_minor": 2
}
