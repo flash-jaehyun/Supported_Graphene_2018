{
 "cells": [
  {
   "cell_type": "markdown",
   "metadata": {},
   "source": [
    "# Iron Supported, Nitrogen-doped, Graphene (And Related Systems) <a name=\"head\"></a>\n",
    "***"
   ]
  },
  {
   "cell_type": "markdown",
   "metadata": {},
   "source": [
    "## Import Modules <a name=\"import-modules\"></a>"
   ]
  },
  {
   "cell_type": "code",
   "execution_count": 1,
   "metadata": {},
   "outputs": [
    {
     "ename": "ImportError",
     "evalue": "cannot import name 'ORR_Free_E_Plot'",
     "output_type": "error",
     "traceback": [
      "\u001b[0;31m---------------------------------------------------------------------------\u001b[0m",
      "\u001b[0;31mImportError\u001b[0m                               Traceback (most recent call last)",
      "\u001b[0;32m<ipython-input-1-fed6062808a9>\u001b[0m in \u001b[0;36m<module>\u001b[0;34m()\u001b[0m\n\u001b[1;32m     15\u001b[0m \u001b[0;31m# My Modules ******************************************************************\u001b[0m\u001b[0;34m\u001b[0m\u001b[0;34m\u001b[0m\u001b[0m\n\u001b[1;32m     16\u001b[0m \u001b[0;31m# from orr_reaction.orr_methods import lowest_e_path, df_calc_adsorption_e, plot_all_states\u001b[0m\u001b[0;34m\u001b[0m\u001b[0;34m\u001b[0m\u001b[0m\n\u001b[0;32m---> 17\u001b[0;31m \u001b[0;32mfrom\u001b[0m \u001b[0morr_reaction\u001b[0m\u001b[0;34m.\u001b[0m\u001b[0morr_methods\u001b[0m \u001b[0;32mimport\u001b[0m \u001b[0mORR_Free_E_Plot\u001b[0m\u001b[0;34m\u001b[0m\u001b[0m\n\u001b[0m\u001b[1;32m     18\u001b[0m \u001b[0;34m\u001b[0m\u001b[0m\n\u001b[1;32m     19\u001b[0m \u001b[0;32mfrom\u001b[0m \u001b[0morr_reaction\u001b[0m\u001b[0;34m.\u001b[0m\u001b[0morr_methods\u001b[0m \u001b[0;32mimport\u001b[0m \u001b[0mlowest_e_path\u001b[0m\u001b[0;34m\u001b[0m\u001b[0m\n",
      "\u001b[0;31mImportError\u001b[0m: cannot import name 'ORR_Free_E_Plot'"
     ]
    }
   ],
   "source": [
    "# iPython Settings\n",
    "%load_ext autoreload\n",
    "%autoreload 2\n",
    "\n",
    "# Python Modules\n",
    "import sys\n",
    "sys.path.insert(0, \"..\")\n",
    "\n",
    "import pandas as pd\n",
    "pd.options.mode.chained_assignment = None\n",
    "from ase.visualize import view\n",
    "import plotly.graph_objs as go\n",
    "import plotly.plotly as py\n",
    "\n",
    "# My Modules ******************************************************************\n",
    "# from orr_reaction.orr_methods import lowest_e_path, df_calc_adsorption_e, plot_all_states\n",
    "from orr_reaction.orr_methods import ORR_Free_E_Plot\n",
    "from orr_reaction.orr_methods import lowest_e_path\n",
    "\n",
    "from plotting.my_plotly import reapply_colors\n",
    "from colors.colors import color_list\n",
    "\n",
    "# Local Imports\n",
    "from an_data_processing import load_df"
   ]
  },
  {
   "cell_type": "markdown",
   "metadata": {},
   "source": [
    "### Script Inputs"
   ]
  },
  {
   "cell_type": "code",
   "execution_count": null,
   "metadata": {},
   "outputs": [],
   "source": [
    "bias = 0.\n",
    "\n",
    "\n",
    "# Smart Formatting\n",
    "smart_format = [\n",
    "\n",
    "    # [\n",
    "    #     {\"spinpol\": True},\n",
    "    #     {\"dash\": \"dot\"},\n",
    "    #     ],\n",
    "\n",
    "    [\n",
    "        {\"system\": \"Fe_slab\"},\n",
    "        {\"dash\": \"dashdot\"},\n",
    "        ],\n",
    "\n",
    "    [\n",
    "        {\"system\": \"N_graph_Fe\"},\n",
    "        {\"dash\": \"dot\"},\n",
    "        ],\n",
    "\n",
    "    [\n",
    "        {\"system\": \"graph_Fe\"},\n",
    "        {\"dash\": \"dash\"},\n",
    "        ],\n",
    "\n",
    "    [\n",
    "        {\"system\": \"graphene\"},\n",
    "        {\"dash\": None},\n",
    "        ],\n",
    "\n",
    "    ]\n"
   ]
  },
  {
   "cell_type": "code",
   "execution_count": null,
   "metadata": {},
   "outputs": [],
   "source": [
    "df = load_df(from_file=True, root_dir=\"..\")"
   ]
  },
  {
   "cell_type": "code",
   "execution_count": null,
   "metadata": {},
   "outputs": [],
   "source": [
    "from ase.visualize import view\n",
    "from ase.io.trajectory import Trajectory\n",
    "from ase import io\n",
    "# io.write(\"out.traj\", df.loc[2].atoms_object)\n",
    "df_tmp = df[df[\"system\"] == \"N_graph_Fe\"]\n",
    "\n",
    "images = df_tmp.iloc[0].atoms_object\n",
    "atoms = images[0]\n",
    "\n",
    "# io.write(\"out.traj\", atoms)\n",
    "# view(images)\n",
    "\n",
    "atoms_i = df.iloc[0].atoms_object[-1]\n",
    "# view(atoms_i)"
   ]
  },
  {
   "cell_type": "markdown",
   "metadata": {},
   "source": [
    "# Free Energy Diagram <a name=\"fed_all\"></a>"
   ]
  },
  {
   "cell_type": "code",
   "execution_count": null,
   "metadata": {},
   "outputs": [],
   "source": [
    "dat_lst_master = []\n",
    "\n",
    "for i_ind, group_i in enumerate(df.groupby(\"system\")):\n",
    "    df_i = group_i[1]\n",
    "    \n",
    "    # Tree Level Labels for group_i\n",
    "    tree_labels = df_i[\"tree_level_labels\"].tolist()\n",
    "    tree_labels_2 = []\n",
    "    for item in tree_labels:\n",
    "        if sorted(item) not in tree_labels_2:\n",
    "            tree_labels_2.append(sorted(item))\n",
    "    assert len(tree_labels_2) == 1\n",
    "    tree_labels_2 = tree_labels_2[0]\n",
    "\n",
    "    # i_ind = i_ind * 2\n",
    "    color_list_i = color_list[i_ind:i_ind + 2]\n",
    "\n",
    "#     print(group_i[0])\n",
    "    \n",
    "    dat_lst, layout = lowest_e_path(\n",
    "        df_i,\n",
    "        tree_labels_2,\n",
    "        color_list_i,\n",
    "        create_ideal_series=False,\n",
    "        opt_name=df_i[\"system\"].iloc[0],\n",
    "        bias=bias,\n",
    "        manual_props=\"False\",\n",
    "#         smart_format=smart_format,\n",
    "        smart_format=None,\n",
    "        )\n",
    "    dat_lst_master += dat_lst  \n",
    "\n",
    "# Adding Ideal ORR line\n",
    "ORR = ORR_Free_E_Plot()\n",
    "e_list_ideal = ORR.apply_bias(bias, ORR.ideal_energy)\n",
    "dat_ideal = ORR.create_plotly_series(\n",
    "    e_list_ideal,\n",
    "    group=\"Ideal\",\n",
    "    name=\"Ideal\",\n",
    "    color=\"red\",\n",
    "    plot_mode=\"full_lines\",\n",
    "    )\n",
    "\n",
    "dat_lst_master += dat_ideal\n",
    "\n",
    "dat_lst_master = reapply_colors(dat_lst_master)"
   ]
  },
  {
   "cell_type": "code",
   "execution_count": null,
   "metadata": {},
   "outputs": [],
   "source": [
    "py.iplot(\n",
    "    {\n",
    "        \"data\": dat_lst_master,\n",
    "        \"layout\": layout,\n",
    "        },\n",
    "    filename=\"01_fe_graph/pl_fed_all_systems.html\"\n",
    "    )"
   ]
  }
 ],
 "metadata": {
  "kernelspec": {
   "display_name": "Python 3",
   "language": "python",
   "name": "python3"
  },
  "language_info": {
   "codemirror_mode": {
    "name": "ipython",
    "version": 3
   },
   "file_extension": ".py",
   "mimetype": "text/x-python",
   "name": "python",
   "nbconvert_exporter": "python",
   "pygments_lexer": "ipython3",
   "version": "3.6.5"
  }
 },
 "nbformat": 4,
 "nbformat_minor": 2
}
