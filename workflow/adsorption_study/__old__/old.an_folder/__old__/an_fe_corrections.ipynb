{
 "cells": [
  {
   "cell_type": "markdown",
   "metadata": {},
   "source": [
    "# Import Modules"
   ]
  },
  {
   "cell_type": "code",
   "execution_count": 1,
   "metadata": {},
   "outputs": [
    {
     "name": "stdout",
     "output_type": "stream",
     "text": [
      "Divisor is Energy class instance!!!\n"
     ]
    }
   ],
   "source": [
    "# iPython Settings\n",
    "%load_ext autoreload\n",
    "%autoreload 2\n",
    "\n",
    "# Python Modules\n",
    "import sys\n",
    "sys.path.insert(0, \"..\")\n",
    "\n",
    "import copy\n",
    "\n",
    "import numpy as np\n",
    "import pandas as pd\n",
    "pd.options.mode.chained_assignment = None\n",
    "\n",
    "from ase.visualize import view\n",
    "\n",
    "import plotly.plotly as py\n",
    "import plotly.graph_objs as go\n",
    "\n",
    "# My Modules ******************************************************************\n",
    "from dft_job_automat.job_analysis import DFT_Jobs_Analysis\n",
    "from dft_job_automat.job_types_classes.dft_methods import DFT_Methods\n",
    "from orr_reaction.orr_methods import ORR_Free_E_Plot, calc_ads_e\n",
    "from orr_reaction.orr_methods import lowest_e_path, df_calc_adsorption_e, plot_all_states\n",
    "from energetics.dft_energy import Element_Refs\n",
    "\n",
    "from colors.colors import color_list\n",
    "\n",
    "# Local Imports\n",
    "from an_data_processing import load_df"
   ]
  },
  {
   "cell_type": "code",
   "execution_count": 2,
   "metadata": {},
   "outputs": [],
   "source": [
    "h2o_fe_corr = 0.013\n",
    "h2_fe_corr = -0.122\n",
    "\n",
    "def calculate_gibbs_correction(row, h2o_corr, h2_corr):\n",
    "\n",
    "    adsorbate = row[\"adsorbate\"]\n",
    "    ads_corr = row[\"gibbs_correction\"]\n",
    "\n",
    "#     print(adsorbate)\n",
    "\n",
    "    corr_tot = \"NaN\"\n",
    "    if adsorbate == \"ooh\":\n",
    "        corr_tot = ads_corr - 2 * h2o_corr + (3. / 2.) * h2_corr \n",
    "    elif adsorbate == \"o\":\n",
    "        corr_tot = ads_corr - 1 * h2o_corr + (2. / 2.) * h2_corr\n",
    "    elif adsorbate == \"oh\":\n",
    "        corr_tot = ads_corr - 1 * h2o_corr + (1. / 2.) * h2_corr\n",
    "    elif adsorbate == \"h2o\":\n",
    "        corr_tot = ads_corr - 1 * h2o_corr + (0. / 2.) * h2_corr\n",
    "\n",
    "    return(corr_tot)"
   ]
  },
  {
   "cell_type": "code",
   "execution_count": 3,
   "metadata": {},
   "outputs": [],
   "source": [
    "\n",
    "\n",
    "# tmp = - 2 * h2o_fe_corr + (3. / 2.) * h2_fe_corr\n",
    "# print(2 * h2o_fe_corr)\n",
    "# print((3. / 2.) * h2_fe_corr)\n",
    "# print(tmp)"
   ]
  },
  {
   "cell_type": "code",
   "execution_count": 4,
   "metadata": {},
   "outputs": [
    {
     "name": "stdout",
     "output_type": "stream",
     "text": [
      "Attempting to load df from pickle\n"
     ]
    }
   ],
   "source": [
    "df = load_df(from_file=True)\n",
    "df[\"new__\"] = df.apply(calculate_gibbs_correction, args=(h2o_fe_corr, h2_fe_corr), axis=1)\n",
    "\n",
    "col_list = [\n",
    "    'new__',\n",
    "    'ads_e',\n",
    "    'adsorbate',\n",
    "#     'atom_type_num_dict',\n",
    "#     'atoms_object',\n",
    "#     'charge_history',\n",
    "    'elec_energy',\n",
    "#     'final_site',\n",
    "#     'full_path',\n",
    "    'gibbs_correction',\n",
    "    'graph_site',\n",
    "#     'init_atoms',\n",
    "#     'magmom_history',\n",
    "#     'max_revision',\n",
    "    'notes',\n",
    "#     'path',\n",
    "#     'pdos_data',\n",
    "#     'revision_number',\n",
    "    'site',\n",
    "#     'spinpol',\n",
    "    'system',\n",
    "#     'tree_level_labels',\n",
    "#     'variable_list',\n",
    "    ]\n",
    "\n",
    "\n",
    "df = df[col_list]\n",
    "\n",
    "df_master = df.copy()"
   ]
  },
  {
   "cell_type": "code",
   "execution_count": 5,
   "metadata": {},
   "outputs": [],
   "source": [
    "grouped = df.groupby(\"system\")\n",
    "master_data_list = []\n",
    "for group_i in grouped:\n",
    "    df = group_i[1]\n",
    "\n",
    "    system_i = group_i[0]\n",
    "    if system_i == \"Fe_slab\":\n",
    "        color_i = color_list[0]\n",
    "    elif system_i == \"N_graph_Fe\":\n",
    "        color_i = color_list[1]\n",
    "    elif system_i == \"graphene\":\n",
    "        color_i = color_list[2]\n",
    "    else:\n",
    "        pass\n",
    "    if \"gibbs_correction\" not in list(df):\n",
    "        continue\n",
    "    \n",
    "    groupby = [\"adsorbate\"]\n",
    "    data_master = {}\n",
    "    \n",
    "    data_list_j = []\n",
    "    for group_i in df.groupby(groupby):\n",
    "#         print(group_i[0])\n",
    "        group_i = group_i[1][group_i[1][\"gibbs_correction\"] > 0.]\n",
    "        gibbs_corr_i = group_i[\"gibbs_correction\"].tolist()\n",
    "        data = [\n",
    "            go.Bar(\n",
    "                x=group_i[\"adsorbate\"], # assign x as the dataframe column 'x'\n",
    "#                 y=group_i[\"gibbs_correction\"],\n",
    "                y=group_i[\"new__\"],\n",
    "                name=system_i,\n",
    "                width = 0.25,\n",
    "#                 showlegend=False,\n",
    "                marker=dict(\n",
    "                    color=color_i,\n",
    "#                     line=dict(\n",
    "#                         color='rgb(8,48,107)',\n",
    "#                         width=1.5,\n",
    "                    ),\n",
    "          \n",
    "            )]\n",
    "\n",
    "        data_list_j = data_list_j + data\n",
    "        \n",
    "        # TODO Plot this along with the bar graph\n",
    "        mean_fe_corr = group_i[\"gibbs_correction\"].mean()\n",
    "    master_data_list += data_list_j\n"
   ]
  },
  {
   "cell_type": "code",
   "execution_count": 6,
   "metadata": {},
   "outputs": [
    {
     "data": {
      "text/html": [
       "<div>\n",
       "<style scoped>\n",
       "    .dataframe tbody tr th:only-of-type {\n",
       "        vertical-align: middle;\n",
       "    }\n",
       "\n",
       "    .dataframe tbody tr th {\n",
       "        vertical-align: top;\n",
       "    }\n",
       "\n",
       "    .dataframe thead th {\n",
       "        text-align: right;\n",
       "    }\n",
       "</style>\n",
       "<table border=\"1\" class=\"dataframe\">\n",
       "  <thead>\n",
       "    <tr style=\"text-align: right;\">\n",
       "      <th></th>\n",
       "      <th>new__</th>\n",
       "      <th>ads_e</th>\n",
       "      <th>adsorbate</th>\n",
       "      <th>elec_energy</th>\n",
       "      <th>gibbs_correction</th>\n",
       "      <th>graph_site</th>\n",
       "      <th>notes</th>\n",
       "      <th>site</th>\n",
       "      <th>system</th>\n",
       "    </tr>\n",
       "  </thead>\n",
       "  <tbody>\n",
       "    <tr>\n",
       "      <th>24</th>\n",
       "      <td>0.142416</td>\n",
       "      <td>5.305304</td>\n",
       "      <td>ooh</td>\n",
       "      <td>-1846.612104</td>\n",
       "      <td>0.351416</td>\n",
       "      <td>NaN</td>\n",
       "      <td>Desorbed</td>\n",
       "      <td>ontop</td>\n",
       "      <td>graphene</td>\n",
       "    </tr>\n",
       "    <tr>\n",
       "      <th>25</th>\n",
       "      <td>0.068616</td>\n",
       "      <td>5.305085</td>\n",
       "      <td>ooh</td>\n",
       "      <td>-1846.612138</td>\n",
       "      <td>0.277616</td>\n",
       "      <td>NaN</td>\n",
       "      <td>Desorbed</td>\n",
       "      <td>ontop</td>\n",
       "      <td>graphene</td>\n",
       "    </tr>\n",
       "    <tr>\n",
       "      <th>26</th>\n",
       "      <td>0.100600</td>\n",
       "      <td>5.250435</td>\n",
       "      <td>ooh</td>\n",
       "      <td>-1846.666973</td>\n",
       "      <td>0.309600</td>\n",
       "      <td>NaN</td>\n",
       "      <td>Desorbed</td>\n",
       "      <td>bridged</td>\n",
       "      <td>graphene</td>\n",
       "    </tr>\n",
       "    <tr>\n",
       "      <th>27</th>\n",
       "      <td>0.081957</td>\n",
       "      <td>5.314396</td>\n",
       "      <td>ooh</td>\n",
       "      <td>-1846.602827</td>\n",
       "      <td>0.290957</td>\n",
       "      <td>NaN</td>\n",
       "      <td>Desorbed</td>\n",
       "      <td>bridged</td>\n",
       "      <td>graphene</td>\n",
       "    </tr>\n",
       "    <tr>\n",
       "      <th>28</th>\n",
       "      <td>0.100807</td>\n",
       "      <td>5.238015</td>\n",
       "      <td>ooh</td>\n",
       "      <td>-1846.679393</td>\n",
       "      <td>0.309807</td>\n",
       "      <td>NaN</td>\n",
       "      <td>Desorbed</td>\n",
       "      <td>ring-center</td>\n",
       "      <td>graphene</td>\n",
       "    </tr>\n",
       "    <tr>\n",
       "      <th>29</th>\n",
       "      <td>0.096817</td>\n",
       "      <td>5.237423</td>\n",
       "      <td>ooh</td>\n",
       "      <td>-1846.679800</td>\n",
       "      <td>0.305817</td>\n",
       "      <td>NaN</td>\n",
       "      <td>Desorbed</td>\n",
       "      <td>ring-center</td>\n",
       "      <td>graphene</td>\n",
       "    </tr>\n",
       "  </tbody>\n",
       "</table>\n",
       "</div>"
      ],
      "text/plain": [
       "       new__     ads_e adsorbate  elec_energy  gibbs_correction graph_site  \\\n",
       "24  0.142416  5.305304       ooh -1846.612104          0.351416        NaN   \n",
       "25  0.068616  5.305085       ooh -1846.612138          0.277616        NaN   \n",
       "26  0.100600  5.250435       ooh -1846.666973          0.309600        NaN   \n",
       "27  0.081957  5.314396       ooh -1846.602827          0.290957        NaN   \n",
       "28  0.100807  5.238015       ooh -1846.679393          0.309807        NaN   \n",
       "29  0.096817  5.237423       ooh -1846.679800          0.305817        NaN   \n",
       "\n",
       "       notes         site    system  \n",
       "24  Desorbed        ontop  graphene  \n",
       "25  Desorbed        ontop  graphene  \n",
       "26  Desorbed      bridged  graphene  \n",
       "27  Desorbed      bridged  graphene  \n",
       "28  Desorbed  ring-center  graphene  \n",
       "29  Desorbed  ring-center  graphene  "
      ]
     },
     "execution_count": 6,
     "metadata": {},
     "output_type": "execute_result"
    }
   ],
   "source": [
    "group_i"
   ]
  },
  {
   "cell_type": "code",
   "execution_count": 7,
   "metadata": {},
   "outputs": [
    {
     "data": {
      "text/html": [
       "<iframe id=\"igraph\" scrolling=\"no\" style=\"border:none;\" seamless=\"seamless\" src=\"https://plot.ly/~flores12/178.embed\" height=\"525px\" width=\"100%\"></iframe>"
      ],
      "text/plain": [
       "<plotly.tools.PlotlyDisplay object>"
      ]
     },
     "execution_count": 7,
     "metadata": {},
     "output_type": "execute_result"
    }
   ],
   "source": [
    "layout = dict(\n",
    "    title = 'Free-energy Corrections',\n",
    "   \n",
    "    xaxis=dict(\n",
    "        title=\"ORR Species\",\n",
    "        ),\n",
    "\n",
    "    yaxis=dict(\n",
    "        title=\"Free-energy Correction [eV]\",\n",
    "        ),\n",
    "    )   \n",
    "\n",
    "fig = dict(data=master_data_list, layout=layout)\n",
    "py.iplot(fig, filename='01_fe_graph/pl_fe_corr_orr')"
   ]
  },
  {
   "cell_type": "code",
   "execution_count": 8,
   "metadata": {},
   "outputs": [
    {
     "data": {
      "text/plain": [
       "['new__',\n",
       " 'ads_e',\n",
       " 'adsorbate',\n",
       " 'elec_energy',\n",
       " 'gibbs_correction',\n",
       " 'graph_site',\n",
       " 'notes',\n",
       " 'site',\n",
       " 'system']"
      ]
     },
     "execution_count": 8,
     "metadata": {},
     "output_type": "execute_result"
    }
   ],
   "source": [
    "list(df)"
   ]
  },
  {
   "cell_type": "code",
   "execution_count": 9,
   "metadata": {},
   "outputs": [],
   "source": [
    "df = df_master.copy()\n",
    "\n",
    "master_data_list_x = []\n",
    "master_data_list_y = []\n",
    "\n",
    "master_data_list = []\n",
    "for index, row in df.iterrows():\n",
    " \n",
    "    master_data_list_x.append(row[\"adsorbate\"])\n",
    "    master_data_list_y.append(row[\"new__\"])\n",
    "    \n",
    "#     name_i = row[\"adsorbate\"] + \" | \" + row[\"system\"] + \" | \" + row[\"site\"]\n",
    "    name_i = row[\"system\"]\n",
    "    \n",
    "    data = [\n",
    "        go.Bar(\n",
    "            x=row[\"adsorbate\"],\n",
    "            y=row[\"new__\"],\n",
    "            name=name_i,\n",
    "#             width = 0.1,\n",
    "        )\n",
    "    ]\n",
    "    \n",
    "    master_data_list += data\n",
    "    "
   ]
  },
  {
   "cell_type": "code",
   "execution_count": 10,
   "metadata": {},
   "outputs": [
    {
     "data": {
      "text/html": [
       "<iframe id=\"igraph\" scrolling=\"no\" style=\"border:none;\" seamless=\"seamless\" src=\"https://plot.ly/~flores12/235.embed\" height=\"525px\" width=\"100%\"></iframe>"
      ],
      "text/plain": [
       "<plotly.tools.PlotlyDisplay object>"
      ]
     },
     "execution_count": 10,
     "metadata": {},
     "output_type": "execute_result"
    }
   ],
   "source": [
    "layout = dict(\n",
    "    title = 'Free-energy Corrections',\n",
    "    barmode = \"group\",\n",
    "    xaxis=dict(\n",
    "        title=\"ORR Species\",\n",
    "        ),\n",
    "\n",
    "    yaxis=dict(\n",
    "        title=\"Free-energy Correction [eV]\",\n",
    "        ),\n",
    "    )   \n",
    "\n",
    "fig = dict(data=master_data_list, layout=layout)\n",
    "py.iplot(fig, filename='__temp__/pl_fe_corr_orr')"
   ]
  },
  {
   "cell_type": "code",
   "execution_count": 11,
   "metadata": {},
   "outputs": [],
   "source": [
    "df = df_master.copy()\n",
    "\n",
    "grouped = df.groupby(\"adsorbate\")\n",
    "master_data_list = []\n",
    "for group_i in grouped:\n",
    "    df_i = group_i[1]"
   ]
  },
  {
   "cell_type": "code",
   "execution_count": 12,
   "metadata": {},
   "outputs": [],
   "source": [
    "\n",
    "\n",
    "data = [\n",
    "    go.Bar(\n",
    "        x=[\"A\", \"B\"],\n",
    "        y=[3.2, 2.2],\n",
    "        name=\"temp\",\n",
    "    ),\n",
    "\n",
    "    go.Bar(\n",
    "        x=[\"B\"],\n",
    "        y=[1.8, 2.6],\n",
    "        name=\"temp\",\n",
    "    ),\n",
    "\n",
    "    go.Bar(\n",
    "        x=[\"A\", \"B\"],\n",
    "        y=[4, 4.1],\n",
    "        name=\"temp\",\n",
    "    ),\n",
    "\n",
    "    go.Bar(\n",
    "        x=[\"A\", \"B\"],\n",
    "        y=[1, 2],\n",
    "        name=\"temp\",\n",
    "    ),\n",
    "\n",
    "    \n",
    "    go.Bar(\n",
    "        x=[\"B\"],\n",
    "        y=[4],\n",
    "        name=\"temp\",\n",
    "    ),\n",
    "\n",
    "    \n",
    "    go.Bar(\n",
    "        x=[\"C\"],\n",
    "        y=[1],\n",
    "        name=\"temp\",\n",
    "    ),\n",
    "\n",
    "    go.Bar(\n",
    "        x=[\"C\"],\n",
    "        y=[1],\n",
    "        name=\"temp\",\n",
    "    ),\n",
    "\n",
    "    go.Bar(\n",
    "        x=[\"B\", \"C\"],\n",
    "        y=[3.1, 4.4],\n",
    "        name=\"temp\",\n",
    "    ),\n",
    "\n",
    "\n",
    "]"
   ]
  },
  {
   "cell_type": "code",
   "execution_count": 13,
   "metadata": {},
   "outputs": [
    {
     "data": {
      "text/html": [
       "<iframe id=\"igraph\" scrolling=\"no\" style=\"border:none;\" seamless=\"seamless\" src=\"https://plot.ly/~flores12/235.embed\" height=\"525px\" width=\"100%\"></iframe>"
      ],
      "text/plain": [
       "<plotly.tools.PlotlyDisplay object>"
      ]
     },
     "execution_count": 13,
     "metadata": {},
     "output_type": "execute_result"
    }
   ],
   "source": [
    "layout = dict(\n",
    "    title = 'Free-energy Corrections',\n",
    "    barmode = \"group\",\n",
    "    xaxis=dict(\n",
    "        title=\"ORR Species\",\n",
    "        ),\n",
    "\n",
    "    yaxis=dict(\n",
    "        title=\"Free-energy Correction [eV]\",\n",
    "        ),\n",
    "    )   \n",
    "\n",
    "fig = dict(data=data, layout=layout)\n",
    "py.iplot(fig, filename='__temp__/pl_fe_corr_orr')"
   ]
  },
  {
   "cell_type": "code",
   "execution_count": null,
   "metadata": {},
   "outputs": [],
   "source": []
  }
 ],
 "metadata": {
  "kernelspec": {
   "display_name": "Python 3",
   "language": "python",
   "name": "python3"
  },
  "language_info": {
   "codemirror_mode": {
    "name": "ipython",
    "version": 3
   },
   "file_extension": ".py",
   "mimetype": "text/x-python",
   "name": "python",
   "nbconvert_exporter": "python",
   "pygments_lexer": "ipython3",
   "version": "3.6.4"
  }
 },
 "nbformat": 4,
 "nbformat_minor": 2
}
