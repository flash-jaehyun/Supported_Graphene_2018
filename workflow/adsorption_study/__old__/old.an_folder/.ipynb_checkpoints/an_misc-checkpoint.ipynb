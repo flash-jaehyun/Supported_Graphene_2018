{
 "cells": [
  {
   "cell_type": "markdown",
   "metadata": {},
   "source": [
    "# Projected DOS Analysis of Iron-Supported, N-doped Graphene & Related Systems\n",
    "***"
   ]
  },
  {
   "cell_type": "markdown",
   "metadata": {},
   "source": [
    "## Import Modules <a name=\"import-modules\"></a>"
   ]
  },
  {
   "cell_type": "code",
   "execution_count": 6,
   "metadata": {},
   "outputs": [
    {
     "name": "stdout",
     "output_type": "stream",
     "text": [
      "The autoreload extension is already loaded. To reload it, use:\n",
      "  %reload_ext autoreload\n"
     ]
    }
   ],
   "source": [
    "# iPython Settings\n",
    "%load_ext autoreload\n",
    "%autoreload 2\n",
    "\n",
    "# Python Modules\n",
    "import os\n",
    "import sys\n",
    "sys.path.insert(0, \"..\")\n",
    "\n",
    "import pandas as pd\n",
    "pd.options.mode.chained_assignment = None\n",
    "\n",
    "import plotly.graph_objs as go\n",
    "import plotly as py\n",
    "\n",
    "# py.offline.init_notebook_mode(connected=True)\n",
    "\n",
    "# My Modules ******************************************************************\n",
    "from colors.colors import color_list\n",
    "\n",
    "# Local Imports\n",
    "from an_data_processing import load_df"
   ]
  },
  {
   "cell_type": "code",
   "execution_count": 7,
   "metadata": {},
   "outputs": [
    {
     "name": "stdout",
     "output_type": "stream",
     "text": [
      "Attempting to load df from pickle\n"
     ]
    }
   ],
   "source": [
    "df_master = load_df(from_file=True, root_dir=\"..\")"
   ]
  },
  {
   "cell_type": "code",
   "execution_count": 8,
   "metadata": {},
   "outputs": [],
   "source": [
    "df = df_master.copy()\n",
    "df = df[df[\"system\"] == \"N_graph_Fe\"]\n",
    "\n",
    "pdos_data = df.iloc[0][\"pdos_data\"]\n",
    "atoms = df.iloc[0][\"init_atoms\"]"
   ]
  },
  {
   "cell_type": "code",
   "execution_count": 35,
   "metadata": {},
   "outputs": [
    {
     "data": {
      "text/html": [
       "<iframe id=\"igraph\" scrolling=\"no\" style=\"border:none;\" seamless=\"seamless\" src=\"https://plot.ly/~flores12/191.embed\" height=\"525px\" width=\"100%\"></iframe>"
      ],
      "text/plain": [
       "<plotly.tools.PlotlyDisplay object>"
      ]
     },
     "execution_count": 35,
     "metadata": {},
     "output_type": "execute_result"
    }
   ],
   "source": [
    "s_1 = pdos_data[2][0][\"s\"][0]\n",
    "s_2 = pdos_data[2][0][\"s\"][1]\n",
    "\n",
    "\n",
    "series_1 = go.Scatter(\n",
    "    y=s_1 - s_2,\n",
    "    x=pdos_data[0],\n",
    "    name=\"s[0]\",\n",
    "    )\n",
    "\n",
    "series_2 = go.Scatter(\n",
    "    y=pdos_data[2][0][\"s\"][1],\n",
    "    x=pdos_data[0],\n",
    "    name=\"s[1]\",\n",
    "    )\n",
    "\n",
    "py.plotly.iplot(\n",
    "    [series_1],\n",
    "    filename=\"__temp__/pl_pdos.html\",\n",
    "    )"
   ]
  },
  {
   "cell_type": "code",
   "execution_count": 28,
   "metadata": {},
   "outputs": [],
   "source": [
    "from density_of_states.dos import plot_pdos_dos\n",
    "\n",
    "filter_dict = {\n",
    "#     \"type\": [\"sum-up\", \"sum-down\"],\n",
    "#     \"atom_ind\": [6, 7, 8, 9, 10, 11, 12, 13, 14],\n",
    "#     \"band\": [\"d\", \"p\"],\n",
    "#     \"element\": [\"N\"],\n",
    "    }\n",
    "\n",
    "data, layout = plot_pdos_dos(pdos_data, filter_dict, atoms)"
   ]
  },
  {
   "cell_type": "code",
   "execution_count": 10,
   "metadata": {},
   "outputs": [
    {
     "data": {
      "text/html": [
       "<iframe id=\"igraph\" scrolling=\"no\" style=\"border:none;\" seamless=\"seamless\" src=\"https://plot.ly/~flores12/191.embed\" height=\"525px\" width=\"100%\"></iframe>"
      ],
      "text/plain": [
       "<plotly.tools.PlotlyDisplay object>"
      ]
     },
     "execution_count": 10,
     "metadata": {},
     "output_type": "execute_result"
    }
   ],
   "source": [
    "py.plotly.iplot(\n",
    "    {\n",
    "        \"data\": data,\n",
    "        \"layout\": layout,\n",
    "        },\n",
    "    filename=\"__temp__/pl_pdos.html\"\n",
    "    )"
   ]
  }
 ],
 "metadata": {
  "kernelspec": {
   "display_name": "Python 2",
   "language": "python",
   "name": "python2"
  },
  "language_info": {
   "codemirror_mode": {
    "name": "ipython",
    "version": 3
   },
   "file_extension": ".py",
   "mimetype": "text/x-python",
   "name": "python",
   "nbconvert_exporter": "python",
   "pygments_lexer": "ipython3",
   "version": "3.6.4"
  }
 },
 "nbformat": 4,
 "nbformat_minor": 2
}
