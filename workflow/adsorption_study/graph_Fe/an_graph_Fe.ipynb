{
 "cells": [
  {
   "cell_type": "markdown",
   "metadata": {},
   "source": [
    "# Iron-supported Graphene ORR Free Energy Diagram"
   ]
  },
  {
   "cell_type": "markdown",
   "metadata": {},
   "source": [
    "### ==== Import Modules ===="
   ]
  },
  {
   "cell_type": "code",
   "execution_count": 1,
   "metadata": {},
   "outputs": [],
   "source": [
    "# import sys\n",
    "import copy\n",
    "# import traceback\n",
    "\n",
    "import numpy as np\n",
    "import pandas as pd\n",
    "pd.options.mode.chained_assignment = None\n",
    "\n",
    "import plotly\n",
    "from plotly.graph_objs import Figure\n",
    "plotly.tools.set_credentials_file(username='flores12', api_key='Yhmt9Yq57vXUcxQmRMmY')\n",
    "\n",
    "# My Modules ******************************************************************\n",
    "from dft_job_automat.job_analysis import DFT_Jobs_Analysis\n",
    "from dft_job_automat.job_types_classes.dft_methods import DFT_Methods\n",
    "from orr_reaction.orr_methods import ORR_Free_E_Plot, calc_ads_e\n",
    "\n",
    "from orr_reaction.orr_methods import lowest_e_path, df_calc_adsorption_e, plot_all_states"
   ]
  },
  {
   "cell_type": "markdown",
   "metadata": {},
   "source": [
    "### ==== Script Inputs ===="
   ]
  },
  {
   "cell_type": "code",
   "execution_count": 2,
   "metadata": {},
   "outputs": [],
   "source": [
    "# Colors\n",
    "color_list = [\n",
    "    \"rgb(37,69,0)\",\n",
    "    \"rgb(0,76,214)\",\n",
    "    \"rgb(168,0,15)\",\n",
    "    \"rgb(0,85,162)\",\n",
    "    \"rgb(255,113,196)\",\n",
    "    ]\n",
    "\n",
    "color_list = [\n",
    "    \"rgb(113,166,190)\",\n",
    "    \"rgb(145,209,79)\",\n",
    "    \"rgb(124,78,196)\",\n",
    "    \"rgb(203,169,87)\",\n",
    "    \"rgb(200,72,150)\",\n",
    "    \"rgb(130,204,159)\",\n",
    "    \"rgb(190,82,63)\",\n",
    "    \"rgb(80,51,82)\",\n",
    "    \"rgb(81,92,54)\",\n",
    "    \"rgb(192,151,188)\",\n",
    "    ]\n",
    "\n",
    "fe_corr_dict = {\n",
    "    \"h2o\": 0.5290403581846084,\n",
    "    \"o\": 0.0777295188024034,\n",
    "    \"oh\": 0.3278711654655712,\n",
    "    \"ooh\": 0.35756420469723127,\n",
    "    }\n",
    "\n",
    "# Free Energy Corrections\n",
    "# COMBAK I'm doing it manually for now\n",
    "#fe_corr_dict = {\n",
    "#    \"h2o\": 0.,\n",
    "#    \"ooh\": 0.,\n",
    "#    # \"o\": 0.,\n",
    "#    \"o\": 0.01,\n",
    "#    # \"oh\": 0.,\n",
    "#    \"oh\": -0.25,\n",
    "#    }\n",
    "\n",
    "run_an_0 = True\n",
    "run_an_1 = True\n",
    "\n",
    "ref_scheme = \"h2o\"  # o2 or h2o\n",
    "\n",
    "bias = 0."
   ]
  },
  {
   "cell_type": "markdown",
   "metadata": {},
   "source": [
    "### ==== Reference Energies ===="
   ]
  },
  {
   "cell_type": "code",
   "execution_count": 3,
   "metadata": {},
   "outputs": [],
   "source": [
    "\n",
    "#| - Slab Energy\n",
    "# /scratch/users/flores12/03_graph_N_Fe/01_opt_struct/\n",
    "# combined-Fe-graph/FCC/5-att/1STEP/data/03-800/03-881/01-True/_1\n",
    "\n",
    "# /scratch/users/flores12/03_graph_N_Fe/01_opt_struct/\n",
    "#  combined-Fe-graph/FCC/5-att/1STEP/data/03-800/03-881/02-False/_1\n",
    "\n",
    "bare_slab = -31722.43520417364\n",
    "bare_slab_SP_t = -31722.43520417364\n",
    "bare_slab_SP_f = -31721.412152900266\n",
    "\n",
    "bare_slab_dict = {\n",
    "    False: bare_slab_SP_f,\n",
    "    True: bare_slab_SP_t,\n",
    "    }\n",
    "#__|\n",
    "\n",
    "# R21 From Pourbaix Papers\n",
    "dG_rxn_h2o = -2.4583\n",
    "\n",
    "# /scratch/users/flores12/gas_phase_molec/BEEF-vdW\n",
    "H2_dft = -32.9563981542851\n",
    "O2_dft = -883.190570481887\n",
    "H2O_dft = -476.544109028354\n",
    "\n",
    "hyd_ref = H2_dft / 2.\n",
    "\n",
    "if ref_scheme == \"h2o\":\n",
    "    oxy_ref = H2O_dft - H2_dft\n",
    "elif ref_scheme == \"o2\":\n",
    "    oxy_ref = dG_rxn_h2o + O2_dft / 2."
   ]
  },
  {
   "cell_type": "markdown",
   "metadata": {},
   "source": [
    "### ==== Initiate Instance ===="
   ]
  },
  {
   "cell_type": "code",
   "execution_count": 4,
   "metadata": {},
   "outputs": [],
   "source": [
    "dft_inst = DFT_Methods(\n",
    "    methods_to_run=[\n",
    "        \"elec_energy\",\n",
    "        \"atom_type_num_dict\",\n",
    "        \"init_atoms\",\n",
    "        \"atoms_object\",\n",
    "        \"magmom_charge_history\",\n",
    "        ],\n",
    "    )\n",
    "\n",
    "Jobs = DFT_Jobs_Analysis(\n",
    "    update_job_state=False,\n",
    "    job_type_class=dft_inst,\n",
    "    # load_dataframe=True,\n",
    "    load_dataframe=True,\n",
    "    working_dir=\"1STEP\",\n",
    "    )\n",
    "\n",
    "df = Jobs.filter_early_revisions(Jobs.data_frame)\n",
    "\n",
    "df_master = df.copy()\n",
    "\n",
    "# from dft_job_automat.job_types_classes.data_frame_methods import \\\n",
    "#     DataFrame_Methods\n",
    "# DF = DataFrame_Methods(df)\n",
    "# DF.create_atoms_objects(atoms_row=\"atoms_object\")\n"
   ]
  },
  {
   "cell_type": "markdown",
   "metadata": {},
   "source": [
    "### ==== Data Processing ===="
   ]
  },
  {
   "cell_type": "markdown",
   "metadata": {},
   "source": [
    "#### == Filtering Data =="
   ]
  },
  {
   "cell_type": "code",
   "execution_count": 5,
   "metadata": {},
   "outputs": [],
   "source": [
    "# tmp = df[np.isfinite(df[\"elec_energy\"]) == True]\n",
    "# tmp = df[np.isfinite(df[\"elec_energy\"]) == True]\n",
    "# # df = df[df[\"job_state\"] == \"SUCCEEDED\"]\n",
    "#\n",
    "# finite_e_rows = np.isfinite(df[\"elec_energy\"]) == True\n",
    "# df = df[finite_e_rows]\n",
    "\n",
    "\n",
    "\n",
    "# df = df[df[\"spinpol\"] == True]\n",
    "# df = df[df[\"notes\"] != \"Desorbed\"]"
   ]
  },
  {
   "cell_type": "markdown",
   "metadata": {},
   "source": [
    "#### == Removing Unnecessary Columns =="
   ]
  },
  {
   "cell_type": "code",
   "execution_count": 6,
   "metadata": {},
   "outputs": [],
   "source": [
    "col_to_remove = [\n",
    "    \"variable_list\",\n",
    "    \"init_atoms\",\n",
    "    \"atoms_object\",\n",
    "    ]\n",
    "\n",
    "df = df.drop(col_to_remove, axis=1)"
   ]
  },
  {
   "cell_type": "markdown",
   "metadata": {},
   "source": [
    "#### == Adsorption Energies =="
   ]
  },
  {
   "cell_type": "code",
   "execution_count": 7,
   "metadata": {},
   "outputs": [],
   "source": [
    "ads_e_list = []\n",
    "for index, row in df.iterrows():\n",
    "\n",
    "    corr = fe_corr_dict[row[\"adsorbate\"]]\n",
    "    bare_e = bare_slab_dict[row[\"spinpol\"]]\n",
    "\n",
    "    ads_e_i = calc_ads_e(\n",
    "        row,\n",
    "        # bare_slab,\n",
    "        bare_e,\n",
    "        correction=corr,\n",
    "        oxy_ref_e=oxy_ref,\n",
    "        hyd_ref_e=hyd_ref,\n",
    "        )\n",
    "\n",
    "    ads_e_list.append(ads_e_i)\n",
    "\n",
    "df[\"ads_e\"] = np.array(ads_e_list)\n",
    "df_master = copy.deepcopy(df)"
   ]
  },
  {
   "cell_type": "markdown",
   "metadata": {},
   "source": [
    "### ==== Data Analysis ====\n"
   ]
  },
  {
   "cell_type": "markdown",
   "metadata": {},
   "source": [
    "#### === Analysis 1 (All States Plotted) ==="
   ]
  },
  {
   "cell_type": "code",
   "execution_count": 9,
   "metadata": {},
   "outputs": [
    {
     "data": {
      "text/html": [
       "<iframe id=\"igraph\" scrolling=\"no\" style=\"border:none;\" seamless=\"seamless\" src=\"https://plot.ly/~flores12/144.embed\" height=\"600.0px\" width=\"800.0px\"></iframe>"
      ],
      "text/plain": [
       "<plotly.tools.PlotlyDisplay object>"
      ]
     },
     "execution_count": 9,
     "metadata": {},
     "output_type": "execute_result"
    }
   ],
   "source": [
    "dat_lst1, layout1 = plot_all_states(df_master, Jobs.tree_level_labels, color_list, bias=0.)\n",
    "\n",
    "import plotly.plotly as py\n",
    "py.iplot(\n",
    "    {\n",
    "        \"data\": dat_lst1,\n",
    "        \"layout\": layout1,\n",
    "        },\n",
    "    filename=\"pl_fed_supp_graph_01.html\"\n",
    "    )"
   ]
  },
  {
   "cell_type": "markdown",
   "metadata": {},
   "source": [
    "#### == Analysis 2 (Minimum Energy States) =="
   ]
  },
  {
   "cell_type": "code",
   "execution_count": null,
   "metadata": {},
   "outputs": [],
   "source": [
    "dat_lst, layout = lowest_e_path(df_master, Jobs.tree_level_labels, color_list, bias=0.)\n",
    "\n",
    "py.iplot(\n",
    "    {\n",
    "        \"data\": dat_lst,\n",
    "        \"layout\": layout,\n",
    "        },\n",
    "    filename=\"pl_fed_supp_graph_02.html\"\n",
    "    )"
   ]
  },
  {
   "cell_type": "markdown",
   "metadata": {},
   "source": [
    "#### Analysis 3 (Spin State Configurations)"
   ]
  },
  {
   "cell_type": "code",
   "execution_count": null,
   "metadata": {},
   "outputs": [],
   "source": [
    "def proc_df_i(df, elem=\"Fe\"):\n",
    "    \"\"\"\n",
    "    \"\"\"\n",
    "    #| - proc_df_i\n",
    "#    df = df_mm\n",
    "#    elem = \"Fe\"\n",
    "\n",
    "    max_iter = df[\"iteration\"].max()\n",
    "\n",
    "    df = df[df[\"iteration\"] == max_iter]\n",
    "    df = df[df[\"element\"] == elem]\n",
    "\n",
    "    # print(df)\n",
    "    return(df)\n",
    "    #__|\n",
    "#df[\"magmom_history\"].iloc[0]\n",
    "\n",
    "import numpy as np\n",
    "\n",
    "df_list = []\n",
    "for index, row in df.iterrows():\n",
    "    df_mm = row[\"magmom_history\"]\n",
    "\n",
    "    if isinstance(df_mm, pd.DataFrame):\n",
    "        df_out_i = proc_df_i(df_mm)\n",
    "        df_list.append(df_out_i)\n",
    "\n",
    "df_new = pd.concat(df_list)\n",
    "\n",
    "import cufflinks as cf\n",
    "\n",
    "df_new.iplot(kind=\"scatter\", mode=\"markers\", x=\"atom_num\", y=\"magmom\")"
   ]
  }
 ],
 "metadata": {
  "kernelspec": {
   "display_name": "Python 3",
   "language": "python",
   "name": "python3"
  },
  "language_info": {
   "codemirror_mode": {
    "name": "ipython",
    "version": 3
   },
   "file_extension": ".py",
   "mimetype": "text/x-python",
   "name": "python",
   "nbconvert_exporter": "python",
   "pygments_lexer": "ipython3",
   "version": "3.6.4"
  }
 },
 "nbformat": 4,
 "nbformat_minor": 2
}
