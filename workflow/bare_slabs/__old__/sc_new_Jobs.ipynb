{
 "cells": [
  {
   "cell_type": "markdown",
   "metadata": {},
   "source": [
    "Build a DFT_Jobs class from disorganized individual directories.\n",
    "\n",
    "Author: Raul A. Flores"
   ]
  },
  {
   "cell_type": "code",
   "execution_count": 5,
   "metadata": {},
   "outputs": [
    {
     "name": "stdout",
     "output_type": "stream",
     "text": [
      "The autoreload extension is already loaded. To reload it, use:\n",
      "  %reload_ext autoreload\n"
     ]
    }
   ],
   "source": [
    "%load_ext autoreload\n",
    "%autoreload 2\n",
    "\n",
    "import os\n",
    "import sys\n",
    "\n",
    "from dft_job_automat.job_setup import DFT_Jobs_Setup"
   ]
  },
  {
   "cell_type": "code",
   "execution_count": 6,
   "metadata": {},
   "outputs": [],
   "source": [
    "sc_dir = os.environ[\"sc\"]\n",
    "pre_dir = sc_dir + \"/__temp__/10_Job_single_dirs/data\"\n",
    "dir_list = [\n",
    "    pre_dir + \"/graphene\",\n",
    "    pre_dir + \"/N_doped_graph_Fe\",\n",
    "\n",
    "#     pre_dir + \"/graphene/_1\",\n",
    "#     pre_dir + \"/N_doped_graph_Fe/_4\",\n",
    "\n",
    "    # \"/scratch/users/flores12/03_graph_N_Fe/01_opt_struct/graphene/spinpol_False/_1\",\n",
    "    # \"/scratch/users/flores12/03_graph_N_Fe/01_opt_struct/N_doped_graph_Fe/no_spin/01_N_trifold/_4\",\n",
    "    ]"
   ]
  },
  {
   "cell_type": "code",
   "execution_count": 7,
   "metadata": {},
   "outputs": [
    {
     "name": "stdout",
     "output_type": "stream",
     "text": [
      "Couldn't read /jobs_bin/dir_structure.json\n",
      "old - Reading dir_structure.json file                         from root_dir\n",
      "Couldn't read /dir_structure.json\n"
     ]
    }
   ],
   "source": [
    "Jobs = DFT_Jobs_Setup(\n",
    "    # system=\"aws\",\n",
    "    tree_level=None,\n",
    "    level_entries=None,\n",
    "    indiv_dir_lst=dir_list,\n",
    "    # skip_dirs_lst=None,\n",
    "    working_dir=\".\",\n",
    "    folders_exist=True,\n",
    "    )\n",
    "\n",
    "Job_l = Jobs.Job_list"
   ]
  },
  {
   "cell_type": "code",
   "execution_count": 8,
   "metadata": {},
   "outputs": [],
   "source": [
    "# Job_l[0].max_revision\n",
    "# # Jobs.cluster.cluster\n",
    "# # Jobs.__gen_datatable__()\n",
    "\n",
    "# Jobs.folders_exist\n",
    "# # Jobs.root_dir\n",
    "# Jobs.data_frame"
   ]
  }
 ],
 "metadata": {
  "kernelspec": {
   "display_name": "Python 3",
   "language": "python",
   "name": "python3"
  },
  "language_info": {
   "codemirror_mode": {
    "name": "ipython",
    "version": 3
   },
   "file_extension": ".py",
   "mimetype": "text/x-python",
   "name": "python",
   "nbconvert_exporter": "python",
   "pygments_lexer": "ipython3",
   "version": "3.6.4"
  }
 },
 "nbformat": 4,
 "nbformat_minor": 2
}
