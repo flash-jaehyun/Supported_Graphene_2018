{
 "cells": [
  {
   "cell_type": "markdown",
   "metadata": {},
   "source": [
    "# Import Modules <a name=\"import-modules\"></a>"
   ]
  },
  {
   "cell_type": "code",
   "execution_count": 1,
   "metadata": {},
   "outputs": [],
   "source": [
    "# iPython Settings\n",
    "%load_ext autoreload\n",
    "%autoreload 2\n",
    "\n",
    "import os\n",
    "\n",
    "import copy\n",
    "from itertools import compress\n",
    "\n",
    "import numpy as np\n",
    "\n",
    "import plotly as py\n",
    "import plotly.graph_objs as go\n",
    "from plotly import tools\n",
    "\n",
    "import pandas as pd\n",
    "pd.options.mode.chained_assignment = None\n",
    "\n",
    "from ase.visualize import view\n",
    "\n",
    "# My Modules ******************************************************************\n",
    "from dft_job_automat.job_analysis import DFT_Jobs_Analysis\n",
    "from dft_job_automat.job_types_classes.dft_methods import DFT_Methods\n",
    "from colors.colors import color_list\n",
    "\n",
    "# from density_of_states.dos import plot_pdos_dos\n",
    "from dft_post_analysis.bands import plot_bands, filter_bands_data\n",
    "from dft_post_analysis.dos import plot_pdos_dos, filter_pdos_data\n",
    "\n",
    "from dft_post_analysis.dos_bands_combined import plot_pdos_bands\n",
    "\n",
    "from misc_modules.numpy_methods import make_filter_list"
   ]
  },
  {
   "cell_type": "markdown",
   "metadata": {},
   "source": [
    "# Methods"
   ]
  },
  {
   "cell_type": "markdown",
   "metadata": {},
   "source": [
    "# Initiate Instance"
   ]
  },
  {
   "cell_type": "code",
   "execution_count": 3,
   "metadata": {},
   "outputs": [],
   "source": [
    "research_dir = os.environ[\"norskov_research\"]\n",
    "data_pre_dir = research_dir + \\\n",
    "    \"/04_comp_clusters/02_DATA/01_fe_graph_proj/bare_slabs/jobs_bin\"\n",
    "\n",
    "Jobs = DFT_Jobs_Analysis(\n",
    "    update_job_state=False,\n",
    "    job_type_class=None,\n",
    "    load_dataframe=True,\n",
    "    dataframe_dir=data_pre_dir,\n",
    "    working_dir=\".\",\n",
    "    )\n",
    "\n",
    "df = Jobs.filter_early_revisions(Jobs.data_frame)\n",
    "\n",
    "# Selecting Relevent Columns\n",
    "df = df[\n",
    "    [\n",
    "        'job_type',\n",
    "        'max_revision',\n",
    "        'overlayer_pos',\n",
    "        'path',\n",
    "        'revision_number',\n",
    "        'spinpol',\n",
    "        'system',\n",
    "        'elec_energy',\n",
    "        'pdos_data',\n",
    "        'bands_data',\n",
    "        'init_atoms',\n",
    "        ]\n",
    "    ]"
   ]
  },
  {
   "cell_type": "markdown",
   "metadata": {},
   "source": [
    "# Script Inputs"
   ]
  },
  {
   "cell_type": "code",
   "execution_count": 4,
   "metadata": {},
   "outputs": [],
   "source": [
    "plotly_root_dir = \"__temp__\"\n",
    "perc_keep_pdos=0.01\n",
    "perc_keep_bands=0.2"
   ]
  },
  {
   "cell_type": "markdown",
   "metadata": {},
   "source": [
    "# --------------------------------------------------------------"
   ]
  },
  {
   "cell_type": "markdown",
   "metadata": {},
   "source": [
    "# Bare Fe"
   ]
  },
  {
   "cell_type": "code",
   "execution_count": 5,
   "metadata": {},
   "outputs": [
    {
     "name": "stdout",
     "output_type": "stream",
     "text": [
      "KSDKFJDSJIFJSIDJFISD\n",
      "This is the format of your plot grid:\n",
      "[ (1,1) x1,y1 ]  [ (1,2) x2,y1 ]\n",
      "\n"
     ]
    },
    {
     "data": {
      "text/html": [
       "<iframe id=\"igraph\" scrolling=\"no\" style=\"border:none;\" seamless=\"seamless\" src=\"https://plot.ly/~flores12/238.embed\" height=\"525px\" width=\"100%\"></iframe>"
      ],
      "text/plain": [
       "<plotly.tools.PlotlyDisplay object>"
      ]
     },
     "execution_count": 5,
     "metadata": {},
     "output_type": "execute_result"
    }
   ],
   "source": [
    "df_tmp = df.copy()\n",
    "df_tmp = df_tmp[df_tmp[\"system\"] == \"Fe_slab\"]\n",
    "df_tmp = df_tmp[df_tmp[\"spinpol\"] == True]\n",
    "\n",
    "ind_list = df_tmp.index.tolist()\n",
    "\n",
    "if len(ind_list) == 1:\n",
    "    ind = ind_list[0]\n",
    "else:\n",
    "    import sys\n",
    "    sys.exit()\n",
    "\n",
    "plot_name = plotly_root_dir + \"/dos/pl_pdos_bands_Fe_slab.html\"\n",
    "plot_title = \"FCC Iron (111) spinpol: True\"\n",
    "pdos_filter_dict = {\n",
    "#     \"type\": [\"sum-up\", \"sum-down\"],\n",
    "#     \"atom_ind\": [3],\n",
    "#     \"atom_ind\": [11]  \n",
    "#     \"band\": [\"d\"],\n",
    "#     \"element\": [\"Fe\"],\n",
    "#     \"type\": [\"sum\"],\n",
    "    }\n",
    "\n",
    "entry = df.loc[ind]\n",
    "pdos_data = entry.pdos_data\n",
    "bands_data = entry.bands_data\n",
    "\n",
    "pdos_data = filter_pdos_data(pdos_data, percent_keep=perc_keep_pdos)\n",
    "bands_data = filter_bands_data(bands_data, perc_keep_bands)\n",
    "\n",
    "# view(entry.init_atoms)\n",
    "\n",
    "# Band Analysis\n",
    "bands_data_out, bands_layout = plot_bands(bands_data)\n",
    "\n",
    "# PDOS & DOS Analysis\n",
    "dos_data_out, pdos_data_out, dos_layout = plot_pdos_dos(\n",
    "    pdos_data,\n",
    "    entry.init_atoms,\n",
    "    filter_dict=pdos_filter_dict,\n",
    "    group=\"band\",\n",
    "    e_range=[-1, 1],\n",
    "    plot_title=\"N-doped Graphene Supported on FCC Fe(111)\",\n",
    "    )\n",
    "\n",
    "# del dos_layout[\"xaxis\"][\"range\"]\n",
    "\n",
    "fig = plot_pdos_bands(\n",
    "    pdos_data_out,\n",
    "    dos_data_out,\n",
    "    bands_data_out,\n",
    "    dos_layout,\n",
    "    bands_layout,\n",
    "    plot_title=plot_title,\n",
    "    )\n",
    "py.plotly.iplot(fig, filename=plot_name)"
   ]
  },
  {
   "cell_type": "code",
   "execution_count": 6,
   "metadata": {},
   "outputs": [
    {
     "name": "stdout",
     "output_type": "stream",
     "text": [
      "KSDKFJDSJIFJSIDJFISD\n",
      "This is the format of your plot grid:\n",
      "[ (1,1) x1,y1 ]  [ (1,2) x2,y1 ]\n",
      "\n"
     ]
    },
    {
     "data": {
      "text/html": [
       "<iframe id=\"igraph\" scrolling=\"no\" style=\"border:none;\" seamless=\"seamless\" src=\"https://plot.ly/~flores12/238.embed\" height=\"525px\" width=\"100%\"></iframe>"
      ],
      "text/plain": [
       "<plotly.tools.PlotlyDisplay object>"
      ]
     },
     "execution_count": 6,
     "metadata": {},
     "output_type": "execute_result"
    }
   ],
   "source": [
    "df_tmp = df.copy()\n",
    "df_tmp = df_tmp[df_tmp[\"system\"] == \"Fe_slab\"]\n",
    "df_tmp = df_tmp[df_tmp[\"spinpol\"] == False]\n",
    "\n",
    "ind_list = df_tmp.index.tolist()\n",
    "\n",
    "if len(ind_list) == 1:\n",
    "    ind = ind_list[0]\n",
    "else:\n",
    "    import sys\n",
    "    sys.exit()\n",
    "\n",
    "plot_name = plotly_root_dir + \"/dos/pl_pdos_bands_Fe_slab.html\"\n",
    "plot_title = \"FCC Iron (111) spinpol: False\"\n",
    "pdos_filter_dict = {\n",
    "#     \"type\": [\"sum-up\", \"sum-down\"],\n",
    "#     \"atom_ind\": [3],\n",
    "#     \"atom_ind\": [11]  \n",
    "#     \"band\": [\"d\"],\n",
    "#     \"element\": [\"Fe\"],\n",
    "#     \"type\": [\"sum\"],\n",
    "    }\n",
    "\n",
    "entry = df.loc[ind]\n",
    "pdos_data = entry.pdos_data\n",
    "bands_data = entry.bands_data\n",
    "\n",
    "pdos_data = filter_pdos_data(pdos_data, percent_keep=perc_keep_pdos)\n",
    "bands_data = filter_bands_data(bands_data, perc_keep_bands)\n",
    "\n",
    "# view(entry.init_atoms)\n",
    "\n",
    "# Band Analysis\n",
    "bands_data_out, bands_layout = plot_bands(bands_data)\n",
    "\n",
    "# PDOS & DOS Analysis\n",
    "dos_data_out, pdos_data_out, dos_layout = plot_pdos_dos(\n",
    "    pdos_data,\n",
    "    entry.init_atoms,\n",
    "    filter_dict=pdos_filter_dict,\n",
    "    group=\"band\",\n",
    "    e_range=[-1, 1],\n",
    "    plot_title=\"N-doped Graphene Supported on FCC Fe(111)\",\n",
    "    )\n",
    "\n",
    "# del dos_layout[\"xaxis\"][\"range\"]\n",
    "\n",
    "fig = plot_pdos_bands(\n",
    "    pdos_data_out,\n",
    "    dos_data_out,\n",
    "    bands_data_out,\n",
    "    dos_layout,\n",
    "    bands_layout,\n",
    "    plot_title=plot_title,\n",
    "    )\n",
    "py.plotly.iplot(fig, filename=plot_name)"
   ]
  },
  {
   "cell_type": "markdown",
   "metadata": {},
   "source": [
    "# Bare Graphene"
   ]
  },
  {
   "cell_type": "code",
   "execution_count": 7,
   "metadata": {},
   "outputs": [
    {
     "name": "stdout",
     "output_type": "stream",
     "text": [
      "KSDKFJDSJIFJSIDJFISD\n",
      "This is the format of your plot grid:\n",
      "[ (1,1) x1,y1 ]  [ (1,2) x2,y1 ]\n",
      "\n"
     ]
    },
    {
     "data": {
      "text/html": [
       "<iframe id=\"igraph\" scrolling=\"no\" style=\"border:none;\" seamless=\"seamless\" src=\"https://plot.ly/~flores12/242.embed\" height=\"525px\" width=\"100%\"></iframe>"
      ],
      "text/plain": [
       "<plotly.tools.PlotlyDisplay object>"
      ]
     },
     "execution_count": 7,
     "metadata": {},
     "output_type": "execute_result"
    }
   ],
   "source": [
    "df_tmp = df.copy()\n",
    "df_tmp = df_tmp[df_tmp[\"system\"] == \"graphene\"]\n",
    "df_tmp = df_tmp[df_tmp[\"spinpol\"] == True]\n",
    "\n",
    "ind_list = df_tmp.index.tolist()\n",
    "\n",
    "if len(ind_list) == 1:\n",
    "    ind = ind_list[0]\n",
    "else:\n",
    "    import sys\n",
    "    sys.exit()\n",
    "   \n",
    "plot_name = plotly_root_dir + \"/01_fe_graph/dos/pl_pdos_bands_graphene.html\"\n",
    "plot_title = \"Prestine Graphene spinpol: True\"\n",
    "pdos_filter_dict = {\n",
    "#     \"type\": [\"sum-up\", \"sum-down\"],\n",
    "    \"atom_ind\": [3],\n",
    "#     \"atom_ind\": [11]  \n",
    "#     \"band\": [\"d\"],\n",
    "#     \"element\": [\"Fe\"],\n",
    "#     \"type\": [\"sum\"],\n",
    "    }\n",
    "\n",
    "entry = df.loc[ind]\n",
    "pdos_data = entry.pdos_data\n",
    "bands_data = entry.bands_data\n",
    "\n",
    "pdos_data = filter_pdos_data(pdos_data, percent_keep=perc_keep_pdos)\n",
    "bands_data = filter_bands_data(bands_data, perc_keep_bands)\n",
    "\n",
    "# view(entry.init_atoms)\n",
    "\n",
    "# Band Analysis\n",
    "bands_data_out, bands_layout = plot_bands(bands_data)\n",
    "\n",
    "# PDOS & DOS Analysis\n",
    "dos_data_out, pdos_data_out, dos_layout = plot_pdos_dos(\n",
    "    pdos_data,\n",
    "    entry.init_atoms,\n",
    "    filter_dict=pdos_filter_dict,\n",
    "    group=\"band\",\n",
    "    e_range=[-1, 1],\n",
    "    plot_title=\"N-doped Graphene Supported on FCC Fe(111)\",\n",
    "    )\n",
    "\n",
    "# del dos_layout[\"xaxis\"][\"range\"]\n",
    "\n",
    "fig = plot_pdos_bands(\n",
    "    pdos_data_out,\n",
    "    dos_data_out,\n",
    "    bands_data_out,\n",
    "    dos_layout,\n",
    "    bands_layout,\n",
    "    plot_title=plot_title,\n",
    "    )\n",
    "py.plotly.iplot(fig, filename=plot_name)"
   ]
  },
  {
   "cell_type": "code",
   "execution_count": 8,
   "metadata": {},
   "outputs": [
    {
     "name": "stdout",
     "output_type": "stream",
     "text": [
      "KSDKFJDSJIFJSIDJFISD\n",
      "This is the format of your plot grid:\n",
      "[ (1,1) x1,y1 ]  [ (1,2) x2,y1 ]\n",
      "\n"
     ]
    },
    {
     "data": {
      "text/html": [
       "<iframe id=\"igraph\" scrolling=\"no\" style=\"border:none;\" seamless=\"seamless\" src=\"https://plot.ly/~flores12/242.embed\" height=\"525px\" width=\"100%\"></iframe>"
      ],
      "text/plain": [
       "<plotly.tools.PlotlyDisplay object>"
      ]
     },
     "execution_count": 8,
     "metadata": {},
     "output_type": "execute_result"
    }
   ],
   "source": [
    "df_tmp = df.copy()\n",
    "df_tmp = df_tmp[df_tmp[\"system\"] == \"graphene\"]\n",
    "df_tmp = df_tmp[df_tmp[\"spinpol\"] == False]\n",
    "\n",
    "ind_list = df_tmp.index.tolist()\n",
    "\n",
    "if len(ind_list) == 1:\n",
    "    ind = ind_list[0]\n",
    "else:\n",
    "    import sys\n",
    "    sys.exit()\n",
    "   \n",
    "plot_name = plotly_root_dir + \"/01_fe_graph/dos/pl_pdos_bands_graphene.html\"\n",
    "plot_title = \"Prestine Graphene spinpol: False\"\n",
    "pdos_filter_dict = {\n",
    "#     \"type\": [\"sum-up\", \"sum-down\"],\n",
    "    \"atom_ind\": [3],\n",
    "#     \"atom_ind\": [11]  \n",
    "#     \"band\": [\"d\"],\n",
    "#     \"element\": [\"Fe\"],\n",
    "#     \"type\": [\"sum\"],\n",
    "    }\n",
    "\n",
    "entry = df.loc[ind]\n",
    "pdos_data = entry.pdos_data\n",
    "bands_data = entry.bands_data\n",
    "\n",
    "pdos_data = filter_pdos_data(pdos_data, percent_keep=perc_keep_pdos)\n",
    "bands_data = filter_bands_data(bands_data, perc_keep_bands)\n",
    "\n",
    "# view(entry.init_atoms)\n",
    "\n",
    "# Band Analysis\n",
    "bands_data_out, bands_layout = plot_bands(bands_data)\n",
    "\n",
    "# PDOS & DOS Analysis\n",
    "dos_data_out, pdos_data_out, dos_layout = plot_pdos_dos(\n",
    "    pdos_data,\n",
    "    entry.init_atoms,\n",
    "    filter_dict=pdos_filter_dict,\n",
    "    group=\"band\",\n",
    "    e_range=[-1, 1],\n",
    "    plot_title=\"N-doped Graphene Supported on FCC Fe(111)\",\n",
    "    )\n",
    "\n",
    "# del dos_layout[\"xaxis\"][\"range\"]\n",
    "fig = plot_pdos_bands(\n",
    "    pdos_data_out,\n",
    "    dos_data_out,\n",
    "    bands_data_out,\n",
    "    dos_layout,\n",
    "    bands_layout,\n",
    "    plot_title=plot_title,\n",
    "    )\n",
    "\n",
    "# fig = plot_pdos_bands(\n",
    "#     pdos_data_out,\n",
    "#     dos_data_out,\n",
    "#     bands_data,\n",
    "#     dos_layout,\n",
    "#     bands_layout,\n",
    "#     plot_title=plot_title,\n",
    "#     )\n",
    "\n",
    "py.plotly.iplot(fig, filename=plot_name)"
   ]
  },
  {
   "cell_type": "markdown",
   "metadata": {},
   "source": [
    "# Fe-supported Graphene"
   ]
  },
  {
   "cell_type": "code",
   "execution_count": 9,
   "metadata": {},
   "outputs": [
    {
     "name": "stdout",
     "output_type": "stream",
     "text": [
      "KSDKFJDSJIFJSIDJFISD\n",
      "This is the format of your plot grid:\n",
      "[ (1,1) x1,y1 ]  [ (1,2) x2,y1 ]\n",
      "\n"
     ]
    },
    {
     "data": {
      "text/html": [
       "<iframe id=\"igraph\" scrolling=\"no\" style=\"border:none;\" seamless=\"seamless\" src=\"https://plot.ly/~flores12/246.embed\" height=\"525px\" width=\"100%\"></iframe>"
      ],
      "text/plain": [
       "<plotly.tools.PlotlyDisplay object>"
      ]
     },
     "execution_count": 9,
     "metadata": {},
     "output_type": "execute_result"
    }
   ],
   "source": [
    "df_tmp = df.copy()\n",
    "df_tmp = df_tmp[df_tmp[\"system\"] == \"graph_Fe\"]\n",
    "df_tmp = df_tmp[df_tmp[\"spinpol\"] == False]\n",
    "# df_tmp = df_tmp[df_tmp[\"overlayer_pos\"] == \"N_trifold\"]\n",
    "\n",
    "ind_list = df_tmp.index.tolist()\n",
    "\n",
    "if len(ind_list) == 1:\n",
    "    ind = ind_list[0]\n",
    "else:\n",
    "    import sys\n",
    "    sys.exit()\n",
    "\n",
    "# ind = 9\n",
    "\n",
    "plot_name = plotly_root_dir + \"/dos/pl_pdos_bands_N_graphene_Fe.html\"\n",
    "plot_title = \"Graphene Supported on Iron Spinpol: False\"\n",
    "pdos_filter_dict = {\n",
    "#     \"type\": [\"sum-up\", \"sum-down\"],\n",
    "#     \"atom_ind\": [3],\n",
    "    \"atom_ind\": [11]  \n",
    "#     \"band\": [\"d\"],\n",
    "#     \"element\": [\"Fe\"],\n",
    "#     \"type\": [\"sum\"],\n",
    "    }\n",
    "\n",
    "entry = df.loc[ind]\n",
    "pdos_data = entry.pdos_data\n",
    "bands_data = entry.bands_data\n",
    "\n",
    "pdos_data = filter_pdos_data(pdos_data, percent_keep=perc_keep_pdos)\n",
    "bands_data = filter_bands_data(bands_data, perc_keep_bands)\n",
    "\n",
    "# view(entry.init_atoms)\n",
    "\n",
    "# Band Analysis\n",
    "bands_data_out, bands_layout = plot_bands(bands_data)\n",
    "\n",
    "# PDOS & DOS Analysis\n",
    "dos_data_out, pdos_data_out, dos_layout = plot_pdos_dos(\n",
    "    pdos_data,\n",
    "    entry.init_atoms,\n",
    "    filter_dict=pdos_filter_dict,\n",
    "    group=None,\n",
    "    e_range=[-1, 1],\n",
    "    plot_title=\"N-doped Graphene Supported on FCC Fe(111)\",\n",
    "    )\n",
    "\n",
    "# del dos_layout[\"xaxis\"][\"range\"]\n",
    "\n",
    "fig = plot_pdos_bands(\n",
    "    pdos_data_out,\n",
    "    dos_data_out,\n",
    "    bands_data_out,\n",
    "    dos_layout,\n",
    "    bands_layout,\n",
    "    plot_title=plot_title,\n",
    "    )\n",
    "\n",
    "py.plotly.iplot(fig, filename=plot_name)"
   ]
  },
  {
   "cell_type": "code",
   "execution_count": 10,
   "metadata": {},
   "outputs": [
    {
     "name": "stdout",
     "output_type": "stream",
     "text": [
      "KSDKFJDSJIFJSIDJFISD\n",
      "This is the format of your plot grid:\n",
      "[ (1,1) x1,y1 ]  [ (1,2) x2,y1 ]\n",
      "\n"
     ]
    },
    {
     "data": {
      "text/html": [
       "<iframe id=\"igraph\" scrolling=\"no\" style=\"border:none;\" seamless=\"seamless\" src=\"https://plot.ly/~flores12/246.embed\" height=\"525px\" width=\"100%\"></iframe>"
      ],
      "text/plain": [
       "<plotly.tools.PlotlyDisplay object>"
      ]
     },
     "execution_count": 10,
     "metadata": {},
     "output_type": "execute_result"
    }
   ],
   "source": [
    "df_tmp = df.copy()\n",
    "df_tmp = df_tmp[df_tmp[\"system\"] == \"graph_Fe\"]\n",
    "df_tmp = df_tmp[df_tmp[\"spinpol\"] == True]\n",
    "# df_tmp = df_tmp[df_tmp[\"overlayer_pos\"] == \"N_trifold\"]\n",
    "\n",
    "ind_list = df_tmp.index.tolist()\n",
    "\n",
    "if len(ind_list) == 1:\n",
    "    ind = ind_list[0]\n",
    "else:\n",
    "    import sys\n",
    "    sys.exit()\n",
    "\n",
    "# ind = 9\n",
    "\n",
    "plot_name = plotly_root_dir + \"/dos/pl_pdos_bands_N_graphene_Fe.html\"\n",
    "plot_title = \"Graphene Supported on Iron Spinpol: False\"\n",
    "pdos_filter_dict = {\n",
    "#     \"type\": [\"sum-up\", \"sum-down\"],\n",
    "#     \"atom_ind\": [3],\n",
    "    \"atom_ind\": [11]  \n",
    "#     \"band\": [\"d\"],\n",
    "#     \"element\": [\"Fe\"],\n",
    "#     \"type\": [\"sum\"],\n",
    "    }\n",
    "\n",
    "entry = df.loc[ind]\n",
    "pdos_data = entry.pdos_data\n",
    "bands_data = entry.bands_data\n",
    "\n",
    "pdos_data = filter_pdos_data(pdos_data, percent_keep=perc_keep_pdos)\n",
    "bands_data = filter_bands_data(bands_data, perc_keep_bands)\n",
    "\n",
    "# view(entry.init_atoms)\n",
    "\n",
    "# Band Analysis\n",
    "bands_data_out, bands_layout = plot_bands(bands_data)\n",
    "\n",
    "# PDOS & DOS Analysis\n",
    "dos_data_out, pdos_data_out, dos_layout = plot_pdos_dos(\n",
    "    pdos_data,\n",
    "    entry.init_atoms,\n",
    "    filter_dict=pdos_filter_dict,\n",
    "    group=None,\n",
    "    e_range=[-1, 1],\n",
    "    plot_title=\"N-doped Graphene Supported on FCC Fe(111)\",\n",
    "    )\n",
    "\n",
    "# del dos_layout[\"xaxis\"][\"range\"]\n",
    "\n",
    "fig = plot_pdos_bands(\n",
    "    pdos_data_out,\n",
    "    dos_data_out,\n",
    "    bands_data_out,\n",
    "    dos_layout,\n",
    "    bands_layout,\n",
    "    plot_title=plot_title,\n",
    "    )\n",
    "\n",
    "py.plotly.iplot(fig, filename=plot_name)"
   ]
  },
  {
   "cell_type": "markdown",
   "metadata": {},
   "source": [
    "# Fe-Supported N-Graphene"
   ]
  },
  {
   "cell_type": "code",
   "execution_count": 11,
   "metadata": {},
   "outputs": [
    {
     "name": "stdout",
     "output_type": "stream",
     "text": [
      "KSDKFJDSJIFJSIDJFISD\n",
      "This is the format of your plot grid:\n",
      "[ (1,1) x1,y1 ]  [ (1,2) x2,y1 ]\n",
      "\n"
     ]
    },
    {
     "data": {
      "text/html": [
       "<iframe id=\"igraph\" scrolling=\"no\" style=\"border:none;\" seamless=\"seamless\" src=\"https://plot.ly/~flores12/246.embed\" height=\"525px\" width=\"100%\"></iframe>"
      ],
      "text/plain": [
       "<plotly.tools.PlotlyDisplay object>"
      ]
     },
     "execution_count": 11,
     "metadata": {},
     "output_type": "execute_result"
    }
   ],
   "source": [
    "df_tmp = df.copy()\n",
    "df_tmp = df_tmp[df_tmp[\"system\"] == \"N_graph_Fe\"]\n",
    "df_tmp = df_tmp[df_tmp[\"spinpol\"] == False]\n",
    "df_tmp = df_tmp[df_tmp[\"overlayer_pos\"] == \"N_trifold\"]\n",
    "\n",
    "ind_list = df_tmp.index.tolist()\n",
    "\n",
    "if len(ind_list) == 1:\n",
    "    ind = ind_list[0]\n",
    "else:\n",
    "    import sys\n",
    "    sys.exit()\n",
    "\n",
    "# ind = 9\n",
    "\n",
    "plot_name = plotly_root_dir + \"/dos/pl_pdos_bands_N_graphene_Fe.html\"\n",
    "plot_title = \"N-Doped Graphene Supported on Iron\"\n",
    "pdos_filter_dict = {\n",
    "#     \"type\": [\"sum-up\", \"sum-down\"],\n",
    "#     \"atom_ind\": [3],\n",
    "    \"atom_ind\": [11]  \n",
    "#     \"band\": [\"d\"],\n",
    "#     \"element\": [\"Fe\"],\n",
    "#     \"type\": [\"sum\"],\n",
    "    }\n",
    "\n",
    "entry = df.loc[ind]\n",
    "pdos_data = entry.pdos_data\n",
    "bands_data = entry.bands_data\n",
    "\n",
    "pdos_data = filter_pdos_data(pdos_data, percent_keep=perc_keep_pdos)\n",
    "bands_data = filter_bands_data(bands_data, perc_keep_bands)\n",
    "\n",
    "# view(entry.init_atoms)\n",
    "\n",
    "# Band Analysis\n",
    "bands_data_out, bands_layout = plot_bands(bands_data)\n",
    "\n",
    "# PDOS & DOS Analysis\n",
    "dos_data_out, pdos_data_out, dos_layout = plot_pdos_dos(\n",
    "    pdos_data,\n",
    "    entry.init_atoms,\n",
    "    filter_dict=pdos_filter_dict,\n",
    "    group=None,\n",
    "    e_range=[-1, 1],\n",
    "    plot_title=\"N-doped Graphene Supported on FCC Fe(111)\",\n",
    "    )\n",
    "\n",
    "# del dos_layout[\"xaxis\"][\"range\"]\n",
    "\n",
    "fig = plot_pdos_bands(\n",
    "    pdos_data_out,\n",
    "    dos_data_out,\n",
    "    bands_data_out,\n",
    "    dos_layout,\n",
    "    bands_layout,\n",
    "    plot_title=plot_title,\n",
    "    )\n",
    "\n",
    "py.plotly.iplot(fig, filename=plot_name)"
   ]
  },
  {
   "cell_type": "code",
   "execution_count": 12,
   "metadata": {},
   "outputs": [
    {
     "name": "stdout",
     "output_type": "stream",
     "text": [
      "KSDKFJDSJIFJSIDJFISD\n",
      "This is the format of your plot grid:\n",
      "[ (1,1) x1,y1 ]  [ (1,2) x2,y1 ]\n",
      "\n"
     ]
    },
    {
     "data": {
      "text/html": [
       "<iframe id=\"igraph\" scrolling=\"no\" style=\"border:none;\" seamless=\"seamless\" src=\"https://plot.ly/~flores12/246.embed\" height=\"525px\" width=\"100%\"></iframe>"
      ],
      "text/plain": [
       "<plotly.tools.PlotlyDisplay object>"
      ]
     },
     "execution_count": 12,
     "metadata": {},
     "output_type": "execute_result"
    }
   ],
   "source": [
    "df_tmp = df.copy()\n",
    "df_tmp = df_tmp[df_tmp[\"system\"] == \"N_graph_Fe\"]\n",
    "df_tmp = df_tmp[df_tmp[\"spinpol\"] == False]\n",
    "df_tmp = df_tmp[df_tmp[\"overlayer_pos\"] == \"C_trifold\"]\n",
    "\n",
    "ind_list = df_tmp.index.tolist()\n",
    "\n",
    "if len(ind_list) == 1:\n",
    "    ind = ind_list[0]\n",
    "else:\n",
    "    import sys\n",
    "    sys.exit()\n",
    "\n",
    "# plot_name = plotly_root_dir + \"/dos/pl_pdos_bands_N_graphene_Fe.html\"\n",
    "plot_name = plotly_root_dir + \"/dos/pl_pdos_bands_N_graphene_Fe.html\"\n",
    "plot_title = \"N-Doped Graphene Supported on Iron\"\n",
    "pdos_filter_dict = {\n",
    "#     \"type\": [\"sum-up\", \"sum-down\"],\n",
    "#     \"atom_ind\": [3],\n",
    "    \"atom_ind\": [11]  \n",
    "#     \"band\": [\"d\"],\n",
    "#     \"element\": [\"Fe\"],\n",
    "#     \"type\": [\"sum\"],\n",
    "    }\n",
    "\n",
    "entry = df.loc[ind]\n",
    "pdos_data = entry.pdos_data\n",
    "bands_data = entry.bands_data\n",
    "\n",
    "pdos_data = filter_pdos_data(pdos_data, percent_keep=perc_keep_pdos)\n",
    "bands_data = filter_bands_data(bands_data, perc_keep_bands)\n",
    "\n",
    "# view(entry.init_atoms)\n",
    "\n",
    "# Band Analysis\n",
    "bands_data_out, bands_layout = plot_bands(bands_data)\n",
    "\n",
    "# PDOS & DOS Analysis\n",
    "dos_data_out, pdos_data_out, dos_layout = plot_pdos_dos(\n",
    "    pdos_data,\n",
    "    entry.init_atoms,\n",
    "    filter_dict=pdos_filter_dict,\n",
    "    group=None,\n",
    "    e_range=[-1, 1],\n",
    "    plot_title=\"N-doped Graphene Supported on FCC Fe(111)\",\n",
    "    )\n",
    "\n",
    "# del dos_layout[\"xaxis\"][\"range\"]\n",
    "\n",
    "fig = plot_pdos_bands(\n",
    "    pdos_data_out,\n",
    "    dos_data_out,\n",
    "    bands_data_out,\n",
    "    dos_layout,\n",
    "    bands_layout,\n",
    "    plot_title=plot_title,\n",
    "    )\n",
    "\n",
    "py.plotly.iplot(fig, filename=plot_name)\n"
   ]
  },
  {
   "cell_type": "markdown",
   "metadata": {},
   "source": [
    "# N-Graphene"
   ]
  },
  {
   "cell_type": "code",
   "execution_count": 13,
   "metadata": {},
   "outputs": [
    {
     "name": "stdout",
     "output_type": "stream",
     "text": [
      "KSDKFJDSJIFJSIDJFISD\n",
      "This is the format of your plot grid:\n",
      "[ (1,1) x1,y1 ]  [ (1,2) x2,y1 ]\n",
      "\n"
     ]
    },
    {
     "data": {
      "text/html": [
       "<iframe id=\"igraph\" scrolling=\"no\" style=\"border:none;\" seamless=\"seamless\" src=\"https://plot.ly/~flores12/248.embed\" height=\"525px\" width=\"100%\"></iframe>"
      ],
      "text/plain": [
       "<plotly.tools.PlotlyDisplay object>"
      ]
     },
     "execution_count": 13,
     "metadata": {},
     "output_type": "execute_result"
    }
   ],
   "source": [
    "df_tmp = df.copy()\n",
    "df_tmp = df_tmp[df_tmp[\"system\"] == \"N_graphene\"]\n",
    "df_tmp = df_tmp[df_tmp[\"spinpol\"] == True]\n",
    "# df_tmp = df_tmp[df_tmp[\"overlayer_pos\"] == \"C_trifold\"]\n",
    "\n",
    "ind_list = df_tmp.index.tolist()\n",
    "\n",
    "if len(ind_list) == 1:\n",
    "    ind = ind_list[0]\n",
    "else:\n",
    "    import sys\n",
    "    sys.exit()\n",
    "\n",
    "plot_name = plotly_root_dir + \"/01_fe_graph/dos/pl_pdos_bands_N_graphene.html\"\n",
    "plot_title = \"N-Doped Graphene\"\n",
    "pdos_filter_dict = {\n",
    "#     \"type\": [\"sum-up\", \"sum-down\"],\n",
    "    \"atom_ind\": [2],\n",
    "#     \"atom_ind\": [11]  \n",
    "#     \"band\": [\"d\"],\n",
    "#     \"element\": [\"Fe\"],\n",
    "#     \"type\": [\"sum\"],\n",
    "    }\n",
    "\n",
    "entry = df.loc[ind]\n",
    "pdos_data = entry.pdos_data\n",
    "bands_data = entry.bands_data\n",
    "\n",
    "pdos_data = filter_pdos_data(pdos_data, percent_keep=perc_keep_pdos)\n",
    "bands_data = filter_bands_data(bands_data, perc_keep_bands)\n",
    "\n",
    "# view(entry.init_atoms)\n",
    "\n",
    "# Band Analysis\n",
    "bands_data_out, bands_layout = plot_bands(bands_data)\n",
    "\n",
    "# PDOS & DOS Analysis\n",
    "dos_data_out, pdos_data_out, dos_layout = plot_pdos_dos(\n",
    "    pdos_data,\n",
    "    entry.init_atoms,\n",
    "    filter_dict=pdos_filter_dict,\n",
    "#     group=\"band\",\n",
    "    e_range=[-1, 1],\n",
    "    plot_title=\"N-doped Graphene\",\n",
    "    )\n",
    "\n",
    "fig = plot_pdos_bands(\n",
    "    pdos_data_out,\n",
    "    dos_data_out,\n",
    "    bands_data_out,\n",
    "    dos_layout,\n",
    "    bands_layout,\n",
    "    plot_title=plot_title,\n",
    "    subplot_titles=(\"C-PDOS (N adjacent)\", \"Bands\"),\n",
    "    )\n",
    "py.plotly.iplot(fig, filename=plot_name)"
   ]
  }
 ],
 "metadata": {
  "kernelspec": {
   "display_name": "Python 3",
   "language": "python",
   "name": "python3"
  },
  "language_info": {
   "codemirror_mode": {
    "name": "ipython",
    "version": 3
   },
   "file_extension": ".py",
   "mimetype": "text/x-python",
   "name": "python",
   "nbconvert_exporter": "python",
   "pygments_lexer": "ipython3",
   "version": "3.6.5"
  }
 },
 "nbformat": 4,
 "nbformat_minor": 2
}
