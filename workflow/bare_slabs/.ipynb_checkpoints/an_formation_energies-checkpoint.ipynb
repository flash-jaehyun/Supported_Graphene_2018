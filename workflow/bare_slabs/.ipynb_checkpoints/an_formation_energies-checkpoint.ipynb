{
 "cells": [
  {
   "cell_type": "markdown",
   "metadata": {},
   "source": [
    "# · Import Modules"
   ]
  },
  {
   "cell_type": "code",
   "execution_count": 1,
   "metadata": {},
   "outputs": [],
   "source": [
    "# iPython Settings\n",
    "%load_ext autoreload\n",
    "%autoreload 2\n",
    "\n",
    "import os\n",
    "import sys\n",
    "\n",
    "import plotly as py\n",
    "import plotly.graph_objs as go\n",
    "from plotly import tools\n",
    "\n",
    "import numpy as np\n",
    "import pandas as pd\n",
    "pd.options.mode.chained_assignment = None\n",
    "\n",
    "from ase.visualize import view\n",
    "\n",
    "# My Modules ******************************************************************\n",
    "from dft_job_automat.job_analysis import DFT_Jobs_Analysis\n",
    "from dft_job_automat.job_types_classes.dft_methods import DFT_Methods\n",
    "from colors.colors import color_list\n",
    "\n",
    "# from density_of_states.dos import plot_pdos_dos\n",
    "from dft_post_analysis.bands import plot_bands\n",
    "from dft_post_analysis.dos import plot_pdos_dos\n",
    "\n",
    "from dft_post_analysis.dos_bands_combined import plot_pdos_bands"
   ]
  },
  {
   "cell_type": "markdown",
   "metadata": {},
   "source": [
    "# · Methods"
   ]
  },
  {
   "cell_type": "code",
   "execution_count": 2,
   "metadata": {},
   "outputs": [],
   "source": [
    "def calc_form_e(entry, ref_e_dict):\n",
    "    \"\"\"Formation energy of DFT calculation.\n",
    "    \n",
    "    Args:\n",
    "        entry:\n",
    "        ref_e_dict:\n",
    "    \"\"\"\n",
    "    #| - form_e   \n",
    "    E_elec = entry.elec_energy\n",
    "    atoms = entry.init_atoms\n",
    "\n",
    "    chem_symbols = entry.init_atoms.get_chemical_symbols()\n",
    "\n",
    "    ref_e_sum = 0.\n",
    "    for elem in chem_symbols:\n",
    "        elem_i_e = ref_e_dict[elem]\n",
    "\n",
    "        ref_e_sum += elem_i_e\n",
    "\n",
    "    form_e = E_elec - ref_e_sum\n",
    "\n",
    "    return(form_e)\n",
    "    #__|"
   ]
  },
  {
   "cell_type": "markdown",
   "metadata": {},
   "source": [
    "# · Initiate Instances"
   ]
  },
  {
   "cell_type": "code",
   "execution_count": 3,
   "metadata": {},
   "outputs": [],
   "source": [
    "# Gas References\n",
    "Jobs = DFT_Jobs_Analysis(\n",
    "    update_job_state=False,\n",
    "    job_type_class=None,\n",
    "    load_dataframe=True,\n",
    "    working_dir=os.path.join(\n",
    "        os.environ[\"sc\"],\n",
    "        \"00_projects/ref_molec_gas_phase\",\n",
    "        ),\n",
    "    )\n",
    "\n",
    "n2_ref = Jobs.data_frame[Jobs.data_frame[\"system\"] == \"n2\"]\n",
    "df_ref = Jobs.filter_early_revisions(Jobs.data_frame)\n",
    "\n",
    "# Slabs\n",
    "research_dir = os.environ[\"norskov_research\"]\n",
    "data_pre_dir = research_dir + \\\n",
    "    \"/04_comp_clusters/02_DATA/01_fe_graph_proj/bare_slabs/jobs_bin\"\n",
    "\n",
    "Jobs = DFT_Jobs_Analysis(\n",
    "    update_job_state=False,\n",
    "    job_type_class=None,\n",
    "    load_dataframe=True,\n",
    "    dataframe_dir=data_pre_dir,\n",
    "    working_dir=\".\",\n",
    "    )\n",
    "\n",
    "df = Jobs.filter_early_revisions(Jobs.data_frame)\n",
    "\n",
    "col_list = [\n",
    "    \"Job\",\n",
    "    \"job_type\",\n",
    "    \"max_revision\",\n",
    "    \"overlayer_pos\",\n",
    "    \"path\",\n",
    "    \"revision_number\",\n",
    "    \"spinpol\",\n",
    "    \"system\",\n",
    "    \"elec_energy\",\n",
    "    \"pdos_data\",\n",
    "    \"bands_data\",\n",
    "    \"gibbs_correction\",\n",
    "    \"atom_type_num_dict\",\n",
    "    \"init_atoms\",\n",
    "    \"atoms_object\",\n",
    "    ]\n",
    "\n",
    "df = df[col_list]"
   ]
  },
  {
   "cell_type": "markdown",
   "metadata": {},
   "source": [
    "# · Elemental References"
   ]
  },
  {
   "cell_type": "markdown",
   "metadata": {},
   "source": [
    "| Elemental  | Reference | \n",
    "| ---------- |:---------:|\n",
    "| O          | H2O       |\n",
    "| H          | H2 gas    |\n",
    "| C          | Graphene  |\n",
    "| N          | N2 gas    |\n",
    "| Fe         | FCC Fe    |"
   ]
  },
  {
   "cell_type": "code",
   "execution_count": 4,
   "metadata": {},
   "outputs": [
    {
     "name": "stdout",
     "output_type": "stream",
     "text": [
      "{'C': -157.98350642564012, 'N': -276.819147487, 'Fe': -3419.3771510566576}\n"
     ]
    }
   ],
   "source": [
    "o2_ref = df_ref[df_ref[\"system\"] == \"o2\"]\n",
    "h2_ref = df_ref[df_ref[\"system\"] == \"h2\"]\n",
    "h2o_ref = df_ref[df_ref[\"system\"] == \"h2o\"]\n",
    "\n",
    "# Nitrogen Gas\n",
    "E_N = n2_ref.elec_energy.iloc[0] / 2.\n",
    "\n",
    "# Bulk FCC Iron\n",
    "entry = df[df[\"job_type\"] == \"bulk\"].iloc[0]\n",
    "num_atoms = len(entry.init_atoms)\n",
    "E_Fe_bulk = entry.elec_energy / num_atoms\n",
    "\n",
    "entry = df[df[\"system\"] == \"Fe_slab\"]\n",
    "entry = entry[entry[\"spinpol\"] == True].iloc[0]\n",
    "num_atoms = len(entry.init_atoms)\n",
    "E_Fe_slab = entry.elec_energy / num_atoms\n",
    "\n",
    "E_Fe = E_Fe_slab\n",
    "\n",
    "# Graphene\n",
    "entry = df[df[\"system\"] == \"graphene\"]\n",
    "entry = entry[entry[\"spinpol\"] == True].iloc[0]\n",
    "E_C = entry.elec_energy / len(entry.init_atoms)\n",
    "\n",
    "# **************************************************\n",
    "\n",
    "ref_e_dict = {\n",
    "    \"C\": E_C,\n",
    "    \"N\": E_N,\n",
    "    \"Fe\": E_Fe,\n",
    "    }\n",
    "\n",
    "print(ref_e_dict)"
   ]
  },
  {
   "cell_type": "code",
   "execution_count": 35,
   "metadata": {},
   "outputs": [],
   "source": [
    "entry = df[df[\"job_type\"] == \"bulk\"].iloc[0]\n",
    "\n",
    "view(entry.init_atoms)"
   ]
  },
  {
   "cell_type": "code",
   "execution_count": 5,
   "metadata": {},
   "outputs": [
    {
     "name": "stdout",
     "output_type": "stream",
     "text": [
      "Fe FCC Slab\n",
      "-3419.3771510566576\n",
      "Fe FCC Bulk\n",
      "-3412.923079561095\n"
     ]
    }
   ],
   "source": [
    "print(\"Fe FCC Slab\")\n",
    "print(E_Fe_slab)\n",
    "\n",
    "print(\"Fe FCC Bulk\")\n",
    "print(E_Fe_bulk)"
   ]
  },
  {
   "cell_type": "markdown",
   "metadata": {},
   "source": [
    "# · Fe supported Graphene"
   ]
  },
  {
   "cell_type": "code",
   "execution_count": 33,
   "metadata": {},
   "outputs": [
    {
     "name": "stdout",
     "output_type": "stream",
     "text": [
      "formation energy [eV/unit cell]\n",
      "-0.276404236235976\n",
      "\n",
      "\n",
      "formation energy [eV/A^2]\n",
      "-0.017629426057987264\n",
      "\n",
      "\n",
      "formation energy [eV/C atom]\n",
      "-0.046067372705996\n"
     ]
    }
   ],
   "source": [
    "entry = df[df[\"system\"] == \"graph_Fe\"]\n",
    "entry = entry[entry[\"spinpol\"] == True].iloc[0]\n",
    "\n",
    "form_e = calc_form_e(entry, ref_e_dict)\n",
    "print(\"formation energy [eV/unit cell]\")\n",
    "print(form_e); print(\"\\n\")\n",
    "\n",
    "area = np.linalg.norm(np.cross(\n",
    "    entry.init_atoms.cell[0],\n",
    "    entry.init_atoms.cell[1]),\n",
    "    )\n",
    "\n",
    "print(\"formation energy [eV/A^2]\")\n",
    "print(form_e / area); print(\"\\n\")\n",
    "\n",
    "print(\"formation energy [eV/C atom]\")\n",
    "print(form_e / entry.init_atoms.get_chemical_symbols().count(\"C\"))"
   ]
  },
  {
   "cell_type": "markdown",
   "metadata": {},
   "source": [
    "# · N-Graphene"
   ]
  },
  {
   "cell_type": "code",
   "execution_count": 7,
   "metadata": {},
   "outputs": [
    {
     "data": {
      "text/plain": [
       "1.3282407326778412"
      ]
     },
     "execution_count": 7,
     "metadata": {},
     "output_type": "execute_result"
    }
   ],
   "source": [
    "entry = df[df[\"system\"] == \"N_graphene\"]\n",
    "entry = entry[entry[\"spinpol\"] == True].iloc[0]\n",
    "\n",
    "form_e = calc_form_e(entry, ref_e_dict)\n",
    "form_e"
   ]
  },
  {
   "cell_type": "markdown",
   "metadata": {},
   "source": [
    "# · Fe-supported N-doped Graphene"
   ]
  },
  {
   "cell_type": "code",
   "execution_count": 8,
   "metadata": {},
   "outputs": [
    {
     "data": {
      "text/plain": [
       "2.0440917956839257"
      ]
     },
     "execution_count": 8,
     "metadata": {},
     "output_type": "execute_result"
    }
   ],
   "source": [
    "entry = df[df[\"system\"] == \"N_graph_Fe\"]\n",
    "entry = entry[entry[\"overlayer_pos\"] == \"N_trifold\"].iloc[0]\n",
    "\n",
    "form_e = calc_form_e(entry, ref_e_dict)\n",
    "form_e"
   ]
  },
  {
   "cell_type": "markdown",
   "metadata": {},
   "source": [
    "__old__"
   ]
  },
  {
   "cell_type": "code",
   "execution_count": 9,
   "metadata": {},
   "outputs": [],
   "source": [
    "# E_elec = entry.elec_energy\n",
    "# # E_elec = -1065.40843888\n",
    "# chem_symbols = entry.init_atoms.get_chemical_symbols()\n",
    "# num_N = chem_symbols.count(\"N\")\n",
    "# num_C = chem_symbols.count(\"C\")\n",
    "# num_atoms = num_N + num_C\n",
    "# del_E = (E_elec - num_N * E_N - num_C * E_C)\n",
    "# form_e = del_E / num_atoms\n",
    "# print(\"Formation energy per atom [eV]\")\n",
    "# print(form_e)\n",
    "# print(\"Formation energy per computational cell [eV]\")\n",
    "# print(del_E)\n",
    "\n",
    "\n",
    "\n",
    "\n",
    "\n",
    "# E_elec = entry.elec_energy\n",
    "# chem_symbols = entry.init_atoms.get_chemical_symbols()\n",
    "# num_Fe = chem_symbols.count(\"Fe\")\n",
    "# num_C = chem_symbols.count(\"C\")\n",
    "# num_atoms = num_Fe + num_C\n",
    "# form_e = (E_elec - num_Fe * E_Fe - num_C * E_C) / num_atoms\n",
    "# print(\"Formation energy per atom [eV]\")\n",
    "# print(form_e)\n",
    "\n",
    "\n",
    "\n",
    "\n",
    "\n",
    "# entry = df[df[\"system\"] == \"N_graph_Fe\"]\n",
    "# entry = entry[entry[\"overlayer_pos\"] == \"N_trifold\"].iloc[0]\n",
    "# E_elec = entry.elec_energy\n",
    "# atoms = entry.init_atoms\n",
    "# chem_symbols = entry.init_atoms.get_chemical_symbols()\n",
    "# num_N = chem_symbols.count(\"N\")\n",
    "# num_C = chem_symbols.count(\"C\")\n",
    "# num_Fe = chem_symbols.count(\"Fe\")\n",
    "# num_atoms = num_N + num_C + num_Fe\n",
    "# del_E = (E_elec - num_N * E_N - num_C * E_C - num_Fe * E_Fe)\n",
    "# form_e = del_E / num_atoms\n",
    "# print(\"Formation energy per atom [eV]\")\n",
    "# print(form_e)\n",
    "# print(\"Formation energy per computational cell [eV]\")\n",
    "# print(del_E)"
   ]
  }
 ],
 "metadata": {
  "kernelspec": {
   "display_name": "Python 3",
   "language": "python",
   "name": "python3"
  },
  "language_info": {
   "codemirror_mode": {
    "name": "ipython",
    "version": 3
   },
   "file_extension": ".py",
   "mimetype": "text/x-python",
   "name": "python",
   "nbconvert_exporter": "python",
   "pygments_lexer": "ipython3",
   "version": "3.6.5"
  }
 },
 "nbformat": 4,
 "nbformat_minor": 2
}
