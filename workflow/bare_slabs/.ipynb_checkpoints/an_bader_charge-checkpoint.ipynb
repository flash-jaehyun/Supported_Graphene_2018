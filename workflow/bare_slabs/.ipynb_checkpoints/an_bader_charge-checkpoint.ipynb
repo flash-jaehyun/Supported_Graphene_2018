{
 "cells": [
  {
   "cell_type": "markdown",
   "metadata": {},
   "source": [
    "# Import Modules <a name=\"import-modules\"></a>"
   ]
  },
  {
   "cell_type": "code",
   "execution_count": 1,
   "metadata": {},
   "outputs": [],
   "source": [
    "# iPython Settings\n",
    "%load_ext autoreload\n",
    "%autoreload 2\n",
    "\n",
    "import plotly as py\n",
    "import plotly.graph_objs as go\n",
    "from plotly import tools\n",
    "\n",
    "import numpy as np\n",
    "import pandas as pd\n",
    "pd.options.mode.chained_assignment = None\n",
    "\n",
    "from ase.visualize import view\n",
    "\n",
    "# My Modules ******************************************************************\n",
    "from dft_job_automat.job_analysis import DFT_Jobs_Analysis\n",
    "from dft_job_automat.job_types_classes.dft_methods import DFT_Methods\n",
    "from colors.colors import color_list\n",
    "\n",
    "# from density_of_states.dos import plot_pdos_dos\n",
    "from dft_post_analysis.bands import plot_bands\n",
    "from dft_post_analysis.dos import plot_pdos_dos\n",
    "\n",
    "from dft_post_analysis.dos_bands_combined import plot_pdos_bands"
   ]
  },
  {
   "cell_type": "markdown",
   "metadata": {},
   "source": [
    "# Initiate Instance"
   ]
  },
  {
   "cell_type": "code",
   "execution_count": 2,
   "metadata": {},
   "outputs": [],
   "source": [
    "Jobs = DFT_Jobs_Analysis(\n",
    "    update_job_state=False,\n",
    "    job_type_class=None,\n",
    "    load_dataframe=True,\n",
    "    dataframe_dir=\"jobs_bin\",\n",
    "    working_dir=\".\",\n",
    "    )\n",
    "\n",
    "df = Jobs.filter_early_revisions(Jobs.data_frame)\n",
    "\n",
    "col_list = [\n",
    "    \"Job\",\n",
    "    \"job_type\",\n",
    "    \"max_revision\",\n",
    "    \"overlayer_pos\",\n",
    "    \"path\",\n",
    "    \"revision_number\",\n",
    "    \"spinpol\",\n",
    "    \"system\",\n",
    "    \"elec_energy\",\n",
    "    \"pdos_data\",\n",
    "    \"bands_data\",\n",
    "    \"gibbs_correction\",\n",
    "    \"atom_type_num_dict\",\n",
    "    \"init_atoms\",\n",
    "    \"atoms_object\",\n",
    "    ]\n",
    "\n",
    "df = df[col_list]"
   ]
  },
  {
   "cell_type": "code",
   "execution_count": 3,
   "metadata": {},
   "outputs": [
    {
     "data": {
      "text/html": [
       "<div>\n",
       "<style scoped>\n",
       "    .dataframe tbody tr th:only-of-type {\n",
       "        vertical-align: middle;\n",
       "    }\n",
       "\n",
       "    .dataframe tbody tr th {\n",
       "        vertical-align: top;\n",
       "    }\n",
       "\n",
       "    .dataframe thead th {\n",
       "        text-align: right;\n",
       "    }\n",
       "</style>\n",
       "<table border=\"1\" class=\"dataframe\">\n",
       "  <thead>\n",
       "    <tr style=\"text-align: right;\">\n",
       "      <th></th>\n",
       "      <th>Job</th>\n",
       "      <th>job_type</th>\n",
       "      <th>max_revision</th>\n",
       "      <th>overlayer_pos</th>\n",
       "      <th>path</th>\n",
       "      <th>revision_number</th>\n",
       "      <th>spinpol</th>\n",
       "      <th>system</th>\n",
       "      <th>elec_energy</th>\n",
       "      <th>pdos_data</th>\n",
       "      <th>bands_data</th>\n",
       "      <th>gibbs_correction</th>\n",
       "      <th>atom_type_num_dict</th>\n",
       "      <th>init_atoms</th>\n",
       "      <th>atoms_object</th>\n",
       "    </tr>\n",
       "  </thead>\n",
       "  <tbody>\n",
       "    <tr>\n",
       "      <th>1</th>\n",
       "      <td>&lt;dft_job_automat.job_setup.Job object at 0x7f5...</td>\n",
       "      <td>bare_slab</td>\n",
       "      <td>2</td>\n",
       "      <td>NaN</td>\n",
       "      <td>/scratch/users/flores12/03_graph_N_Fe/01_opt_s...</td>\n",
       "      <td>2</td>\n",
       "      <td>True</td>\n",
       "      <td>Fe_slab</td>\n",
       "      <td>-30774.388459</td>\n",
       "      <td>NaN</td>\n",
       "      <td>NaN</td>\n",
       "      <td>0.000000</td>\n",
       "      <td>[{'Fe': 9}]</td>\n",
       "      <td>(Atom('Fe', [3.90031231, 0.61413992, 12.0], ta...</td>\n",
       "      <td>[(Atom('Fe', [3.90031231, 0.61413992, 12.0], t...</td>\n",
       "    </tr>\n",
       "    <tr>\n",
       "      <th>4</th>\n",
       "      <td>&lt;dft_job_automat.job_setup.Job object at 0x7f5...</td>\n",
       "      <td>bare_slab</td>\n",
       "      <td>3</td>\n",
       "      <td>NaN</td>\n",
       "      <td>/scratch/users/flores12/03_graph_N_Fe/01_opt_s...</td>\n",
       "      <td>3</td>\n",
       "      <td>False</td>\n",
       "      <td>Fe_slab</td>\n",
       "      <td>-30772.863754</td>\n",
       "      <td>NaN</td>\n",
       "      <td>NaN</td>\n",
       "      <td>0.000000</td>\n",
       "      <td>[{'Fe': 9}]</td>\n",
       "      <td>(Atom('Fe', [3.90031231, 0.61413992, 12.0], ta...</td>\n",
       "      <td>[(Atom('Fe', [3.90031231, 0.61413992, 12.0], t...</td>\n",
       "    </tr>\n",
       "    <tr>\n",
       "      <th>5</th>\n",
       "      <td>&lt;dft_job_automat.job_setup.Job object at 0x7f5...</td>\n",
       "      <td>bare_slab</td>\n",
       "      <td>1</td>\n",
       "      <td>NaN</td>\n",
       "      <td>/scratch/users/flores12/03_graph_N_Fe/01_opt_s...</td>\n",
       "      <td>1</td>\n",
       "      <td>True</td>\n",
       "      <td>graphene</td>\n",
       "      <td>-947.912185</td>\n",
       "      <td>NaN</td>\n",
       "      <td>NaN</td>\n",
       "      <td>0.000000</td>\n",
       "      <td>[{'C': 6}]</td>\n",
       "      <td>(Atom('C', [0.3550598067381865, -0.61474448424...</td>\n",
       "      <td>[(Atom('C', [0.35491197408025293, -0.614921608...</td>\n",
       "    </tr>\n",
       "    <tr>\n",
       "      <th>6</th>\n",
       "      <td>&lt;dft_job_automat.job_setup.Job object at 0x7f5...</td>\n",
       "      <td>bare_slab</td>\n",
       "      <td>1</td>\n",
       "      <td>NaN</td>\n",
       "      <td>/scratch/users/flores12/03_graph_N_Fe/01_opt_s...</td>\n",
       "      <td>1</td>\n",
       "      <td>False</td>\n",
       "      <td>graphene</td>\n",
       "      <td>-947.912001</td>\n",
       "      <td>NaN</td>\n",
       "      <td>NaN</td>\n",
       "      <td>0.000000</td>\n",
       "      <td>[{'C': 6}]</td>\n",
       "      <td>(Atom('C', [0.3550598067381865, -0.61474448424...</td>\n",
       "      <td>[(Atom('C', [0.3565432851888148, -0.6139301800...</td>\n",
       "    </tr>\n",
       "    <tr>\n",
       "      <th>10</th>\n",
       "      <td>&lt;dft_job_automat.job_setup.Job object at 0x7f5...</td>\n",
       "      <td>bare_slab</td>\n",
       "      <td>5</td>\n",
       "      <td>NaN</td>\n",
       "      <td>/scratch/users/flores12/03_graph_N_Fe/01_opt_s...</td>\n",
       "      <td>5</td>\n",
       "      <td>True</td>\n",
       "      <td>graph_Fe</td>\n",
       "      <td>-31722.571802</td>\n",
       "      <td>NaN</td>\n",
       "      <td>NaN</td>\n",
       "      <td>0.000000</td>\n",
       "      <td>[{'C': 6, 'Fe': 9}]</td>\n",
       "      <td>(Atom('Fe', [3.90031231, 0.61413992, 12.0], ta...</td>\n",
       "      <td>[(Atom('Fe', [3.90031231, 0.61413992, 12.0], t...</td>\n",
       "    </tr>\n",
       "    <tr>\n",
       "      <th>12</th>\n",
       "      <td>&lt;dft_job_automat.job_setup.Job object at 0x7f5...</td>\n",
       "      <td>bare_slab</td>\n",
       "      <td>2</td>\n",
       "      <td>NaN</td>\n",
       "      <td>/scratch/users/flores12/03_graph_N_Fe/01_opt_s...</td>\n",
       "      <td>2</td>\n",
       "      <td>False</td>\n",
       "      <td>graph_Fe</td>\n",
       "      <td>-31721.379279</td>\n",
       "      <td>NaN</td>\n",
       "      <td>NaN</td>\n",
       "      <td>0.000000</td>\n",
       "      <td>[{'C': 6, 'Fe': 9}]</td>\n",
       "      <td>(Atom('Fe', [3.90031231, 0.61413992, 12.0], ta...</td>\n",
       "      <td>[(Atom('Fe', [3.90031231, 0.61413992, 12.0], t...</td>\n",
       "    </tr>\n",
       "    <tr>\n",
       "      <th>13</th>\n",
       "      <td>&lt;dft_job_automat.job_setup.Job object at 0x7f5...</td>\n",
       "      <td>bare_slab</td>\n",
       "      <td>4</td>\n",
       "      <td>N_trifold</td>\n",
       "      <td>/scratch/users/flores12/03_graph_N_Fe/01_opt_s...</td>\n",
       "      <td>4</td>\n",
       "      <td>False</td>\n",
       "      <td>N_graph_Fe</td>\n",
       "      <td>-31839.065233</td>\n",
       "      <td>NaN</td>\n",
       "      <td>NaN</td>\n",
       "      <td>0.000000</td>\n",
       "      <td>[{'C': 5, 'Fe': 9, 'N': 1}]</td>\n",
       "      <td>(Atom('Fe', [3.90031231, 0.61413992, 12.0], ta...</td>\n",
       "      <td>[(Atom('Fe', [3.90031231, 0.61413992, 12.0], t...</td>\n",
       "    </tr>\n",
       "    <tr>\n",
       "      <th>15</th>\n",
       "      <td>&lt;dft_job_automat.job_setup.Job object at 0x7f5...</td>\n",
       "      <td>bare_slab</td>\n",
       "      <td>2</td>\n",
       "      <td>C_trifold</td>\n",
       "      <td>/scratch/users/flores12/03_graph_N_Fe/01_opt_s...</td>\n",
       "      <td>2</td>\n",
       "      <td>False</td>\n",
       "      <td>N_graph_Fe</td>\n",
       "      <td>-31838.601462</td>\n",
       "      <td>NaN</td>\n",
       "      <td>NaN</td>\n",
       "      <td>0.000000</td>\n",
       "      <td>[{'C': 5, 'Fe': 9, 'N': 1}]</td>\n",
       "      <td>(Atom('Fe', [3.90031231, 0.61413992, 12.0], ta...</td>\n",
       "      <td>[(Atom('Fe', [3.90031231, 0.61413992, 12.0], t...</td>\n",
       "    </tr>\n",
       "    <tr>\n",
       "      <th>16</th>\n",
       "      <td>&lt;dft_job_automat.job_setup.Job object at 0x7f5...</td>\n",
       "      <td>bare_slab</td>\n",
       "      <td>1</td>\n",
       "      <td>NaN</td>\n",
       "      <td>/scratch/users/flores12/03_graph_N_Fe/01_opt_s...</td>\n",
       "      <td>1</td>\n",
       "      <td>True</td>\n",
       "      <td>N_graphene</td>\n",
       "      <td>NaN</td>\n",
       "      <td>NaN</td>\n",
       "      <td>NaN</td>\n",
       "      <td>0.711221</td>\n",
       "      <td>[{'C': 5, 'N': 1}]</td>\n",
       "      <td>(Atom('C', [0.35491197408025293, -0.6149216084...</td>\n",
       "      <td>[(Atom('C', [0.3489133685151813, -0.6062110591...</td>\n",
       "    </tr>\n",
       "    <tr>\n",
       "      <th>18</th>\n",
       "      <td>&lt;dft_job_automat.job_setup.Job object at 0x7f5...</td>\n",
       "      <td>bare_slab</td>\n",
       "      <td>2</td>\n",
       "      <td>NaN</td>\n",
       "      <td>/scratch/users/flores12/03_graph_N_Fe/01_opt_s...</td>\n",
       "      <td>2</td>\n",
       "      <td>False</td>\n",
       "      <td>N_graphene</td>\n",
       "      <td>NaN</td>\n",
       "      <td>NaN</td>\n",
       "      <td>NaN</td>\n",
       "      <td>0.702652</td>\n",
       "      <td>[{'C': 5, 'N': 1}]</td>\n",
       "      <td>(Atom('C', [0.35491197408025293, -0.6149216084...</td>\n",
       "      <td>[(Atom('C', [0.34901446883146864, -0.606493088...</td>\n",
       "    </tr>\n",
       "  </tbody>\n",
       "</table>\n",
       "</div>"
      ],
      "text/plain": [
       "                                                  Job   job_type  \\\n",
       "1   <dft_job_automat.job_setup.Job object at 0x7f5...  bare_slab   \n",
       "4   <dft_job_automat.job_setup.Job object at 0x7f5...  bare_slab   \n",
       "5   <dft_job_automat.job_setup.Job object at 0x7f5...  bare_slab   \n",
       "6   <dft_job_automat.job_setup.Job object at 0x7f5...  bare_slab   \n",
       "10  <dft_job_automat.job_setup.Job object at 0x7f5...  bare_slab   \n",
       "12  <dft_job_automat.job_setup.Job object at 0x7f5...  bare_slab   \n",
       "13  <dft_job_automat.job_setup.Job object at 0x7f5...  bare_slab   \n",
       "15  <dft_job_automat.job_setup.Job object at 0x7f5...  bare_slab   \n",
       "16  <dft_job_automat.job_setup.Job object at 0x7f5...  bare_slab   \n",
       "18  <dft_job_automat.job_setup.Job object at 0x7f5...  bare_slab   \n",
       "\n",
       "    max_revision overlayer_pos  \\\n",
       "1              2           NaN   \n",
       "4              3           NaN   \n",
       "5              1           NaN   \n",
       "6              1           NaN   \n",
       "10             5           NaN   \n",
       "12             2           NaN   \n",
       "13             4     N_trifold   \n",
       "15             2     C_trifold   \n",
       "16             1           NaN   \n",
       "18             2           NaN   \n",
       "\n",
       "                                                 path  revision_number  \\\n",
       "1   /scratch/users/flores12/03_graph_N_Fe/01_opt_s...                2   \n",
       "4   /scratch/users/flores12/03_graph_N_Fe/01_opt_s...                3   \n",
       "5   /scratch/users/flores12/03_graph_N_Fe/01_opt_s...                1   \n",
       "6   /scratch/users/flores12/03_graph_N_Fe/01_opt_s...                1   \n",
       "10  /scratch/users/flores12/03_graph_N_Fe/01_opt_s...                5   \n",
       "12  /scratch/users/flores12/03_graph_N_Fe/01_opt_s...                2   \n",
       "13  /scratch/users/flores12/03_graph_N_Fe/01_opt_s...                4   \n",
       "15  /scratch/users/flores12/03_graph_N_Fe/01_opt_s...                2   \n",
       "16  /scratch/users/flores12/03_graph_N_Fe/01_opt_s...                1   \n",
       "18  /scratch/users/flores12/03_graph_N_Fe/01_opt_s...                2   \n",
       "\n",
       "   spinpol      system   elec_energy  pdos_data  bands_data  gibbs_correction  \\\n",
       "1     True     Fe_slab -30774.388459        NaN         NaN          0.000000   \n",
       "4    False     Fe_slab -30772.863754        NaN         NaN          0.000000   \n",
       "5     True    graphene   -947.912185        NaN         NaN          0.000000   \n",
       "6    False    graphene   -947.912001        NaN         NaN          0.000000   \n",
       "10    True    graph_Fe -31722.571802        NaN         NaN          0.000000   \n",
       "12   False    graph_Fe -31721.379279        NaN         NaN          0.000000   \n",
       "13   False  N_graph_Fe -31839.065233        NaN         NaN          0.000000   \n",
       "15   False  N_graph_Fe -31838.601462        NaN         NaN          0.000000   \n",
       "16    True  N_graphene           NaN        NaN         NaN          0.711221   \n",
       "18   False  N_graphene           NaN        NaN         NaN          0.702652   \n",
       "\n",
       "             atom_type_num_dict  \\\n",
       "1                   [{'Fe': 9}]   \n",
       "4                   [{'Fe': 9}]   \n",
       "5                    [{'C': 6}]   \n",
       "6                    [{'C': 6}]   \n",
       "10          [{'C': 6, 'Fe': 9}]   \n",
       "12          [{'C': 6, 'Fe': 9}]   \n",
       "13  [{'C': 5, 'Fe': 9, 'N': 1}]   \n",
       "15  [{'C': 5, 'Fe': 9, 'N': 1}]   \n",
       "16           [{'C': 5, 'N': 1}]   \n",
       "18           [{'C': 5, 'N': 1}]   \n",
       "\n",
       "                                           init_atoms  \\\n",
       "1   (Atom('Fe', [3.90031231, 0.61413992, 12.0], ta...   \n",
       "4   (Atom('Fe', [3.90031231, 0.61413992, 12.0], ta...   \n",
       "5   (Atom('C', [0.3550598067381865, -0.61474448424...   \n",
       "6   (Atom('C', [0.3550598067381865, -0.61474448424...   \n",
       "10  (Atom('Fe', [3.90031231, 0.61413992, 12.0], ta...   \n",
       "12  (Atom('Fe', [3.90031231, 0.61413992, 12.0], ta...   \n",
       "13  (Atom('Fe', [3.90031231, 0.61413992, 12.0], ta...   \n",
       "15  (Atom('Fe', [3.90031231, 0.61413992, 12.0], ta...   \n",
       "16  (Atom('C', [0.35491197408025293, -0.6149216084...   \n",
       "18  (Atom('C', [0.35491197408025293, -0.6149216084...   \n",
       "\n",
       "                                         atoms_object  \n",
       "1   [(Atom('Fe', [3.90031231, 0.61413992, 12.0], t...  \n",
       "4   [(Atom('Fe', [3.90031231, 0.61413992, 12.0], t...  \n",
       "5   [(Atom('C', [0.35491197408025293, -0.614921608...  \n",
       "6   [(Atom('C', [0.3565432851888148, -0.6139301800...  \n",
       "10  [(Atom('Fe', [3.90031231, 0.61413992, 12.0], t...  \n",
       "12  [(Atom('Fe', [3.90031231, 0.61413992, 12.0], t...  \n",
       "13  [(Atom('Fe', [3.90031231, 0.61413992, 12.0], t...  \n",
       "15  [(Atom('Fe', [3.90031231, 0.61413992, 12.0], t...  \n",
       "16  [(Atom('C', [0.3489133685151813, -0.6062110591...  \n",
       "18  [(Atom('C', [0.34901446883146864, -0.606493088...  "
      ]
     },
     "execution_count": 3,
     "metadata": {},
     "output_type": "execute_result"
    }
   ],
   "source": [
    "df"
   ]
  },
  {
   "cell_type": "markdown",
   "metadata": {},
   "source": [
    "# Methods"
   ]
  },
  {
   "cell_type": "code",
   "execution_count": null,
   "metadata": {},
   "outputs": [],
   "source": [
    "def element_charge_list(atoms, bader_charges, elem=\"C\"):\n",
    "    el_charge_list = []\n",
    "    for atom, charge_i in zip(atoms, bader_charges):\n",
    "        elem_i = atom.symbol\n",
    "        if elem_i == elem:\n",
    "            el_charge_list.append(charge_i)\n",
    "\n",
    "    el_charge_list = np.array(el_charge_list)\n",
    "    \n",
    "    return(el_charge_list)"
   ]
  },
  {
   "cell_type": "markdown",
   "metadata": {},
   "source": [
    "# ===================="
   ]
  },
  {
   "cell_type": "markdown",
   "metadata": {},
   "source": [
    "# Graphene"
   ]
  },
  {
   "cell_type": "code",
   "execution_count": 43,
   "metadata": {},
   "outputs": [
    {
     "name": "stdout",
     "output_type": "stream",
     "text": [
      "[-0.0028  0.0267 -0.0247 -0.0018  0.0268 -0.0244]\n"
     ]
    }
   ],
   "source": [
    "row_i = df.loc[5]\n",
    "atoms = row_i.atoms_object[-1]\n",
    "bader_charges = atoms.info[\"bader_charges\"]\n",
    "bader_charges = np.around(bader_charges, decimals=3)\n",
    "atoms.set_initial_magnetic_moments(magmoms=bader_charges)\n",
    "print(atoms.info[\"bader_charges\"])\n",
    "# view(atoms)"
   ]
  },
  {
   "cell_type": "code",
   "execution_count": 53,
   "metadata": {},
   "outputs": [
    {
     "data": {
      "text/plain": [
       "array([-0.003,  0.027, -0.025, -0.002,  0.027, -0.024])"
      ]
     },
     "execution_count": 53,
     "metadata": {},
     "output_type": "execute_result"
    }
   ],
   "source": [
    "# abs_charge = np.absolute(bader_charges)\n",
    "# abs_charge.sum()\n",
    "\n",
    "charge_list = element_charge_list(atoms, bader_charges, elem=\"C\")\n",
    "tmp"
   ]
  },
  {
   "cell_type": "code",
   "execution_count": 51,
   "metadata": {},
   "outputs": [
    {
     "data": {
      "text/plain": [
       "0.0"
      ]
     },
     "execution_count": 51,
     "metadata": {},
     "output_type": "execute_result"
    }
   ],
   "source": [
    "C_charge_list.sum()"
   ]
  },
  {
   "cell_type": "markdown",
   "metadata": {},
   "source": [
    "# Iron-Surface"
   ]
  },
  {
   "cell_type": "code",
   "execution_count": 13,
   "metadata": {},
   "outputs": [
    {
     "name": "stdout",
     "output_type": "stream",
     "text": [
      "[-0.06   -0.0778 -0.0347  0.1059  0.0251  0.0879 -0.0475 -0.001   0.0019]\n"
     ]
    }
   ],
   "source": [
    "row_i = df.loc[1]\n",
    "atoms = row_i.atoms_object[-1]\n",
    "bader_charges = atoms.info[\"bader_charges\"]\n",
    "bader_charges = np.around(bader_charges, decimals=3)\n",
    "atoms.set_initial_magnetic_moments(magmoms=bader_charges)\n",
    "print(atoms.info[\"bader_charges\"])\n",
    "# view(atoms)"
   ]
  },
  {
   "cell_type": "markdown",
   "metadata": {},
   "source": [
    "# Iron-supported Graphene"
   ]
  },
  {
   "cell_type": "code",
   "execution_count": 14,
   "metadata": {},
   "outputs": [
    {
     "name": "stdout",
     "output_type": "stream",
     "text": [
      "[-0.0342 -0.0642 -0.0205  0.0758  0.0021  0.0429  0.1445  0.1857  0.2179\n",
      " -0.123  -0.0576 -0.1257 -0.0602 -0.0577 -0.1261]\n"
     ]
    }
   ],
   "source": [
    "row_i = df.loc[10]\n",
    "atoms = row_i.atoms_object[-1]\n",
    "bader_charges = atoms.info[\"bader_charges\"]\n",
    "bader_charges = np.around(bader_charges, decimals=3)\n",
    "atoms.set_initial_magnetic_moments(magmoms=bader_charges)\n",
    "print(atoms.info[\"bader_charges\"])\n",
    "# view(atoms)"
   ]
  },
  {
   "cell_type": "code",
   "execution_count": null,
   "metadata": {},
   "outputs": [],
   "source": []
  }
 ],
 "metadata": {
  "kernelspec": {
   "display_name": "Python 3",
   "language": "python",
   "name": "python3"
  },
  "language_info": {
   "codemirror_mode": {
    "name": "ipython",
    "version": 3
   },
   "file_extension": ".py",
   "mimetype": "text/x-python",
   "name": "python",
   "nbconvert_exporter": "python",
   "pygments_lexer": "ipython3",
   "version": "3.6.5"
  }
 },
 "nbformat": 4,
 "nbformat_minor": 2
}
