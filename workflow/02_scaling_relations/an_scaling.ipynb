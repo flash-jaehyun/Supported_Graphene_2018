{
 "cells": [
  {
   "cell_type": "markdown",
   "metadata": {},
   "source": [
    "# Iron Supported, Nitrogen-doped, Graphene (And Related Systems) <a name=\"head\"></a>\n",
    "# Descriptor Scaling\n",
    "***"
   ]
  },
  {
   "cell_type": "markdown",
   "metadata": {},
   "source": [
    "## Import Modules <a name=\"import-modules\"></a>"
   ]
  },
  {
   "cell_type": "code",
   "execution_count": 1,
   "metadata": {},
   "outputs": [
    {
     "name": "stdout",
     "output_type": "stream",
     "text": [
      "Divisor is Energy class instance!!!\n"
     ]
    }
   ],
   "source": [
    "# Setting Custom Paths ********************************************************\n",
    "# *****************************************************************************\n",
    "import os\n",
    "import sys\n",
    "\n",
    "sys.path.insert(0, os.path.join(\n",
    "        os.environ[\"PROJ_fe_graph\"],\n",
    "        \"data\"))\n",
    "\n",
    "sys.path.insert(0, os.path.join(\n",
    "        os.environ[\"PROJ_fe_graph\"],\n",
    "        \"workflow\"))\n",
    "\n",
    "# Python Modules **************************************************************\n",
    "# *****************************************************************************\n",
    "import numpy as np\n",
    "import pandas as pd\n",
    "pd.options.mode.chained_assignment = None\n",
    "\n",
    "from ase.visualize import view\n",
    "\n",
    "import plotly.graph_objs as go\n",
    "import plotly.plotly as py\n",
    "\n",
    "from sklearn.linear_model import LinearRegression\n",
    "\n",
    "# My Modules ******************************************************************\n",
    "# *****************************************************************************\n",
    "from colors.colors import color_list\n",
    "\n",
    "\n",
    "# Local Imports ***************************************************************\n",
    "# *****************************************************************************\n",
    "from proj_data_fe_graph import (\n",
    "    system_color_map_tmp,\n",
    "    system_color_map,\n",
    "    proj_dir_name,\n",
    "    )\n",
    "\n",
    "from an_data_processing import load_df, load_vegge_data\n",
    "\n",
    "from methods import point_plot_settings"
   ]
  },
  {
   "cell_type": "markdown",
   "metadata": {},
   "source": [
    "## Script Inputs"
   ]
  },
  {
   "cell_type": "code",
   "execution_count": 2,
   "metadata": {},
   "outputs": [],
   "source": [
    "save_plot = True\n",
    "\n",
    "marker_size = 12\n",
    "\n",
    "line_x_array = [-0.5, 3.5]\n",
    "# color_list = [\"red\", \"blue\"]\n",
    "\n",
    "border_color_list = [\n",
    "    \"red\",\n",
    "    \"blue\",\n",
    "    \"green\",\n",
    "    \"magenta\",\n",
    "    ]"
   ]
  },
  {
   "cell_type": "markdown",
   "metadata": {},
   "source": [
    "## Construct Dataframe"
   ]
  },
  {
   "cell_type": "code",
   "execution_count": 3,
   "metadata": {},
   "outputs": [
    {
     "name": "stdout",
     "output_type": "stream",
     "text": [
      "Attempting to load df from pickle\n"
     ]
    }
   ],
   "source": [
    "df = load_df(from_file=True, root_dir=\"..\")\n",
    "\n",
    "df = df[df[\"adsorbate\"] != \"h2o\"]\n",
    "# df = df[df[\"adsorbate\"] != \"oh\"]\n",
    "# df = df[df[\"system\"] != \"Fe_slab\"]\n",
    "# df = df[df[\"system\"] != \"graphene\"]\n",
    "\n",
    "df = df[[\n",
    "    \"ads_e\",\n",
    "    \"adsorbate\",\n",
    "    \"site\",\n",
    "    \"spinpol\",\n",
    "    \"system\",\n",
    "    \"notes\"\n",
    "    ]]\n",
    "\n",
    "df.set_index([\"site\", \"system\", \"spinpol\"], inplace=True)\n",
    "\n",
    "df = df.pivot(index=None, columns=\"adsorbate\")\n",
    "\n",
    "df_1 = df.xs(\"ads_e\", axis=1, drop_level=True)\n",
    "df_2 = df.xs(\"notes\", axis=1, drop_level=True)\n",
    "\n",
    "# df_2 = df_2.rename(index=str, columns={\n",
    "df_2 = df_2.rename(columns={\n",
    "    \"o\": \"o-notes\",\n",
    "    \"oh\": \"oh-notes\",\n",
    "    \"ooh\": \"ooh-notes\",\n",
    "    })\n",
    "\n",
    "df[\"index\"] = df.index.values\n",
    "df[\"index\"] = df[\"index\"].astype(str)\n",
    "\n",
    "df = pd.concat([df_1, df_2], axis=1, join_axes=[df_1.index])\n",
    "\n",
    "df_master = df.copy()\n",
    "# text_i = df[\"oh-notes\"].tolist()\n",
    "\n",
    "df_master[\"notes\"] = df_master[\"o-notes\"] + \" | \" + df_master[\"oh-notes\"] + \" | \" + df_master[\"ooh-notes\"]"
   ]
  },
  {
   "cell_type": "markdown",
   "metadata": {},
   "source": [
    "# Linear Regression to Adsorbed Species"
   ]
  },
  {
   "cell_type": "markdown",
   "metadata": {},
   "source": [
    "# Plotting Scaling Data Series"
   ]
  },
  {
   "cell_type": "code",
   "execution_count": 4,
   "metadata": {},
   "outputs": [],
   "source": [
    "trace_list = []"
   ]
  },
  {
   "cell_type": "markdown",
   "metadata": {},
   "source": [
    "## OOH vs OH"
   ]
  },
  {
   "cell_type": "code",
   "execution_count": 5,
   "metadata": {},
   "outputs": [],
   "source": [
    "tmp_bool = False\n",
    "for i_ind, (index, row) in enumerate(df_master.iterrows()):\n",
    "    plot_settings_dict = point_plot_settings(\n",
    "        i_ind,\n",
    "        index,\n",
    "        row,\n",
    "        border_color_list=border_color_list,\n",
    "        system_color_map=system_color_map_tmp,\n",
    "        )\n",
    "\n",
    "    show_leg = False\n",
    "    if tmp_bool is False:\n",
    "        if plot_settings_dict[\"marker_symbol\"] == \"circle\":\n",
    "            tmp_bool = True\n",
    "            show_leg = True\n",
    "\n",
    "            trace_i = go.Scatter(\n",
    "                y = [row[\"ooh\"]],\n",
    "                x = [row[\"oh\"]],\n",
    "                hoverinfo=\"text\",\n",
    "                text=plot_settings_dict[\"hover_text\"],\n",
    "                mode='markers',\n",
    "                name = \"*OOH scaling\",\n",
    "                legendgroup=\"*OOH scaling\",\n",
    "                showlegend=show_leg,\n",
    "                marker=dict(\n",
    "                    size=marker_size,\n",
    "                    symbol=plot_settings_dict[\"marker_symbol\"],\n",
    "#                     color = color_list[0],\n",
    "                    color=plot_settings_dict[\"sys_color\"],\n",
    "                )\n",
    "            )\n",
    "            trace_list.append(trace_i)\n",
    "\n",
    "    trace_i = go.Scatter(\n",
    "        y = [row[\"ooh\"]],\n",
    "        x = [row[\"oh\"]], \n",
    "        hoverinfo=\"text\",\n",
    "        text=plot_settings_dict[\"hover_text\"],\n",
    "        mode='markers',\n",
    "        name = \"*OOH scaling\",\n",
    "        legendgroup=\"*OOH scaling\",\n",
    "#         showlegend=show_leg,\n",
    "        showlegend=False,\n",
    "        marker=dict(\n",
    "            size=marker_size,\n",
    "            symbol=plot_settings_dict[\"marker_symbol\"],\n",
    "#             color=color_list[0],\n",
    "            color=plot_settings_dict[\"sys_color\"],\n",
    "\n",
    "            line=dict(\n",
    "#                 color=plot_settings_dict[\"marker_line\"],\n",
    "#                 color=plot_settings_dict[\"sys_color\"],\n",
    "                color=\"black\",\n",
    "                width=1.5,\n",
    "            )\n",
    "        )\n",
    "    )\n",
    "    trace_list.append(trace_i)"
   ]
  },
  {
   "cell_type": "markdown",
   "metadata": {},
   "source": [
    "## O vs OH"
   ]
  },
  {
   "cell_type": "code",
   "execution_count": 6,
   "metadata": {},
   "outputs": [],
   "source": [
    "tmp_bool = False\n",
    "for i_ind, (index, row) in enumerate(df_master.iterrows()):\n",
    "    plot_settings_dict = point_plot_settings(\n",
    "        i_ind,\n",
    "        index,\n",
    "        row,\n",
    "        border_color_list=border_color_list,\n",
    "        system_color_map=system_color_map_tmp,\n",
    "        )\n",
    "#     plot_settings_dict = point_plot_settings(i_ind, index, row)\n",
    " \n",
    "    show_leg = False\n",
    "    if tmp_bool is False:\n",
    "        if plot_settings_dict[\"marker_symbol\"] == \"circle\":\n",
    "            tmp_bool = True\n",
    "            show_leg = True\n",
    "\n",
    "            trace_i = go.Scatter(\n",
    "                y = [row[\"o\"]],\n",
    "                x = [row[\"oh\"]],\n",
    "                hoverinfo=\"text\",\n",
    "                text=plot_settings_dict[\"hover_text\"],\n",
    "                mode='markers',\n",
    "                name = \"*O scaling\",\n",
    "                legendgroup=\"*O scaling\",\n",
    "                showlegend=True,\n",
    "                marker=dict(\n",
    "                    size=marker_size,\n",
    "                    symbol=plot_settings_dict[\"marker_symbol\"],\n",
    "#                     color=color_list[1],\n",
    "                    color=plot_settings_dict[\"sys_color\"],\n",
    "                )\n",
    "            )            \n",
    "            trace_list.append(trace_i)\n",
    "\n",
    "    trace_i = go.Scatter(\n",
    "        y = row[[\"o\"]],\n",
    "        x = row[[\"oh\"]],\n",
    "        hoverinfo=\"text\",\n",
    "        text=plot_settings_dict[\"hover_text\"],\n",
    "        mode='markers',\n",
    "        name = \"*O scaling\",\n",
    "        legendgroup=\"*O scaling\",\n",
    "        showlegend=False,\n",
    "        marker=dict(\n",
    "            size=marker_size,\n",
    "            symbol=plot_settings_dict[\"marker_symbol\"],\n",
    "#             color=color_list[1],\n",
    "            color=plot_settings_dict[\"sys_color\"],\n",
    "            line=dict(\n",
    "#                 color=plot_settings_dict[\"marker_line\"],\n",
    "                color=\"red\",\n",
    "#                 width=2,\n",
    "                width=0.5,\n",
    "            )\n",
    "        )\n",
    "    )\n",
    "    trace_list.append(trace_i)"
   ]
  },
  {
   "cell_type": "markdown",
   "metadata": {},
   "source": [
    "## Ideal OOH and O vs OH Scaling"
   ]
  },
  {
   "cell_type": "code",
   "execution_count": 7,
   "metadata": {},
   "outputs": [],
   "source": [
    "# Ideal OOH vs OH Scaling Line\n",
    "x = line_x_array\n",
    "trace_ooh_scaling = go.Scatter(\n",
    "    x = x,\n",
    "    y = [x[0] + 3.2, x[1] + 3.2],\n",
    "    name = \"ooh v oh (ideal)\",\n",
    "    mode='lines',\n",
    "    opacity=0.6,\n",
    "    line = {\n",
    "        \"dash\": \"dot\",\n",
    "        \"color\": \"black\",\n",
    "    },\n",
    ")\n",
    "# trace_list.append(trace_ooh_scaling)\n",
    "trace_list.insert(0, trace_ooh_scaling)\n",
    "\n",
    "# Ideal O vs OH Scaling Line\n",
    "x = line_x_array\n",
    "trace_o_scaling = go.Scatter(\n",
    "    x = x,\n",
    "    y = [2 * x[0], 2 * x[1]],\n",
    "    name = \"o v oh (ideal)\",\n",
    "    mode='lines',\n",
    "    opacity=0.6,\n",
    "    line = {\n",
    "        \"dash\": \"dot\",\n",
    "        \"color\": \"red\",\n",
    "    },\n",
    ")\n",
    "\n",
    "# trace_list.append(trace_o_scaling)\n",
    "trace_list.insert(0, trace_o_scaling)"
   ]
  },
  {
   "cell_type": "markdown",
   "metadata": {},
   "source": [
    "## Fit Lines"
   ]
  },
  {
   "cell_type": "markdown",
   "metadata": {},
   "source": [
    "Before fitting the scaling relations, bad data should be diregarded.\n",
    "This includes the following situations:\n",
    "* Desorption: The adsorbate molecule does not bind with the surface\n",
    "* Dissociation: The adsorbate is \"broken up\" by the surface"
   ]
  },
  {
   "cell_type": "code",
   "execution_count": 8,
   "metadata": {},
   "outputs": [],
   "source": [
    "df_regr = df_master.copy()\n",
    "\n",
    "df_regr = df_regr[df_regr[\"o-notes\"] != \"Desorbed\"]\n",
    "df_regr = df_regr[df_regr[\"oh-notes\"] != \"Desorbed\"]\n",
    "df_regr = df_regr[df_regr[\"ooh-notes\"] != \"Desorbed\"]\n",
    "\n",
    "df_regr = df_regr[df_regr[\"o-notes\"] != \"Dissociated\"]\n",
    "df_regr = df_regr[df_regr[\"oh-notes\"] != \"Dissociated\"]\n",
    "df_regr = df_regr[df_regr[\"ooh-notes\"] != \"Dissociated\"]"
   ]
  },
  {
   "cell_type": "code",
   "execution_count": 9,
   "metadata": {},
   "outputs": [
    {
     "name": "stdout",
     "output_type": "stream",
     "text": [
      "2.9177148903311965\n",
      "1.2988345180866383\n",
      "OOH Fit\n",
      "intercept (b) and slope (m) coefficients:\n",
      "O Fit\n",
      "intercept (b) and slope (m) coefficients:\n",
      "0.5017142485515365\n",
      "1.8144171589792406\n"
     ]
    }
   ],
   "source": [
    "df_regr_ooh_v_oh = df_regr.copy()\n",
    "df = df_regr_ooh_v_oh\n",
    "# Removing row with NA values for OOH or OH\n",
    "df = df[np.isfinite(df[\"ooh\"])]\n",
    "df = df[np.isfinite(df[\"oh\"])]\n",
    "\n",
    "lr = LinearRegression()\n",
    "\n",
    "y_data = np.array(df[\"ooh\"].tolist())\n",
    "x_data = np.array(df[\"oh\"].tolist()).reshape(-1, 1)\n",
    "\n",
    "lr.fit(x_data, y_data)\n",
    "\n",
    "b = lr.intercept_\n",
    "m = lr.coef_[0]\n",
    "print(b)\n",
    "print(m)\n",
    "b_ooh = b\n",
    "m_ooh = m\n",
    "\n",
    "print(\"OOH Fit\")\n",
    "print(\"intercept (b) and slope (m) coefficients:\")\n",
    "\n",
    "\n",
    "x_array = np.array(line_x_array)\n",
    "y_pred = lr.predict(x_array.reshape(-1, 1))\n",
    "\n",
    "trace_ooh_fit = go.Scatter(\n",
    "    x = x_array,\n",
    "    y = y_pred,\n",
    "    name = \"*OOH vs *OH (fitted)\",\n",
    "    mode='lines',\n",
    "    line = {\n",
    "        \"color\": \"black\",\n",
    "    },\n",
    ")\n",
    "\n",
    "# trace_list.append(trace_ooh_fit)\n",
    "trace_list.insert(0, trace_ooh_fit)\n",
    "# **************************************************\n",
    "\n",
    "df_regr_o_v_oh = df_regr.copy()\n",
    "df = df_regr_o_v_oh\n",
    "# Removing row with NA values for OOH or OH\n",
    "df = df[np.isfinite(df[\"o\"])]\n",
    "df = df[np.isfinite(df[\"oh\"])]\n",
    "\n",
    "lr = LinearRegression()\n",
    "\n",
    "y_data = np.array(df[\"o\"].tolist())\n",
    "x_data = np.array(df[\"oh\"].tolist()).reshape(-1, 1)\n",
    "\n",
    "lr.fit(x_data, y_data)\n",
    "\n",
    "b = lr.intercept_\n",
    "m = lr.coef_[0]\n",
    "b_o = b\n",
    "m_o = m\n",
    "\n",
    "print(\"O Fit\")\n",
    "print(\"intercept (b) and slope (m) coefficients:\")\n",
    "print(b)\n",
    "print(m)\n",
    "\n",
    "\n",
    "x_array = np.array(line_x_array)\n",
    "y_pred = lr.predict(x_array.reshape(-1, 1))\n",
    "\n",
    "trace_o_fit = go.Scatter(\n",
    "    x = x_array,\n",
    "    y = y_pred,\n",
    "    name = \"*O vs *OH (fitted))\",\n",
    "    mode='lines',\n",
    "    line = {\n",
    "        \"color\": \"red\",\n",
    "    },\n",
    ")\n",
    "\n",
    "# trace_list.append(trace_o_fit)\n",
    "trace_list.insert(0, trace_o_fit)"
   ]
  },
  {
   "cell_type": "markdown",
   "metadata": {},
   "source": [
    "# Plotting"
   ]
  },
  {
   "cell_type": "code",
   "execution_count": 10,
   "metadata": {},
   "outputs": [],
   "source": [
    "tick_lab_size = 9 * (4. / 3.)\n",
    "axes_lab_size = 11 * (4. / 3.)\n",
    "\n",
    "common_axis_dict = {\n",
    "    \"zeroline\": False,\n",
    "    \"showline\": True,\n",
    "    \"mirror\": 'ticks',\n",
    "    \"linecolor\": 'black',\n",
    "    \"showgrid\": False,\n",
    "    \"titlefont\": dict(\n",
    "        size=axes_lab_size,\n",
    "        color=\"black\",\n",
    "        ),\n",
    "    \"tickfont\": dict(\n",
    "        size=tick_lab_size,\n",
    "        color=\"black\",\n",
    "        ),\n",
    "    \"ticks\": 'inside',\n",
    "    \"tick0\": 0,\n",
    "    \"tickcolor\": 'black',\n",
    "    # \"dtick\": 0.25,\n",
    "    \"ticklen\": 2,\n",
    "    \"tickwidth\": 1,\n",
    "    }\n",
    "\n",
    "layout = dict(\n",
    "#     title = 'OOH, OH, O Scaling Relations',\n",
    "   \n",
    "    xaxis=dict(\n",
    "        common_axis_dict,\n",
    "        **{\n",
    "            \"title\": \"dG<sub>*OH</sub> (eV)\",\n",
    "            \"dtick\": 0.5,\n",
    "            \"range\": line_x_array,\n",
    "            }\n",
    "    ),\n",
    "\n",
    "    yaxis=dict(\n",
    "        common_axis_dict,\n",
    "        **{\n",
    "            \"title\": \"dG<sub>*OOH</sub>, dG<sub>*O</sub> (eV)\",\n",
    "            }\n",
    "        ),\n",
    "\n",
    "    width=1. * 18.7 * 37.795275591,\n",
    "    height=0.75 * 18.7 * 37.795275591,\n",
    "\n",
    "#     width=200 * 4.,\n",
    "#     height=200 * 3.,\n",
    "\n",
    "    )"
   ]
  },
  {
   "cell_type": "code",
   "execution_count": 11,
   "metadata": {},
   "outputs": [],
   "source": [
    "border_coord = {\n",
    "    \"x0\": 0.01,\n",
    "    \"y0\": 0.8,\n",
    "    \"x1\": 0.35,\n",
    "    \"y1\": 1.,\n",
    "    }"
   ]
  },
  {
   "cell_type": "markdown",
   "metadata": {},
   "source": [
    "## Annotations"
   ]
  },
  {
   "cell_type": "code",
   "execution_count": 12,
   "metadata": {},
   "outputs": [],
   "source": [
    "eqn_ooh = \"\" \\\n",
    "    + \"G<sub>*OOH</sub> = \" \\\n",
    "    + \"{:.4f}\".format(m_ooh) \\\n",
    "    + \"*\" \\\n",
    "    + \"G<sub>*OH</sub>\" \\\n",
    "    + \" + \" \\\n",
    "    + \"{:.4f}\".format(b_ooh) \\\n",
    "    + \"\"\n",
    "\n",
    "eqn_o = \"\" \\\n",
    "    + \"G<sub>*O</sub> = \" \\\n",
    "    + \"{:.4f}\".format(m_o) \\\n",
    "    + \"*\" \\\n",
    "    + \"G<sub>*OH</sub>\" \\\n",
    "    + \" + \" \\\n",
    "    + \"{:.4f}\".format(b_o) \\\n",
    "    + \"\"\n",
    "\n",
    "eqn_pos = {\n",
    "    \"x\": 0.01,\n",
    "    \"y\": 0.99,\n",
    "    }\n",
    "\n",
    "annotations=[\n",
    "    dict(\n",
    "        font=dict(family='Arial', size=12, color='white'),\n",
    "#         x=0.1,\n",
    "#         y=0.8,\n",
    "\n",
    "        x=eqn_pos[\"x\"],\n",
    "        y=eqn_pos[\"y\"],\n",
    "\n",
    "        xref='paper',\n",
    "        yref='paper',\n",
    "        text=eqn_ooh,\n",
    "        showarrow=False,\n",
    "        arrowhead=7,\n",
    "        ax=0,\n",
    "        ay=-2,\n",
    "        bgcolor=\"black\",\n",
    "        bordercolor=\"black\",\n",
    "        borderpad=5,\n",
    "        yshift=0.,\n",
    "        ),\n",
    "\n",
    "    dict(\n",
    "        font=dict(family='Arial', size=12, color='white'),\n",
    "        x=eqn_pos[\"x\"],\n",
    "        y=eqn_pos[\"y\"],\n",
    "\n",
    "#         x=0.1,\n",
    "#         y=0.8,\n",
    "        xref='paper',\n",
    "        yref='paper',\n",
    "        text=eqn_o,\n",
    "        showarrow=False,\n",
    "        arrowhead=7,\n",
    "        ax=0,\n",
    "        ay=-2,\n",
    "        bgcolor=\"black\",\n",
    "        bordercolor=\"black\",\n",
    "        borderpad=5,\n",
    "        yshift=-30.,\n",
    "        ),\n",
    "    ]"
   ]
  },
  {
   "cell_type": "code",
   "execution_count": 13,
   "metadata": {},
   "outputs": [],
   "source": [
    "if save_plot:\n",
    "    save_dir = proj_dir_name\n",
    "else:\n",
    "    save_dir = \"__temp__\""
   ]
  },
  {
   "cell_type": "code",
   "execution_count": 14,
   "metadata": {},
   "outputs": [
    {
     "data": {
      "text/html": [
       "<iframe id=\"igraph\" scrolling=\"no\" style=\"border:none;\" seamless=\"seamless\" src=\"https://plot.ly/~flores12/586.embed\" height=\"530.0787401637749px\" width=\"706.7716535517px\"></iframe>"
      ],
      "text/plain": [
       "<plotly.tools.PlotlyDisplay object>"
      ]
     },
     "execution_count": 14,
     "metadata": {},
     "output_type": "execute_result"
    }
   ],
   "source": [
    "layout[\"annotations\"] = annotations\n",
    "\n",
    "fig = dict(data=trace_list, layout=layout)\n",
    "py.iplot(fig,\n",
    "    filename=os.path.join(\n",
    "        save_dir,\n",
    "        \"scaling_relations\",\n",
    "        \"pl_scaling_relations_w_legend\",\n",
    "        ),\n",
    "    )"
   ]
  },
  {
   "cell_type": "code",
   "execution_count": 15,
   "metadata": {},
   "outputs": [
    {
     "data": {
      "text/html": [
       "<iframe id=\"igraph\" scrolling=\"no\" style=\"border:none;\" seamless=\"seamless\" src=\"https://plot.ly/~flores12/588.embed\" height=\"530.0787401637749px\" width=\"706.7716535517px\"></iframe>"
      ],
      "text/plain": [
       "<plotly.tools.PlotlyDisplay object>"
      ]
     },
     "execution_count": 15,
     "metadata": {},
     "output_type": "execute_result"
    }
   ],
   "source": [
    "layout[\"showlegend\"] = False\n",
    "\n",
    "fig = dict(data=trace_list, layout=layout)\n",
    "\n",
    "py.iplot(fig,\n",
    "    filename=os.path.join(\n",
    "        save_dir,\n",
    "        \"scaling_relations\",\n",
    "        \"pl_scaling_relations_no_legend\",\n",
    "        ),\n",
    "    )"
   ]
  },
  {
   "cell_type": "raw",
   "metadata": {},
   "source": [
    "\n",
    "\n",
    "\n",
    "\n",
    "\n",
    "\n"
   ]
  }
 ],
 "metadata": {
  "kernelspec": {
   "display_name": "Python 3",
   "language": "python",
   "name": "python3"
  },
  "language_info": {
   "codemirror_mode": {
    "name": "ipython",
    "version": 3
   },
   "file_extension": ".py",
   "mimetype": "text/x-python",
   "name": "python",
   "nbconvert_exporter": "python",
   "pygments_lexer": "ipython3",
   "version": "3.6.7"
  }
 },
 "nbformat": 4,
 "nbformat_minor": 2
}
