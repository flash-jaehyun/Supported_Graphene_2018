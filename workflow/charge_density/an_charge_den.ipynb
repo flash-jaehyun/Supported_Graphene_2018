{
 "cells": [
  {
   "cell_type": "markdown",
   "metadata": {},
   "source": [
    "# Import Modules"
   ]
  },
  {
   "cell_type": "code",
   "execution_count": 1,
   "metadata": {},
   "outputs": [],
   "source": [
    "import numpy as np\n",
    "from ase.io.cube import read_cube_data, read_cube, write_cube\n",
    "import plotly as py\n",
    "import plotly.graph_objs as go\n",
    "import copy\n",
    "import random"
   ]
  },
  {
   "cell_type": "markdown",
   "metadata": {},
   "source": [
    "# Script Inputs"
   ]
  },
  {
   "cell_type": "code",
   "execution_count": 2,
   "metadata": {},
   "outputs": [],
   "source": [
    "# master_data_filter = 0.96\n",
    "master_data_filter = 0.98\n",
    "density_filter = 0.025\n",
    "\n",
    "file_name = \"data/Fe_graph_density.cube\""
   ]
  },
  {
   "cell_type": "markdown",
   "metadata": {},
   "source": [
    "# Load Data"
   ]
  },
  {
   "cell_type": "code",
   "execution_count": 3,
   "metadata": {},
   "outputs": [],
   "source": [
    "with open(file_name, \"r\") as fle:\n",
    "    data_master = read_cube(fle)\n",
    "    \n",
    "atoms = data_master[\"atoms\"]\n",
    "data = data_master[\"data\"]\n",
    "origin = data_master[\"origin\"]"
   ]
  },
  {
   "cell_type": "code",
   "execution_count": 4,
   "metadata": {},
   "outputs": [
    {
     "data": {
      "text/plain": [
       "array([ 3.90031227,  0.61413979, 12.00000026])"
      ]
     },
     "execution_count": 4,
     "metadata": {},
     "output_type": "execute_result"
    }
   ],
   "source": [
    "cell_orig = copy.deepcopy(atoms.cell)\n",
    "\n",
    "# atoms.positions[0]"
   ]
  },
  {
   "cell_type": "code",
   "execution_count": 5,
   "metadata": {},
   "outputs": [],
   "source": [
    "x_sum = cell_orig[0, :].sum()\n",
    "y_sum = cell_orig[1, :].sum()\n",
    "z_sum = cell_orig[2, :].sum()\n",
    "\n",
    "x_size = data.shape[0]\n",
    "y_size = data.shape[1]\n",
    "z_size = data.shape[2]"
   ]
  },
  {
   "cell_type": "code",
   "execution_count": 6,
   "metadata": {},
   "outputs": [],
   "source": [
    "x_list = []\n",
    "y_list = []\n",
    "z_list = []\n",
    "\n",
    "dens_list = []\n",
    "for index, dens_i in np.ndenumerate(data):\n",
    "    x_list.append(index[0])\n",
    "    y_list.append(index[1])\n",
    "    z_list.append(index[2])\n",
    "    \n",
    "    dens_list.append(dens_i)\n",
    "    \n",
    "x_list = np.array(x_list)\n",
    "y_list = np.array(y_list)\n",
    "z_list = np.array(z_list)\n",
    "dens_list = np.array(dens_list)"
   ]
  },
  {
   "cell_type": "code",
   "execution_count": 7,
   "metadata": {},
   "outputs": [
    {
     "name": "stdout",
     "output_type": "stream",
     "text": [
      "Number of data points:\n",
      "1769472\n",
      "\n",
      "\n",
      "Mean Density:\n",
      "0.056685123016029355\n",
      "\n",
      "\n",
      "Max Density:\n",
      "3.709\n",
      "\n",
      "\n"
     ]
    }
   ],
   "source": [
    "print(\"Number of data points:\")\n",
    "print(len(x_list));print(\"\\n\")\n",
    "\n",
    "print(\"Mean Density:\")\n",
    "print(dens_list.mean());print(\"\\n\")\n",
    "\n",
    "print(\"Max Density:\")\n",
    "print(dens_list.max());print(\"\\n\")"
   ]
  },
  {
   "cell_type": "code",
   "execution_count": 8,
   "metadata": {},
   "outputs": [
    {
     "name": "stdout",
     "output_type": "stream",
     "text": [
      "352617\n"
     ]
    }
   ],
   "source": [
    "bool_list = []\n",
    "for data_i in range(len(x_list)):\n",
    "    rand_i = random.random()   \n",
    "    if rand_i > master_data_filter:\n",
    "        bool_list.append(True)\n",
    "    else:\n",
    "        bool_list.append(False)\n",
    "        \n",
    "x_list = x_list[bool_list]\n",
    "y_list = y_list[bool_list]\n",
    "z_list = z_list[bool_list]\n",
    "dens_list = dens_list[bool_list]\n",
    "\n",
    "# Normalizing electron density\n",
    "dens_list /= dens_list.max()\n",
    "\n",
    "print(len(x_list))"
   ]
  },
  {
   "cell_type": "code",
   "execution_count": 9,
   "metadata": {},
   "outputs": [
    {
     "name": "stdout",
     "output_type": "stream",
     "text": [
      "33309\n"
     ]
    }
   ],
   "source": [
    "dens_boo_list = []\n",
    "for dens_i in dens_list:\n",
    "    if dens_i < density_filter:\n",
    "        dens_boo_list.append(False)\n",
    "    else:\n",
    "        dens_boo_list.append(True)\n",
    "        \n",
    "x_list = x_list[dens_boo_list]\n",
    "y_list = y_list[dens_boo_list]\n",
    "z_list = z_list[dens_boo_list]\n",
    "dens_list = dens_list[dens_boo_list]\n",
    "\n",
    "print(len(x_list))"
   ]
  },
  {
   "cell_type": "code",
   "execution_count": 10,
   "metadata": {},
   "outputs": [],
   "source": [
    "atoms.cell[0] /= np.linalg.norm(atoms.cell[0])\n",
    "atoms.cell[1] /= np.linalg.norm(atoms.cell[1])\n",
    "atoms.cell[2] /= np.linalg.norm(atoms.cell[2])"
   ]
  },
  {
   "cell_type": "code",
   "execution_count": 11,
   "metadata": {},
   "outputs": [
    {
     "data": {
      "text/plain": [
       "array([[1.        , 0.        , 0.        ],\n",
       "       [0.50000081, 0.86602494, 0.        ],\n",
       "       [0.        , 0.        , 1.        ]])"
      ]
     },
     "execution_count": 11,
     "metadata": {},
     "output_type": "execute_result"
    }
   ],
   "source": [
    "atoms.cell"
   ]
  },
  {
   "cell_type": "code",
   "execution_count": 12,
   "metadata": {},
   "outputs": [],
   "source": [
    "len(x_list)\n",
    "\n",
    "x_list = x_list.astype(float)\n",
    "y_list = y_list.astype(float)\n",
    "z_list = z_list.astype(float)\n",
    "\n",
    "x_list_new = []\n",
    "y_list_new = []\n",
    "z_list_new = []\n",
    "for x_i, y_i, z_i in zip(x_list, y_list, z_list):\n",
    "    b = np.array([x_i / x_size, y_i / y_size, z_i / z_size])\n",
    "    new_coord = atoms.cell.dot(b)\n",
    "\n",
    "    x_i_new = new_coord[0] * ((x_i + 1) / x_size) * x_sum\n",
    "    y_i_new = new_coord[1] * ((y_i + 1) / y_size) * y_sum\n",
    "    z_i_new = new_coord[2] * ((z_i + 1) / z_size) * z_sum\n",
    "\n",
    "    x_list_new.append(x_i_new)\n",
    "    y_list_new.append(y_i_new)\n",
    "    z_list_new.append(z_i_new)\n",
    "    \n",
    "    \n",
    "x_list = x_list_new\n",
    "y_list = y_list_new\n",
    "z_list = z_list_new"
   ]
  },
  {
   "cell_type": "code",
   "execution_count": 13,
   "metadata": {},
   "outputs": [
    {
     "name": "stdout",
     "output_type": "stream",
     "text": [
      "0.984375\n",
      "0.984375\n"
     ]
    },
    {
     "data": {
      "text/plain": [
       "12.406373078506329"
      ]
     },
     "execution_count": 13,
     "metadata": {},
     "output_type": "execute_result"
    }
   ],
   "source": [
    "print(x_i / x_size)\n",
    "\n",
    "print(new_coord[0])\n",
    "\n",
    "x_i\n",
    "\n",
    "# atoms.cell\n",
    "x_i_new\n",
    "\n",
    "x_i\n",
    "x_size\n",
    "\n",
    "x_sum\n",
    "y_sum\n",
    "z_sum\n",
    "\n",
    "z_i_new"
   ]
  },
  {
   "cell_type": "markdown",
   "metadata": {},
   "source": [
    "# Atoms"
   ]
  },
  {
   "cell_type": "code",
   "execution_count": 14,
   "metadata": {},
   "outputs": [
    {
     "name": "stdout",
     "output_type": "stream",
     "text": [
      "Fe\n",
      "Fe\n",
      "Fe\n",
      "Fe\n",
      "Fe\n",
      "Fe\n",
      "Fe\n",
      "Fe\n",
      "Fe\n",
      "C\n",
      "C\n",
      "C\n",
      "C\n",
      "C\n",
      "C\n"
     ]
    }
   ],
   "source": [
    "atoms.positions[:, 2]\n",
    "\n",
    "# atoms[0]\n",
    "\n",
    "color_list = []\n",
    "for atom in atoms:\n",
    "    elem = atom.symbol\n",
    "    print(elem)\n",
    "    if elem == \"Fe\":\n",
    "        color_list.append(\"orange\")\n",
    "    elif elem == \"C\":\n",
    "        color_list.append(\"grey\")\n",
    "        \n"
   ]
  },
  {
   "cell_type": "code",
   "execution_count": 15,
   "metadata": {},
   "outputs": [],
   "source": [
    "trace2 = go.Scatter3d(\n",
    "    x=atoms.positions[:, 0],\n",
    "    y=atoms.positions[:, 1],\n",
    "    z=atoms.positions[:, 2],\n",
    "    mode='markers',\n",
    "\n",
    "    marker=dict(\n",
    "        size=18,\n",
    "        color=color_list,\n",
    "#         color=dens_list,  # set color to an array/list of desired values\n",
    "       \n",
    "    )\n",
    ")"
   ]
  },
  {
   "cell_type": "markdown",
   "metadata": {},
   "source": [
    "# Unit Cell"
   ]
  },
  {
   "cell_type": "code",
   "execution_count": 16,
   "metadata": {},
   "outputs": [],
   "source": [
    "line_width = 1\n",
    "color = \"red\""
   ]
  },
  {
   "cell_type": "code",
   "execution_count": 17,
   "metadata": {},
   "outputs": [],
   "source": [
    "line_i = np.array([\n",
    "    np.array([0., 0., 0.]),\n",
    "    cell_orig[0],\n",
    "    ])\n",
    "\n",
    "trace_a = go.Scatter3d(\n",
    "    x=line_i[:, 0], y=line_i[:, 1], z=line_i[:, 2],\n",
    "    marker=dict(\n",
    "        size=0,\n",
    "        colorscale='Viridis',\n",
    "    ),\n",
    "    line=dict(\n",
    "        color=color,\n",
    "        width=line_width\n",
    "    )\n",
    ")\n",
    "\n",
    "line_i = np.array([\n",
    "    np.array([0., 0., 0.]),\n",
    "    cell_orig[1],\n",
    "    ])\n",
    "trace_b = go.Scatter3d(\n",
    "    x=line_i[:, 0], y=line_i[:, 1], z=line_i[:, 2],\n",
    "    marker=dict(\n",
    "        size=0,\n",
    "        colorscale='Viridis',\n",
    "    ),\n",
    "    line=dict(\n",
    "        color=color,\n",
    "        width=line_width\n",
    "    )\n",
    ")\n",
    "\n",
    "\n",
    "line_i = np.array([\n",
    "    np.array([0., 0., 0.]),\n",
    "    cell_orig[2],\n",
    "    ])\n",
    "trace_c = go.Scatter3d(\n",
    "    x=line_i[:, 0], y=line_i[:, 1], z=line_i[:, 2],\n",
    "    marker=dict(\n",
    "        size=0,\n",
    "        colorscale='Viridis',\n",
    "    ),\n",
    "    line=dict(\n",
    "        color=color,\n",
    "        width=line_width\n",
    "    )\n",
    ")\n",
    "\n",
    "line_i = np.array([\n",
    "    cell_orig[0],\n",
    "    cell_orig[0] + cell_orig[1],\n",
    "    ])\n",
    "trace_d = go.Scatter3d(\n",
    "    x=line_i[:, 0], y=line_i[:, 1], z=line_i[:, 2],\n",
    "    marker=dict(\n",
    "        size=0,\n",
    "        colorscale='Viridis',\n",
    "    ),\n",
    "    line=dict(\n",
    "        color=color,\n",
    "        width=line_width\n",
    "    )\n",
    ")\n",
    "\n",
    "line_i = np.array([\n",
    "    cell_orig[0],\n",
    "    cell_orig[0] + cell_orig[2],\n",
    "    ])\n",
    "trace_e = go.Scatter3d(\n",
    "    x=line_i[:, 0], y=line_i[:, 1], z=line_i[:, 2],\n",
    "    marker=dict(\n",
    "        size=0,\n",
    "        colorscale='Viridis',\n",
    "    ),\n",
    "    line=dict(\n",
    "        color=color,\n",
    "        width=line_width\n",
    "    )\n",
    ")\n",
    "\n",
    "line_i = np.array([\n",
    "    cell_orig[1],\n",
    "    cell_orig[1] + cell_orig[0],\n",
    "    ])\n",
    "trace_f = go.Scatter3d(\n",
    "    x=line_i[:, 0], y=line_i[:, 1], z=line_i[:, 2],\n",
    "    marker=dict(\n",
    "        size=0,\n",
    "        colorscale='Viridis',\n",
    "    ),\n",
    "    line=dict(\n",
    "        color=color,\n",
    "        width=line_width\n",
    "    )\n",
    ")\n",
    "\n",
    "line_i = np.array([\n",
    "    cell_orig[1],\n",
    "    cell_orig[1] + cell_orig[2],\n",
    "    ])\n",
    "trace_g = go.Scatter3d(\n",
    "    x=line_i[:, 0], y=line_i[:, 1], z=line_i[:, 2],\n",
    "    marker=dict(\n",
    "        size=0,\n",
    "        colorscale='Viridis',\n",
    "    ),\n",
    "    line=dict(\n",
    "        color=color,\n",
    "        width=line_width\n",
    "    )\n",
    ")\n",
    "\n",
    "line_i = np.array([\n",
    "    np.array([0., 0., 0.]) + cell_orig[2],\n",
    "    np.array([0., 0., 0.]) + cell_orig[2] + cell_orig[0],\n",
    "    ])\n",
    "trace_h = go.Scatter3d(\n",
    "    x=line_i[:, 0], y=line_i[:, 1], z=line_i[:, 2],\n",
    "    marker=dict(\n",
    "        size=0,\n",
    "        colorscale='Viridis',\n",
    "    ),\n",
    "    line=dict(\n",
    "        color=color,\n",
    "        width=line_width\n",
    "    )\n",
    ")\n",
    "\n",
    "line_i = np.array([\n",
    "    np.array([0., 0., 0.]) + cell_orig[2],\n",
    "    np.array([0., 0., 0.]) + cell_orig[2] + cell_orig[1],\n",
    "    ])\n",
    "trace_i = go.Scatter3d(\n",
    "    x=line_i[:, 0], y=line_i[:, 1], z=line_i[:, 2],\n",
    "    marker=dict(\n",
    "        size=0,\n",
    "        colorscale='Viridis',\n",
    "    ),\n",
    "    line=dict(\n",
    "        color=color,\n",
    "        width=line_width\n",
    "    )\n",
    ")\n",
    "\n",
    "line_i = np.array([\n",
    "    np.array([0., 0., 0.]) + cell_orig[0] + cell_orig[1] + cell_orig[2],\n",
    "    np.array([0., 0., 0.]) + cell_orig[2] + cell_orig[1],\n",
    "    ])\n",
    "trace_j = go.Scatter3d(\n",
    "    x=line_i[:, 0], y=line_i[:, 1], z=line_i[:, 2],\n",
    "    marker=dict(\n",
    "        size=0,\n",
    "        colorscale='Viridis',\n",
    "    ),\n",
    "    line=dict(\n",
    "        color=color,\n",
    "        width=line_width\n",
    "    )\n",
    ")\n",
    "\n",
    "line_i = np.array([\n",
    "    np.array([0., 0., 0.]) + cell_orig[0] + cell_orig[1] + cell_orig[2],\n",
    "    np.array([0., 0., 0.]) + cell_orig[0] + cell_orig[1],\n",
    "    ])\n",
    "trace_k = go.Scatter3d(\n",
    "    x=line_i[:, 0], y=line_i[:, 1], z=line_i[:, 2],\n",
    "    marker=dict(\n",
    "        size=0,\n",
    "        colorscale='Viridis',\n",
    "    ),\n",
    "    line=dict(\n",
    "        color=color,\n",
    "        width=line_width\n",
    "    )\n",
    ")\n",
    "\n",
    "line_i = np.array([\n",
    "    np.array([0., 0., 0.]) + cell_orig[0] + cell_orig[1] + cell_orig[2],\n",
    "    np.array([0., 0., 0.]) + cell_orig[0] + cell_orig[2],\n",
    "    ])\n",
    "trace_l = go.Scatter3d(\n",
    "    x=line_i[:, 0], y=line_i[:, 1], z=line_i[:, 2],\n",
    "    marker=dict(\n",
    "        size=0,\n",
    "        colorscale='Viridis',\n",
    "    ),\n",
    "    line=dict(\n",
    "        color=color,\n",
    "        width=line_width\n",
    "    )\n",
    ")\n",
    "\n",
    "\n",
    "\n",
    "line_trace_list = [\n",
    "    trace_a,\n",
    "    trace_b,\n",
    "    trace_c,\n",
    "    trace_d,\n",
    "    trace_e,\n",
    "    trace_f,\n",
    "    trace_g,\n",
    "    trace_h,\n",
    "    trace_i,\n",
    "    trace_j,\n",
    "    trace_k,\n",
    "    trace_l,\n",
    "    ]"
   ]
  },
  {
   "cell_type": "code",
   "execution_count": 18,
   "metadata": {},
   "outputs": [],
   "source": [
    "trace1 = go.Scatter3d(\n",
    "    x=x_list,\n",
    "    y=y_list,\n",
    "    z=z_list,\n",
    "    mode='markers',\n",
    "\n",
    "    marker=dict(\n",
    "        size=2,\n",
    "        color=dens_list,  # set color to an array/list of desired values\n",
    "\n",
    "        colorscale= [\n",
    "            [0.0, 'rgb(255, 229.5, 229.5, 0.9)'],\n",
    "            [0.1, 'rgb(255, 229.5, 229.5, 0.9)'],\n",
    "\n",
    "            [0.1, 'rgb(255, 204.0, 204.0, 0.9)'],\n",
    "            [0.2, 'rgb(255, 204.0, 204.0, 0.9)'],\n",
    "\n",
    "            [0.2, 'rgb(255, 178.5, 178.5, 0.9)'],\n",
    "            [0.3, 'rgb(255, 178.5, 178.5, 0.9)'],\n",
    "\n",
    "            [0.3, 'rgb(255, 153.0, 153.0, 0.9)'],\n",
    "            [0.4, 'rgb(255, 153.0, 153.0, 0.9)'],\n",
    "\n",
    "            [0.4, 'rgb(255, 127.0, 127.0, 0.9)'],\n",
    "            [0.5, 'rgb(255, 127.0, 127.0, 0.9)'],\n",
    "\n",
    "            [0.5, 'rgb(255, 102.0, 102.0, 0.9)'],\n",
    "            [0.6, 'rgb(255, 102.0, 102.0, 0.9)'],\n",
    "\n",
    "            [0.6, 'rgb(255, 76.5, 76.5, 0.9)'],\n",
    "            [0.7, 'rgb(255, 76.5, 76.5, 0.9)'],\n",
    "\n",
    "            [0.7, 'rgb(255, 51, 51, 0.9)'],\n",
    "            [0.8, 'rgb(255, 51, 51, 0.9)'],\n",
    "\n",
    "            [0.8, 'rgb(255, 25.5, 25.5, 0.9)'],\n",
    "            [0.9, 'rgb(255, 25.5, 25.5, 0.9)'],\n",
    "\n",
    "            [0.9, 'rgb(255, 0, 0, 0.9)'],\n",
    "            [1.0, 'rgb(255, 0, 0, 0.9)'],\n",
    "        ],\n",
    "        \n",
    "    )\n",
    ")"
   ]
  },
  {
   "cell_type": "code",
   "execution_count": 20,
   "metadata": {},
   "outputs": [],
   "source": [
    "\n",
    "data = [\n",
    "    trace1,\n",
    "    trace2,\n",
    "    ]\n",
    "\n",
    "data += line_trace_list\n",
    "\n",
    "layout = go.Layout(\n",
    "    margin=dict(\n",
    "        l=0,\n",
    "        r=0,\n",
    "        b=0,\n",
    "        t=0\n",
    "    )\n",
    ")\n",
    "fig = go.Figure(data=data, layout=layout)\n",
    "\n",
    "py.plotly.image.save_as(fig, filename='a-simple-plot.png')\n",
    "\n",
    "# py.plotly.iplot(fig, filename='__temp__/charge_den')"
   ]
  }
 ],
 "metadata": {
  "kernelspec": {
   "display_name": "Python 3",
   "language": "python",
   "name": "python3"
  },
  "language_info": {
   "codemirror_mode": {
    "name": "ipython",
    "version": 3
   },
   "file_extension": ".py",
   "mimetype": "text/x-python",
   "name": "python",
   "nbconvert_exporter": "python",
   "pygments_lexer": "ipython3",
   "version": "3.6.5"
  }
 },
 "nbformat": 4,
 "nbformat_minor": 2
}
