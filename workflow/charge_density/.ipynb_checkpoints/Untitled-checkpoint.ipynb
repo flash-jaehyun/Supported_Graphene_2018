{
 "cells": [
  {
   "cell_type": "code",
   "execution_count": 1,
   "metadata": {},
   "outputs": [],
   "source": [
    "from ase import io\n",
    "from ase.visualize import view\n",
    "\n",
    "import copy"
   ]
  },
  {
   "cell_type": "code",
   "execution_count": 2,
   "metadata": {},
   "outputs": [],
   "source": [
    "atoms = io.read(\"out.traj\")"
   ]
  },
  {
   "cell_type": "code",
   "execution_count": 4,
   "metadata": {},
   "outputs": [
    {
     "name": "stdout",
     "output_type": "stream",
     "text": [
      "[[ 3.90031227  0.61413979 12.00000026]\n",
      " [ 1.77286907  1.84241989 12.00000026]\n",
      " [ 3.90031227  3.07069946 12.00000026]\n",
      " [ 1.06372134  0.61413979 14.00577239]\n",
      " [ 3.19116454  1.84241989 14.00577239]\n",
      " [ 5.31860774  3.07069946 14.00577239]\n",
      " [ 2.48190938  0.61443189 15.92308409]\n",
      " [ 4.60934517  1.84235639 15.92312907]\n",
      " [ 2.48202421  3.07087727 15.92310525]\n",
      " [ 0.35536102 -0.61560825 18.00777929]\n",
      " [ 1.773684   -0.61553523 17.96053806]\n",
      " [ 2.48288995  0.61266497 18.00769939]\n",
      " [ 3.90119706  0.61263692 17.96055817]\n",
      " [ 1.77362315  1.84091597 17.96055182]\n",
      " [ 4.61031145  1.84096836 18.00751471]]\n",
      "[[ 3.90031227  0.61413979 12.00000026]\n",
      " [ 1.77286907  1.84241989 12.00000026]\n",
      " [ 3.90031227  3.07069946 12.00000026]\n",
      " [ 1.06372134  0.61413979 14.00577239]\n",
      " [ 3.19116454  1.84241989 14.00577239]\n",
      " [ 5.31860774  3.07069946 14.00577239]\n",
      " [ 2.48190938  0.61443189 15.92308409]\n",
      " [ 4.60934517  1.84235639 15.92312907]\n",
      " [ 2.48202421  3.07087727 15.92310525]\n",
      " [ 0.35536102 -0.61560825 18.00777929]\n",
      " [ 1.773684   -0.61553523 17.96053806]\n",
      " [ 2.48288995  0.61266497 18.00769939]\n",
      " [ 3.90119706  0.61263692 17.96055817]\n",
      " [ 1.77362315  1.84091597 17.96055182]\n",
      " [ 4.61031145  1.84096836 18.00751471]]\n"
     ]
    },
    {
     "data": {
      "text/plain": [
       "Atoms(symbols='Fe9C6', pbc=False, cell=[[4.2548895790065675, 0.0, 0.0], [2.1274447895032838, 3.6848344872810905, 0.0], [0.0, 0.0, 28.01160193335227]])"
      ]
     },
     "execution_count": 4,
     "metadata": {},
     "output_type": "execute_result"
    }
   ],
   "source": [
    "atoms_0 = copy.deepcopy(atoms)\n",
    "print(atoms_0.positions)\n",
    "atoms_0.wrap(pbc=True)\n",
    "print(atoms_0.positions)\n",
    "\n",
    "view(atoms_0)\n",
    "atoms"
   ]
  }
 ],
 "metadata": {
  "kernelspec": {
   "display_name": "Python 3",
   "language": "python",
   "name": "python3"
  },
  "language_info": {
   "codemirror_mode": {
    "name": "ipython",
    "version": 3
   },
   "file_extension": ".py",
   "mimetype": "text/x-python",
   "name": "python",
   "nbconvert_exporter": "python",
   "pygments_lexer": "ipython3",
   "version": "3.6.4"
  }
 },
 "nbformat": 4,
 "nbformat_minor": 2
}
