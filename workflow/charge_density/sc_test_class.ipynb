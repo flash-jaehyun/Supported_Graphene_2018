{
 "cells": [
  {
   "cell_type": "code",
   "execution_count": 1,
   "metadata": {},
   "outputs": [],
   "source": [
    "%load_ext autoreload\n",
    "%autoreload 2\n",
    "\n",
    "from dft_post_analysis.charge_density import ChargeDensity\n",
    "import numpy as np\n",
    "import pandas as pd\n",
    "import plotly as py\n",
    "import plotly.graph_objs as go"
   ]
  },
  {
   "cell_type": "code",
   "execution_count": 2,
   "metadata": {},
   "outputs": [],
   "source": [
    "CD = ChargeDensity(\n",
    "    \"data/Fe_graph_density.cube\",\n",
    "    master_data_filter=0.85,\n",
    "    lower_bound_density_filter=0.039,  # 0.016\n",
    "    )"
   ]
  },
  {
   "cell_type": "code",
   "execution_count": 3,
   "metadata": {},
   "outputs": [],
   "source": [
    "# atoms.write(\"out.traj\")"
   ]
  },
  {
   "cell_type": "code",
   "execution_count": 9,
   "metadata": {},
   "outputs": [
    {
     "data": {
      "text/html": [
       "<iframe id=\"igraph\" scrolling=\"no\" style=\"border:none;\" seamless=\"seamless\" src=\"https://plot.ly/~flores12/259.embed\" height=\"525px\" width=\"100%\"></iframe>"
      ],
      "text/plain": [
       "<plotly.tools.PlotlyDisplay object>"
      ]
     },
     "execution_count": 9,
     "metadata": {},
     "output_type": "execute_result"
    }
   ],
   "source": [
    "df = CD.master_data_df\n",
    "atoms = CD.atoms\n",
    "\n",
    "trace1 = CD.create_charge_density_plotting_trace(opacity=0.1, size=6)\n",
    "trace2 = CD.create_unit_cell_plotting_trace()\n",
    "trace3 = CD.create_atoms_plotting_trace(size=15)\n",
    "\n",
    "data = [\n",
    "    trace1,\n",
    "    trace3,\n",
    "    ]\n",
    "\n",
    "data += trace2\n",
    "\n",
    "layout = go.Layout(\n",
    "    scene = dict(\n",
    "    xaxis = dict(\n",
    "        nticks=4, range = [-8, 8],),\n",
    "    yaxis = dict(\n",
    "        nticks=4, range = [-8, 8],),\n",
    "    zaxis = dict(\n",
    "        nticks=4, range = [0, 30],),),\n",
    "#     width=700,\n",
    "#     margin=dict(\n",
    "#     r=20, l=10,\n",
    "#     b=10, t=10)\n",
    "    )\n",
    "\n",
    "fig = go.Figure(data=data, layout=layout)\n",
    "\n",
    "# py.plotly.image.save_as(fig, filename='a-simple-plot.png')\n",
    "py.plotly.iplot(fig, filename='__temp__/charge_den')"
   ]
  },
  {
   "cell_type": "markdown",
   "metadata": {},
   "source": [
    "__old__"
   ]
  },
  {
   "cell_type": "code",
   "execution_count": 5,
   "metadata": {},
   "outputs": [],
   "source": [
    "# df = CD.master_data_df\n",
    "\n",
    "# atoms = CD.atoms\n",
    "# # atoms.cell[:, 0].sum()\n",
    "\n",
    "# row = df.iloc[3]\n",
    "\n",
    "# def multiply_by_unit_cell(row, atoms=None):\n",
    "#     coord = np.array([\n",
    "#         row[\"x_coord_norm\"],\n",
    "#         row[\"y_coord_norm\"],\n",
    "#         row[\"z_coord_norm\"],\n",
    "#         ])\n",
    " \n",
    "#     new_coord = atoms.cell.dot(coord)\n",
    "#     return(new_coord[0], new_coord[1], new_coord[2])\n",
    "\n",
    "# df[\"x_coord\"], df[\"y_coord\"], df[\"z_coord\"] = zip(*df.apply(multiply_by_unit_cell, axis=1, atoms=atoms))\n",
    "\n",
    "# #     return(1, 2, 3)\n",
    "# # df.map(multiply_by_unit_cell).apply(pd.Series).values.T\n",
    "# # df['t1'], df['t2'], df['t3'] = df.apply(multiply_by_unit_cell, axis=1)\n",
    "# # df['t1'], df['t2'], df['t3'] = df.apply(multiply_by_unit_cell, axis=1).values.T\n",
    "# # zip(*df[\"a\"].map(calculate))"
   ]
  }
 ],
 "metadata": {
  "kernelspec": {
   "display_name": "Python 3",
   "language": "python",
   "name": "python3"
  },
  "language_info": {
   "codemirror_mode": {
    "name": "ipython",
    "version": 3
   },
   "file_extension": ".py",
   "mimetype": "text/x-python",
   "name": "python",
   "nbconvert_exporter": "python",
   "pygments_lexer": "ipython3",
   "version": "3.6.5"
  }
 },
 "nbformat": 4,
 "nbformat_minor": 2
}
