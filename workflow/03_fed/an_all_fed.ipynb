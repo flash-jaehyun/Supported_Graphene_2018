{
 "cells": [
  {
   "cell_type": "markdown",
   "metadata": {},
   "source": [
    "# Iron Supported, Nitrogen-doped, Graphene (And Related Systems) <a name=\"head\"></a>\n",
    "***\n",
    "\n",
    "TODO:\n",
    "* Include Vegge data in plot\n",
    "* TEMP"
   ]
  },
  {
   "cell_type": "markdown",
   "metadata": {},
   "source": [
    "# Import Modules <a name=\"import-modules\"></a>"
   ]
  },
  {
   "cell_type": "code",
   "execution_count": null,
   "metadata": {},
   "outputs": [],
   "source": [
    "%%capture\n",
    "%load_ext autoreload\n",
    "%autoreload 2"
   ]
  },
  {
   "cell_type": "code",
   "execution_count": 1,
   "metadata": {},
   "outputs": [],
   "source": [
    "# Setting Custom Paths ********************************************************\n",
    "# *****************************************************************************\n",
    "import os\n",
    "import sys\n",
    "\n",
    "sys.path.insert(\n",
    "    0, os.path.join(\n",
    "        os.environ[\"PROJ_fe_graph\"],\n",
    "        \"data\"))\n",
    "\n",
    "sys.path.insert(\n",
    "    0, os.path.join(\n",
    "        os.environ[\"PROJ_fe_graph\"],\n",
    "        \"workflow\"))\n",
    "\n",
    "\n",
    "# Python Modules **************************************************************\n",
    "# *****************************************************************************\n",
    "import pandas as pd\n",
    "# pd.options.mode.chained_assignment = None\n",
    "pd.set_option(\"display.max_columns\", None)\n",
    "pd.set_option('display.max_rows', None)\n",
    "\n",
    "import plotly.graph_objs as go\n",
    "import plotly.plotly as py\n",
    "import numpy as np\n",
    "\n",
    "\n",
    "# My Modules ******************************************************************\n",
    "# *****************************************************************************\n",
    "from orr_reaction.orr_fed_plot import ORR_Free_E_Plot, Scaling_Relations_Plot\n",
    "\n",
    "\n",
    "# Local Imports ***************************************************************\n",
    "# *****************************************************************************\n",
    "from an_data_processing import load_df\n",
    "from proj_data_fe_graph import proj_dir_name, system_color_map"
   ]
  },
  {
   "cell_type": "markdown",
   "metadata": {},
   "source": [
    "# Script Inputs"
   ]
  },
  {
   "cell_type": "code",
   "execution_count": 2,
   "metadata": {},
   "outputs": [],
   "source": [
    "save_plot = True\n",
    "# save_plot = False\n",
    "\n",
    "bias = 0.\n",
    "\n",
    "\n",
    "# Smart Formatting\n",
    "smart_format = [\n",
    "\n",
    "    # [\n",
    "    #     {\"spinpol\": True},\n",
    "    #     {\"dash\": \"dot\"},\n",
    "    #     ],\n",
    "\n",
    "    [\n",
    "        {\"system\": \"Fe_slab\"},\n",
    "        {\"dash\": \"dashdot\"},\n",
    "        ],\n",
    "\n",
    "    [\n",
    "        {\"system\": \"N_graph_Fe\"},\n",
    "        {\"dash\": \"dot\"},\n",
    "        ],\n",
    "\n",
    "    [\n",
    "        {\"system\": \"graph_Fe\"},\n",
    "        {\"dash\": \"dash\"},\n",
    "        ],\n",
    "\n",
    "    [\n",
    "        {\"system\": \"graphene\"},\n",
    "        {\"dash\": None},\n",
    "        ],\n",
    "\n",
    "    ]\n"
   ]
  },
  {
   "cell_type": "code",
   "execution_count": 3,
   "metadata": {},
   "outputs": [],
   "source": [
    "%%capture\n",
    "df_m = load_df(\n",
    "    from_file=False,\n",
    "    root_dir=os.path.join(\n",
    "        os.environ[\"PROJ_fe_graph\"],\n",
    "        \"workflow/adsorption_study\"),\n",
    "    )"
   ]
  },
  {
   "cell_type": "markdown",
   "metadata": {},
   "source": [
    "# Exlcuding pdos and charge history columns from df"
   ]
  },
  {
   "cell_type": "code",
   "execution_count": 4,
   "metadata": {},
   "outputs": [],
   "source": [
    "all_columns = set(list(df_m))\n",
    "\n",
    "exclude_columns = set([\n",
    "    \"pdos_data\",\n",
    "    \"charge_history\",\n",
    "    ])\n",
    "\n",
    "columns_to_keep = list(all_columns - exclude_columns)\n",
    "\n",
    "df_m = df_m[columns_to_keep]"
   ]
  },
  {
   "cell_type": "markdown",
   "metadata": {},
   "source": [
    "# Instantiate the ORR_Free_E_Plot Instance"
   ]
  },
  {
   "cell_type": "code",
   "execution_count": 5,
   "metadata": {},
   "outputs": [],
   "source": [
    "prop_name_list = [\n",
    "    \"system\",\n",
    "    \"spinpol\",\n",
    "    \"site\",\n",
    "    \"graph_site\",\n",
    "     ]\n",
    "\n",
    "ORR_PLT = ORR_Free_E_Plot(\n",
    "    free_energy_df=None,\n",
    "    state_title=\"adsorbate\",\n",
    "    free_e_title=\"ads_e\",  \n",
    "    bias=bias,\n",
    "    color_list=None,   \n",
    "    show_H_e_pairs_annotations=True,\n",
    "    show_legend=False,\n",
    "    rxn_type=\"ORR\",\n",
    "    )"
   ]
  },
  {
   "cell_type": "markdown",
   "metadata": {},
   "source": [
    "# Picking the Lowest Energy States"
   ]
  },
  {
   "cell_type": "code",
   "execution_count": 6,
   "metadata": {},
   "outputs": [],
   "source": [
    "group_params = [\"system\", \"spinpol\", \"graph_site\"]\n",
    "grouped = df_m.groupby(group_params)\n",
    "\n",
    "lowest_energy_list = []\n",
    "for i_ind, (name, group) in enumerate(grouped):\n",
    "    df_i = group\n",
    "\n",
    "    for j_cnt, df_j in df_i.groupby(\"adsorbate\"):\n",
    "        series_j = df_j.loc[df_j[\"ads_e\"].idxmin()]\n",
    "        lowest_energy_list.append(series_j)\n",
    "\n",
    "df_2 = pd.concat(lowest_energy_list, axis=1, keys=[s.name for s in lowest_energy_list]).T"
   ]
  },
  {
   "cell_type": "markdown",
   "metadata": {},
   "source": [
    "# Adding ORR data series"
   ]
  },
  {
   "cell_type": "code",
   "execution_count": 7,
   "metadata": {},
   "outputs": [],
   "source": [
    "ORR_PLT.ideal_ORR_series()"
   ]
  },
  {
   "cell_type": "code",
   "execution_count": 8,
   "metadata": {},
   "outputs": [],
   "source": [
    "grouped = df_2.groupby(group_params)\n",
    "for i_ind, (name, group) in enumerate(grouped):\n",
    "    df_i = group\n",
    "\n",
    "    prop_list_i = {}\n",
    "    for prop_i in prop_name_list:    \n",
    "        first_value = df_i[prop_i].tolist()[0]\n",
    "        all_same_value = all([True if i == first_value else False for i in df_i[prop_i].tolist()])\n",
    "\n",
    "        if all_same_value:\n",
    "            prop_list_i[prop_i] = str(first_value)\n",
    "        else:\n",
    "            prop_list_i[prop_i] = str(None)\n",
    "\n",
    "    name_i = \"_\".join(list(prop_list_i.values()))\n",
    "#     print(name_i)\n",
    "    \n",
    "    color_i = system_color_map.get(name_i, \"pink\")\n",
    "\n",
    "    if not any([np.isnan(i) for i in df_i.elec_energy.tolist()]):        \n",
    "        ORR_PLT.add_series(\n",
    "            df_i,\n",
    "            plot_mode=\"all\",\n",
    "            opt_name=name_i,\n",
    "            overpotential_type=\"ORR\",\n",
    "            color=color_i,\n",
    "            )"
   ]
  },
  {
   "cell_type": "markdown",
   "metadata": {},
   "source": [
    "# Plotting <a name=\"fed_all\"></a>"
   ]
  },
  {
   "cell_type": "code",
   "execution_count": 9,
   "metadata": {},
   "outputs": [],
   "source": [
    "if save_plot:\n",
    "    save_dir = proj_dir_name\n",
    "else:\n",
    "    save_dir = \"__temp__\"\n",
    "# save_dir = \"__temp__\""
   ]
  },
  {
   "cell_type": "code",
   "execution_count": 10,
   "metadata": {},
   "outputs": [],
   "source": [
    "layout = ORR_PLT.plotly_fed_layout(\n",
    "    plot_title=\"\",\n",
    "    plot_width=18.7 * 37.795275591,\n",
    "    plot_height= 3. / 4. * 18.7 * 37.795275591,\n",
    "    )"
   ]
  },
  {
   "cell_type": "code",
   "execution_count": 11,
   "metadata": {},
   "outputs": [
    {
     "data": {
      "text/html": [
       "<iframe id=\"igraph\" scrolling=\"no\" style=\"border:none;\" seamless=\"seamless\" src=\"https://plot.ly/~flores12/574.embed\" height=\"530.0787401637749px\" width=\"706.7716535517px\"></iframe>"
      ],
      "text/plain": [
       "<plotly.tools.PlotlyDisplay object>"
      ]
     },
     "execution_count": 11,
     "metadata": {},
     "output_type": "execute_result"
    }
   ],
   "source": [
    "py.plotly.iplot(\n",
    "    {\n",
    "        \"data\": ORR_PLT.plotly_data(),\n",
    "        \"layout\": layout,\n",
    "        },\n",
    "        filename=os.path.join(save_dir, \"fed_plots\", \"fed_all_systems_main_no_legend\"),\n",
    "    )"
   ]
  },
  {
   "cell_type": "code",
   "execution_count": 12,
   "metadata": {},
   "outputs": [
    {
     "data": {
      "text/html": [
       "<iframe id=\"igraph\" scrolling=\"no\" style=\"border:none;\" seamless=\"seamless\" src=\"https://plot.ly/~flores12/576.embed\" height=\"1060.1574803275498px\" width=\"706.7716535517px\"></iframe>"
      ],
      "text/plain": [
       "<plotly.tools.PlotlyDisplay object>"
      ]
     },
     "execution_count": 12,
     "metadata": {},
     "output_type": "execute_result"
    }
   ],
   "source": [
    "layout[\"width\"] = 18.7 * 37.795275591\n",
    "layout[\"height\"] = 6. / 4. * 18.7 * 37.795275591\n",
    "layout[\"showlegend\"] = True\n",
    "\n",
    "py.plotly.iplot(\n",
    "    {\n",
    "        \"data\": ORR_PLT.plotly_data(),\n",
    "        \"layout\": layout,\n",
    "        },\n",
    "        filename=os.path.join(save_dir, \"fed_plots\", \"fed_all_systems_long_w_legend\"),\n",
    "    )"
   ]
  }
 ],
 "metadata": {
  "kernelspec": {
   "display_name": "Python 3",
   "language": "python",
   "name": "python3"
  },
  "language_info": {
   "codemirror_mode": {
    "name": "ipython",
    "version": 3
   },
   "file_extension": ".py",
   "mimetype": "text/x-python",
   "name": "python",
   "nbconvert_exporter": "python",
   "pygments_lexer": "ipython3",
   "version": "3.6.7"
  }
 },
 "nbformat": 4,
 "nbformat_minor": 2
}
