{
 "cells": [
  {
   "cell_type": "markdown",
   "metadata": {},
   "source": [
    "# Projected DOS Analysis of Iron-Supported, N-doped Graphene & Related Systems\n",
    "***"
   ]
  },
  {
   "cell_type": "markdown",
   "metadata": {},
   "source": [
    "## Import Modules <a name=\"import-modules\"></a>"
   ]
  },
  {
   "cell_type": "code",
   "execution_count": 7,
   "metadata": {},
   "outputs": [
    {
     "name": "stdout",
     "output_type": "stream",
     "text": [
      "The autoreload extension is already loaded. To reload it, use:\n",
      "  %reload_ext autoreload\n"
     ]
    }
   ],
   "source": [
    "# iPython Settings\n",
    "%load_ext autoreload\n",
    "%autoreload 2\n",
    "\n",
    "# Python Modules\n",
    "import os\n",
    "import sys\n",
    "sys.path.insert(0, \"..\")\n",
    "\n",
    "import pandas as pd\n",
    "pd.options.mode.chained_assignment = None\n",
    "\n",
    "import plotly.graph_objs as go\n",
    "import plotly as py\n",
    "\n",
    "# py.offline.init_notebook_mode(connected=True)\n",
    "\n",
    "# My Modules ******************************************************************\n",
    "from colors.colors import color_list\n",
    "\n",
    "# Local Imports\n",
    "from an_data_processing import load_df"
   ]
  },
  {
   "cell_type": "code",
   "execution_count": 8,
   "metadata": {},
   "outputs": [
    {
     "name": "stdout",
     "output_type": "stream",
     "text": [
      "Attempting to load df from pickle\n"
     ]
    }
   ],
   "source": [
    "df_master = load_df(from_file=True, root_dir=\"..\")"
   ]
  },
  {
   "cell_type": "code",
   "execution_count": 9,
   "metadata": {},
   "outputs": [],
   "source": [
    "df = df_master.copy()\n",
    "df = df[df[\"system\"] == \"N_graph_Fe\"]\n",
    "\n",
    "pdos_data = df.iloc[0][\"pdos_data\"]\n",
    "atoms = df.iloc[0][\"init_atoms\"]"
   ]
  },
  {
   "cell_type": "code",
   "execution_count": 10,
   "metadata": {},
   "outputs": [],
   "source": [
    "from ase.visualize import view\n",
    "view(atoms)"
   ]
  },
  {
   "cell_type": "code",
   "execution_count": 11,
   "metadata": {},
   "outputs": [],
   "source": [
    "# from density_of_states.dos import plot_pdos_dos\n",
    "from dft_post_analysis.dos import plot_pdos_dos\n",
    "\n",
    "filter_dict = {\n",
    "#     \"type\": [\"sum-up\", \"sum-down\"],\n",
    "#     \"atom_ind\": [6, 7, 8, 9, 10, 11, 12, 13, 14],\n",
    "    \"band\": [\"p\"],\n",
    "    \"element\": [\"C\"],\n",
    "    \"type\": [\"sum\"],\n",
    "    }\n",
    "\n",
    "#     pdos_data,\n",
    "#     atoms,\n",
    "#     filter_dict=None,\n",
    "#     group=None,\n",
    "#     e_range=[-6, 3],  # COMBAK\n",
    "#     plot_title=\"Projected Density of States\",\n",
    "\n",
    "dos_data, pdos_data, layout = plot_pdos_dos(pdos_data, atoms, filter_dict)\n",
    "# data, layout = plot_pdos_dos(pdos_data, atoms, filter_dict)"
   ]
  },
  {
   "cell_type": "code",
   "execution_count": 13,
   "metadata": {},
   "outputs": [
    {
     "data": {
      "text/html": [
       "<iframe id=\"igraph\" scrolling=\"no\" style=\"border:none;\" seamless=\"seamless\" src=\"https://plot.ly/~flores12/191.embed\" height=\"525px\" width=\"100%\"></iframe>"
      ],
      "text/plain": [
       "<plotly.tools.PlotlyDisplay object>"
      ]
     },
     "execution_count": 13,
     "metadata": {},
     "output_type": "execute_result"
    }
   ],
   "source": [
    "py.plotly.iplot(\n",
    "    {\n",
    "        \"data\": dos_data,\n",
    "        \"layout\": layout,\n",
    "        },\n",
    "    filename=\"__temp__/pl_pdos.html\"\n",
    "    )"
   ]
  }
 ],
 "metadata": {
  "kernelspec": {
   "display_name": "Python 3",
   "language": "python",
   "name": "python3"
  },
  "language_info": {
   "codemirror_mode": {
    "name": "ipython",
    "version": 3
   },
   "file_extension": ".py",
   "mimetype": "text/x-python",
   "name": "python",
   "nbconvert_exporter": "python",
   "pygments_lexer": "ipython3",
   "version": "3.6.5"
  }
 },
 "nbformat": 4,
 "nbformat_minor": 2
}
