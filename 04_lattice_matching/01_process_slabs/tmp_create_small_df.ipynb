{
 "cells": [
  {
   "cell_type": "code",
   "execution_count": 2,
   "metadata": {},
   "outputs": [],
   "source": [
    "import pickle\n",
    "import os\n",
    "\n",
    "df = pickle.load(\n",
    "    open(\n",
    "        os.path.join(\n",
    "            os.environ[\"PROJ_DATA\"],\n",
    "            \"01_fe_graph_proj/04_lattice_matching/181218_data\",\n",
    "            \"job_dataframe.pickle\",\n",
    "            ),\n",
    "        \"rb\"\n",
    "        )\n",
    "    )\n",
    "\n",
    "df_short = df.sample(n=2)\n",
    "\n",
    "pickle.dump(\n",
    "    df_short,\n",
    "    open(\n",
    "        \"dataframe_short.pickle\",\n",
    "        \"wb\"\n",
    "        )\n",
    "    )"
   ]
  }
 ],
 "metadata": {
  "kernelspec": {
   "display_name": "Python 3",
   "language": "python",
   "name": "python3"
  },
  "language_info": {
   "codemirror_mode": {
    "name": "ipython",
    "version": 3
   },
   "file_extension": ".py",
   "mimetype": "text/x-python",
   "name": "python",
   "nbconvert_exporter": "python",
   "pygments_lexer": "ipython3",
   "version": "3.6.6"
  }
 },
 "nbformat": 4,
 "nbformat_minor": 2
}
