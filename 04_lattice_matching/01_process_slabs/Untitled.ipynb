{
 "cells": [
  {
   "cell_type": "markdown",
   "metadata": {},
   "source": [
    "# Import Modules"
   ]
  },
  {
   "cell_type": "code",
   "execution_count": 1,
   "metadata": {},
   "outputs": [],
   "source": [
    "import pandas as pd"
   ]
  },
  {
   "cell_type": "code",
   "execution_count": 2,
   "metadata": {},
   "outputs": [],
   "source": [
    "data_list = [\n",
    "    {\"a\": 1, \"b\": [1, 2],\n",
    "        \"c\": {\n",
    "            \"1\": [1.1, 1.2],\n",
    "            \"prop_tmp\": 2.89,\n",
    "            }\n",
    "        },\n",
    "\n",
    "    {\"a\": 2, \"b\": [1, 2],\n",
    "        \"c\": {\n",
    "            \"1\": [1.1, 1.2],\n",
    "            \"prop_tmp\": 2.89,\n",
    "            }\n",
    "        },\n",
    "\n",
    "    {\"a\": 2, \"b\": [1, 4],\n",
    "        \"c\": {\n",
    "            \"1\": [1.9, 1.9],\n",
    "            \"prop_tmp\": 0.89,\n",
    "            }\n",
    "        },\n",
    "\n",
    "    {\"a\": 2, \"b\": [1, 3],\n",
    "        \"c\": {\n",
    "            \"1\": [2.9, 3.0],\n",
    "            \"prop_tmp\": 0.89,\n",
    "            }\n",
    "        },\n",
    "\n",
    "    \n",
    "    ]"
   ]
  },
  {
   "cell_type": "code",
   "execution_count": 3,
   "metadata": {},
   "outputs": [
    {
     "data": {
      "text/html": [
       "<div>\n",
       "<style scoped>\n",
       "    .dataframe tbody tr th:only-of-type {\n",
       "        vertical-align: middle;\n",
       "    }\n",
       "\n",
       "    .dataframe tbody tr th {\n",
       "        vertical-align: top;\n",
       "    }\n",
       "\n",
       "    .dataframe thead th {\n",
       "        text-align: right;\n",
       "    }\n",
       "</style>\n",
       "<table border=\"1\" class=\"dataframe\">\n",
       "  <thead>\n",
       "    <tr style=\"text-align: right;\">\n",
       "      <th></th>\n",
       "      <th>a</th>\n",
       "      <th>b</th>\n",
       "      <th>c</th>\n",
       "    </tr>\n",
       "  </thead>\n",
       "  <tbody>\n",
       "    <tr>\n",
       "      <th>0</th>\n",
       "      <td>1</td>\n",
       "      <td>[1, 2]</td>\n",
       "      <td>{'1': [1.1, 1.2], 'prop_tmp': 2.89}</td>\n",
       "    </tr>\n",
       "    <tr>\n",
       "      <th>1</th>\n",
       "      <td>2</td>\n",
       "      <td>[1, 2]</td>\n",
       "      <td>{'1': [1.1, 1.2], 'prop_tmp': 2.89}</td>\n",
       "    </tr>\n",
       "    <tr>\n",
       "      <th>2</th>\n",
       "      <td>2</td>\n",
       "      <td>[1, 4]</td>\n",
       "      <td>{'1': [1.9, 1.9], 'prop_tmp': 0.89}</td>\n",
       "    </tr>\n",
       "    <tr>\n",
       "      <th>3</th>\n",
       "      <td>2</td>\n",
       "      <td>[1, 3]</td>\n",
       "      <td>{'1': [2.9, 3.0], 'prop_tmp': 0.89}</td>\n",
       "    </tr>\n",
       "  </tbody>\n",
       "</table>\n",
       "</div>"
      ],
      "text/plain": [
       "   a       b                                    c\n",
       "0  1  [1, 2]  {'1': [1.1, 1.2], 'prop_tmp': 2.89}\n",
       "1  2  [1, 2]  {'1': [1.1, 1.2], 'prop_tmp': 2.89}\n",
       "2  2  [1, 4]  {'1': [1.9, 1.9], 'prop_tmp': 0.89}\n",
       "3  2  [1, 3]  {'1': [2.9, 3.0], 'prop_tmp': 0.89}"
      ]
     },
     "execution_count": 3,
     "metadata": {},
     "output_type": "execute_result"
    }
   ],
   "source": [
    "df = pd.DataFrame(data_list)\n",
    "df"
   ]
  },
  {
   "cell_type": "code",
   "execution_count": 4,
   "metadata": {},
   "outputs": [],
   "source": [
    "# df.drop_duplicates(subset=\"b\", keep=\"last\")"
   ]
  },
  {
   "cell_type": "code",
   "execution_count": 5,
   "metadata": {},
   "outputs": [],
   "source": [
    "import math\n",
    "\n",
    "def dotproduct(v1, v2):\n",
    "  return sum((a*b) for a, b in zip(v1, v2))\n",
    "\n",
    "def length(v):\n",
    "  return math.sqrt(dotproduct(v, v))\n",
    "\n",
    "def angle(v1, v2):\n",
    "  return math.acos(dotproduct(v1, v2) / (length(v1) * length(v2)))"
   ]
  },
  {
   "cell_type": "code",
   "execution_count": 7,
   "metadata": {},
   "outputs": [],
   "source": [
    "v1 = [1, 0, 0]\n",
    "v2 = [-4, 1, 0]"
   ]
  },
  {
   "cell_type": "code",
   "execution_count": 8,
   "metadata": {},
   "outputs": [
    {
     "data": {
      "text/plain": [
       "2.896613990462929"
      ]
     },
     "execution_count": 8,
     "metadata": {},
     "output_type": "execute_result"
    }
   ],
   "source": [
    "angle(v1, v2)"
   ]
  },
  {
   "cell_type": "code",
   "execution_count": 19,
   "metadata": {},
   "outputs": [],
   "source": [
    "from ase import io\n",
    "from ase.visualize import view\n",
    "\n",
    "import math"
   ]
  },
  {
   "cell_type": "code",
   "execution_count": 24,
   "metadata": {},
   "outputs": [],
   "source": [
    "atoms_i = io.read(\"temp.traj\")"
   ]
  },
  {
   "cell_type": "code",
   "execution_count": 25,
   "metadata": {},
   "outputs": [],
   "source": [
    "atoms_i.cell\n",
    "\n",
    "\n",
    "angle_i = math.degrees(\n",
    "    angle(\n",
    "        atoms_i.cell[0],\n",
    "        [1., 0., 0.]),\n",
    "    )\n",
    "\n",
    "atoms_i.rotate(angle_i, 'z', rotate_cell=True)"
   ]
  },
  {
   "cell_type": "code",
   "execution_count": 26,
   "metadata": {},
   "outputs": [],
   "source": [
    "view(atoms_i)"
   ]
  },
  {
   "cell_type": "code",
   "execution_count": null,
   "metadata": {},
   "outputs": [],
   "source": []
  }
 ],
 "metadata": {
  "kernelspec": {
   "display_name": "Python 3",
   "language": "python",
   "name": "python3"
  },
  "language_info": {
   "codemirror_mode": {
    "name": "ipython",
    "version": 3
   },
   "file_extension": ".py",
   "mimetype": "text/x-python",
   "name": "python",
   "nbconvert_exporter": "python",
   "pygments_lexer": "ipython3",
   "version": "3.6.5"
  }
 },
 "nbformat": 4,
 "nbformat_minor": 2
}
