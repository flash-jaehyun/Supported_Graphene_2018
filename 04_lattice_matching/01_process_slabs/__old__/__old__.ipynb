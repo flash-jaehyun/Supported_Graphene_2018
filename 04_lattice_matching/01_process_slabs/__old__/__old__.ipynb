{
 "cells": [
  {
   "cell_type": "code",
   "execution_count": 14,
   "metadata": {},
   "outputs": [],
   "source": [
    "# def num_atoms(row_i):\n",
    "#     \"\"\"\n",
    "#     \"\"\"\n",
    "#     atoms_i = row_i[\"atoms\"]\n",
    "# #     atoms_i = df_3.iloc[0][\"atoms\"]\n",
    "\n",
    "#     num_m_atoms = len([i for i in atoms_i.get_atomic_numbers() if i != 6])\n",
    "#     num_c_atoms = len([i for i in atoms_i.get_atomic_numbers() if i == 6])\n",
    "\n",
    "#     out_dict = {\n",
    "#         \"metal\": num_m_atoms,\n",
    "#         \"carbon\": num_c_atoms,\n",
    "#         }\n",
    "\n",
    "#     return(out_dict)"
   ]
  },
  {
   "cell_type": "code",
   "execution_count": 15,
   "metadata": {},
   "outputs": [],
   "source": [
    "# df_3[\"num_atoms\"] = df_3.apply(\n",
    "#     num_atoms,\n",
    "#     axis=1,\n",
    "#     )"
   ]
  },
  {
   "cell_type": "code",
   "execution_count": 16,
   "metadata": {},
   "outputs": [],
   "source": [
    "# print(num_m_atoms)\n",
    "# print(num_c_atoms)"
   ]
  },
  {
   "cell_type": "code",
   "execution_count": 17,
   "metadata": {},
   "outputs": [],
   "source": [
    "# view(atoms_i)"
   ]
  },
  {
   "cell_type": "code",
   "execution_count": 18,
   "metadata": {},
   "outputs": [],
   "source": [
    "# view(df_2[\"atoms\"].tolist())\n",
    "\n",
    "# len(df_2)"
   ]
  },
  {
   "cell_type": "code",
   "execution_count": 19,
   "metadata": {},
   "outputs": [],
   "source": [
    "# # view(df_2.iloc[0][\"atoms\"])\n",
    "\n",
    "# atoms = df_2.iloc[0][\"atoms\"]\n",
    "\n",
    "# if atoms.cell[1][1] < 0.:\n",
    "#     atoms.cell[1] = -1 * atoms.cell[1]\n",
    "\n",
    "#     atoms.set_cell(\n",
    "#         atoms.cell,\n",
    "#         scale_atoms=True,\n",
    "#         )\n",
    "\n",
    "# atoms.cell[1] = -1 * atoms.cell[1]\n",
    "\n",
    "# atoms.set_cell(\n",
    "#     atoms.cell,\n",
    "#     scale_atoms=True,\n",
    "#     )"
   ]
  },
  {
   "cell_type": "code",
   "execution_count": 20,
   "metadata": {},
   "outputs": [],
   "source": [
    "# for i_cnt, row_i in df_3.iterrows():\n",
    "#     tmp = 42\n",
    "\n",
    "# row_i[\"atoms\"].cell[0]\n",
    "\n",
    "# x = [-11.097, -6.4, 0]\n",
    "# y = [8.631, -14.95, 0]\n",
    "# np.linalg.norm(np.cross(x, y))"
   ]
  },
  {
   "cell_type": "code",
   "execution_count": 21,
   "metadata": {},
   "outputs": [],
   "source": [
    "# for i_cnt, row_i in df_3.iterrows():\n",
    "# #     tmp = 42\n",
    "\n",
    "#     tmp = structure_square_enough(row_i)\n",
    "#     print(tmp)"
   ]
  },
  {
   "cell_type": "code",
   "execution_count": 22,
   "metadata": {},
   "outputs": [],
   "source": [
    "# len(df)\n",
    "# df.info(memory_usage=\"deep\")\n",
    "\n",
    "# df_3.info(memory_usage=\"deep\")"
   ]
  },
  {
   "cell_type": "code",
   "execution_count": 23,
   "metadata": {},
   "outputs": [],
   "source": [
    "# tmp1 = df_2[\"uniq_str_repr\"].tolist()\n",
    "# print(len(tmp1))\n",
    "\n",
    "\n",
    "# len(list(set(tmp1)))"
   ]
  },
  {
   "cell_type": "code",
   "execution_count": 24,
   "metadata": {},
   "outputs": [],
   "source": [
    "# len(df_2.drop_duplicates(subset=\"uniq_str_repr\"))"
   ]
  },
  {
   "cell_type": "code",
   "execution_count": 25,
   "metadata": {},
   "outputs": [],
   "source": [
    "# print(df_2.iloc[0][\"atoms\"].cell)\n",
    "# print(\"\")\n",
    "# print(df_2.iloc[1][\"atoms\"].cell)"
   ]
  },
  {
   "cell_type": "code",
   "execution_count": 26,
   "metadata": {},
   "outputs": [],
   "source": [
    "# def get_unique_str_repr(row_i):\n",
    "#     \"\"\"\n",
    "#     \"\"\"\n",
    "#     dupl_prop_dict = {\n",
    "#     #     \"\": row_i[],\n",
    "#     #     \"facet\": str(row_i[\"facet\"]),  # Not facet, some may be equiv.\n",
    "\n",
    "#         \"crystal\": row_i[\"crystal\"],\n",
    "#         \"metal\": row_i[\"metal\"],\n",
    "#         \"min_area\": '{:.5e}'.format(row_i[\"min_area\"]),\n",
    "#         \"u_mismatch\": '{:.5e}'.format(row_i[\"u_mismatch\"]),\n",
    "#         \"v_mismatch\": '{:.5e}'.format(row_i[\"v_mismatch\"]),\n",
    "#         \"angle_mismatch\": '{:.5e}'.format(row_i[\"angle_mismatch\"]),\n",
    "#         \"cell_x\": str(['{:.5e}'.format(i) for i in row_i[\"atoms\"].cell[0]]),\n",
    "#         \"cell_y\": str(['{:.5e}'.format(i) for i in row_i[\"atoms\"].cell[1]]),\n",
    "#         }\n",
    "\n",
    "#     str_repr_i = \"\"\n",
    "#     for key, value in dupl_prop_dict.items():\n",
    "#         str_repr_i += value + \" | \"\n",
    "\n",
    "#     return(str_repr_i)"
   ]
  },
  {
   "cell_type": "code",
   "execution_count": 27,
   "metadata": {},
   "outputs": [],
   "source": [
    "# atoms_processed_i = process_atom(\n",
    "#     atoms,\n",
    "#     max_thickness=max_thickness,\n",
    "#     z_vacuum=z_vacuum,\n",
    "#     frac_constr_supp=frac_constr_supp,\n",
    "#     )"
   ]
  },
  {
   "cell_type": "code",
   "execution_count": 28,
   "metadata": {},
   "outputs": [],
   "source": [
    "# def get_sum_force(row):\n",
    "#     \"\"\"\n",
    "#     \"\"\"\n",
    "#     #| - get_sum_force\n",
    "#     if row[\"atoms_object\"] is not None:\n",
    "#         try:\n",
    "#             max_force_tmp = max_force(row[\"atoms_object\"][-1])\n",
    "#             return(max_force_tmp[1])\n",
    "\n",
    "#         except:\n",
    "#             return(None)\n",
    "\n",
    "#     else:\n",
    "#         return(None)\n",
    "#     #__|\n",
    "\n",
    "# df_master[\"sum_force\"] = df_master.apply(\n",
    "#     get_sum_force,\n",
    "#     axis=1,\n",
    "#     )"
   ]
  },
  {
   "cell_type": "code",
   "execution_count": 29,
   "metadata": {},
   "outputs": [],
   "source": [
    "# dict_i = row_i.to_dict()\n",
    "# dict_i.pop(\"sys_data_i\")"
   ]
  },
  {
   "cell_type": "code",
   "execution_count": 30,
   "metadata": {},
   "outputs": [],
   "source": [
    "# io.write?\n",
    "# # atoms\n",
    "\n",
    "# io.write(\"temp.traj\", atoms)"
   ]
  },
  {
   "cell_type": "code",
   "execution_count": 31,
   "metadata": {},
   "outputs": [],
   "source": [
    "# dict1 = {\n",
    "#     \"a\": 1,\n",
    "#     \"b\": 2,\n",
    "#     \"c\": 3,\n",
    "#     }"
   ]
  },
  {
   "cell_type": "code",
   "execution_count": 32,
   "metadata": {},
   "outputs": [],
   "source": [
    "# for i_cnt, row_i in df.iterrows():\n",
    "#     tmp = 42\n",
    "\n",
    "# for sys_j in row_i[\"sys_data_i\"]:\n",
    "#     tmp = 42\n",
    "\n",
    "# atoms = AseAtomsAdaptor.get_atoms(sys_j[\"heterointerface\"])"
   ]
  },
  {
   "cell_type": "code",
   "execution_count": 33,
   "metadata": {},
   "outputs": [],
   "source": [
    "# /mnt/c/Users/raul_desktop/Dropbox/01_norskov/04_comp_clusters/02_DATA\n",
    "# /01_fe_graph_proj/04_lattice_matching/181218_data"
   ]
  },
  {
   "cell_type": "code",
   "execution_count": 34,
   "metadata": {},
   "outputs": [],
   "source": [
    "# df_short = df.sample(n=2)\n",
    "# pickle.dump(\n",
    "#     df_short,\n",
    "#     open(\n",
    "#         \"dataframe_short.pickle\",\n",
    "#         \"wb\"\n",
    "#         )\n",
    "#     )"
   ]
  },
  {
   "cell_type": "code",
   "execution_count": 35,
   "metadata": {},
   "outputs": [],
   "source": [
    "# sys.path.insert(\n",
    "#     1,\n",
    "#     os.path.join(\n",
    "\n",
    "#         \"/home/raul_desktop/anaconda2\",\n",
    "#         \"envs/MPInterface/lib\",\n",
    "#         \"python3.6/site-packages/pymatgen\",\n",
    "# #         os.environ[\"PROJ_DATA\"],\n",
    "# #         \"01_fe_graph_proj/04_lattice_matching/181218_data\",\n",
    "#         )\n",
    "#     )"
   ]
  }
 ],
 "metadata": {
  "kernelspec": {
   "display_name": "Python 3",
   "language": "python",
   "name": "python3"
  },
  "language_info": {
   "codemirror_mode": {
    "name": "ipython",
    "version": 3
   },
   "file_extension": ".py",
   "mimetype": "text/x-python",
   "name": "python",
   "nbconvert_exporter": "python",
   "pygments_lexer": "ipython3",
   "version": "3.6.6"
  }
 },
 "nbformat": 4,
 "nbformat_minor": 2
}
