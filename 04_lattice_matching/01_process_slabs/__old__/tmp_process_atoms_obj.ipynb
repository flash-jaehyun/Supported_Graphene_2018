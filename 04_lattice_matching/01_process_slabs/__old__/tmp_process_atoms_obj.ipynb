{
 "cells": [
  {
   "cell_type": "markdown",
   "metadata": {},
   "source": [
    "# Method to process atoms object into a more finalized form\n",
    "___\n",
    "\n",
    "The following operations will be performed:\n",
    "1. Atoms will be wrapped to be within the unit cell\n",
    "2. Atoms will be centered w.r.t. the z-axis\n",
    "3. Appropriate amount of vacuum will be added\n",
    "4. Lower half of support atoms will be constrained"
   ]
  },
  {
   "cell_type": "markdown",
   "metadata": {},
   "source": [
    "# Import Modules"
   ]
  },
  {
   "cell_type": "code",
   "execution_count": 1,
   "metadata": {},
   "outputs": [],
   "source": [
    "import copy\n",
    "\n",
    "import numpy as np\n",
    "\n",
    "from ase import io\n",
    "from ase.visualize import view\n",
    "from ase.constraints import FixAtoms"
   ]
  },
  {
   "cell_type": "markdown",
   "metadata": {},
   "source": [
    "# Script Inputs"
   ]
  },
  {
   "cell_type": "code",
   "execution_count": 2,
   "metadata": {},
   "outputs": [],
   "source": [
    "max_thickness = 4\n",
    "\n",
    "z_vacuum = 13\n",
    "\n",
    "frac_constr_supp = 0.6"
   ]
  },
  {
   "cell_type": "markdown",
   "metadata": {},
   "source": [
    "# Read Single Atoms Object"
   ]
  },
  {
   "cell_type": "code",
   "execution_count": 3,
   "metadata": {},
   "outputs": [],
   "source": [
    "atoms_i = io.read(\"temp.traj\")\n",
    "\n",
    "view(atoms_i)"
   ]
  },
  {
   "cell_type": "markdown",
   "metadata": {},
   "source": [
    "# Wrap atoms into unit cell"
   ]
  },
  {
   "cell_type": "code",
   "execution_count": 4,
   "metadata": {},
   "outputs": [],
   "source": [
    "atoms_i.wrap()"
   ]
  },
  {
   "cell_type": "markdown",
   "metadata": {},
   "source": [
    "# Mirror atoms about xy-plane if Graphene layer is on the bottom"
   ]
  },
  {
   "cell_type": "code",
   "execution_count": 5,
   "metadata": {},
   "outputs": [],
   "source": [
    "c_z_pos = np.mean(np.array([i.position[-1] for i in atoms_i if i.symbol == \"C\"]))\n",
    "m_z_pos = np.mean(np.array([i.position[-1] for i in atoms_i if i.symbol != \"C\"]))\n",
    "\n",
    "if c_z_pos < m_z_pos:\n",
    "    print(\"Graphene is below support\")\n",
    "\n",
    "    new_positions = []\n",
    "    for pos_i in atoms_i.positions:\n",
    "        pos_i[-1] = -1 * pos_i[-1]\n",
    "        new_positions.append(pos_i)\n",
    "    atoms_i.set_positions(new_positions)\n",
    "    atoms_i.center()"
   ]
  },
  {
   "cell_type": "markdown",
   "metadata": {},
   "source": [
    "# Add z-space vacuum"
   ]
  },
  {
   "cell_type": "code",
   "execution_count": 6,
   "metadata": {},
   "outputs": [],
   "source": [
    "z_new = 50.\n",
    "new_cell = copy.copy(atoms_i.cell)\n",
    "new_cell[-1][-1] = z_new\n",
    "atoms_i.set_cell(new_cell)\n",
    "\n",
    "atoms_i.center()"
   ]
  },
  {
   "cell_type": "markdown",
   "metadata": {},
   "source": [
    "# Set slab thickness"
   ]
  },
  {
   "cell_type": "code",
   "execution_count": 7,
   "metadata": {},
   "outputs": [],
   "source": [
    "max_slab_z = np.array([i.position[-1] for i in atoms_i if i.symbol != \"C\"]).max()\n",
    "min_slab_z = np.array([i.position[-1] for i in atoms_i if i.symbol != \"C\"]).min()\n",
    "# print(max_slab_z)\n",
    "# print(min_slab_z)\n",
    "\n",
    "atoms_to_delete_index_list = []\n",
    "for atom_j in atoms_i:\n",
    "    if atom_j.position[-1] < max_slab_z - max_thickness:\n",
    "        atoms_to_delete_index_list.append(atom_j.index)\n",
    "del atoms_i[atoms_to_delete_index_list]"
   ]
  },
  {
   "cell_type": "markdown",
   "metadata": {},
   "source": [
    "# Constrain lower part of support"
   ]
  },
  {
   "cell_type": "code",
   "execution_count": 8,
   "metadata": {},
   "outputs": [],
   "source": [
    "max_slab_z = np.array([i.position[-1] for i in atoms_i if i.symbol != \"C\"]).max()\n",
    "min_slab_z = np.array([i.position[-1] for i in atoms_i if i.symbol != \"C\"]).min()\n",
    "\n",
    "c_atoms_i = atoms_i[[i.index for i in atoms_i if i.symbol == \"C\"]]\n",
    "m_atoms_i = atoms_i[[i.index for i in atoms_i if i.symbol != \"C\"]]\n",
    "\n",
    "frac_constr_supp = 0.55\n",
    "z_cutoff = (max_slab_z - min_slab_z) * frac_constr_supp + min_slab_z\n",
    "\n",
    "constraints_index_list = [i.index for i in m_atoms_i if i.position[-1] < z_cutoff]\n",
    "\n",
    "c = FixAtoms(indices=[atom.index for atom in atoms_i if atom.index in constraints_index_list])\n",
    "atoms_i.set_constraint(c)"
   ]
  },
  {
   "cell_type": "markdown",
   "metadata": {},
   "source": [
    "# Set z-spacing again"
   ]
  },
  {
   "cell_type": "code",
   "execution_count": 10,
   "metadata": {},
   "outputs": [],
   "source": [
    "new_cell = copy.copy(atoms_i.cell)\n",
    "\n",
    "# Added 2 to account for still unknown graphene spacing\n",
    "new_cell[-1][-1] = z_vacuum + (max_slab_z - min_slab_z + 2)\n",
    "atoms_i.set_cell(new_cell)\n",
    "\n",
    "atoms_i.center()"
   ]
  },
  {
   "cell_type": "raw",
   "metadata": {},
   "source": [
    "\n",
    "\n",
    "\n",
    "\n",
    "\n",
    "\n",
    "\n",
    "\n"
   ]
  },
  {
   "cell_type": "code",
   "execution_count": 11,
   "metadata": {},
   "outputs": [],
   "source": [
    "view(atoms_i)"
   ]
  },
  {
   "cell_type": "code",
   "execution_count": 12,
   "metadata": {},
   "outputs": [
    {
     "ename": "AssertionError",
     "evalue": "",
     "output_type": "error",
     "traceback": [
      "\u001b[0;31m---------------------------------------------------------------------------\u001b[0m",
      "\u001b[0;31mAssertionError\u001b[0m                            Traceback (most recent call last)",
      "\u001b[0;32m<ipython-input-12-a871fdc9ebee>\u001b[0m in \u001b[0;36m<module>\u001b[0;34m()\u001b[0m\n\u001b[0;32m----> 1\u001b[0;31m \u001b[0;32massert\u001b[0m \u001b[0;32mFalse\u001b[0m\u001b[0;34m\u001b[0m\u001b[0m\n\u001b[0m",
      "\u001b[0;31mAssertionError\u001b[0m: "
     ]
    }
   ],
   "source": [
    "assert False"
   ]
  },
  {
   "cell_type": "raw",
   "metadata": {},
   "source": [
    "\n",
    "\n",
    "\n",
    "\n",
    "\n",
    "\n",
    "\n",
    "\n"
   ]
  },
  {
   "cell_type": "code",
   "execution_count": null,
   "metadata": {},
   "outputs": [],
   "source": [
    "# atoms_i.center()\n",
    "# atoms_i.wrap()\n",
    "# atoms_i.center()\n",
    "\n",
    "\n",
    "# #     atoms_i = copy.deepcopy(atoms_i)\n",
    "\n",
    "# z_pos_list = []\n",
    "# for atom_j in atoms_i:   \n",
    "#     if atom_j.symbol != \"C\":\n",
    "#         z_pos_list.append(atom_j.position[2])\n",
    "# z_pos_list = np.array(z_pos_list)\n",
    "\n",
    "\n",
    "# max_slab_z = z_pos_list.max()\n",
    "\n",
    "# atoms_to_delete_index_list = []\n",
    "# for atom_j in atoms_i:\n",
    "#     if atom_j.position[-1] < max_slab_z - max_thickness:\n",
    "#         atoms_to_delete_index_list.append(atom_j.index)\n"
   ]
  },
  {
   "cell_type": "code",
   "execution_count": null,
   "metadata": {},
   "outputs": [],
   "source": [
    "# new_positions = []\n",
    "# for pos_i in atoms_i.positions:\n",
    "#     pos_i[-1] = -1 * pos_i[-1]\n",
    "\n",
    "#     new_positions.append(pos_i)\n",
    "\n",
    "# atoms_i.set_positions(new_positions)\n",
    "\n",
    "# atoms_i.center()"
   ]
  },
  {
   "cell_type": "code",
   "execution_count": null,
   "metadata": {},
   "outputs": [],
   "source": [
    "# new_positions = []\n",
    "# for pos_i in atoms_i.positions:\n",
    "#     pos_i[-1] = -1 * pos_i[-1]\n",
    "#     new_positions.append(pos_i)\n",
    "# atoms_i.set_positions(new_positions)\n",
    "\n",
    "# atoms_i.center()"
   ]
  }
 ],
 "metadata": {
  "kernelspec": {
   "display_name": "Python 3",
   "language": "python",
   "name": "python3"
  },
  "language_info": {
   "codemirror_mode": {
    "name": "ipython",
    "version": 3
   },
   "file_extension": ".py",
   "mimetype": "text/x-python",
   "name": "python",
   "nbconvert_exporter": "python",
   "pygments_lexer": "ipython3",
   "version": "3.6.5"
  }
 },
 "nbformat": 4,
 "nbformat_minor": 2
}
