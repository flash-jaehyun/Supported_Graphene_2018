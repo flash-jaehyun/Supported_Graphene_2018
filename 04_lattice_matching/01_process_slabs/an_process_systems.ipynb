{
 "cells": [
  {
   "cell_type": "markdown",
   "metadata": {},
   "source": [
    "# Process Heterostructure Systems\n",
    "____"
   ]
  },
  {
   "cell_type": "markdown",
   "metadata": {},
   "source": [
    "# Import Modules"
   ]
  },
  {
   "cell_type": "code",
   "execution_count": 1,
   "metadata": {},
   "outputs": [],
   "source": [
    "import sys\n",
    "import os\n",
    "\n",
    "import pickle\n",
    "\n",
    "import numpy as np\n",
    "\n",
    "import pandas as pd\n",
    "pd.set_option(\"display.max_columns\", None)\n",
    "pd.set_option('display.max_rows', None)\n",
    "\n",
    "from pymatgen.io.ase import AseAtomsAdaptor\n",
    "\n",
    "from ase.visualize import view\n",
    "from ase import io\n",
    "\n",
    "# #############################################################################\n",
    "# #############################################################################\n",
    "\n",
    "from methods import process_atom, get_unique_str_repr"
   ]
  },
  {
   "cell_type": "markdown",
   "metadata": {},
   "source": [
    "# Script Inputs"
   ]
  },
  {
   "cell_type": "code",
   "execution_count": 2,
   "metadata": {},
   "outputs": [],
   "source": [
    "max_thickness = 4\n",
    "z_vacuum = 13\n",
    "frac_constr_supp = 0.6"
   ]
  },
  {
   "cell_type": "markdown",
   "metadata": {},
   "source": [
    "# Load Data"
   ]
  },
  {
   "cell_type": "code",
   "execution_count": 3,
   "metadata": {},
   "outputs": [],
   "source": [
    "df = pickle.load(\n",
    "    open(\n",
    "        os.path.join(\n",
    "#             \"dataframe_short.pickle\",\n",
    "\n",
    "            os.environ[\"PROJ_DATA\"],\n",
    "            \"01_fe_graph_proj/04_lattice_matching/181218_data\",\n",
    "            \"job_dataframe.pickle\",\n",
    "            ),\n",
    "        \"rb\"\n",
    "        )\n",
    "    )\n",
    "\n",
    "# Replace NaN with '[]' (empty lists)\n",
    "for row in df.loc[df.sys_data_i.isnull(), 'sys_data_i'].index:\n",
    "    df.at[row, 'sys_data_i'] = []"
   ]
  },
  {
   "cell_type": "markdown",
   "metadata": {},
   "source": [
    "# Unpack heterointerface column into longer dataframe"
   ]
  },
  {
   "cell_type": "code",
   "execution_count": 4,
   "metadata": {},
   "outputs": [
    {
     "name": "stdout",
     "output_type": "stream",
     "text": [
      "Graphene is below support\n",
      "Graphene is below support\n",
      "Graphene is below support\n",
      "Graphene is below support\n",
      "Graphene is below support\n",
      "Graphene is below support\n",
      "Graphene is below support\n",
      "Graphene is below support\n",
      "Graphene is below support\n",
      "Graphene is below support\n",
      "Graphene is below support\n",
      "Graphene is below support\n",
      "Graphene is below support\n",
      "Graphene is below support\n",
      "Graphene is below support\n",
      "Graphene is below support\n",
      "Graphene is below support\n",
      "Graphene is below support\n",
      "Graphene is below support\n",
      "Graphene is below support\n",
      "Graphene is below support\n",
      "Graphene is below support\n",
      "Graphene is below support\n",
      "Graphene is below support\n",
      "Graphene is below support\n",
      "Graphene is below support\n",
      "Graphene is below support\n",
      "Graphene is below support\n",
      "Graphene is below support\n",
      "Graphene is below support\n",
      "Graphene is below support\n",
      "Graphene is below support\n",
      "Graphene is below support\n",
      "Graphene is below support\n",
      "Graphene is below support\n",
      "Graphene is below support\n",
      "Graphene is below support\n",
      "Graphene is below support\n",
      "Graphene is below support\n",
      "Graphene is below support\n",
      "Graphene is below support\n",
      "Graphene is below support\n",
      "Graphene is below support\n",
      "Graphene is below support\n",
      "Graphene is below support\n",
      "Graphene is below support\n",
      "Graphene is below support\n",
      "Graphene is below support\n",
      "Graphene is below support\n",
      "Graphene is below support\n",
      "Graphene is below support\n",
      "Graphene is below support\n",
      "Graphene is below support\n",
      "Graphene is below support\n",
      "Graphene is below support\n",
      "Graphene is below support\n",
      "Graphene is below support\n",
      "Graphene is below support\n",
      "Graphene is below support\n",
      "Graphene is below support\n",
      "Graphene is below support\n",
      "Graphene is below support\n",
      "Graphene is below support\n",
      "Graphene is below support\n",
      "Graphene is below support\n",
      "Graphene is below support\n",
      "Graphene is below support\n",
      "Graphene is below support\n",
      "Graphene is below support\n",
      "Graphene is below support\n",
      "Graphene is below support\n",
      "Graphene is below support\n",
      "Graphene is below support\n",
      "Graphene is below support\n",
      "Graphene is below support\n",
      "Graphene is below support\n",
      "Graphene is below support\n",
      "Graphene is below support\n",
      "Graphene is below support\n",
      "Graphene is below support\n",
      "Graphene is below support\n",
      "Graphene is below support\n",
      "Graphene is below support\n",
      "Graphene is below support\n",
      "Graphene is below support\n",
      "Graphene is below support\n",
      "Graphene is below support\n",
      "Graphene is below support\n",
      "Graphene is below support\n",
      "Graphene is below support\n",
      "Graphene is below support\n",
      "Graphene is below support\n",
      "Graphene is below support\n",
      "Graphene is below support\n",
      "Graphene is below support\n",
      "Graphene is below support\n",
      "Graphene is below support\n",
      "Graphene is below support\n",
      "Graphene is below support\n",
      "Graphene is below support\n",
      "Graphene is below support\n",
      "Graphene is below support\n",
      "Graphene is below support\n",
      "Graphene is below support\n",
      "Graphene is below support\n",
      "Graphene is below support\n",
      "Graphene is below support\n",
      "Graphene is below support\n",
      "Graphene is below support\n",
      "Graphene is below support\n",
      "Graphene is below support\n",
      "Graphene is below support\n",
      "Graphene is below support\n",
      "Graphene is below support\n",
      "Graphene is below support\n",
      "Graphene is below support\n",
      "Graphene is below support\n",
      "Graphene is below support\n",
      "Graphene is below support\n",
      "Graphene is below support\n",
      "Graphene is below support\n",
      "Graphene is below support\n",
      "Graphene is below support\n",
      "Graphene is below support\n",
      "Graphene is below support\n",
      "Graphene is below support\n",
      "Graphene is below support\n",
      "Graphene is below support\n",
      "Graphene is below support\n",
      "Graphene is below support\n",
      "Graphene is below support\n",
      "Graphene is below support\n",
      "Graphene is below support\n",
      "Graphene is below support\n",
      "Graphene is below support\n",
      "Graphene is below support\n",
      "Graphene is below support\n",
      "Graphene is below support\n",
      "Graphene is below support\n",
      "Graphene is below support\n",
      "Graphene is below support\n",
      "Graphene is below support\n",
      "Graphene is below support\n",
      "Graphene is below support\n",
      "Graphene is below support\n",
      "Graphene is below support\n",
      "Graphene is below support\n",
      "Graphene is below support\n",
      "Graphene is below support\n",
      "Graphene is below support\n",
      "Graphene is below support\n",
      "Graphene is below support\n",
      "Graphene is below support\n",
      "Graphene is below support\n",
      "Graphene is below support\n",
      "Graphene is below support\n",
      "Graphene is below support\n",
      "Graphene is below support\n",
      "Graphene is below support\n",
      "Graphene is below support\n",
      "Graphene is below support\n",
      "Graphene is below support\n",
      "Graphene is below support\n",
      "Graphene is below support\n",
      "Graphene is below support\n",
      "Graphene is below support\n",
      "Graphene is below support\n",
      "Graphene is below support\n",
      "Graphene is below support\n",
      "Graphene is below support\n",
      "Graphene is below support\n",
      "Graphene is below support\n",
      "Graphene is below support\n",
      "Graphene is below support\n",
      "Graphene is below support\n",
      "Graphene is below support\n",
      "Graphene is below support\n",
      "Graphene is below support\n",
      "Graphene is below support\n",
      "Graphene is below support\n",
      "Graphene is below support\n",
      "Graphene is below support\n",
      "Graphene is below support\n",
      "Graphene is below support\n",
      "Graphene is below support\n",
      "Graphene is below support\n",
      "Graphene is below support\n",
      "Graphene is below support\n",
      "Graphene is below support\n",
      "Graphene is below support\n"
     ]
    }
   ],
   "source": [
    "master_data_list = []\n",
    "for i_cnt, row_i in df.iterrows():\n",
    "    dict_i = row_i.to_dict()\n",
    "    dict_i.pop(\"sys_data_i\")\n",
    "\n",
    "    for sys_j in row_i[\"sys_data_i\"]:\n",
    "        dict_j = {**dict_i, **sys_j}\n",
    "        atoms_i = AseAtomsAdaptor.get_atoms(sys_j[\"heterointerface\"])\n",
    "\n",
    "        atoms_processed_i = process_atom(\n",
    "            atoms_i,\n",
    "            max_thickness=max_thickness,\n",
    "            z_vacuum=z_vacuum,\n",
    "            frac_constr_supp=frac_constr_supp,\n",
    "            )\n",
    "\n",
    "        dict_j[\"atoms\"] = atoms_processed_i\n",
    "\n",
    "        master_data_list.append(dict_j)\n",
    "\n",
    "# Instantiate the dataframe\n",
    "df_2 = pd.DataFrame(master_data_list)"
   ]
  },
  {
   "cell_type": "markdown",
   "metadata": {},
   "source": [
    "# Remove duplicate structures"
   ]
  },
  {
   "cell_type": "code",
   "execution_count": 5,
   "metadata": {},
   "outputs": [],
   "source": [
    "def get_area(row_i):\n",
    "    area = np.linalg.norm(np.cross(\n",
    "        row_i[\"atoms\"].cell[0],\n",
    "        row_i[\"atoms\"].cell[1],\n",
    "        ))\n",
    "\n",
    "    return(area)\n",
    "\n",
    "df_2[\"area_2\"] = df_2.apply(\n",
    "    get_area,\n",
    "    axis=1,\n",
    "    )\n",
    "\n",
    "\n",
    "df_2[\"uniq_str_repr\"] = df_2.apply(\n",
    "    get_unique_str_repr,\n",
    "    axis=1,\n",
    "    )\n",
    "\n",
    "df_3 = df_2.drop_duplicates(subset=\"uniq_str_repr\")"
   ]
  },
  {
   "cell_type": "markdown",
   "metadata": {},
   "source": [
    "# Removing \"long\" heterostructures"
   ]
  },
  {
   "cell_type": "code",
   "execution_count": 6,
   "metadata": {},
   "outputs": [],
   "source": [
    "def structure_square_enough(row_i):\n",
    "    \"\"\"\n",
    "    \"\"\"\n",
    "    min_ind = np.argmin([np.linalg.norm(i) for i in row_i[\"uv1\"]])\n",
    "\n",
    "    ind_list = [0, 1]\n",
    "    ind_list.remove(min_ind)\n",
    "\n",
    "    uv_small = row_i[\"uv1\"][min_ind]\n",
    "    uv_large = row_i[\"uv1\"][ind_list[0]]\n",
    "\n",
    "    len_u_large = np.linalg.norm(uv_large)\n",
    "    len_u_small = np.linalg.norm(uv_small)\n",
    "    large_small_ratio = len_u_large / len_u_small\n",
    "\n",
    "    if large_small_ratio < 3.:\n",
    "        return(True)\n",
    "    else:\n",
    "        return(False)"
   ]
  },
  {
   "cell_type": "code",
   "execution_count": 7,
   "metadata": {},
   "outputs": [
    {
     "name": "stderr",
     "output_type": "stream",
     "text": [
      "/home/raul_desktop/anaconda2/envs/MPInterface/lib/python3.6/site-packages/ipykernel_launcher.py:3: SettingWithCopyWarning: \n",
      "A value is trying to be set on a copy of a slice from a DataFrame.\n",
      "Try using .loc[row_indexer,col_indexer] = value instead\n",
      "\n",
      "See the caveats in the documentation: http://pandas.pydata.org/pandas-docs/stable/indexing.html#indexing-view-versus-copy\n",
      "  This is separate from the ipykernel package so we can avoid doing imports until\n"
     ]
    }
   ],
   "source": [
    "df_3[\"structure_square_enough\"] = df_3.apply(\n",
    "    structure_square_enough,\n",
    "    axis=1,\n",
    "    )\n",
    "\n",
    "df_3 = df_3[df_3[\"structure_square_enough\"]]"
   ]
  },
  {
   "cell_type": "code",
   "execution_count": 8,
   "metadata": {},
   "outputs": [],
   "source": [
    "# view(df_3[df_3[\"structure_square_enough\"]][\"atoms\"].tolist())\n",
    "\n",
    "# np.array(df_3[df_3[\"structure_square_enough\"]][\"uniq_str_repr\"].tolist())"
   ]
  },
  {
   "cell_type": "markdown",
   "metadata": {},
   "source": [
    "# Getting rid of structures with too many metal atoms"
   ]
  },
  {
   "cell_type": "code",
   "execution_count": 9,
   "metadata": {},
   "outputs": [],
   "source": [
    "def num_m_atoms(row_i):\n",
    "    \"\"\"\n",
    "    \"\"\"\n",
    "    atoms_i = row_i[\"atoms\"]\n",
    "#     atoms_i = df_3.iloc[0][\"atoms\"]\n",
    "\n",
    "    num_m_atoms = len([i for i in atoms_i.get_atomic_numbers() if i != 6])\n",
    "#     num_c_atoms = len([i for i in atoms_i.get_atomic_numbers() if i == 6])\n",
    "\n",
    "#     out_dict = {\n",
    "#         \"metal\": num_m_atoms,\n",
    "#         \"carbon\": num_c_atoms,\n",
    "#         }\n",
    "\n",
    "    return(num_m_atoms)"
   ]
  },
  {
   "cell_type": "code",
   "execution_count": 10,
   "metadata": {},
   "outputs": [],
   "source": [
    "df_3[\"num_m_atoms\"] = df_3.apply(\n",
    "    num_m_atoms,\n",
    "    axis=1,\n",
    "    )\n",
    "\n",
    "df_3 = df_3[df_3[\"num_m_atoms\"] <= 60]"
   ]
  },
  {
   "cell_type": "code",
   "execution_count": 11,
   "metadata": {},
   "outputs": [
    {
     "name": "stdout",
     "output_type": "stream",
     "text": [
      "74\n"
     ]
    }
   ],
   "source": [
    "print(len(df_3))"
   ]
  },
  {
   "cell_type": "code",
   "execution_count": 12,
   "metadata": {},
   "outputs": [],
   "source": [
    "# df_3"
   ]
  },
  {
   "cell_type": "code",
   "execution_count": 40,
   "metadata": {},
   "outputs": [],
   "source": [
    "view(df_3[\"atoms\"].tolist())"
   ]
  },
  {
   "cell_type": "code",
   "execution_count": 39,
   "metadata": {},
   "outputs": [],
   "source": [
    "pickle.dump(\n",
    "df_3,\n",
    "open(\n",
    "\"processed_dataframe.pickle\",\n",
    "\"wb\"\n",
    ")\n",
    ")"
   ]
  },
  {
   "cell_type": "raw",
   "metadata": {},
   "source": [
    "\n",
    "\n",
    "\n",
    "\n",
    "\n",
    "\n",
    "\n",
    "\n",
    "\n",
    "\n",
    "\n",
    "\n",
    "\n",
    "\n",
    "\n",
    "\n",
    "\n",
    "\n",
    "\n"
   ]
  },
  {
   "cell_type": "code",
   "execution_count": 14,
   "metadata": {},
   "outputs": [],
   "source": [
    "# def num_atoms(row_i):\n",
    "#     \"\"\"\n",
    "#     \"\"\"\n",
    "#     atoms_i = row_i[\"atoms\"]\n",
    "# #     atoms_i = df_3.iloc[0][\"atoms\"]\n",
    "\n",
    "#     num_m_atoms = len([i for i in atoms_i.get_atomic_numbers() if i != 6])\n",
    "#     num_c_atoms = len([i for i in atoms_i.get_atomic_numbers() if i == 6])\n",
    "\n",
    "#     out_dict = {\n",
    "#         \"metal\": num_m_atoms,\n",
    "#         \"carbon\": num_c_atoms,\n",
    "#         }\n",
    "\n",
    "#     return(out_dict)"
   ]
  },
  {
   "cell_type": "code",
   "execution_count": 15,
   "metadata": {},
   "outputs": [],
   "source": [
    "# df_3[\"num_atoms\"] = df_3.apply(\n",
    "#     num_atoms,\n",
    "#     axis=1,\n",
    "#     )"
   ]
  },
  {
   "cell_type": "code",
   "execution_count": 16,
   "metadata": {},
   "outputs": [],
   "source": [
    "# print(num_m_atoms)\n",
    "# print(num_c_atoms)"
   ]
  },
  {
   "cell_type": "code",
   "execution_count": 17,
   "metadata": {},
   "outputs": [],
   "source": [
    "# view(atoms_i)"
   ]
  },
  {
   "cell_type": "code",
   "execution_count": 18,
   "metadata": {},
   "outputs": [],
   "source": [
    "# view(df_2[\"atoms\"].tolist())\n",
    "\n",
    "# len(df_2)"
   ]
  },
  {
   "cell_type": "code",
   "execution_count": 19,
   "metadata": {},
   "outputs": [],
   "source": [
    "# # view(df_2.iloc[0][\"atoms\"])\n",
    "\n",
    "# atoms = df_2.iloc[0][\"atoms\"]\n",
    "\n",
    "# if atoms.cell[1][1] < 0.:\n",
    "#     atoms.cell[1] = -1 * atoms.cell[1]\n",
    "\n",
    "#     atoms.set_cell(\n",
    "#         atoms.cell,\n",
    "#         scale_atoms=True,\n",
    "#         )\n",
    "\n",
    "# atoms.cell[1] = -1 * atoms.cell[1]\n",
    "\n",
    "# atoms.set_cell(\n",
    "#     atoms.cell,\n",
    "#     scale_atoms=True,\n",
    "#     )"
   ]
  },
  {
   "cell_type": "code",
   "execution_count": 20,
   "metadata": {},
   "outputs": [],
   "source": [
    "# for i_cnt, row_i in df_3.iterrows():\n",
    "#     tmp = 42\n",
    "\n",
    "# row_i[\"atoms\"].cell[0]\n",
    "\n",
    "# x = [-11.097, -6.4, 0]\n",
    "# y = [8.631, -14.95, 0]\n",
    "# np.linalg.norm(np.cross(x, y))"
   ]
  },
  {
   "cell_type": "code",
   "execution_count": 21,
   "metadata": {},
   "outputs": [],
   "source": [
    "# for i_cnt, row_i in df_3.iterrows():\n",
    "# #     tmp = 42\n",
    "\n",
    "#     tmp = structure_square_enough(row_i)\n",
    "#     print(tmp)"
   ]
  },
  {
   "cell_type": "code",
   "execution_count": 22,
   "metadata": {},
   "outputs": [],
   "source": [
    "# len(df)\n",
    "# df.info(memory_usage=\"deep\")\n",
    "\n",
    "# df_3.info(memory_usage=\"deep\")"
   ]
  },
  {
   "cell_type": "code",
   "execution_count": 23,
   "metadata": {},
   "outputs": [],
   "source": [
    "# tmp1 = df_2[\"uniq_str_repr\"].tolist()\n",
    "# print(len(tmp1))\n",
    "\n",
    "\n",
    "# len(list(set(tmp1)))"
   ]
  },
  {
   "cell_type": "code",
   "execution_count": 24,
   "metadata": {},
   "outputs": [],
   "source": [
    "# len(df_2.drop_duplicates(subset=\"uniq_str_repr\"))"
   ]
  },
  {
   "cell_type": "code",
   "execution_count": 25,
   "metadata": {},
   "outputs": [],
   "source": [
    "# print(df_2.iloc[0][\"atoms\"].cell)\n",
    "# print(\"\")\n",
    "# print(df_2.iloc[1][\"atoms\"].cell)"
   ]
  },
  {
   "cell_type": "code",
   "execution_count": 26,
   "metadata": {},
   "outputs": [],
   "source": [
    "# def get_unique_str_repr(row_i):\n",
    "#     \"\"\"\n",
    "#     \"\"\"\n",
    "#     dupl_prop_dict = {\n",
    "#     #     \"\": row_i[],\n",
    "#     #     \"facet\": str(row_i[\"facet\"]),  # Not facet, some may be equiv.\n",
    "\n",
    "#         \"crystal\": row_i[\"crystal\"],\n",
    "#         \"metal\": row_i[\"metal\"],\n",
    "#         \"min_area\": '{:.5e}'.format(row_i[\"min_area\"]),\n",
    "#         \"u_mismatch\": '{:.5e}'.format(row_i[\"u_mismatch\"]),\n",
    "#         \"v_mismatch\": '{:.5e}'.format(row_i[\"v_mismatch\"]),\n",
    "#         \"angle_mismatch\": '{:.5e}'.format(row_i[\"angle_mismatch\"]),\n",
    "#         \"cell_x\": str(['{:.5e}'.format(i) for i in row_i[\"atoms\"].cell[0]]),\n",
    "#         \"cell_y\": str(['{:.5e}'.format(i) for i in row_i[\"atoms\"].cell[1]]),\n",
    "#         }\n",
    "\n",
    "#     str_repr_i = \"\"\n",
    "#     for key, value in dupl_prop_dict.items():\n",
    "#         str_repr_i += value + \" | \"\n",
    "\n",
    "#     return(str_repr_i)"
   ]
  },
  {
   "cell_type": "code",
   "execution_count": 27,
   "metadata": {},
   "outputs": [],
   "source": [
    "# atoms_processed_i = process_atom(\n",
    "#     atoms,\n",
    "#     max_thickness=max_thickness,\n",
    "#     z_vacuum=z_vacuum,\n",
    "#     frac_constr_supp=frac_constr_supp,\n",
    "#     )"
   ]
  },
  {
   "cell_type": "code",
   "execution_count": 28,
   "metadata": {},
   "outputs": [],
   "source": [
    "# def get_sum_force(row):\n",
    "#     \"\"\"\n",
    "#     \"\"\"\n",
    "#     #| - get_sum_force\n",
    "#     if row[\"atoms_object\"] is not None:\n",
    "#         try:\n",
    "#             max_force_tmp = max_force(row[\"atoms_object\"][-1])\n",
    "#             return(max_force_tmp[1])\n",
    "\n",
    "#         except:\n",
    "#             return(None)\n",
    "\n",
    "#     else:\n",
    "#         return(None)\n",
    "#     #__|\n",
    "\n",
    "# df_master[\"sum_force\"] = df_master.apply(\n",
    "#     get_sum_force,\n",
    "#     axis=1,\n",
    "#     )"
   ]
  },
  {
   "cell_type": "code",
   "execution_count": 29,
   "metadata": {},
   "outputs": [],
   "source": [
    "# dict_i = row_i.to_dict()\n",
    "# dict_i.pop(\"sys_data_i\")"
   ]
  },
  {
   "cell_type": "code",
   "execution_count": 30,
   "metadata": {},
   "outputs": [],
   "source": [
    "# io.write?\n",
    "# # atoms\n",
    "\n",
    "# io.write(\"temp.traj\", atoms)"
   ]
  },
  {
   "cell_type": "code",
   "execution_count": 31,
   "metadata": {},
   "outputs": [],
   "source": [
    "# dict1 = {\n",
    "#     \"a\": 1,\n",
    "#     \"b\": 2,\n",
    "#     \"c\": 3,\n",
    "#     }"
   ]
  },
  {
   "cell_type": "code",
   "execution_count": 32,
   "metadata": {},
   "outputs": [],
   "source": [
    "# for i_cnt, row_i in df.iterrows():\n",
    "#     tmp = 42\n",
    "\n",
    "# for sys_j in row_i[\"sys_data_i\"]:\n",
    "#     tmp = 42\n",
    "\n",
    "# atoms = AseAtomsAdaptor.get_atoms(sys_j[\"heterointerface\"])"
   ]
  },
  {
   "cell_type": "code",
   "execution_count": 33,
   "metadata": {},
   "outputs": [],
   "source": [
    "# /mnt/c/Users/raul_desktop/Dropbox/01_norskov/04_comp_clusters/02_DATA\n",
    "# /01_fe_graph_proj/04_lattice_matching/181218_data"
   ]
  },
  {
   "cell_type": "code",
   "execution_count": 34,
   "metadata": {},
   "outputs": [],
   "source": [
    "# df_short = df.sample(n=2)\n",
    "# pickle.dump(\n",
    "#     df_short,\n",
    "#     open(\n",
    "#         \"dataframe_short.pickle\",\n",
    "#         \"wb\"\n",
    "#         )\n",
    "#     )"
   ]
  },
  {
   "cell_type": "code",
   "execution_count": 35,
   "metadata": {},
   "outputs": [],
   "source": [
    "# sys.path.insert(\n",
    "#     1,\n",
    "#     os.path.join(\n",
    "\n",
    "#         \"/home/raul_desktop/anaconda2\",\n",
    "#         \"envs/MPInterface/lib\",\n",
    "#         \"python3.6/site-packages/pymatgen\",\n",
    "# #         os.environ[\"PROJ_DATA\"],\n",
    "# #         \"01_fe_graph_proj/04_lattice_matching/181218_data\",\n",
    "#         )\n",
    "#     )"
   ]
  }
 ],
 "metadata": {
  "kernelspec": {
   "display_name": "Python 3",
   "language": "python",
   "name": "python3"
  },
  "language_info": {
   "codemirror_mode": {
    "name": "ipython",
    "version": 3
   },
   "file_extension": ".py",
   "mimetype": "text/x-python",
   "name": "python",
   "nbconvert_exporter": "python",
   "pygments_lexer": "ipython3",
   "version": "3.6.5"
  }
 },
 "nbformat": 4,
 "nbformat_minor": 2
}
