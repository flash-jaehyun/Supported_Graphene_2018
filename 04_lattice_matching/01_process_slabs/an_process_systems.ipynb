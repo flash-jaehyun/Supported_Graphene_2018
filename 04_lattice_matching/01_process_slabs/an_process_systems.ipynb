{
 "cells": [
  {
   "cell_type": "markdown",
   "metadata": {},
   "source": [
    "# Process Heterostructure Systems\n",
    "____"
   ]
  },
  {
   "cell_type": "markdown",
   "metadata": {},
   "source": [
    "# Import Modules"
   ]
  },
  {
   "cell_type": "code",
   "execution_count": 1,
   "metadata": {},
   "outputs": [],
   "source": [
    "import sys\n",
    "import os\n",
    "\n",
    "import pickle\n",
    "\n",
    "import numpy as np\n",
    "\n",
    "import pandas as pd\n",
    "pd.set_option(\"display.max_columns\", None)\n",
    "pd.set_option('display.max_rows', None)\n",
    "\n",
    "from pymatgen.io.ase import AseAtomsAdaptor\n",
    "\n",
    "from ase.visualize import view\n",
    "from ase import io\n",
    "\n",
    "# #############################################################################\n",
    "# #############################################################################\n",
    "\n",
    "from methods import process_atom, get_unique_str_repr"
   ]
  },
  {
   "cell_type": "markdown",
   "metadata": {},
   "source": [
    "# Script Inputs"
   ]
  },
  {
   "cell_type": "code",
   "execution_count": 2,
   "metadata": {},
   "outputs": [],
   "source": [
    "max_thickness = 4\n",
    "z_vacuum = 13\n",
    "frac_constr_supp = 0.6"
   ]
  },
  {
   "cell_type": "markdown",
   "metadata": {},
   "source": [
    "# Load Data"
   ]
  },
  {
   "cell_type": "code",
   "execution_count": 3,
   "metadata": {},
   "outputs": [],
   "source": [
    "df = pickle.load(\n",
    "    open(\n",
    "        os.path.join(\n",
    "#             \"dataframe_short.pickle\",\n",
    "\n",
    "            os.environ[\"PROJ_DATA\"],\n",
    "            \"01_fe_graph_proj/04_lattice_matching/181218_data\",\n",
    "            \"job_dataframe.pickle\",\n",
    "            ),\n",
    "        \"rb\"\n",
    "        )\n",
    "    )\n",
    "\n",
    "# Replace NaN with '[]' (empty lists)\n",
    "for row in df.loc[df.sys_data_i.isnull(), 'sys_data_i'].index:\n",
    "    df.at[row, 'sys_data_i'] = []"
   ]
  },
  {
   "cell_type": "markdown",
   "metadata": {},
   "source": [
    "# Unpack heterointerface column into longer dataframe"
   ]
  },
  {
   "cell_type": "code",
   "execution_count": 4,
   "metadata": {},
   "outputs": [
    {
     "name": "stdout",
     "output_type": "stream",
     "text": [
      "Graphene is below support\n",
      "Graphene is below support\n",
      "Graphene is below support\n",
      "Graphene is below support\n",
      "Graphene is below support\n",
      "Graphene is below support\n",
      "Graphene is below support\n",
      "Graphene is below support\n",
      "Graphene is below support\n",
      "Graphene is below support\n",
      "Graphene is below support\n",
      "Graphene is below support\n",
      "Graphene is below support\n",
      "Graphene is below support\n",
      "Graphene is below support\n",
      "Graphene is below support\n",
      "Graphene is below support\n",
      "Graphene is below support\n",
      "Graphene is below support\n",
      "Graphene is below support\n",
      "Graphene is below support\n",
      "Graphene is below support\n",
      "Graphene is below support\n",
      "Graphene is below support\n",
      "Graphene is below support\n",
      "Graphene is below support\n",
      "Graphene is below support\n",
      "Graphene is below support\n",
      "Graphene is below support\n",
      "Graphene is below support\n",
      "Graphene is below support\n",
      "Graphene is below support\n",
      "Graphene is below support\n",
      "Graphene is below support\n",
      "Graphene is below support\n",
      "Graphene is below support\n",
      "Graphene is below support\n",
      "Graphene is below support\n",
      "Graphene is below support\n",
      "Graphene is below support\n",
      "Graphene is below support\n",
      "Graphene is below support\n",
      "Graphene is below support\n",
      "Graphene is below support\n",
      "Graphene is below support\n",
      "Graphene is below support\n",
      "Graphene is below support\n",
      "Graphene is below support\n",
      "Graphene is below support\n",
      "Graphene is below support\n",
      "Graphene is below support\n",
      "Graphene is below support\n",
      "Graphene is below support\n",
      "Graphene is below support\n",
      "Graphene is below support\n",
      "Graphene is below support\n",
      "Graphene is below support\n",
      "Graphene is below support\n",
      "Graphene is below support\n",
      "Graphene is below support\n",
      "Graphene is below support\n",
      "Graphene is below support\n",
      "Graphene is below support\n",
      "Graphene is below support\n",
      "Graphene is below support\n",
      "Graphene is below support\n",
      "Graphene is below support\n",
      "Graphene is below support\n",
      "Graphene is below support\n",
      "Graphene is below support\n",
      "Graphene is below support\n",
      "Graphene is below support\n",
      "Graphene is below support\n",
      "Graphene is below support\n",
      "Graphene is below support\n",
      "Graphene is below support\n",
      "Graphene is below support\n",
      "Graphene is below support\n",
      "Graphene is below support\n",
      "Graphene is below support\n",
      "Graphene is below support\n",
      "Graphene is below support\n",
      "Graphene is below support\n",
      "Graphene is below support\n",
      "Graphene is below support\n",
      "Graphene is below support\n",
      "Graphene is below support\n",
      "Graphene is below support\n",
      "Graphene is below support\n",
      "Graphene is below support\n",
      "Graphene is below support\n",
      "Graphene is below support\n",
      "Graphene is below support\n",
      "Graphene is below support\n",
      "Graphene is below support\n",
      "Graphene is below support\n",
      "Graphene is below support\n",
      "Graphene is below support\n",
      "Graphene is below support\n",
      "Graphene is below support\n",
      "Graphene is below support\n",
      "Graphene is below support\n",
      "Graphene is below support\n",
      "Graphene is below support\n",
      "Graphene is below support\n",
      "Graphene is below support\n",
      "Graphene is below support\n",
      "Graphene is below support\n",
      "Graphene is below support\n",
      "Graphene is below support\n",
      "Graphene is below support\n",
      "Graphene is below support\n",
      "Graphene is below support\n",
      "Graphene is below support\n",
      "Graphene is below support\n",
      "Graphene is below support\n",
      "Graphene is below support\n",
      "Graphene is below support\n",
      "Graphene is below support\n",
      "Graphene is below support\n",
      "Graphene is below support\n",
      "Graphene is below support\n",
      "Graphene is below support\n",
      "Graphene is below support\n",
      "Graphene is below support\n",
      "Graphene is below support\n",
      "Graphene is below support\n",
      "Graphene is below support\n",
      "Graphene is below support\n",
      "Graphene is below support\n",
      "Graphene is below support\n",
      "Graphene is below support\n",
      "Graphene is below support\n",
      "Graphene is below support\n",
      "Graphene is below support\n",
      "Graphene is below support\n",
      "Graphene is below support\n",
      "Graphene is below support\n",
      "Graphene is below support\n",
      "Graphene is below support\n",
      "Graphene is below support\n",
      "Graphene is below support\n",
      "Graphene is below support\n",
      "Graphene is below support\n",
      "Graphene is below support\n",
      "Graphene is below support\n",
      "Graphene is below support\n",
      "Graphene is below support\n",
      "Graphene is below support\n",
      "Graphene is below support\n",
      "Graphene is below support\n",
      "Graphene is below support\n",
      "Graphene is below support\n",
      "Graphene is below support\n",
      "Graphene is below support\n",
      "Graphene is below support\n",
      "Graphene is below support\n",
      "Graphene is below support\n",
      "Graphene is below support\n",
      "Graphene is below support\n",
      "Graphene is below support\n",
      "Graphene is below support\n",
      "Graphene is below support\n",
      "Graphene is below support\n",
      "Graphene is below support\n",
      "Graphene is below support\n",
      "Graphene is below support\n",
      "Graphene is below support\n",
      "Graphene is below support\n",
      "Graphene is below support\n",
      "Graphene is below support\n",
      "Graphene is below support\n",
      "Graphene is below support\n",
      "Graphene is below support\n",
      "Graphene is below support\n",
      "Graphene is below support\n",
      "Graphene is below support\n",
      "Graphene is below support\n",
      "Graphene is below support\n",
      "Graphene is below support\n",
      "Graphene is below support\n",
      "Graphene is below support\n",
      "Graphene is below support\n",
      "Graphene is below support\n",
      "Graphene is below support\n",
      "Graphene is below support\n",
      "Graphene is below support\n",
      "Graphene is below support\n",
      "Graphene is below support\n",
      "Graphene is below support\n"
     ]
    }
   ],
   "source": [
    "master_data_list = []\n",
    "for i_cnt, row_i in df.iterrows():\n",
    "    dict_i = row_i.to_dict()\n",
    "    dict_i.pop(\"sys_data_i\")\n",
    "\n",
    "    for sys_j in row_i[\"sys_data_i\"]:\n",
    "        dict_j = {**dict_i, **sys_j}\n",
    "        atoms_i = AseAtomsAdaptor.get_atoms(sys_j[\"heterointerface\"])\n",
    "\n",
    "        atoms_processed_i = process_atom(\n",
    "            atoms_i,\n",
    "            max_thickness=max_thickness,\n",
    "            z_vacuum=z_vacuum,\n",
    "            frac_constr_supp=frac_constr_supp,\n",
    "            )\n",
    "\n",
    "        dict_j[\"atoms\"] = atoms_processed_i\n",
    "\n",
    "        master_data_list.append(dict_j)\n",
    "\n",
    "# Instantiate the dataframe\n",
    "df_2 = pd.DataFrame(master_data_list)"
   ]
  },
  {
   "cell_type": "markdown",
   "metadata": {},
   "source": [
    "# Remove duplicate structures"
   ]
  },
  {
   "cell_type": "code",
   "execution_count": 5,
   "metadata": {},
   "outputs": [],
   "source": [
    "def get_area(row_i):\n",
    "    area = np.linalg.norm(np.cross(\n",
    "        row_i[\"atoms\"].cell[0],\n",
    "        row_i[\"atoms\"].cell[1],\n",
    "        ))\n",
    "\n",
    "    return(area)\n",
    "\n",
    "df_2[\"area_2\"] = df_2.apply(\n",
    "    get_area,\n",
    "    axis=1,\n",
    "    )\n",
    "\n",
    "\n",
    "df_2[\"uniq_str_repr\"] = df_2.apply(\n",
    "    get_unique_str_repr,\n",
    "    axis=1,\n",
    "    )\n",
    "\n",
    "df_3 = df_2.drop_duplicates(subset=\"uniq_str_repr\")"
   ]
  },
  {
   "cell_type": "markdown",
   "metadata": {},
   "source": [
    "# Removing \"long\" heterostructures"
   ]
  },
  {
   "cell_type": "code",
   "execution_count": 6,
   "metadata": {},
   "outputs": [],
   "source": [
    "def structure_square_enough(row_i):\n",
    "    \"\"\"\n",
    "    \"\"\"\n",
    "    min_ind = np.argmin([np.linalg.norm(i) for i in row_i[\"uv1\"]])\n",
    "\n",
    "    ind_list = [0, 1]\n",
    "    ind_list.remove(min_ind)\n",
    "\n",
    "    uv_small = row_i[\"uv1\"][min_ind]\n",
    "    uv_large = row_i[\"uv1\"][ind_list[0]]\n",
    "\n",
    "    len_u_large = np.linalg.norm(uv_large)\n",
    "    len_u_small = np.linalg.norm(uv_small)\n",
    "    large_small_ratio = len_u_large / len_u_small\n",
    "\n",
    "    if large_small_ratio < 3.:\n",
    "        return(True)\n",
    "    else:\n",
    "        return(False)"
   ]
  },
  {
   "cell_type": "code",
   "execution_count": 7,
   "metadata": {},
   "outputs": [
    {
     "name": "stderr",
     "output_type": "stream",
     "text": [
      "/home/raul_desktop/anaconda2/envs/MPInterface/lib/python3.6/site-packages/ipykernel_launcher.py:3: SettingWithCopyWarning: \n",
      "A value is trying to be set on a copy of a slice from a DataFrame.\n",
      "Try using .loc[row_indexer,col_indexer] = value instead\n",
      "\n",
      "See the caveats in the documentation: http://pandas.pydata.org/pandas-docs/stable/indexing.html#indexing-view-versus-copy\n",
      "  This is separate from the ipykernel package so we can avoid doing imports until\n"
     ]
    }
   ],
   "source": [
    "df_3[\"structure_square_enough\"] = df_3.apply(\n",
    "    structure_square_enough,\n",
    "    axis=1,\n",
    "    )\n",
    "\n",
    "df_3 = df_3[df_3[\"structure_square_enough\"]]"
   ]
  },
  {
   "cell_type": "markdown",
   "metadata": {},
   "source": [
    "# Getting rid of structures with too many metal atoms"
   ]
  },
  {
   "cell_type": "code",
   "execution_count": 9,
   "metadata": {},
   "outputs": [],
   "source": [
    "def num_m_atoms(row_i):\n",
    "    \"\"\"\n",
    "    \"\"\"\n",
    "    atoms_i = row_i[\"atoms\"]\n",
    "\n",
    "    num_m_atoms = len([i for i in atoms_i.get_atomic_numbers() if i != 6])\n",
    "\n",
    "    return(num_m_atoms)"
   ]
  },
  {
   "cell_type": "code",
   "execution_count": 10,
   "metadata": {},
   "outputs": [],
   "source": [
    "df_3[\"num_m_atoms\"] = df_3.apply(\n",
    "    num_m_atoms,\n",
    "    axis=1,\n",
    "    )\n",
    "\n",
    "df_3 = df_3[df_3[\"num_m_atoms\"] <= 60]"
   ]
  },
  {
   "cell_type": "markdown",
   "metadata": {},
   "source": [
    "# Save processed data frame"
   ]
  },
  {
   "cell_type": "code",
   "execution_count": 39,
   "metadata": {},
   "outputs": [],
   "source": [
    "pickle.dump(\n",
    "    df_3,\n",
    "    open(\n",
    "        \"processed_dataframe.pickle\",\n",
    "        \"wb\"\n",
    "        )\n",
    "    )"
   ]
  }
 ],
 "metadata": {
  "kernelspec": {
   "display_name": "Python 3",
   "language": "python",
   "name": "python3"
  },
  "language_info": {
   "codemirror_mode": {
    "name": "ipython",
    "version": 3
   },
   "file_extension": ".py",
   "mimetype": "text/x-python",
   "name": "python",
   "nbconvert_exporter": "python",
   "pygments_lexer": "ipython3",
   "version": "3.6.6"
  }
 },
 "nbformat": 4,
 "nbformat_minor": 2
}
