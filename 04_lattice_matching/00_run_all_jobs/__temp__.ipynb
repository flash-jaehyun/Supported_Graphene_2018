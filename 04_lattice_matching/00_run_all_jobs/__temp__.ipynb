{
 "cells": [
  {
   "cell_type": "code",
   "execution_count": 1,
   "metadata": {},
   "outputs": [],
   "source": [
    "import os\n",
    "import sys"
   ]
  },
  {
   "cell_type": "code",
   "execution_count": 2,
   "metadata": {},
   "outputs": [],
   "source": [
    "path_i = \"data/Mo/bcc/001/_1\""
   ]
  },
  {
   "cell_type": "code",
   "execution_count": 3,
   "metadata": {},
   "outputs": [],
   "source": [
    "def parse_info(path_i):\n",
    "    \"\"\"\n",
    "    \"\"\"\n",
    "    #| - tmp_meth\n",
    "\n",
    "    from ase import io\n",
    "\n",
    "    files_i = os.listdir(path_i)\n",
    "\n",
    "    if \"init_graphene.cif\" in files_i:\n",
    "        atoms_init_graph_i = io.read(\n",
    "            os.path.join(\n",
    "                path_i,\n",
    "                \"init_graphene.cif\",\n",
    "                )\n",
    "            )\n",
    "    else:\n",
    "        atoms_init_graph_i = None\n",
    "\n",
    "    if \"init_support.cif\" in files_i:\n",
    "        atoms_init_supp_i = io.read(\n",
    "            os.path.join(\n",
    "                path_i,\n",
    "                \"init_support.cif\",\n",
    "                )\n",
    "            )\n",
    "    else:\n",
    "        atoms_init_supp_i = None\n",
    "\n",
    "    structures_found = os.path.isdir(\n",
    "        os.path.join(\n",
    "            path_i,\n",
    "            \"01_heterostructures\",\n",
    "            )\n",
    "        )\n",
    "\n",
    "    if structures_found:\n",
    "        out_atoms_path_list = os.listdir(os.path.join(\n",
    "            path_i,\n",
    "            \"01_heterostructures\",\n",
    "            ))\n",
    "\n",
    "        out_atoms_list = []\n",
    "        for out_i in out_atoms_path_list:\n",
    "            out_atoms_i = io.read(\n",
    "                os.path.join(\n",
    "                    path_i,\n",
    "                    \"01_heterostructures\",\n",
    "                    out_i,\n",
    "                    )\n",
    "                )\n",
    "            out_atoms_list.append(out_atoms_i)\n",
    "    else:\n",
    "        out_atoms_list = None\n",
    "\n",
    "    out_dict = {\n",
    "    #     \"\": ,\n",
    "        \"init_graph_atoms\": atoms_init_graph_i,\n",
    "        \"init_support_atoms\": atoms_init_supp_i,\n",
    "        \"out_atoms\": out_atoms_list,\n",
    "        }\n",
    "    \n",
    "    return(out_dict)\n",
    "    #__|"
   ]
  },
  {
   "cell_type": "code",
   "execution_count": 30,
   "metadata": {},
   "outputs": [],
   "source": [
    "def parse_out_for_mismatch(path_i):\n",
    "    \"\"\"\n",
    "    \"\"\"\n",
    "\n",
    "    std_out_file = os.path.join(path_i, \"job.out\")\n",
    "\n",
    "    if os.path.isfile(std_out_file):\n",
    "        lines = [line.rstrip('\\n') for line in open(std_out_file)]\n",
    "        ind_i = lines.index(\"u,v & angle mismatches:\")\n",
    "        u_v_angle_mismatch = [float(i.replace(\",\", \"\")) for i in lines[ind_i + 1].split(\" \")]\n",
    "\n",
    "        u_mismatch = u_v_angle_mismatch[0]\n",
    "        v_mismatch = u_v_angle_mismatch[1]\n",
    "        angle_mismatch = u_v_angle_mismatch[2]\n",
    "\n",
    "        out = {\n",
    "            \"u_mismatch\": u_mismatch,\n",
    "            \"v_mismatch\": v_mismatch,\n",
    "            \"angle_mismatch\": angle_mismatch,\n",
    "            }\n",
    "\n",
    "    else:\n",
    "        out = None\n",
    "        \n",
    "    return(out)"
   ]
  },
  {
   "cell_type": "code",
   "execution_count": 31,
   "metadata": {},
   "outputs": [
    {
     "data": {
      "text/plain": [
       "{'u_mismatch': 0.28189302080376333,\n",
       " 'v_mismatch': -0.25989871936664477,\n",
       " 'angle_mismatch': 1.4210854715202004e-14}"
      ]
     },
     "execution_count": 31,
     "metadata": {},
     "output_type": "execute_result"
    }
   ],
   "source": [
    "parse_out_for_mismatch(path_i)"
   ]
  },
  {
   "cell_type": "raw",
   "metadata": {},
   "source": [
    "\n",
    "\n",
    "\n"
   ]
  },
  {
   "cell_type": "code",
   "execution_count": 5,
   "metadata": {},
   "outputs": [],
   "source": [
    "# from ase import io\n",
    "\n",
    "# files_i = os.listdir(path_i)\n",
    "\n",
    "# if \"init_graphene.cif\" in files_i:\n",
    "#     atoms_init_graph_i = io.read(\n",
    "#         os.path.join(\n",
    "#             path_i,\n",
    "#             \"init_graphene.cif\",\n",
    "#             )\n",
    "#         )\n",
    "\n",
    "# if \"init_support.cif\" in files_i:\n",
    "#     atoms_init_supp_i = io.read(\n",
    "#         os.path.join(\n",
    "#             path_i,\n",
    "#             \"init_support.cif\",\n",
    "#             )\n",
    "#         )\n",
    "\n",
    "# structures_found = os.path.isdir(\n",
    "#     os.path.join(\n",
    "#         path_i,\n",
    "#         \"01_heterostructures\",\n",
    "#         )\n",
    "#     )\n",
    "\n",
    "# if structures_found:\n",
    "#     out_atoms_path_list = os.listdir(os.path.join(\n",
    "#         path_i,\n",
    "#         \"01_heterostructures\",\n",
    "#         ))\n",
    "\n",
    "#     out_atoms_list = []\n",
    "#     for out_i in out_atoms_path_list:\n",
    "#         out_atoms_i = io.read(\n",
    "#             os.path.join(\n",
    "#                 path_i,\n",
    "#                 \"01_heterostructures\",\n",
    "#                 out_i,\n",
    "#                 )\n",
    "#             )\n",
    "#         out_atoms_list.append(out_atoms_i)\n",
    "\n",
    "# out_dict = {\n",
    "# #     \"\": ,\n",
    "#     \"init_graph_atoms\": atoms_init_graph_i,\n",
    "#     \"init_support_atoms\": atoms_init_supp_i,\n",
    "#     \"out_atoms\": out_atoms_list,\n",
    "#     }"
   ]
  },
  {
   "cell_type": "code",
   "execution_count": 6,
   "metadata": {},
   "outputs": [],
   "source": [
    "# path_i = \"mnt/c/Users/raulf/Dropbox/01_norskov/00_git_repos/supported_graphene_2018_2/04_lattice_matching/00_run_all_jobs/data/Mo/bcc/001/_1/\""
   ]
  }
 ],
 "metadata": {
  "kernelspec": {
   "display_name": "Python 3",
   "language": "python",
   "name": "python3"
  },
  "language_info": {
   "codemirror_mode": {
    "name": "ipython",
    "version": 3
   },
   "file_extension": ".py",
   "mimetype": "text/x-python",
   "name": "python",
   "nbconvert_exporter": "python",
   "pygments_lexer": "ipython3",
   "version": "3.6.5"
  }
 },
 "nbformat": 4,
 "nbformat_minor": 2
}
