{
 "cells": [
  {
   "cell_type": "raw",
   "metadata": {},
   "source": [
    "\"\"\"Create heterointerfaces between graphene and slab surface.\n",
    "\n",
    "Author(s): Raul Flores\n",
    "\"\"\""
   ]
  },
  {
   "cell_type": "markdown",
   "metadata": {},
   "source": [
    "# Import Modules"
   ]
  },
  {
   "cell_type": "code",
   "execution_count": 4,
   "metadata": {},
   "outputs": [],
   "source": [
    "import os\n",
    "import sys\n",
    "\n",
    "sys.path.insert(0, os.path.join(\n",
    "        os.environ[\"PROJ_fe_graph\"],\n",
    "        \"data\"))\n",
    "\n",
    "from proj_data_fe_graph import (\n",
    "    most_stable_crystal_structure_dict,\n",
    "    dft_latt_const_dict,\n",
    "    surface_facets,\n",
    "    )\n",
    "\n",
    "from ase import io\n",
    "from ase import build\n",
    "\n",
    "from ase.visualize import view\n",
    "\n",
    "from pymatgen.symmetry.analyzer import SpacegroupAnalyzer\n",
    "\n",
    "from pymatgen.io.ase import AseAtomsAdaptor"
   ]
  },
  {
   "cell_type": "code",
   "execution_count": 5,
   "metadata": {},
   "outputs": [],
   "source": [
    "master_job_list = []\n",
    "\n",
    "atoms_list = []\n",
    "for metal_i, cryst_dict_i in dft_latt_const_dict.items():\n",
    "    for cryst_j, latt_params_j in cryst_dict_i.items():\n",
    "\n",
    "        #| - Testing for the completness of the latt_const dict\n",
    "        make_atoms = True\n",
    "        if len(list(latt_params_j.keys())) == 1:\n",
    "            if \"a\" in list(latt_params_j.keys()):\n",
    "                if latt_params_j.get(\"a\", None) is None:\n",
    "                    make_atoms = False\n",
    "\n",
    "        if len(list(latt_params_j.keys())) == 2:\n",
    "            if \"a\" in list(latt_params_j.keys()):\n",
    "                 if \"c\" in list(latt_params_j.keys()):\n",
    "                    if latt_params_j.get(\"a\", None) is None:\n",
    "                        make_atoms = False\n",
    "                    if latt_params_j.get(\"c\", None) is None:\n",
    "                        make_atoms = False\n",
    "        #__|\n",
    "\n",
    "        if make_atoms:\n",
    "            atoms_i = build.bulk(\n",
    "                metal_i,\n",
    "                crystalstructure=cryst_j,\n",
    "                a=latt_params_j.get(\"a\", None),\n",
    "                c=latt_params_j.get(\"c\", None),\n",
    "                covera=None,\n",
    "                u=None,\n",
    "                orthorhombic=False,\n",
    "                cubic=False,\n",
    "                )\n",
    "\n",
    "            structure_i = AseAtomsAdaptor.get_structure(atoms_i)\n",
    "            analyzer = SpacegroupAnalyzer(structure_i)\n",
    "            struct_conv_std_i = analyzer.get_conventional_standard_structure()\n",
    "            atoms_i = AseAtomsAdaptor.get_atoms(struct_conv_std_i)\n",
    "\n",
    "            atoms_list.append(atoms_i)\n",
    "\n",
    "            for facet in surface_facets:\n",
    "\n",
    "                job_dict_i = {}\n",
    "\n",
    "                job_dict_i[\"metal\"] = metal_i\n",
    "                job_dict_i[\"crystal\"] = cryst_j\n",
    "                job_dict_i[\"atoms\"] = atoms_i\n",
    "                job_dict_i[\"facet\"] = facet\n",
    "\n",
    "    #             path_i = \"/\".join([\n",
    "    #                 str(job_dict_i.get(\"job_type\", \"nan\")),\n",
    "    #                 str(job_dict_i.get(\"element\", \"nan\")),\n",
    "    #                 str(job_dict_i.get(\"crystal_structure\", \"nan\")),\n",
    "    #                 str(job_dict_i.get(\"facet\", \"nan\")),\n",
    "    #                 '{:.5f}'.format(\n",
    "    #                     round(job_dict_i.get(\"graphene_pos_above_support\", \"nan\"), 5)\n",
    "    #                     ),\n",
    "    #                 ])\n",
    "\n",
    "    #             master_job_list.append(\n",
    "    #                 {\n",
    "    #                     \"properties\": job_dict_i,\n",
    "    #                     \"path\": path_i,\n",
    "    #                     }\n",
    "    #                 )"
   ]
  }
 ],
 "metadata": {
  "kernelspec": {
   "display_name": "Python 3",
   "language": "python",
   "name": "python3"
  },
  "language_info": {
   "codemirror_mode": {
    "name": "ipython",
    "version": 3
   },
   "file_extension": ".py",
   "mimetype": "text/x-python",
   "name": "python",
   "nbconvert_exporter": "python",
   "pygments_lexer": "ipython3",
   "version": "3.6.5"
  }
 },
 "nbformat": 4,
 "nbformat_minor": 2
}
