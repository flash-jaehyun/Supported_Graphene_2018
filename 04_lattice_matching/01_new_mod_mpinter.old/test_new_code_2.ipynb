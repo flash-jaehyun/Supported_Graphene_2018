{
 "cells": [
  {
   "cell_type": "code",
   "execution_count": 1,
   "metadata": {},
   "outputs": [],
   "source": [
    "%%capture\n",
    "\n",
    "#| - Import Modules\n",
    "import os\n",
    "import sys\n",
    "\n",
    "sys.path.append(\n",
    "    os.path.join(\n",
    "        os.environ[\"PROJ_fe_graph\"],\n",
    "        \"04_lattice_matching\",\n",
    "        )\n",
    "    )\n",
    "from new_methods import (\n",
    "    create_heterostructure,\n",
    "    get_aligned_lattices,\n",
    "    get_matching_lattices,\n",
    "    )\n",
    "\n",
    "import json\n",
    "import pickle\n",
    "\n",
    "from ase import io\n",
    "from mpinterfaces.utils import slab_from_file\n",
    "\n",
    "from pymatgen.core.structure import Structure\n",
    "from pymatgen.io.ase import AseAtomsAdaptor\n",
    "#__|"
   ]
  },
  {
   "cell_type": "code",
   "execution_count": 2,
   "metadata": {},
   "outputs": [],
   "source": [
    "from mpinterfaces.interface import Interface\n",
    "from pymatgen.core.lattice import Lattice\n",
    "import numpy as np"
   ]
  },
  {
   "cell_type": "code",
   "execution_count": 3,
   "metadata": {},
   "outputs": [],
   "source": [
    "#| - Script Inputs\n",
    "strain_sys = \"support\"  # 'support' or 'overlayer'\n",
    "# strain_sys = \"overlayer\"  # 'support' or 'overlayer'\n",
    "\n",
    "bulk_filename = \"init_support.cif\"\n",
    "graphene_filename = \"init_graphene.cif\"\n",
    "\n",
    "separation = 3\n",
    "nlayers_2d = 1\n",
    "nlayers_substrate = 3\n",
    "\n",
    "# Lattice matching algorithm parameters\n",
    "max_area = 150\n",
    "max_mismatch = 0.03\n",
    "max_angle_diff = 0.03\n",
    "r1r2_tol = 0.03\n",
    "\n",
    "# max_area = 50\n",
    "# max_mismatch = 0.01\n",
    "# max_angle_diff = 0.01\n",
    "# r1r2_tol = 0.01\n",
    "\n",
    "max_return_structures=500\n",
    "#__|"
   ]
  },
  {
   "cell_type": "code",
   "execution_count": 4,
   "metadata": {},
   "outputs": [],
   "source": [
    "surface_cut = json.load(open(\"facet.json\", \"r\"))[\"facet\"]\n",
    "bulk_structure = Structure.from_file(bulk_filename)\n",
    "slab_structure = slab_from_file([0, 0, 1], graphene_filename)"
   ]
  },
  {
   "cell_type": "code",
   "execution_count": 5,
   "metadata": {},
   "outputs": [],
   "source": [
    "# bulk_structure=None\n",
    "# slab_structure=None\n",
    "# strain_sys=\"overlayer\"\n",
    "# surface_cut=[0, 0, 1]\n",
    "# separation=3\n",
    "# nlayers_2d=1\n",
    "# nlayers_substrate=4\n",
    "# max_area=40\n",
    "# max_mismatch=1\n",
    "# max_angle_diff=0.1\n",
    "# r1r2_tol=0.01\n",
    "# max_return_structures=500"
   ]
  },
  {
   "cell_type": "code",
   "execution_count": 6,
   "metadata": {},
   "outputs": [],
   "source": [
    "substrate_slab = Interface(\n",
    "    bulk_structure,\n",
    "    # substrate_bulk,\n",
    "    hkl=surface_cut,\n",
    "    min_thick=20,\n",
    "    min_vac=30,\n",
    "    primitive=False,\n",
    "    from_ase=True,\n",
    "    )\n",
    "\n",
    "# mat2d_slab = slab_from_file([0, 0, 1], graphene_filename)\n",
    "mat2d_slab = slab_structure\n",
    "\n",
    "if strain_sys == \"support\":\n",
    "    lower_mat = mat2d_slab\n",
    "    upper_mat = substrate_slab\n",
    "elif strain_sys == \"overlayer\":\n",
    "    lower_mat = substrate_slab\n",
    "    upper_mat = mat2d_slab\n",
    "\n",
    "# mat2d_slab_aligned, substrate_slab_aligned = get_aligned_lattices(\n",
    "# lower_mat_aligned, upper_mat_aligned = get_aligned_lattices(\n",
    "\n",
    "# all_aligned_lattices = get_aligned_lattices(\n",
    "#     lower_mat,\n",
    "#     upper_mat,\n",
    "#     max_area=max_area,\n",
    "#     max_mismatch=max_mismatch,\n",
    "#     max_angle_diff=max_angle_diff,\n",
    "#     r1r2_tol=r1r2_tol,\n",
    "#     )"
   ]
  },
  {
   "cell_type": "code",
   "execution_count": 7,
   "metadata": {},
   "outputs": [],
   "source": [
    "slab_sub = lower_mat\n",
    "slab_2d = upper_mat\n",
    "max_area = max_area\n",
    "max_mismatch = max_mismatch\n",
    "max_angle_diff = max_angle_diff\n",
    "r1r2_tol = r1r2_tol=r1r2_tol\n",
    "max_return_structures = 500"
   ]
  },
  {
   "cell_type": "markdown",
   "metadata": {},
   "source": [
    "# method - process_sys"
   ]
  },
  {
   "cell_type": "code",
   "execution_count": 8,
   "metadata": {},
   "outputs": [],
   "source": [
    "def process_sys(\n",
    "    slab_sub,\n",
    "    slab_2d,\n",
    "    uv_substrate,\n",
    "    uv_mat2d,\n",
    "    ):\n",
    "    \"\"\"\n",
    "    \"\"\"\n",
    "    #| - process_sys\n",
    "    substrate = Structure.from_sites(slab_sub)\n",
    "    mat2d = Structure.from_sites(slab_2d)\n",
    "    # map the intial slabs to the newly found matching lattices\n",
    "    substrate_latt = Lattice(\n",
    "        np.array(\n",
    "            [\n",
    "                uv_substrate[0][:],\n",
    "                uv_substrate[1][:],\n",
    "                substrate.lattice.matrix[2, :]\n",
    "                ]\n",
    "            )\n",
    "        )\n",
    "\n",
    "    # to avoid numerical issues with find_mapping\n",
    "    mat2d_fake_c = mat2d.lattice.matrix[2, :] / np.linalg.norm(\n",
    "        mat2d.lattice.matrix[2, :]) * 5.0\n",
    "    mat2d_latt = Lattice(\n",
    "        np.array(\n",
    "            [\n",
    "                uv_mat2d[0][:],\n",
    "                uv_mat2d[1][:],\n",
    "                mat2d_fake_c\n",
    "                ]\n",
    "            )\n",
    "        )\n",
    "\n",
    "    mat2d_latt_fake = Lattice(\n",
    "        np.array(\n",
    "            [\n",
    "                mat2d.lattice.matrix[0, :],\n",
    "                mat2d.lattice.matrix[1, :],\n",
    "                mat2d_fake_c\n",
    "                ]\n",
    "            )\n",
    "        )\n",
    "\n",
    "    _, __, scell = substrate.lattice.find_mapping(substrate_latt,\n",
    "                                                  ltol=0.05,\n",
    "                                                  atol=1)\n",
    "    scell[2] = np.array([0, 0, 1])\n",
    "    substrate.make_supercell(scell)\n",
    "    _, __, scell = mat2d_latt_fake.find_mapping(mat2d_latt,\n",
    "                                                ltol=0.05,\n",
    "                                                atol=1)\n",
    "    scell[2] = np.array([0, 0, 1])\n",
    "    mat2d.make_supercell(scell)\n",
    "    # modify the substrate lattice so that the 2d material can be\n",
    "    # grafted on top of it\n",
    "    lmap = Lattice(\n",
    "        np.array(\n",
    "            [\n",
    "                substrate.lattice.matrix[0, :],\n",
    "                substrate.lattice.matrix[1, :],\n",
    "                mat2d.lattice.matrix[2, :]\n",
    "                ]\n",
    "            )\n",
    "        )\n",
    "\n",
    "    mat2d.modify_lattice(lmap)\n",
    "\n",
    "    return(substrate, mat2d)\n",
    "    #__|\n"
   ]
  },
  {
   "cell_type": "code",
   "execution_count": 9,
   "metadata": {},
   "outputs": [],
   "source": [
    "import copy\n",
    "from operator import itemgetter"
   ]
  },
  {
   "cell_type": "code",
   "execution_count": 10,
   "metadata": {},
   "outputs": [
    {
     "name": "stdout",
     "output_type": "stream",
     "text": [
      "initial values:\n",
      "uv1:\n",
      "[array([2.46590000e+00, 0.00000000e+00, 1.50992827e-16]), array([-1.23295000e+00,  2.13553204e+00,  1.50992827e-16])]\n",
      "uv2:\n",
      "[array([2.48811000e+00, 0.00000000e+00, 1.52352797e-16]), array([-1.24405500e+00,  2.15476647e+00,  1.52352797e-16])]\n",
      " \n",
      "rmax1, rmax2: 28, 27\n",
      "\n",
      "searching ...\n",
      "searching complete!\n",
      "\n",
      "\n",
      "oooooooooooooooooooo\n",
      "1817\n",
      "oooooooooooooooooooo\n",
      "lasfkjskfksadjfkjskldc\n",
      "\n",
      "Filtering by ratio\n",
      "1817\n",
      "1307\n",
      "\n",
      "tmptmptmp\n",
      "1307\n",
      "389\n"
     ]
    }
   ],
   "source": [
    "# %%timeit\n",
    "\n",
    "# get the matching substrate and 2D material lattices\n",
    "all_matching_lattices = get_matching_lattices(\n",
    "    slab_sub,\n",
    "    slab_2d,\n",
    "    max_area=max_area,\n",
    "    max_mismatch=max_mismatch,\n",
    "    max_angle_diff=max_angle_diff,\n",
    "    r1r2_tol=r1r2_tol,\n",
    "    )\n",
    "\n",
    "# COMBAK | Handle case where there are no systems\n",
    "if all_matching_lattices is None:\n",
    "    print(\"no matching u and v, trying adjusting the parameters\")\n",
    "\n",
    "print(20 * \"o\")\n",
    "print(len(all_matching_lattices))\n",
    "print(20 * \"o\")\n",
    "\n",
    "if len(all_matching_lattices) > max_return_structures:\n",
    "    print(\"lasfkjskfksadjfkjskldc\")\n",
    "\n",
    "    keep_sys_ind_list = []\n",
    "    throw_away_ind_list = []\n",
    "    for i_cnt, sys_i in enumerate(all_matching_lattices):\n",
    "\n",
    "        sys_i[\"min_mismatch\"] = min(sys_i[\"u_mismatch\"], sys_i[\"v_mismatch\"])\n",
    "        sys_i[\"index\"] = i_cnt\n",
    "\n",
    "        min_ind = np.argmin([np.linalg.norm(i) for i in sys_i[\"uv1\"]])\n",
    "\n",
    "        ind_list = [0, 1]\n",
    "        ind_list.remove(min_ind)\n",
    "\n",
    "        uv_small = sys_i[\"uv1\"][min_ind]\n",
    "        uv_large = sys_i[\"uv1\"][ind_list[0]]\n",
    "\n",
    "        large_small_ratio = np.linalg.norm(uv_large) / np.linalg.norm(uv_small)\n",
    "        large_small_ratio\n",
    "\n",
    "        if large_small_ratio < 3.:\n",
    "            keep_sys_ind_list.append(i_cnt)\n",
    "        else:\n",
    "            throw_away_ind_list.append(i_cnt)\n",
    "\n",
    "    print(\"\")\n",
    "    print(\"Filtering by ratio\")\n",
    "    print(len(all_matching_lattices))\n",
    "    all_matching_lattices = [all_matching_lattices[i] for i in keep_sys_ind_list]\n",
    "    print(len(all_matching_lattices))\n",
    "\n",
    "    # ##########################################################\n",
    "    all_matching_lattices_1 = copy.deepcopy(all_matching_lattices)\n",
    "\n",
    "    sorted_mismatch_list = sorted(\n",
    "        all_matching_lattices_1,\n",
    "        key=itemgetter('min_mismatch'),\n",
    "        reverse=False)\n",
    "    mismatch_ordered_indices = [i[\"index\"] for i in sorted_mismatch_list]\n",
    "\n",
    "    sorted_area_list = sorted(\n",
    "        all_matching_lattices_1,\n",
    "        key=itemgetter('min_area'),\n",
    "        reverse=False)\n",
    "    area_ordered_indices = [i[\"index\"] for i in sorted_area_list]\n",
    "\n",
    "    # Only interested in the Nth * factor (N=max_return_structures) systems in\n",
    "    # terms of strain and min_area. We then take these two lists (of systems\n",
    "    # that have low strain and area) and we find the union of them\n",
    "    # The fudge factor is just a heuristic, since the number of entries\n",
    "    # after taking the union will be < max_return_structures\n",
    "    systems_to_keep_indices = list(set(\n",
    "        mismatch_ordered_indices[0:int(max_return_structures * 1.5)]\n",
    "            ) & set(\n",
    "        area_ordered_indices[0:int(max_return_structures * 1.5)])\n",
    "        )\n",
    "\n",
    "    print(\"\")\n",
    "    print(\"tmptmptmp\")\n",
    "    print(len(all_matching_lattices))\n",
    "    out = [all_matching_lattices[i] for i in systems_to_keep_indices]\n",
    "    print(len(out))\n",
    "\n",
    "    all_matching_lattices = out\n",
    "\n",
    "#     return(None)"
   ]
  },
  {
   "cell_type": "code",
   "execution_count": 11,
   "metadata": {},
   "outputs": [
    {
     "data": {
      "text/plain": [
       "750"
      ]
     },
     "execution_count": 11,
     "metadata": {},
     "output_type": "execute_result"
    }
   ],
   "source": [
    "int(max_return_structures * 1.5)"
   ]
  },
  {
   "cell_type": "code",
   "execution_count": 12,
   "metadata": {},
   "outputs": [],
   "source": [
    "# sys_i[\"min_mismatch\"] = min(sys_i[\"u_mismatch\"], sys_i[\"v_mismatch\"])"
   ]
  },
  {
   "cell_type": "code",
   "execution_count": 13,
   "metadata": {},
   "outputs": [
    {
     "data": {
      "text/plain": [
       "389"
      ]
     },
     "execution_count": 13,
     "metadata": {},
     "output_type": "execute_result"
    }
   ],
   "source": [
    "len(all_matching_lattices)"
   ]
  },
  {
   "cell_type": "code",
   "execution_count": 14,
   "metadata": {},
   "outputs": [
    {
     "name": "stdout",
     "output_type": "stream",
     "text": [
      "la;skd;fpoiweqir;asldkjpwo2eiru;sldkjf\n"
     ]
    }
   ],
   "source": [
    "print(\"la;skd;fpoiweqir;asldkjpwo2eiru;sldkjf\")"
   ]
  },
  {
   "cell_type": "raw",
   "metadata": {},
   "source": [
    "\n",
    "\n",
    "\n",
    "\n",
    "\n",
    "\n",
    "\n",
    "\n",
    "\n",
    "\n",
    "\n",
    "\n",
    "\n",
    "\n",
    "\n",
    "\n",
    "\n",
    "\n"
   ]
  },
  {
   "cell_type": "code",
   "execution_count": 15,
   "metadata": {},
   "outputs": [
    {
     "ename": "AssertionError",
     "evalue": "",
     "output_type": "error",
     "traceback": [
      "\u001b[0;31m---------------------------------------------------------------------------\u001b[0m",
      "\u001b[0;31mAssertionError\u001b[0m                            Traceback (most recent call last)",
      "\u001b[0;32m<ipython-input-15-a871fdc9ebee>\u001b[0m in \u001b[0;36m<module>\u001b[0;34m()\u001b[0m\n\u001b[0;32m----> 1\u001b[0;31m \u001b[0;32massert\u001b[0m \u001b[0;32mFalse\u001b[0m\u001b[0;34m\u001b[0m\u001b[0m\n\u001b[0m",
      "\u001b[0;31mAssertionError\u001b[0m: "
     ]
    }
   ],
   "source": [
    "assert False"
   ]
  },
  {
   "cell_type": "code",
   "execution_count": null,
   "metadata": {},
   "outputs": [],
   "source": [
    "# all_matching_lattices = get_matching_lattices(\n",
    "#     slab_sub,\n",
    "#     slab_2d,\n",
    "#     max_area=max_area,\n",
    "#     max_mismatch=max_mismatch,\n",
    "#     max_angle_diff=max_angle_diff,\n",
    "#     r1r2_tol=r1r2_tol,\n",
    "#     )"
   ]
  },
  {
   "cell_type": "code",
   "execution_count": null,
   "metadata": {},
   "outputs": [],
   "source": [
    "# %%timeit\n",
    "print(\"Creating heterointerfaces...\")\n",
    "sub_mat2d_list_tmp = []\n",
    "for sys_i in all_matching_lattices:\n",
    "    #| - body\n",
    "    uv_substrate = sys_i[\"uv1\"]\n",
    "    uv_mat2d = sys_i[\"uv2\"]\n",
    "\n",
    "    substrate, mat2d = process_sys(\n",
    "        slab_sub,\n",
    "        slab_2d,\n",
    "        uv_substrate,\n",
    "        uv_mat2d,\n",
    "        )\n",
    "\n",
    "    sub_mat2d_list_tmp.append(\n",
    "        {\n",
    "            **sys_i,\n",
    "            \"substrate\": substrate,\n",
    "            \"mat2d\": mat2d,\n",
    "            }\n",
    "        )\n",
    "\n",
    "    #__|\n",
    "\n",
    "print(\"Done creating heterointerfaces!\"); print(\"\\n\")\n",
    "#     return(sub_mat2d_list_tmp)"
   ]
  },
  {
   "cell_type": "raw",
   "metadata": {},
   "source": [
    "\n",
    "\n",
    "\n",
    "\n",
    "\n",
    "\n",
    "\n",
    "\n",
    "\n"
   ]
  },
  {
   "cell_type": "code",
   "execution_count": null,
   "metadata": {},
   "outputs": [],
   "source": [
    "# keep_sys_ind_list = []\n",
    "# throw_away_ind_list = []\n",
    "# for i_cnt, sys_i in enumerate(all_matching_lattices):\n",
    "\n",
    "#     min_ind = np.argmin([np.linalg.norm(i) for i in sys_i[\"uv1\"]])\n",
    "\n",
    "#     ind_list = [0, 1]\n",
    "#     ind_list.remove(min_ind)\n",
    "\n",
    "#     uv_small = sys_i[\"uv1\"][min_ind]\n",
    "#     uv_large = sys_i[\"uv1\"][ind_list[0]]\n",
    "\n",
    "#     large_small_ratio = np.linalg.norm(uv_large) / np.linalg.norm(uv_small)\n",
    "#     large_small_ratio\n",
    "\n",
    "#     if large_small_ratio < 3.:\n",
    "#         keep_sys_ind_list.append(i_cnt)\n",
    "#     else:\n",
    "#         throw_away_ind_list.append(i_cnt)\n",
    "\n",
    "# print(all_matching_lattices)\n",
    "# all_matching_lattices = [all_matching_lattices[i] for i in keep_sys_ind_list]\n",
    "# print(all_matching_lattices)\n",
    "\n",
    "# # ##########################################################\n",
    "\n",
    "# all_matching_lattices_1 = copy.deepcopy(all_matching_lattices)\n",
    "\n",
    "# sorted_mismatch_list = sorted(\n",
    "#     all_matching_lattices_1,\n",
    "#     key=itemgetter('min_mismatch'),\n",
    "#     reverse=False)\n",
    "# mismatch_ordered_indices = [i[\"index\"] for i in sorted_area_list]\n",
    "\n",
    "# sorted_area_list = sorted(\n",
    "#     all_matching_lattices_1,\n",
    "#     key=itemgetter('min_area'),\n",
    "#     reverse=False)\n",
    "# area_ordered_indices = [i[\"index\"] for i in sorted_area_list]\n",
    "\n",
    "# systems_to_keep_indices = list(set(\n",
    "#     mismatch_ordered_indices[0:max_return_structures]\n",
    "#         ) & set(\n",
    "#     area_ordered_indices[0:max_return_structures])\n",
    "#     )\n",
    "# out = [all_matching_lattices[i] for i in systems_to_keep_indices]"
   ]
  },
  {
   "cell_type": "code",
   "execution_count": null,
   "metadata": {},
   "outputs": [],
   "source": [
    "# area_data = [i[\"min_area\"] for i in sorted_area_list]"
   ]
  },
  {
   "cell_type": "code",
   "execution_count": null,
   "metadata": {},
   "outputs": [],
   "source": [
    "# print(len(keep_sys_ind_list))\n",
    "# print(len(throw_away_ind_list))"
   ]
  },
  {
   "cell_type": "code",
   "execution_count": null,
   "metadata": {},
   "outputs": [],
   "source": [
    "# all_matching_lattices[0][\"uv1\"][0]"
   ]
  },
  {
   "cell_type": "code",
   "execution_count": null,
   "metadata": {},
   "outputs": [],
   "source": [
    "# import numpy as np\n",
    "# import matplotlib.pyplot as plt\n",
    "\n",
    "# # Fixing random state for reproducibility\n",
    "# np.random.seed(19680801)\n",
    "\n",
    "\n",
    "# N = 50\n",
    "# x = list(range(len(area_data)))\n",
    "# y = area_data\n",
    "# # colors = np.random.rand(N)\n",
    "# # area = (30 * np.random.rand(N))**2  # 0 to 15 point radii\n",
    "\n",
    "# plt.scatter(x, y,\n",
    "# #     s=area,\n",
    "# #     c=colors,\n",
    "#     alpha=0.5,\n",
    "#     )\n",
    "# # plt.show()"
   ]
  },
  {
   "cell_type": "code",
   "execution_count": null,
   "metadata": {},
   "outputs": [],
   "source": [
    "# print(len(all_matching_lattices))\n",
    "\n",
    "# list(all_matching_lattices[0].keys())"
   ]
  },
  {
   "cell_type": "code",
   "execution_count": null,
   "metadata": {},
   "outputs": [],
   "source": [
    "# pickle.load(\n",
    "#     open(\"heterostructures.pickle\", \"rb\"),\n",
    "#     )"
   ]
  },
  {
   "cell_type": "code",
   "execution_count": null,
   "metadata": {},
   "outputs": [],
   "source": [
    "# min_ind = np.argmin([np.linalg.norm(i) for i in sys_i[\"uv1\"]])\n",
    "\n",
    "# ind_list = [0, 1]\n",
    "# ind_list.remove(min_ind)\n",
    "\n",
    "# uv_small = sys_i[\"uv1\"][min_ind]\n",
    "# uv_large = sys_i[\"uv1\"][ind_list[0]]\n",
    "\n",
    "# large_small_ratio = np.linalg.norm(uv_large) / np.linalg.norm(uv_small)\n",
    "# large_small_ratio\n",
    "\n",
    "# if large_small_ratio > 4:\n",
    "#     tmp = 42\n",
    "#     print(\"lskjf\")"
   ]
  }
 ],
 "metadata": {
  "kernelspec": {
   "display_name": "Python 3",
   "language": "python",
   "name": "python3"
  },
  "language_info": {
   "codemirror_mode": {
    "name": "ipython",
    "version": 3
   },
   "file_extension": ".py",
   "mimetype": "text/x-python",
   "name": "python",
   "nbconvert_exporter": "python",
   "pygments_lexer": "ipython3",
   "version": "3.6.5"
  }
 },
 "nbformat": 4,
 "nbformat_minor": 2
}
