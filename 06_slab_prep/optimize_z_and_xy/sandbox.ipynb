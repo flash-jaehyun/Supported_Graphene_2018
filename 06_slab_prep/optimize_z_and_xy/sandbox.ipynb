{
 "cells": [
  {
   "cell_type": "markdown",
   "metadata": {},
   "source": [
    "# Load Modules"
   ]
  },
  {
   "cell_type": "code",
   "execution_count": 1,
   "metadata": {},
   "outputs": [],
   "source": [
    "import os\n",
    "import sys\n",
    "\n",
    "import copy\n",
    "\n",
    "import pickle\n",
    "\n",
    "import numpy as np\n",
    "\n",
    "from ase.visualize import view"
   ]
  },
  {
   "cell_type": "markdown",
   "metadata": {},
   "source": [
    "# Load Data"
   ]
  },
  {
   "cell_type": "code",
   "execution_count": 2,
   "metadata": {},
   "outputs": [],
   "source": [
    "with open(\"../slab_df.pickle\", \"rb\") as fle:\n",
    "    df = pickle.load(fle)"
   ]
  },
  {
   "cell_type": "markdown",
   "metadata": {},
   "source": [
    "# Prepare systems"
   ]
  },
  {
   "cell_type": "code",
   "execution_count": 3,
   "metadata": {},
   "outputs": [],
   "source": [
    "master_job_list = []\n",
    "\n",
    "path_list = []\n",
    "for i_cnt, row_i in df.iterrows():\n",
    "\n",
    "    atoms = row_i[\"atoms\"]\n",
    "\n",
    "    elem_list_i = list(set(atoms.get_chemical_symbols()))\n",
    "    try:\n",
    "        elem_list_i.remove(\"C\")\n",
    "        metal_elem_i = elem_list_i[0]\n",
    "    except:\n",
    "        pass\n",
    "\n",
    "    assert len(elem_list_i) == 1, \"More than 1 non-C element!\"\n",
    "\n",
    "    metal_ind_list = []\n",
    "    for atom in atoms:\n",
    "        if atom.symbol == metal_elem_i:\n",
    "            metal_ind_list.append(atom.index)\n",
    "\n",
    "    support_atoms = atoms[metal_ind_list]\n",
    "    z_positions = support_atoms.get_positions()[:,2]\n",
    "    z_min = z_positions.min()\n",
    "    z_max = z_positions.max()\n",
    "\n",
    "    graphene_z_pos_list = np.linspace(z_max + 1., z_max + 6., num=30, endpoint=True)\n",
    "    for graph_z_j in graphene_z_pos_list:\n",
    "        atoms_j = copy.deepcopy(atoms)\n",
    "        for atom in atoms_j:\n",
    "            if atom.symbol == \"C\":\n",
    "                atom.position[2] = graph_z_j\n",
    "\n",
    "\n",
    "        job_dict_i = row_i.to_dict()\n",
    "    \n",
    "        job_dict_i[\"graphene_pos_above_support\"] = graph_z_j - z_max\n",
    "        job_dict_i[\"atoms_new\"] = atoms_j\n",
    "        job_dict_i[\"job_type\"] = \"opt_z_spacing\"\n",
    "\n",
    "        path_i = \"/\".join([\n",
    "            str(job_dict_i.get(\"job_type\", \"nan\")),\n",
    "            str(job_dict_i.get(\"element\", \"nan\")),\n",
    "            str(job_dict_i.get(\"crystal_structure\", \"nan\")),\n",
    "            str(job_dict_i.get(\"facet\", \"nan\")),\n",
    "            '{:.5f}'.format(\n",
    "                round(job_dict_i.get(\"graphene_pos_above_support\", \"nan\"), 5)\n",
    "                ),\n",
    "            ])\n",
    "\n",
    "        master_job_list.append(\n",
    "            {\n",
    "                \"properties\": job_dict_i,\n",
    "                \"path\": path_i,\n",
    "                }\n",
    "            )"
   ]
  },
  {
   "cell_type": "raw",
   "metadata": {},
   "source": [
    "\n",
    "\n",
    "\n",
    "\n",
    "\n",
    "\n",
    "\n"
   ]
  },
  {
   "cell_type": "code",
   "execution_count": 5,
   "metadata": {},
   "outputs": [],
   "source": [
    "# atoms_list = []\n",
    "# for i in master_job_list:\n",
    "# #     print(i[\"path\"])\n",
    "#     atoms_list.append(i['properties'][\"atoms_new\"])"
   ]
  },
  {
   "cell_type": "code",
   "execution_count": 6,
   "metadata": {},
   "outputs": [],
   "source": [
    "# path_i = \"/\".join([\n",
    "#     str(job_dict_i.get(\"job_type\", \"nan\")),\n",
    "#     str(job_dict_i.get(\"element\", \"nan\")),\n",
    "#     str(job_dict_i.get(\"crystal_structure\", \"nan\")),\n",
    "#     str(job_dict_i.get(\"facet\", \"nan\")),\n",
    "#     '{:.5f}'.format(round(job_dict_i.get(\"graphene_pos_above_support\", \"nan\"), 5)),\n",
    "#     ])\n",
    "\n",
    "# print(path_i)"
   ]
  },
  {
   "cell_type": "code",
   "execution_count": 7,
   "metadata": {},
   "outputs": [],
   "source": [
    "# # round(job_dict_i.get(\"graphene_pos_above_support\", \"nan\"), 5)\n",
    "# # round(2.23, 4)\n",
    "# # print('${:.2f}'.format(\n",
    "# #     job_dict_i.get(\"graphene_pos_above_support\"\n",
    "# # #     round(job_dict_i.get(\"graphene_pos_above_support\", \"nan\"), 5)\n",
    "# #     )\n",
    "\n",
    "\n",
    "# print('{:.4f}'.format(\n",
    "#     round(job_dict_i.get(\"graphene_pos_above_support\", \"nan\"), 5)\n",
    "#         )\n",
    "#     )"
   ]
  },
  {
   "cell_type": "code",
   "execution_count": 8,
   "metadata": {},
   "outputs": [],
   "source": [
    "# elem_list_i = list(set(atoms.get_chemical_symbols()))\n",
    "\n",
    "# try:\n",
    "#     elem_list_i.remove(\"C\")\n",
    "#     metal_elem = elem_list_i[0]\n",
    "# except:\n",
    "#     pass\n",
    "\n",
    "# assert len(elem_list_i) == 1, \"More than 1 non-C element!\""
   ]
  },
  {
   "cell_type": "code",
   "execution_count": 9,
   "metadata": {},
   "outputs": [],
   "source": [
    "# atoms.get_cell()[-1]"
   ]
  },
  {
   "cell_type": "code",
   "execution_count": 10,
   "metadata": {},
   "outputs": [],
   "source": [
    "# atoms_j = copy.deepcopy(atoms)\n",
    "# for atom in atoms_j:\n",
    "#     if atom.symbol == \"C\":\n",
    "#         atom.position[2] = graph_z_j"
   ]
  },
  {
   "cell_type": "code",
   "execution_count": 11,
   "metadata": {},
   "outputs": [],
   "source": [
    "# 27.157 - 24.857\n",
    "\n",
    "# 27.157 - 24.857\n",
    "\n",
    "# 29.957 - 24.857"
   ]
  },
  {
   "cell_type": "code",
   "execution_count": 12,
   "metadata": {},
   "outputs": [],
   "source": [
    "# view(atoms[metal_ind_list])"
   ]
  }
 ],
 "metadata": {
  "kernelspec": {
   "display_name": "Python 3",
   "language": "python",
   "name": "python3"
  },
  "language_info": {
   "codemirror_mode": {
    "name": "ipython",
    "version": 3
   },
   "file_extension": ".py",
   "mimetype": "text/x-python",
   "name": "python",
   "nbconvert_exporter": "python",
   "pygments_lexer": "ipython3",
   "version": "3.6.6"
  }
 },
 "nbformat": 4,
 "nbformat_minor": 2
}
