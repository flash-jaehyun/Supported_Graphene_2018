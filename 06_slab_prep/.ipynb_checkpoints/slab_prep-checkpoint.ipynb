{
 "cells": [
  {
   "cell_type": "markdown",
   "metadata": {},
   "source": [
    "# Slab Preparation for M-graphene Systems\n",
    "_____"
   ]
  },
  {
   "cell_type": "markdown",
   "metadata": {},
   "source": [
    "# Import Modules"
   ]
  },
  {
   "cell_type": "markdown",
   "metadata": {},
   "source": [
    "## Add local dirs to path"
   ]
  },
  {
   "cell_type": "code",
   "execution_count": 1,
   "metadata": {},
   "outputs": [],
   "source": [
    "import os\n",
    "import sys\n",
    "\n",
    "sys.path.insert(0, os.path.join(\n",
    "        os.environ[\"PROJ_fe_graph\"],\n",
    "        \"data\"))\n",
    "\n",
    "from proj_data_fe_graph import (\n",
    "    most_stable_crystal_structure_dict\n",
    "    )"
   ]
  },
  {
   "cell_type": "markdown",
   "metadata": {},
   "source": [
    "## Python modules"
   ]
  },
  {
   "cell_type": "code",
   "execution_count": 2,
   "metadata": {},
   "outputs": [],
   "source": [
    "import copy\n",
    "\n",
    "import pickle\n",
    "\n",
    "import  numpy as np\n",
    "\n",
    "# ASE\n",
    "from ase import io\n",
    "from ase.visualize import view\n",
    "\n",
    "# Pandas\n",
    "import pandas as pd"
   ]
  },
  {
   "cell_type": "markdown",
   "metadata": {},
   "source": [
    "# Script Inputs"
   ]
  },
  {
   "cell_type": "code",
   "execution_count": 3,
   "metadata": {},
   "outputs": [],
   "source": [
    "max_thickness = 6."
   ]
  },
  {
   "cell_type": "markdown",
   "metadata": {},
   "source": [
    "# Methods"
   ]
  },
  {
   "cell_type": "markdown",
   "metadata": {},
   "source": [
    "## parse_info_from_path"
   ]
  },
  {
   "cell_type": "code",
   "execution_count": 4,
   "metadata": {},
   "outputs": [],
   "source": [
    "def parse_info_from_path(root):\n",
    "    \"\"\"\n",
    "    \"\"\"\n",
    "    elem_list_lc = [i.lower() for i in list(most_stable_crystal_structure_dict.keys())]\n",
    "    elem_list_uc = list(most_stable_crystal_structure_dict.keys())\n",
    "\n",
    "    elem_i = None\n",
    "    facet_i = None\n",
    "    cryst_i = None\n",
    "    for folder_name_j in root.split(\"/\"):\n",
    "        # Parsing Element Type\n",
    "        if folder_name_j in elem_list_lc or folder_name_j in elem_list_uc:        \n",
    "            elem_i = folder_name_j[0].upper() + folder_name_j[1:]\n",
    "\n",
    "        if elem_i is not None:\n",
    "            cryst_i = most_stable_crystal_structure_dict[elem_i]\n",
    "\n",
    "        # Parsing for Facet Type\n",
    "        if folder_name_j.isnumeric():\n",
    "            if len(folder_name_j) >= 3:\n",
    "                facet_i = folder_name_j\n",
    "\n",
    "    out_dict = {\n",
    "        \"element\": elem_i,\n",
    "        \"facet\": facet_i,\n",
    "        \"crystal_structure\": cryst_i,\n",
    "        }\n",
    "    \n",
    "    return(out_dict)"
   ]
  },
  {
   "cell_type": "markdown",
   "metadata": {},
   "source": [
    "## process_atoms"
   ]
  },
  {
   "cell_type": "code",
   "execution_count": 5,
   "metadata": {},
   "outputs": [],
   "source": [
    "def process_atoms(atoms_i):\n",
    "    \"\"\"\n",
    "    \"\"\"\n",
    "    new_positions = []\n",
    "    for pos_i in atoms_i.positions:\n",
    "        pos_i[-1] = -1 * pos_i[-1]\n",
    "\n",
    "        new_positions.append(pos_i)\n",
    "\n",
    "    atoms_i.set_positions(new_positions)\n",
    "\n",
    "    atoms_i.center()\n",
    "\n",
    "    z_new = 50.\n",
    "    new_cell = copy.copy(atoms_i.cell)\n",
    "    new_cell[-1][-1] = z_new\n",
    "    atoms_i.set_cell(new_cell)\n",
    "\n",
    "    atoms_i.center()\n",
    "\n",
    "    atoms_i.wrap()\n",
    "\n",
    "    atoms_i.center()\n",
    "\n",
    "\n",
    "#     atoms_i = copy.deepcopy(atoms_i)\n",
    "\n",
    "    z_pos_list = []\n",
    "    for atom_j in atoms_i:   \n",
    "        if atom_j.symbol != \"C\":\n",
    "            z_pos_list.append(atom_j.position[2])\n",
    "\n",
    "    z_pos_list = np.array(z_pos_list)\n",
    "\n",
    "    max_slab_z = z_pos_list.max()\n",
    "\n",
    "    atoms_to_delete_index_list = []\n",
    "    for atom_j in atoms_i:\n",
    "        if atom_j.position[-1] < max_slab_z - max_thickness:\n",
    "            atoms_to_delete_index_list.append(atom_j.index)\n",
    "\n",
    "#     del atoms_i[atoms_to_delete_index_list]"
   ]
  },
  {
   "cell_type": "code",
   "execution_count": 6,
   "metadata": {},
   "outputs": [],
   "source": [
    "def slab_thickness(atoms_i):\n",
    "    \"\"\"\n",
    "    \"\"\"\n",
    "    z_pos_list = []\n",
    "    for atom_j in atoms_i:\n",
    "        if atom_j.symbol != \"C\":\n",
    "            z_pos_list.append(atom_j.position[2])\n",
    "\n",
    "    z_pos_list = np.array(z_pos_list)\n",
    "\n",
    "    slab_thickness = z_pos_list.min() - z_pos_list.max()\n",
    "    slab_thickness = abs(slab_thickness)\n",
    "\n",
    "    return(slab_thickness)\n",
    "#     info_dict_cpy[\"slab_thickness\"] = slab_thickness\n"
   ]
  },
  {
   "cell_type": "markdown",
   "metadata": {},
   "source": [
    "# Parse Directories"
   ]
  },
  {
   "cell_type": "code",
   "execution_count": 7,
   "metadata": {},
   "outputs": [],
   "source": [
    "data_list = []\n",
    "for root, dirs, files in os.walk(\"heterostructures\"):\n",
    "    info_dict = parse_info_from_path(root)\n",
    "\n",
    "    for file_i in files:\n",
    "        if \".traj\" in file_i:\n",
    "            info_dict_cpy = copy.deepcopy(info_dict)\n",
    "\n",
    "            # Atoms Objects\n",
    "            # ######################################\n",
    "            atoms_path_i = os.path.join(\n",
    "                root,\n",
    "                file_i,\n",
    "                )\n",
    "            atoms_i = io.read(atoms_path_i)\n",
    "\n",
    "            process_atoms(atoms_i)\n",
    "            info_dict_cpy[\"atoms\"] = atoms_i\n",
    "\n",
    "\n",
    "            # Slab thickness\n",
    "            # ######################################\n",
    "            slab_thickness_i = slab_thickness(atoms_i)\n",
    "            info_dict_cpy[\"slab_thickness\"] = slab_thickness_i\n",
    "\n",
    "            # MISC\n",
    "            # ######################################\n",
    "\n",
    "\n",
    "            data_list.append(info_dict_cpy)"
   ]
  },
  {
   "cell_type": "markdown",
   "metadata": {},
   "source": [
    "# Pandas Dataframe"
   ]
  },
  {
   "cell_type": "markdown",
   "metadata": {},
   "source": [
    "## Initializing Dataframe"
   ]
  },
  {
   "cell_type": "code",
   "execution_count": 8,
   "metadata": {},
   "outputs": [],
   "source": [
    "df = pd.DataFrame(data_list)\n",
    "\n",
    "col_list = list(df)\n",
    "col_list.remove(\"atoms\")\n",
    "col_list.append(\"atoms\")\n",
    "\n",
    "df = df[col_list]"
   ]
  },
  {
   "cell_type": "code",
   "execution_count": 22,
   "metadata": {},
   "outputs": [],
   "source": [
    "view(df[\"atoms\"].tolist())"
   ]
  },
  {
   "cell_type": "markdown",
   "metadata": {},
   "source": [
    "## Saving Dataframe"
   ]
  },
  {
   "cell_type": "code",
   "execution_count": 9,
   "metadata": {},
   "outputs": [],
   "source": [
    "# with open(\"slab_df.pickle\", \"wb\") as fle:\n",
    "#     pickle.dump(df, fle)\n",
    "\n",
    "with open(\"slab_df_new_181203.pickle\", \"wb\") as fle:\n",
    "    pickle.dump(df, fle)"
   ]
  },
  {
   "cell_type": "markdown",
   "metadata": {},
   "source": [
    "# Adding constraints to the support"
   ]
  },
  {
   "cell_type": "code",
   "execution_count": 10,
   "metadata": {},
   "outputs": [],
   "source": [
    "atoms_i\n",
    "\n",
    "z_pos_list = []\n",
    "for atom_j in atoms_i:\n",
    "    tmp = 42\n",
    "    \n",
    "    if atom_j.symbol != \"C\":\n",
    "        z_pos_list.append(atom_j.position[-1])"
   ]
  },
  {
   "cell_type": "code",
   "execution_count": 11,
   "metadata": {},
   "outputs": [
    {
     "data": {
      "text/plain": [
       "5.158026091313218"
      ]
     },
     "execution_count": 11,
     "metadata": {},
     "output_type": "execute_result"
    }
   ],
   "source": [
    "max(z_pos_list) - min(z_pos_list)"
   ]
  },
  {
   "cell_type": "code",
   "execution_count": 12,
   "metadata": {},
   "outputs": [],
   "source": [
    "# Fraction of support atoms that are masked (from the bottom)\n",
    "fraction_masked = 0.5"
   ]
  },
  {
   "cell_type": "code",
   "execution_count": 13,
   "metadata": {},
   "outputs": [],
   "source": [
    "boolean_mask = []\n",
    "if atom_j.symbol != \"C\":\n",
    "    tmp = 42\n",
    "#     if \n",
    "else:\n",
    "    boolean_mask.append(False)"
   ]
  },
  {
   "cell_type": "markdown",
   "metadata": {},
   "source": [
    "# Getting Neareset Neighbors for Graphene Strain calculation"
   ]
  },
  {
   "cell_type": "code",
   "execution_count": 14,
   "metadata": {},
   "outputs": [],
   "source": [
    "# from pymatgen.analysis.local_env import BrunnerNN_real\n",
    "\n",
    "# from pymatgen.io.ase import AseAtomsAdaptor\n",
    "\n",
    "# struct_i = AseAtomsAdaptor.get_structure(atoms_i)\n",
    "\n",
    "# NN = BrunnerNN_real()\n",
    "\n",
    "# # dir(NN.get_nn(struct_i, 0)[0])\n",
    "# type(NN.get_nn(struct_i, 0)[0])\n",
    "\n",
    "# NN.get_nn(struct_i, 0)[0].coords\n",
    "\n",
    "# NN.get_nn(struct_i, 0)[0].distance_from_point(\n",
    "#     NN.get_nn(struct_i, 0)[4].coords\n",
    "#     )\n",
    "\n",
    "# NN.get_nn(struct_i, 0)[0].distance_from_point"
   ]
  },
  {
   "cell_type": "raw",
   "metadata": {},
   "source": [
    "\n",
    "\n",
    "\n",
    "\n"
   ]
  },
  {
   "cell_type": "code",
   "execution_count": 15,
   "metadata": {},
   "outputs": [],
   "source": [
    "#             z_pos_list = []\n",
    "#             for atom_j in atoms_i:\n",
    "#                 if atom_j.symbol != \"C\":\n",
    "#                     z_pos_list.append(atom_j.position[2])\n",
    "\n",
    "#             z_pos_list = np.array(z_pos_list)\n",
    "\n",
    "#             slab_thickness = z_pos_list.min() - z_pos_list.max()\n",
    "\n",
    "\n",
    "            # ##############################################################\n",
    "            # ##############################################################\n",
    "#             atoms_i = copy.deepcopy(atoms_i)\n",
    "\n",
    "#             z_pos_list = []\n",
    "#             for atom_j in atoms_i:   \n",
    "#                 if atom_j.symbol != \"C\":\n",
    "#                     z_pos_list.append(atom_j.position[2])\n",
    "\n",
    "#             z_pos_list = np.array(z_pos_list)\n",
    "\n",
    "#             max_slab_z = z_pos_list.max()\n",
    "#         #     min_slab_z = z_pos_list.min()\n",
    "\n",
    "#             atoms_to_delete_index_list = []\n",
    "#             for atom_j in atoms_i:\n",
    "#                 if atom_j.position[-1] < max_slab_z - max_thickness:\n",
    "#                     atoms_to_delete_index_list.append(atom_j.index)\n",
    "\n",
    "#             del atoms_i[atoms_to_delete_index_list]\n",
    "\n",
    "#             info_dict_cpy[\"atoms_trimmed\"] = atoms_i\n",
    "            # ##############################################################\n",
    "            # ##############################################################\n",
    "\n"
   ]
  },
  {
   "cell_type": "code",
   "execution_count": 16,
   "metadata": {},
   "outputs": [],
   "source": [
    "# with open(\"slab_df.pickle\", \"rb\") as fle:\n",
    "#     tmp = pickle.load(fle)"
   ]
  },
  {
   "cell_type": "code",
   "execution_count": 17,
   "metadata": {},
   "outputs": [],
   "source": [
    "# atoms_i.wrap()\n",
    "# view(atoms_i)\n",
    "# atoms_i.euler_rotate(theta=180)\n",
    "# euler_rotate(phi=0.0, theta=0.0, psi=0.0, center=(0, 0, 0))"
   ]
  },
  {
   "cell_type": "code",
   "execution_count": 18,
   "metadata": {},
   "outputs": [],
   "source": [
    "# atoms_i = df.iloc[-1][\"atoms\"]\n",
    "\n",
    "# atoms_i = copy.deepcopy(atoms_i)\n",
    "\n",
    "# def process_atoms(atoms_i):\n",
    "#     \"\"\"\n",
    "#     \"\"\"\n",
    "#     new_positions = []\n",
    "#     for pos_i in atoms_i.positions:\n",
    "#         pos_i[-1] = -1 * pos_i[-1]\n",
    "\n",
    "#         new_positions.append(pos_i)\n",
    "\n",
    "#     atoms_i.set_positions(new_positions)\n",
    "\n",
    "#     atoms_i.center()\n",
    "\n",
    "#     z_new = 20.\n",
    "#     new_cell = copy.copy(atoms_i.cell)\n",
    "#     new_cell[-1][-1] = z_new\n",
    "#     atoms_i.set_cell(new_cell)\n",
    "\n",
    "#     atoms_i.wrap()\n",
    "\n",
    "#     atoms_i.center()\n",
    "\n",
    "# view(atoms_i)"
   ]
  },
  {
   "cell_type": "code",
   "execution_count": 19,
   "metadata": {},
   "outputs": [],
   "source": [
    "# new_positions = []\n",
    "# for pos_i in atoms_i.positions:\n",
    "#     pos_i[-1] = -1 * pos_i[-1]\n",
    "\n",
    "#     new_positions.append(pos_i)\n",
    "    \n",
    "    \n",
    "# atoms_i.set_positions(\n",
    "#     new_positions\n",
    "#     )\n",
    "\n",
    "# view(atoms_i)\n",
    "\n",
    "# z_new = 20.\n",
    "# new_cell = copy.copy(atoms_i.cell)\n",
    "# new_cell[-1][-1] = z_new\n",
    "# atoms_i.set_cell(new_cell)\n",
    "\n",
    "# atoms_i.euler_rotate(\n",
    "#     phi=0.,\n",
    "#     theta=90.0,\n",
    "#     psi=0.,\n",
    "#     center=(0, 0, 0),    \n",
    "#     )\n",
    "\n",
    "# atoms_i.center()\n",
    "\n",
    "# atoms_i.wrap()\n",
    "\n",
    "# z_new = 20.\n",
    "# new_cell = copy.copy(atoms_i.cell)\n",
    "# new_cell[-1][-1] = z_new\n",
    "# atoms_i.set_cell(new_cell)\n"
   ]
  },
  {
   "cell_type": "code",
   "execution_count": 20,
   "metadata": {},
   "outputs": [],
   "source": [
    "# view(atoms_i)\n",
    "\n",
    "# z_new = 20.\n",
    "# new_cell = copy.copy(atoms_i.cell)\n",
    "# new_cell[-1][-1] = z_new\n",
    "# atoms_i.set_cell(new_cell)\n",
    "\n",
    "# atoms_i.euler_rotate(theta=180)\n",
    "\n",
    "# atoms_i.center()\n",
    "\n",
    "# atoms_i.wrap()\n",
    "\n",
    "# view(atoms_i)"
   ]
  }
 ],
 "metadata": {
  "kernelspec": {
   "display_name": "Python 3",
   "language": "python",
   "name": "python3"
  },
  "language_info": {
   "codemirror_mode": {
    "name": "ipython",
    "version": 3
   },
   "file_extension": ".py",
   "mimetype": "text/x-python",
   "name": "python",
   "nbconvert_exporter": "python",
   "pygments_lexer": "ipython3",
   "version": "3.6.5"
  }
 },
 "nbformat": 4,
 "nbformat_minor": 2
}
