{
 "cells": [
  {
   "cell_type": "markdown",
   "metadata": {},
   "source": [
    "# Slab Preparation for M-graphene Systems\n",
    "_____"
   ]
  },
  {
   "cell_type": "markdown",
   "metadata": {},
   "source": [
    "# Import Modules"
   ]
  },
  {
   "cell_type": "markdown",
   "metadata": {},
   "source": [
    "## Add local dirs to path"
   ]
  },
  {
   "cell_type": "code",
   "execution_count": 1,
   "metadata": {},
   "outputs": [],
   "source": [
    "import os\n",
    "import sys\n",
    "\n",
    "sys.path.insert(0, os.path.join(\n",
    "        os.environ[\"PROJ_fe_graph\"],\n",
    "        \"data\"))\n",
    "\n",
    "from proj_data_fe_graph import (\n",
    "    most_stable_crystal_structure_dict\n",
    "    )"
   ]
  },
  {
   "cell_type": "markdown",
   "metadata": {},
   "source": [
    "## Python modules"
   ]
  },
  {
   "cell_type": "code",
   "execution_count": 19,
   "metadata": {},
   "outputs": [],
   "source": [
    "import copy\n",
    "\n",
    "import pickle\n",
    "\n",
    "# ASE\n",
    "from ase import io\n",
    "from ase.visualize import view\n",
    "\n",
    "# Pandas\n",
    "import pandas as pd"
   ]
  },
  {
   "cell_type": "markdown",
   "metadata": {},
   "source": [
    "# Methods"
   ]
  },
  {
   "cell_type": "markdown",
   "metadata": {},
   "source": [
    "## parse_info_from_path"
   ]
  },
  {
   "cell_type": "code",
   "execution_count": 3,
   "metadata": {},
   "outputs": [],
   "source": [
    "def parse_info_from_path(root):\n",
    "    \"\"\"\n",
    "    \"\"\"\n",
    "    elem_list_lc = [i.lower() for i in list(most_stable_crystal_structure_dict.keys())]\n",
    "    elem_list_uc = list(most_stable_crystal_structure_dict.keys())\n",
    "\n",
    "    elem_i = None\n",
    "    facet_i = None\n",
    "    cryst_i = None\n",
    "    for folder_name_j in root.split(\"/\"):\n",
    "        # Parsing Element Type\n",
    "        if folder_name_j in elem_list_lc or folder_name_j in elem_list_uc:        \n",
    "            elem_i = folder_name_j[0].upper() + folder_name_j[1:]\n",
    "\n",
    "        if elem_i is not None:\n",
    "            cryst_i = most_stable_crystal_structure_dict[elem_i]\n",
    "\n",
    "        # Parsing for Facet Type\n",
    "        if folder_name_j.isnumeric():\n",
    "            if len(folder_name_j) >= 3:\n",
    "                facet_i = folder_name_j\n",
    "\n",
    "    out_dict = {\n",
    "        \"element\": elem_i,\n",
    "        \"facet\": facet_i,\n",
    "        \"crystal_structure\": cryst_i,\n",
    "        }\n",
    "    \n",
    "    return(out_dict)"
   ]
  },
  {
   "cell_type": "markdown",
   "metadata": {},
   "source": [
    "## process_atoms"
   ]
  },
  {
   "cell_type": "code",
   "execution_count": 4,
   "metadata": {},
   "outputs": [],
   "source": [
    "def process_atoms(atoms_i):\n",
    "    \"\"\"\n",
    "    \"\"\"\n",
    "    new_positions = []\n",
    "    for pos_i in atoms_i.positions:\n",
    "        pos_i[-1] = -1 * pos_i[-1]\n",
    "\n",
    "        new_positions.append(pos_i)\n",
    "\n",
    "    atoms_i.set_positions(new_positions)\n",
    "\n",
    "    atoms_i.center()\n",
    "\n",
    "    z_new = 50.\n",
    "    new_cell = copy.copy(atoms_i.cell)\n",
    "    new_cell[-1][-1] = z_new\n",
    "    atoms_i.set_cell(new_cell)\n",
    "\n",
    "    atoms_i.center()\n",
    "\n",
    "    atoms_i.wrap()\n",
    "\n",
    "    atoms_i.center()"
   ]
  },
  {
   "cell_type": "markdown",
   "metadata": {},
   "source": [
    "# Parse Directories"
   ]
  },
  {
   "cell_type": "code",
   "execution_count": 5,
   "metadata": {},
   "outputs": [],
   "source": [
    "data_list = []\n",
    "for root, dirs, files in os.walk(\"heterostructures\"):\n",
    "\n",
    "    info_dict = parse_info_from_path(root)\n",
    "\n",
    "    for file_i in files:\n",
    "        if \".traj\" in file_i:\n",
    "\n",
    "            info_dict_cpy = copy.deepcopy(info_dict)\n",
    "\n",
    "            # Atoms Objects\n",
    "            atoms_path_i = os.path.join(\n",
    "                root,\n",
    "                file_i\n",
    "                )\n",
    "            atoms_i = io.read(atoms_path_i)\n",
    "            process_atoms(atoms_i)\n",
    "\n",
    "            info_dict_cpy[\"atoms\"] = atoms_i\n",
    "\n",
    "            data_list.append(info_dict_cpy)"
   ]
  },
  {
   "cell_type": "markdown",
   "metadata": {},
   "source": [
    "# Pandas Dataframe"
   ]
  },
  {
   "cell_type": "markdown",
   "metadata": {},
   "source": [
    "## Initializing Dataframe"
   ]
  },
  {
   "cell_type": "code",
   "execution_count": 6,
   "metadata": {},
   "outputs": [],
   "source": [
    "df = pd.DataFrame(data_list)\n",
    "\n",
    "col_list = list(df)\n",
    "col_list.remove(\"atoms\")\n",
    "col_list.append(\"atoms\")\n",
    "\n",
    "df = df[col_list]\n",
    "\n",
    "# df"
   ]
  },
  {
   "cell_type": "markdown",
   "metadata": {},
   "source": [
    "## Saving Dataframe"
   ]
  },
  {
   "cell_type": "code",
   "execution_count": 25,
   "metadata": {},
   "outputs": [
    {
     "data": {
      "text/plain": [
       "\u001b[0;31mSignature:\u001b[0m \u001b[0mpickle\u001b[0m\u001b[0;34m.\u001b[0m\u001b[0mdump\u001b[0m\u001b[0;34m(\u001b[0m\u001b[0mobj\u001b[0m\u001b[0;34m,\u001b[0m \u001b[0mfile\u001b[0m\u001b[0;34m,\u001b[0m \u001b[0mprotocol\u001b[0m\u001b[0;34m=\u001b[0m\u001b[0;32mNone\u001b[0m\u001b[0;34m,\u001b[0m \u001b[0;34m*\u001b[0m\u001b[0;34m,\u001b[0m \u001b[0mfix_imports\u001b[0m\u001b[0;34m=\u001b[0m\u001b[0;32mTrue\u001b[0m\u001b[0;34m)\u001b[0m\u001b[0;34m\u001b[0m\u001b[0m\n",
       "\u001b[0;31mDocstring:\u001b[0m\n",
       "Write a pickled representation of obj to the open file object file.\n",
       "\n",
       "This is equivalent to ``Pickler(file, protocol).dump(obj)``, but may\n",
       "be more efficient.\n",
       "\n",
       "The optional *protocol* argument tells the pickler to use the given\n",
       "protocol supported protocols are 0, 1, 2, 3 and 4.  The default\n",
       "protocol is 3; a backward-incompatible protocol designed for Python 3.\n",
       "\n",
       "Specifying a negative protocol version selects the highest protocol\n",
       "version supported.  The higher the protocol used, the more recent the\n",
       "version of Python needed to read the pickle produced.\n",
       "\n",
       "The *file* argument must have a write() method that accepts a single\n",
       "bytes argument.  It can thus be a file object opened for binary\n",
       "writing, an io.BytesIO instance, or any other custom object that meets\n",
       "this interface.\n",
       "\n",
       "If *fix_imports* is True and protocol is less than 3, pickle will try\n",
       "to map the new Python 3 names to the old module names used in Python\n",
       "2, so that the pickle data stream is readable with Python 2.\n",
       "\u001b[0;31mType:\u001b[0m      builtin_function_or_method\n"
      ]
     },
     "metadata": {},
     "output_type": "display_data"
    }
   ],
   "source": [
    "pickle.dump?"
   ]
  },
  {
   "cell_type": "code",
   "execution_count": 29,
   "metadata": {},
   "outputs": [],
   "source": [
    "with open(\"slab_df.pickle\", \"wb\") as fle:\n",
    "    pickle.dump(df, fle)"
   ]
  },
  {
   "cell_type": "code",
   "execution_count": 31,
   "metadata": {},
   "outputs": [],
   "source": [
    "with open(\"slab_df.pickle\", \"rb\") as fle:\n",
    "    tmp = pickle.load(fle)"
   ]
  },
  {
   "cell_type": "code",
   "execution_count": 32,
   "metadata": {},
   "outputs": [
    {
     "data": {
      "text/html": [
       "<div>\n",
       "<style scoped>\n",
       "    .dataframe tbody tr th:only-of-type {\n",
       "        vertical-align: middle;\n",
       "    }\n",
       "\n",
       "    .dataframe tbody tr th {\n",
       "        vertical-align: top;\n",
       "    }\n",
       "\n",
       "    .dataframe thead th {\n",
       "        text-align: right;\n",
       "    }\n",
       "</style>\n",
       "<table border=\"1\" class=\"dataframe\">\n",
       "  <thead>\n",
       "    <tr style=\"text-align: right;\">\n",
       "      <th></th>\n",
       "      <th>crystal_structure</th>\n",
       "      <th>element</th>\n",
       "      <th>facet</th>\n",
       "      <th>atoms</th>\n",
       "    </tr>\n",
       "  </thead>\n",
       "  <tbody>\n",
       "    <tr>\n",
       "      <th>0</th>\n",
       "      <td>hcp</td>\n",
       "      <td>Co</td>\n",
       "      <td>001</td>\n",
       "      <td>(Atom('C', [-3.1101374999999996, -1.7956387228...</td>\n",
       "    </tr>\n",
       "    <tr>\n",
       "      <th>1</th>\n",
       "      <td>hcp</td>\n",
       "      <td>Co</td>\n",
       "      <td>100</td>\n",
       "      <td>(Atom('C', [6.082091590874998, -12.13364784949...</td>\n",
       "    </tr>\n",
       "    <tr>\n",
       "      <th>2</th>\n",
       "      <td>hcp</td>\n",
       "      <td>Co</td>\n",
       "      <td>101</td>\n",
       "      <td>(Atom('C', [-0.6202394412999431, -1.8135963633...</td>\n",
       "    </tr>\n",
       "    <tr>\n",
       "      <th>3</th>\n",
       "      <td>hcp</td>\n",
       "      <td>Co</td>\n",
       "      <td>110</td>\n",
       "      <td>(Atom('C', [-2.513894211978448, -0.61813199999...</td>\n",
       "    </tr>\n",
       "    <tr>\n",
       "      <th>4</th>\n",
       "      <td>hcp</td>\n",
       "      <td>Co</td>\n",
       "      <td>210</td>\n",
       "      <td>(Atom('C', [-2.9779877523067966, -11.528652380...</td>\n",
       "    </tr>\n",
       "    <tr>\n",
       "      <th>5</th>\n",
       "      <td>bcc</td>\n",
       "      <td>Mo</td>\n",
       "      <td>100</td>\n",
       "      <td>(Atom('C', [-17.36665198072759, -15.3795996063...</td>\n",
       "    </tr>\n",
       "    <tr>\n",
       "      <th>6</th>\n",
       "      <td>bcc</td>\n",
       "      <td>Mo</td>\n",
       "      <td>110</td>\n",
       "      <td>(Atom('C', [1.744255644445717, -2.313979299197...</td>\n",
       "    </tr>\n",
       "    <tr>\n",
       "      <th>7</th>\n",
       "      <td>bcc</td>\n",
       "      <td>Mo</td>\n",
       "      <td>111</td>\n",
       "      <td>(Atom('C', [-9.227266070851286, -1.29048281763...</td>\n",
       "    </tr>\n",
       "    <tr>\n",
       "      <th>8</th>\n",
       "      <td>bcc</td>\n",
       "      <td>Mo</td>\n",
       "      <td>320</td>\n",
       "      <td>(Atom('C', [-0.6398987695480112, -23.240470944...</td>\n",
       "    </tr>\n",
       "    <tr>\n",
       "      <th>9</th>\n",
       "      <td>bcc</td>\n",
       "      <td>Mo</td>\n",
       "      <td>321</td>\n",
       "      <td>(Atom('C', [9.349974696145747, 1.6537792364750...</td>\n",
       "    </tr>\n",
       "    <tr>\n",
       "      <th>10</th>\n",
       "      <td>bcc</td>\n",
       "      <td>Mo</td>\n",
       "      <td>331</td>\n",
       "      <td>(Atom('C', [2.5538828698954967, 14.21813850753...</td>\n",
       "    </tr>\n",
       "    <tr>\n",
       "      <th>11</th>\n",
       "      <td>bcc</td>\n",
       "      <td>Mo</td>\n",
       "      <td>332</td>\n",
       "      <td>(Atom('C', [0.7617034824106825, -16.3390400351...</td>\n",
       "    </tr>\n",
       "    <tr>\n",
       "      <th>12</th>\n",
       "      <td>fcc</td>\n",
       "      <td>Ni</td>\n",
       "      <td>100</td>\n",
       "      <td>(Atom('C', [-23.121276178266587, 16.9472721262...</td>\n",
       "    </tr>\n",
       "    <tr>\n",
       "      <th>13</th>\n",
       "      <td>fcc</td>\n",
       "      <td>Ni</td>\n",
       "      <td>110</td>\n",
       "      <td>(Atom('C', [-4.448899500000002, -5.23327819567...</td>\n",
       "    </tr>\n",
       "    <tr>\n",
       "      <th>14</th>\n",
       "      <td>fcc</td>\n",
       "      <td>Ni</td>\n",
       "      <td>111</td>\n",
       "      <td>(Atom('C', [-2.4946892107500003, -3.6008397331...</td>\n",
       "    </tr>\n",
       "    <tr>\n",
       "      <th>15</th>\n",
       "      <td>fcc</td>\n",
       "      <td>Ni</td>\n",
       "      <td>221</td>\n",
       "      <td>(Atom('C', [-2.6484187631224456, 3.71902466351...</td>\n",
       "    </tr>\n",
       "    <tr>\n",
       "      <th>16</th>\n",
       "      <td>fcc</td>\n",
       "      <td>Ni</td>\n",
       "      <td>322</td>\n",
       "      <td>(Atom('C', [-4.628210744046996, -2.11164647939...</td>\n",
       "    </tr>\n",
       "    <tr>\n",
       "      <th>17</th>\n",
       "      <td>fcc</td>\n",
       "      <td>Ni</td>\n",
       "      <td>332</td>\n",
       "      <td>(Atom('C', [0.2698104241861425, -4.32837723719...</td>\n",
       "    </tr>\n",
       "    <tr>\n",
       "      <th>18</th>\n",
       "      <td>fcc</td>\n",
       "      <td>Rh</td>\n",
       "      <td>100</td>\n",
       "      <td>(Atom('C', [-5.847536704717325, -2.30315714549...</td>\n",
       "    </tr>\n",
       "    <tr>\n",
       "      <th>19</th>\n",
       "      <td>fcc</td>\n",
       "      <td>Rh</td>\n",
       "      <td>110</td>\n",
       "      <td>(Atom('C', [-2.1003768676153856, -17.773121878...</td>\n",
       "    </tr>\n",
       "    <tr>\n",
       "      <th>20</th>\n",
       "      <td>fcc</td>\n",
       "      <td>Rh</td>\n",
       "      <td>111</td>\n",
       "      <td>(Atom('C', [-1.1496381970175455, 0.33189132158...</td>\n",
       "    </tr>\n",
       "    <tr>\n",
       "      <th>21</th>\n",
       "      <td>fcc</td>\n",
       "      <td>Rh</td>\n",
       "      <td>221</td>\n",
       "      <td>(Atom('C', [-5.369547854621341, 7.617773015702...</td>\n",
       "    </tr>\n",
       "    <tr>\n",
       "      <th>22</th>\n",
       "      <td>fcc</td>\n",
       "      <td>Rh</td>\n",
       "      <td>322</td>\n",
       "      <td>(Atom('C', [-2.292673207237409, 0.262581494401...</td>\n",
       "    </tr>\n",
       "    <tr>\n",
       "      <th>23</th>\n",
       "      <td>fcc</td>\n",
       "      <td>Rh</td>\n",
       "      <td>332</td>\n",
       "      <td>(Atom('C', [-15.787243809734669, -4.5832840204...</td>\n",
       "    </tr>\n",
       "    <tr>\n",
       "      <th>24</th>\n",
       "      <td>hcp</td>\n",
       "      <td>Ru</td>\n",
       "      <td>001</td>\n",
       "      <td>(Atom('C', [-12.28657051282051, -3.48095774484...</td>\n",
       "    </tr>\n",
       "    <tr>\n",
       "      <th>25</th>\n",
       "      <td>hcp</td>\n",
       "      <td>Ru</td>\n",
       "      <td>100</td>\n",
       "      <td>(Atom('C', [-0.1521194444444478, -2.8536886559...</td>\n",
       "    </tr>\n",
       "    <tr>\n",
       "      <th>26</th>\n",
       "      <td>hcp</td>\n",
       "      <td>Ru</td>\n",
       "      <td>101</td>\n",
       "      <td>(Atom('C', [1.778673321288738, -1.187677121294...</td>\n",
       "    </tr>\n",
       "    <tr>\n",
       "      <th>27</th>\n",
       "      <td>hcp</td>\n",
       "      <td>Ru</td>\n",
       "      <td>102</td>\n",
       "      <td>(Atom('C', [-8.595948340495921, -10.6273109848...</td>\n",
       "    </tr>\n",
       "    <tr>\n",
       "      <th>28</th>\n",
       "      <td>hcp</td>\n",
       "      <td>Ru</td>\n",
       "      <td>212</td>\n",
       "      <td>(Atom('C', [-9.287379855959863, 9.878219084043...</td>\n",
       "    </tr>\n",
       "    <tr>\n",
       "      <th>29</th>\n",
       "      <td>bcc</td>\n",
       "      <td>W</td>\n",
       "      <td>100</td>\n",
       "      <td>(Atom('C', [-11.186861547475964, 7.73209931971...</td>\n",
       "    </tr>\n",
       "    <tr>\n",
       "      <th>30</th>\n",
       "      <td>bcc</td>\n",
       "      <td>W</td>\n",
       "      <td>110</td>\n",
       "      <td>(Atom('C', [-0.6137614088347139, -11.500863636...</td>\n",
       "    </tr>\n",
       "    <tr>\n",
       "      <th>31</th>\n",
       "      <td>bcc</td>\n",
       "      <td>W</td>\n",
       "      <td>111</td>\n",
       "      <td>(Atom('C', [-9.290331235009218, -1.29930282023...</td>\n",
       "    </tr>\n",
       "    <tr>\n",
       "      <th>32</th>\n",
       "      <td>bcc</td>\n",
       "      <td>W</td>\n",
       "      <td>211</td>\n",
       "      <td>(Atom('C', [-12.340801531600722, 14.5907056381...</td>\n",
       "    </tr>\n",
       "    <tr>\n",
       "      <th>33</th>\n",
       "      <td>bcc</td>\n",
       "      <td>W</td>\n",
       "      <td>321</td>\n",
       "      <td>(Atom('C', [9.413878531209926, 1.6650822441296...</td>\n",
       "    </tr>\n",
       "    <tr>\n",
       "      <th>34</th>\n",
       "      <td>bcc</td>\n",
       "      <td>W</td>\n",
       "      <td>331</td>\n",
       "      <td>(Atom('C', [-34.023498548509245, -7.2312384764...</td>\n",
       "    </tr>\n",
       "    <tr>\n",
       "      <th>35</th>\n",
       "      <td>bcc</td>\n",
       "      <td>W</td>\n",
       "      <td>332</td>\n",
       "      <td>(Atom('C', [0.7669094616020301, -16.4507117084...</td>\n",
       "    </tr>\n",
       "  </tbody>\n",
       "</table>\n",
       "</div>"
      ],
      "text/plain": [
       "   crystal_structure element facet  \\\n",
       "0                hcp      Co   001   \n",
       "1                hcp      Co   100   \n",
       "2                hcp      Co   101   \n",
       "3                hcp      Co   110   \n",
       "4                hcp      Co   210   \n",
       "5                bcc      Mo   100   \n",
       "6                bcc      Mo   110   \n",
       "7                bcc      Mo   111   \n",
       "8                bcc      Mo   320   \n",
       "9                bcc      Mo   321   \n",
       "10               bcc      Mo   331   \n",
       "11               bcc      Mo   332   \n",
       "12               fcc      Ni   100   \n",
       "13               fcc      Ni   110   \n",
       "14               fcc      Ni   111   \n",
       "15               fcc      Ni   221   \n",
       "16               fcc      Ni   322   \n",
       "17               fcc      Ni   332   \n",
       "18               fcc      Rh   100   \n",
       "19               fcc      Rh   110   \n",
       "20               fcc      Rh   111   \n",
       "21               fcc      Rh   221   \n",
       "22               fcc      Rh   322   \n",
       "23               fcc      Rh   332   \n",
       "24               hcp      Ru   001   \n",
       "25               hcp      Ru   100   \n",
       "26               hcp      Ru   101   \n",
       "27               hcp      Ru   102   \n",
       "28               hcp      Ru   212   \n",
       "29               bcc       W   100   \n",
       "30               bcc       W   110   \n",
       "31               bcc       W   111   \n",
       "32               bcc       W   211   \n",
       "33               bcc       W   321   \n",
       "34               bcc       W   331   \n",
       "35               bcc       W   332   \n",
       "\n",
       "                                                atoms  \n",
       "0   (Atom('C', [-3.1101374999999996, -1.7956387228...  \n",
       "1   (Atom('C', [6.082091590874998, -12.13364784949...  \n",
       "2   (Atom('C', [-0.6202394412999431, -1.8135963633...  \n",
       "3   (Atom('C', [-2.513894211978448, -0.61813199999...  \n",
       "4   (Atom('C', [-2.9779877523067966, -11.528652380...  \n",
       "5   (Atom('C', [-17.36665198072759, -15.3795996063...  \n",
       "6   (Atom('C', [1.744255644445717, -2.313979299197...  \n",
       "7   (Atom('C', [-9.227266070851286, -1.29048281763...  \n",
       "8   (Atom('C', [-0.6398987695480112, -23.240470944...  \n",
       "9   (Atom('C', [9.349974696145747, 1.6537792364750...  \n",
       "10  (Atom('C', [2.5538828698954967, 14.21813850753...  \n",
       "11  (Atom('C', [0.7617034824106825, -16.3390400351...  \n",
       "12  (Atom('C', [-23.121276178266587, 16.9472721262...  \n",
       "13  (Atom('C', [-4.448899500000002, -5.23327819567...  \n",
       "14  (Atom('C', [-2.4946892107500003, -3.6008397331...  \n",
       "15  (Atom('C', [-2.6484187631224456, 3.71902466351...  \n",
       "16  (Atom('C', [-4.628210744046996, -2.11164647939...  \n",
       "17  (Atom('C', [0.2698104241861425, -4.32837723719...  \n",
       "18  (Atom('C', [-5.847536704717325, -2.30315714549...  \n",
       "19  (Atom('C', [-2.1003768676153856, -17.773121878...  \n",
       "20  (Atom('C', [-1.1496381970175455, 0.33189132158...  \n",
       "21  (Atom('C', [-5.369547854621341, 7.617773015702...  \n",
       "22  (Atom('C', [-2.292673207237409, 0.262581494401...  \n",
       "23  (Atom('C', [-15.787243809734669, -4.5832840204...  \n",
       "24  (Atom('C', [-12.28657051282051, -3.48095774484...  \n",
       "25  (Atom('C', [-0.1521194444444478, -2.8536886559...  \n",
       "26  (Atom('C', [1.778673321288738, -1.187677121294...  \n",
       "27  (Atom('C', [-8.595948340495921, -10.6273109848...  \n",
       "28  (Atom('C', [-9.287379855959863, 9.878219084043...  \n",
       "29  (Atom('C', [-11.186861547475964, 7.73209931971...  \n",
       "30  (Atom('C', [-0.6137614088347139, -11.500863636...  \n",
       "31  (Atom('C', [-9.290331235009218, -1.29930282023...  \n",
       "32  (Atom('C', [-12.340801531600722, 14.5907056381...  \n",
       "33  (Atom('C', [9.413878531209926, 1.6650822441296...  \n",
       "34  (Atom('C', [-34.023498548509245, -7.2312384764...  \n",
       "35  (Atom('C', [0.7669094616020301, -16.4507117084...  "
      ]
     },
     "execution_count": 32,
     "metadata": {},
     "output_type": "execute_result"
    }
   ],
   "source": [
    "tmp"
   ]
  },
  {
   "cell_type": "markdown",
   "metadata": {},
   "source": [
    "# Getting Neareset Neighbors for Graphene Strain calculation"
   ]
  },
  {
   "cell_type": "code",
   "execution_count": 7,
   "metadata": {},
   "outputs": [],
   "source": [
    "from pymatgen.analysis.local_env import BrunnerNN_real\n",
    "\n",
    "from pymatgen.io.ase import AseAtomsAdaptor"
   ]
  },
  {
   "cell_type": "code",
   "execution_count": 8,
   "metadata": {},
   "outputs": [],
   "source": [
    "struct_i = AseAtomsAdaptor.get_structure(atoms_i)"
   ]
  },
  {
   "cell_type": "code",
   "execution_count": 9,
   "metadata": {},
   "outputs": [
    {
     "data": {
      "text/plain": [
       "pymatgen.core.sites.PeriodicSite"
      ]
     },
     "execution_count": 9,
     "metadata": {},
     "output_type": "execute_result"
    }
   ],
   "source": [
    "NN = BrunnerNN_real()\n",
    "\n",
    "# dir(NN.get_nn(struct_i, 0)[0])\n",
    "type(NN.get_nn(struct_i, 0)[0])"
   ]
  },
  {
   "cell_type": "code",
   "execution_count": 10,
   "metadata": {},
   "outputs": [
    {
     "data": {
      "text/plain": [
       "array([  0.27145382, -14.12681877,  27.85707754])"
      ]
     },
     "execution_count": 10,
     "metadata": {},
     "output_type": "execute_result"
    }
   ],
   "source": [
    "NN.get_nn(struct_i, 0)[0].coords"
   ]
  },
  {
   "cell_type": "code",
   "execution_count": 11,
   "metadata": {},
   "outputs": [
    {
     "data": {
      "text/plain": [
       "2.761578975120838"
      ]
     },
     "execution_count": 11,
     "metadata": {},
     "output_type": "execute_result"
    }
   ],
   "source": [
    "NN.get_nn(struct_i, 0)[0].distance_from_point(\n",
    "    NN.get_nn(struct_i, 0)[4].coords\n",
    "    )"
   ]
  },
  {
   "cell_type": "code",
   "execution_count": 12,
   "metadata": {},
   "outputs": [
    {
     "data": {
      "text/plain": [
       "<bound method Site.distance_from_point of PeriodicSite: C (0.2715, -14.1268, 27.8571) [0.8355, 0.0525, 0.5571]>"
      ]
     },
     "execution_count": 12,
     "metadata": {},
     "output_type": "execute_result"
    }
   ],
   "source": [
    "NN.get_nn(struct_i, 0)[0].distance_from_point"
   ]
  },
  {
   "cell_type": "raw",
   "metadata": {},
   "source": [
    "\n",
    "\n",
    "\n",
    "\n"
   ]
  },
  {
   "cell_type": "code",
   "execution_count": 15,
   "metadata": {},
   "outputs": [],
   "source": [
    "# atoms_i.wrap()\n",
    "# view(atoms_i)\n",
    "# atoms_i.euler_rotate(theta=180)\n",
    "# euler_rotate(phi=0.0, theta=0.0, psi=0.0, center=(0, 0, 0))"
   ]
  },
  {
   "cell_type": "code",
   "execution_count": 16,
   "metadata": {},
   "outputs": [],
   "source": [
    "# atoms_i = df.iloc[-1][\"atoms\"]\n",
    "\n",
    "# atoms_i = copy.deepcopy(atoms_i)\n",
    "\n",
    "# def process_atoms(atoms_i):\n",
    "#     \"\"\"\n",
    "#     \"\"\"\n",
    "#     new_positions = []\n",
    "#     for pos_i in atoms_i.positions:\n",
    "#         pos_i[-1] = -1 * pos_i[-1]\n",
    "\n",
    "#         new_positions.append(pos_i)\n",
    "\n",
    "#     atoms_i.set_positions(new_positions)\n",
    "\n",
    "#     atoms_i.center()\n",
    "\n",
    "#     z_new = 20.\n",
    "#     new_cell = copy.copy(atoms_i.cell)\n",
    "#     new_cell[-1][-1] = z_new\n",
    "#     atoms_i.set_cell(new_cell)\n",
    "\n",
    "#     atoms_i.wrap()\n",
    "\n",
    "#     atoms_i.center()\n",
    "\n",
    "# view(atoms_i)"
   ]
  },
  {
   "cell_type": "code",
   "execution_count": 17,
   "metadata": {},
   "outputs": [],
   "source": [
    "# new_positions = []\n",
    "# for pos_i in atoms_i.positions:\n",
    "#     pos_i[-1] = -1 * pos_i[-1]\n",
    "\n",
    "#     new_positions.append(pos_i)\n",
    "    \n",
    "    \n",
    "# atoms_i.set_positions(\n",
    "#     new_positions\n",
    "#     )\n",
    "\n",
    "# view(atoms_i)\n",
    "\n",
    "# z_new = 20.\n",
    "# new_cell = copy.copy(atoms_i.cell)\n",
    "# new_cell[-1][-1] = z_new\n",
    "# atoms_i.set_cell(new_cell)\n",
    "\n",
    "# atoms_i.euler_rotate(\n",
    "#     phi=0.,\n",
    "#     theta=90.0,\n",
    "#     psi=0.,\n",
    "#     center=(0, 0, 0),    \n",
    "#     )\n",
    "\n",
    "# atoms_i.center()\n",
    "\n",
    "# atoms_i.wrap()\n",
    "\n",
    "# z_new = 20.\n",
    "# new_cell = copy.copy(atoms_i.cell)\n",
    "# new_cell[-1][-1] = z_new\n",
    "# atoms_i.set_cell(new_cell)\n"
   ]
  },
  {
   "cell_type": "code",
   "execution_count": 18,
   "metadata": {},
   "outputs": [],
   "source": [
    "# view(atoms_i)\n",
    "\n",
    "# z_new = 20.\n",
    "# new_cell = copy.copy(atoms_i.cell)\n",
    "# new_cell[-1][-1] = z_new\n",
    "# atoms_i.set_cell(new_cell)\n",
    "\n",
    "# atoms_i.euler_rotate(theta=180)\n",
    "\n",
    "# atoms_i.center()\n",
    "\n",
    "# atoms_i.wrap()\n",
    "\n",
    "# view(atoms_i)"
   ]
  }
 ],
 "metadata": {
  "kernelspec": {
   "display_name": "Python 3",
   "language": "python",
   "name": "python3"
  },
  "language_info": {
   "codemirror_mode": {
    "name": "ipython",
    "version": 3
   },
   "file_extension": ".py",
   "mimetype": "text/x-python",
   "name": "python",
   "nbconvert_exporter": "python",
   "pygments_lexer": "ipython3",
   "version": "3.6.5"
  }
 },
 "nbformat": 4,
 "nbformat_minor": 2
}
